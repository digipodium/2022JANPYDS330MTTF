{
 "cells": [
  {
   "cell_type": "code",
   "execution_count": 5,
   "metadata": {},
   "outputs": [],
   "source": [
    "color = input('whats ur fav color?')\n",
    "if color:\n",
    "    print(f\"very good, ur color is {color}\")"
   ]
  },
  {
   "cell_type": "markdown",
   "metadata": {},
   "source": [
    "# If (client is “1” or “2”) and file_type=”DCA” and assg_amount<=500 and client_account_number is odd then Partner=”1”\n",
    "# If (client is “1” or “2”) and file_type=”DCA” and amount>500 and client_account_number is even then Partner=”2”\n",
    "# If(client is “3” or “4”) and file_type=”DCA” and amount <=500 and client_account_number is odd then Partner=”5”\n",
    "# If(client is “3” or “4”) and file_type=”DCA” and amount > 500 and client_account_number is even then Partner=”6"
   ]
  },
  {
   "cell_type": "code",
   "execution_count": null,
   "metadata": {},
   "outputs": [],
   "source": [
    "def partner_id(client, file_type, assg_amt, client_acc_num):\n",
    "    if file_type=='DCA':\n",
    "        if client == '1' or client == '2':\n",
    "            if client_acc_num % 2 == 1: # odd\n",
    "                if assg_amt <= 500:\n",
    "                    return '1'\n",
    "                else:\n",
    "                    return '3'\n",
    "            else: # even\n",
    "                if assg_amt <= 500:\n",
    "                    return '2'\n",
    "                else:\n",
    "                    return '3'\n",
    "        elif client == '3' or client == '4':\n",
    "            if client_acc_num % 2 == 1: # odd\n",
    "                if assg_amt <= 500:\n",
    "                    return '1'\n",
    "                else:\n",
    "                    return '3'\n",
    "            else: # even\n",
    "                if assg_amt <= 500:\n",
    "                    return '2'\n",
    "                else:\n",
    "                    return '3'\n",
    "    else:\n",
    "        return None"
   ]
  }
 ],
 "metadata": {
  "interpreter": {
   "hash": "ac59ebe37160ed0dfa835113d9b8498d9f09ceb179beaac4002f036b9467c963"
  },
  "kernelspec": {
   "display_name": "Python 3.9.7 64-bit",
   "language": "python",
   "name": "python3"
  },
  "language_info": {
   "codemirror_mode": {
    "name": "ipython",
    "version": 3
   },
   "file_extension": ".py",
   "mimetype": "text/x-python",
   "name": "python",
   "nbconvert_exporter": "python",
   "pygments_lexer": "ipython3",
   "version": "3.9.7"
  },
  "orig_nbformat": 4
 },
 "nbformat": 4,
 "nbformat_minor": 2
}
