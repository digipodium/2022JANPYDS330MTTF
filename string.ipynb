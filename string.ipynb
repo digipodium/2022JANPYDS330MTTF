{
 "cells": [
  {
   "cell_type": "code",
   "execution_count": null,
   "metadata": {},
   "outputs": [],
   "source": [
    "x = \"Xenon\"\n",
    "y = 'Yellow'\n",
    "print(x)\n",
    "print(y)"
   ]
  },
  {
   "cell_type": "code",
   "execution_count": null,
   "metadata": {},
   "outputs": [],
   "source": [
    "a = 'Oranges'\n",
    "b = 'are'\n",
    "c = 'colored'\n",
    "d = 'orange'"
   ]
  },
  {
   "cell_type": "code",
   "execution_count": null,
   "metadata": {},
   "outputs": [],
   "source": [
    "a + b + c + d"
   ]
  },
  {
   "cell_type": "code",
   "execution_count": null,
   "metadata": {},
   "outputs": [],
   "source": [
    "a + ' ' + b + ' ' + c + ' ' + d"
   ]
  },
  {
   "cell_type": "code",
   "execution_count": null,
   "metadata": {},
   "outputs": [],
   "source": [
    "books = ['Steelheart','FireFight','Legion','Snowscrash','Cytonic']\n",
    "for name in books:\n",
    "    print(name[-5:])"
   ]
  },
  {
   "cell_type": "code",
   "execution_count": null,
   "metadata": {},
   "outputs": [],
   "source": [
    "os = \"android\"\n",
    "ver = 10\n",
    "phone = 'Motorola'\n",
    "\n",
    "print(\"I have {} phone and it has {} os version {}\".format(phone,os,ver))\n",
    "print(f\"I have {phone} phone and it has {os} os version {ver}\")                         # this should be used\n"
   ]
  },
  {
   "cell_type": "markdown",
   "metadata": {},
   "source": [
    "### important string functions\n",
    "- split, join\n",
    "- find, replace\n",
    "- count, startswith, endswith\n",
    "- strip, ljust, rjust, center"
   ]
  },
  {
   "cell_type": "code",
   "execution_count": null,
   "metadata": {},
   "outputs": [],
   "source": [
    "msg = \"I have Motorola phone and it has android os version 10\"\n",
    "words = msg.split()\n",
    "print(words)"
   ]
  },
  {
   "cell_type": "code",
   "execution_count": null,
   "metadata": {},
   "outputs": [],
   "source": [
    "# question\n",
    "# enter 5  names seperated by comma\n",
    "names= input(\"Enter names:\")\n",
    "print(names)"
   ]
  },
  {
   "cell_type": "code",
   "execution_count": null,
   "metadata": {},
   "outputs": [],
   "source": [
    "namelist = names.split(',')\n",
    "print(namelist, len(namelist))"
   ]
  },
  {
   "cell_type": "code",
   "execution_count": null,
   "metadata": {},
   "outputs": [],
   "source": [
    "para = \"\"\"This is a line\n",
    "This is line 2\n",
    "Welcome to wakanda\n",
    "and enjoy\"\"\"\n",
    "print(para)"
   ]
  },
  {
   "cell_type": "code",
   "execution_count": null,
   "metadata": {},
   "outputs": [],
   "source": [
    "print(para.split('\\n'))"
   ]
  },
  {
   "cell_type": "code",
   "execution_count": null,
   "metadata": {},
   "outputs": [],
   "source": [
    "# join \n",
    "items = ['One','Two','Three','Four']\n",
    "# convert list to string\n",
    "itemstr = \" \".join(items)\n",
    "print(itemstr)"
   ]
  },
  {
   "cell_type": "code",
   "execution_count": null,
   "metadata": {},
   "outputs": [],
   "source": [
    "itemstr = \"/\".join(items)\n",
    "print(itemstr)"
   ]
  },
  {
   "cell_type": "code",
   "execution_count": null,
   "metadata": {},
   "outputs": [],
   "source": [
    "para.find('Welcome') # first occurance of welcome"
   ]
  },
  {
   "cell_type": "code",
   "execution_count": null,
   "metadata": {},
   "outputs": [],
   "source": [
    "print(para)\n",
    "print(para.find('This'))"
   ]
  },
  {
   "cell_type": "code",
   "execution_count": null,
   "metadata": {},
   "outputs": [],
   "source": [
    "print(para.rfind('is'))"
   ]
  },
  {
   "cell_type": "code",
   "execution_count": null,
   "metadata": {},
   "outputs": [],
   "source": [
    "print(para.find('is'))"
   ]
  },
  {
   "cell_type": "code",
   "execution_count": null,
   "metadata": {},
   "outputs": [],
   "source": [
    "word = \"One day i will like Java, that day will never come\"\n",
    "print(word.find('day'))\n",
    "print(word.rfind('day'))\n",
    "print(word[4], word[31])"
   ]
  },
  {
   "cell_type": "code",
   "execution_count": null,
   "metadata": {},
   "outputs": [],
   "source": [
    "ex = \"dumbledore went to the ore for the lore\""
   ]
  },
  {
   "cell_type": "code",
   "execution_count": null,
   "metadata": {},
   "outputs": [],
   "source": [
    "for word in ex.split():\n",
    "    print(f'ore == {word}')\n",
    "    if 'ore' == word:\n",
    "        print('word found')\n"
   ]
  },
  {
   "cell_type": "code",
   "execution_count": null,
   "metadata": {},
   "outputs": [],
   "source": [
    "quote = 'life before death, hope before despair, journey before destination'"
   ]
  },
  {
   "cell_type": "code",
   "execution_count": null,
   "metadata": {},
   "outputs": [],
   "source": [
    "quote.replace('before','after')"
   ]
  },
  {
   "cell_type": "code",
   "execution_count": null,
   "metadata": {},
   "outputs": [],
   "source": [
    "quote.replace('e','o')"
   ]
  },
  {
   "cell_type": "code",
   "execution_count": null,
   "metadata": {},
   "outputs": [],
   "source": [
    "quote.replace('before','➡')"
   ]
  },
  {
   "cell_type": "code",
   "execution_count": null,
   "metadata": {},
   "outputs": [],
   "source": [
    "quote.replace('before','') # remove the sequence from a string"
   ]
  },
  {
   "cell_type": "code",
   "execution_count": null,
   "metadata": {},
   "outputs": [],
   "source": [
    "quote.replace('before','🛴',2) # last value is the maximum number of replacements"
   ]
  },
  {
   "cell_type": "code",
   "execution_count": null,
   "metadata": {},
   "outputs": [],
   "source": [
    "message = 'But I am making a simple statement that life is better now than it has ever been.'\n",
    "message.replace('a','A', 5)"
   ]
  },
  {
   "cell_type": "code",
   "execution_count": null,
   "metadata": {},
   "outputs": [],
   "source": [
    "message.count('a')"
   ]
  },
  {
   "cell_type": "code",
   "execution_count": null,
   "metadata": {},
   "outputs": [],
   "source": [
    "i_count = message.count('i')\n",
    "print(i_count)"
   ]
  },
  {
   "cell_type": "code",
   "execution_count": null,
   "metadata": {},
   "outputs": [],
   "source": [
    "message.count('z')"
   ]
  },
  {
   "cell_type": "code",
   "execution_count": null,
   "metadata": {},
   "outputs": [],
   "source": [
    "word_count = len(message.split())\n",
    "print(word_count)"
   ]
  },
  {
   "cell_type": "code",
   "execution_count": null,
   "metadata": {},
   "outputs": [],
   "source": [
    "len(message)"
   ]
  },
  {
   "cell_type": "code",
   "execution_count": null,
   "metadata": {},
   "outputs": [],
   "source": [
    "para = '''This is an example of a paragraph.\n",
    "It has multiple lines and spaces.\n",
    "And it has multiple sentences\n",
    "'''\n",
    "\n",
    "# count all vowels\n",
    "# para.count('a') + para.count('e') + para.count('i') + para.count('o') + para.count('u') -> basic\n",
    "\n",
    "# count all vowels using loop\n",
    "total = 0 \n",
    "print(len(para))\n",
    "for char in para:\n",
    "    if char in 'AEIOUaeiou':\n",
    "        total += 1\n",
    "print('vowels', total)\n",
    "\n",
    "# count all vowels the best way\n",
    "total = 0\n",
    "for vowel in 'AEIOUaeiou':\n",
    "    total += para.count(vowel)\n",
    "print('vowels', total)\n"
   ]
  },
  {
   "cell_type": "code",
   "execution_count": null,
   "metadata": {},
   "outputs": [],
   "source": [
    "# count each word occurance\n",
    "sentence = '''Wikis are enabled by wiki software, \n",
    "otherwise known as wiki engines. A wiki engine, \n",
    "being a form of a content management system, differs \n",
    "from other web-based systems such as blog software, \n",
    "in that the content is created without any defined \n",
    "owner or leader, and wikis have little inherent \n",
    "structure, allowing structure to emerge according \n",
    "to the needs of the users. Wiki engines usually \n",
    "allow content to be written using a simplified markup \n",
    "language and sometimes edited with the help of a \n",
    "rich-text editor. There are dozens of different \n",
    "wiki engines in use, both standalone and part of \n",
    "other software, such as bug tracking systems. \n",
    "Some wiki engines are open source, whereas others \n",
    "are proprietary. Some permit control over different \n",
    "functions levels of access for example, editing \n",
    "rights may permit changing, adding, or removing \n",
    "material. Others may permit access \n",
    "without enforcing access control.\n",
    "Other rules may be imposed to organize content.\n",
    "'''"
   ]
  },
  {
   "cell_type": "code",
   "execution_count": null,
   "metadata": {},
   "outputs": [],
   "source": [
    "# sentence = sentence.lower() permanent"
   ]
  },
  {
   "cell_type": "code",
   "execution_count": null,
   "metadata": {},
   "outputs": [],
   "source": [
    "wordlist = sentence.lower().split()\n",
    "print(wordlist)"
   ]
  },
  {
   "cell_type": "code",
   "execution_count": null,
   "metadata": {},
   "outputs": [],
   "source": [
    "print(set(wordlist))"
   ]
  },
  {
   "cell_type": "code",
   "execution_count": null,
   "metadata": {},
   "outputs": [],
   "source": [
    "for word in set(wordlist):\n",
    "    print(word,'=>', sentence.lower().count(word), end='\\t')"
   ]
  },
  {
   "cell_type": "code",
   "execution_count": 9,
   "metadata": {},
   "outputs": [
    {
     "name": "stdout",
     "output_type": "stream",
     "text": [
      "['.git', 'condition.ipynb', 'hello.py', 'io.ipynb', 'loops.ipynb', 'string.ipynb']\n"
     ]
    }
   ],
   "source": [
    "import os\n",
    "names = os.listdir()\n",
    "print(names)\n"
   ]
  },
  {
   "cell_type": "code",
   "execution_count": 10,
   "metadata": {},
   "outputs": [
    {
     "name": "stdout",
     "output_type": "stream",
     "text": [
      ".git ▶ False\n",
      "condition.ipynb ▶ False\n",
      "hello.py ▶ False\n",
      "io.ipynb ▶ False\n",
      "loops.ipynb ▶ False\n",
      "string.ipynb ▶ False\n"
     ]
    }
   ],
   "source": [
    "for file in names:\n",
    "    print(file,'▶', file.endswith('.docx'))"
   ]
  },
  {
   "cell_type": "code",
   "execution_count": null,
   "metadata": {},
   "outputs": [],
   "source": [
    "guestlist = ['Mr. Alex','Dr. Beux','Ms. Charlie','Mr. Dan','Er. FMrin','Adam']\n",
    "for name in guestlist:\n",
    "    if name.startswith('Mr.') or name.startswith('Ms.'):\n",
    "        print(f\"welcome {name}\")"
   ]
  },
  {
   "cell_type": "code",
   "execution_count": null,
   "metadata": {},
   "outputs": [],
   "source": [
    "amount = ['100','$200','$300','400','$500','600','$700','800','900','$1000']\n",
    "for money in amount:\n",
    "    if money.startswith('$'):\n",
    "        print(\"accepted\", money)"
   ]
  },
  {
   "cell_type": "code",
   "execution_count": 1,
   "metadata": {},
   "outputs": [],
   "source": [
    "x = ' this is a message'"
   ]
  },
  {
   "cell_type": "code",
   "execution_count": 3,
   "metadata": {},
   "outputs": [
    {
     "name": "stdout",
     "output_type": "stream",
     "text": [
      " this is a message\n",
      "this is a message\n"
     ]
    }
   ],
   "source": [
    "print(x)\n",
    "print(x.strip())"
   ]
  },
  {
   "cell_type": "code",
   "execution_count": 8,
   "metadata": {},
   "outputs": [
    {
     "name": "stdout",
     "output_type": "stream",
     "text": [
      "['Alex', ' Raj', ' Sam ', ' Alice', ' Sarah']\n",
      "Alex\n",
      "Raj\n",
      "Sam\n",
      "Alice\n",
      "Sarah\n"
     ]
    }
   ],
   "source": [
    "frds = \"Alex, Raj, Sam , Alice, Sarah\"\n",
    "frdlist = frds.split(',')\n",
    "print(frdlist)\n",
    "for frd in frdlist:\n",
    "    print(frd.strip())"
   ]
  },
  {
   "cell_type": "code",
   "execution_count": 15,
   "metadata": {},
   "outputs": [
    {
     "name": "stdout",
     "output_type": "stream",
     "text": [
      "Salmon              \n",
      "              Salmon\n",
      "       Salmon       \n"
     ]
    }
   ],
   "source": [
    "# ljust, rjust, center\n",
    "word = 'Salmon'\n",
    "print(word.ljust(20))\n",
    "print(word.rjust(20))\n",
    "print(word.center(20))"
   ]
  },
  {
   "cell_type": "code",
   "execution_count": 26,
   "metadata": {},
   "outputs": [
    {
     "name": "stdout",
     "output_type": "stream",
     "text": [
      "Alex     4\n",
      "Raj      4\n",
      "Sam      5\n",
      "Alice    6\n",
      "Sarah    6\n"
     ]
    }
   ],
   "source": [
    "for name in frdlist:\n",
    "    print(name.strip().ljust(8) , len(name),)"
   ]
  },
  {
   "cell_type": "code",
   "execution_count": 46,
   "metadata": {},
   "outputs": [
    {
     "name": "stdout",
     "output_type": "stream",
     "text": [
      "▶ .git                      ➖ False      🔹 4\n",
      "▶ condition.ipynb           ➖ False      🔹 15\n",
      "▶ hello.py                  ➖ True       🔹 8\n",
      "▶ io.ipynb                  ➖ False      🔹 8\n",
      "▶ loops.ipynb               ➖ False      🔹 11\n",
      "▶ string.ipynb              ➖ False      🔹 12\n"
     ]
    }
   ],
   "source": [
    "import os\n",
    "names = os.listdir()\n",
    "for file in names:\n",
    "    print('▶',file.ljust(25),'➖', str(file.endswith('.py')).ljust(10),'🔹', len(file))"
   ]
  },
  {
   "cell_type": "code",
   "execution_count": 48,
   "metadata": {},
   "outputs": [
    {
     "data": {
      "text/plain": [
       "' SARAH'"
      ]
     },
     "execution_count": 48,
     "metadata": {},
     "output_type": "execute_result"
    }
   ],
   "source": [
    "name.upper()"
   ]
  },
  {
   "cell_type": "code",
   "execution_count": 49,
   "metadata": {},
   "outputs": [
    {
     "data": {
      "text/plain": [
       "' sarah'"
      ]
     },
     "execution_count": 49,
     "metadata": {},
     "output_type": "execute_result"
    }
   ],
   "source": [
    "name.lower()"
   ]
  },
  {
   "cell_type": "code",
   "execution_count": 50,
   "metadata": {},
   "outputs": [
    {
     "data": {
      "text/plain": [
       "' Sarah'"
      ]
     },
     "execution_count": 50,
     "metadata": {},
     "output_type": "execute_result"
    }
   ],
   "source": [
    "name.title()"
   ]
  },
  {
   "cell_type": "code",
   "execution_count": 52,
   "metadata": {},
   "outputs": [
    {
     "data": {
      "text/plain": [
       "' sARAH'"
      ]
     },
     "execution_count": 52,
     "metadata": {},
     "output_type": "execute_result"
    }
   ],
   "source": [
    "name.swapcase()"
   ]
  },
  {
   "cell_type": "code",
   "execution_count": 54,
   "metadata": {},
   "outputs": [
    {
     "data": {
      "text/plain": [
       "'Alex, raj, sam , alice, sarah'"
      ]
     },
     "execution_count": 54,
     "metadata": {},
     "output_type": "execute_result"
    }
   ],
   "source": [
    "frds.capitalize()"
   ]
  },
  {
   "cell_type": "code",
   "execution_count": 55,
   "metadata": {},
   "outputs": [
    {
     "data": {
      "text/plain": [
       "'Alex, Raj, Sam , Alice, Sarah'"
      ]
     },
     "execution_count": 55,
     "metadata": {},
     "output_type": "execute_result"
    }
   ],
   "source": [
    "frds.title()"
   ]
  },
  {
   "cell_type": "code",
   "execution_count": 57,
   "metadata": {},
   "outputs": [
    {
     "name": "stdout",
     "output_type": "stream",
     "text": [
      " SARAH\n"
     ]
    }
   ],
   "source": [
    "name= name.upper()\n",
    "print(name)"
   ]
  },
  {
   "cell_type": "code",
   "execution_count": null,
   "metadata": {},
   "outputs": [],
   "source": []
  }
 ],
 "metadata": {
  "interpreter": {
   "hash": "a97921bd90c3d55a32a886721a37b372c256037231aec0c43f2c56267f01744c"
  },
  "kernelspec": {
   "display_name": "Python 3.9.7 64-bit ('study': conda)",
   "language": "python",
   "name": "python3"
  },
  "language_info": {
   "codemirror_mode": {
    "name": "ipython",
    "version": 3
   },
   "file_extension": ".py",
   "mimetype": "text/x-python",
   "name": "python",
   "nbconvert_exporter": "python",
   "pygments_lexer": "ipython3",
   "version": "3.9.7"
  },
  "orig_nbformat": 4
 },
 "nbformat": 4,
 "nbformat_minor": 2
}
