{
 "cells": [
  {
   "cell_type": "markdown",
   "metadata": {},
   "source": [
    "# file handling examples\n",
    "\n",
    "download some files from https://www.gutenberg.org/browse/scores/top"
   ]
  },
  {
   "cell_type": "markdown",
   "metadata": {},
   "source": [
    "```\n",
    "|->Folder access\n",
    "|   |- `os` module (library)\n",
    "|       |- current path\n",
    "|       |- change path\n",
    "|       |- list files & folder\n",
    "|       |- check path is valid\n",
    "|->File Access\n",
    "    |- file read\n",
    "    |- file writing\n",
    "    |- file updating\n",
    "```"
   ]
  },
  {
   "cell_type": "code",
   "execution_count": null,
   "metadata": {},
   "outputs": [],
   "source": [
    "import os"
   ]
  },
  {
   "cell_type": "code",
   "execution_count": null,
   "metadata": {},
   "outputs": [],
   "source": [
    "os.getcwd() # get current working directory"
   ]
  },
  {
   "cell_type": "code",
   "execution_count": null,
   "metadata": {},
   "outputs": [],
   "source": [
    "content = os.listdir() # list all files in current directory\n",
    "print(content)"
   ]
  },
  {
   "cell_type": "code",
   "execution_count": null,
   "metadata": {},
   "outputs": [],
   "source": [
    "addr = \"C:/Users/Admin/Downloads\"\n",
    "os.chdir(addr)  # change current directory to addr"
   ]
  },
  {
   "cell_type": "code",
   "execution_count": null,
   "metadata": {},
   "outputs": [],
   "source": [
    "os.getcwd()"
   ]
  },
  {
   "cell_type": "code",
   "execution_count": null,
   "metadata": {},
   "outputs": [],
   "source": [
    "font_names = os.listdir(\"C:/Windows/Fonts\")\n",
    "print(\"total fonts:\", len(font_names))"
   ]
  },
  {
   "cell_type": "code",
   "execution_count": null,
   "metadata": {},
   "outputs": [],
   "source": [
    "downloads = os.listdir()\n",
    "print(downloads)"
   ]
  },
  {
   "cell_type": "code",
   "execution_count": null,
   "metadata": {},
   "outputs": [],
   "source": [
    "def get_files(content_list, ext='.txt'):\n",
    "    for file in content_list:\n",
    "        if os.path.isfile(file):\n",
    "            if file.endswith(ext):\n",
    "                yield file"
   ]
  },
  {
   "cell_type": "code",
   "execution_count": null,
   "metadata": {},
   "outputs": [],
   "source": [
    "for file in get_files(downloads,'.pdf'):\n",
    "    print(file)"
   ]
  },
  {
   "cell_type": "markdown",
   "metadata": {},
   "source": [
    "### wap to display all files from the address given by user"
   ]
  },
  {
   "cell_type": "code",
   "execution_count": null,
   "metadata": {},
   "outputs": [],
   "source": [
    "address = input(\"enter a path for the folder:\")\n",
    "if os.path.exists(address):\n",
    "    print(os.listdir(address))\n",
    "else:\n",
    "    print(\"invalid address\")"
   ]
  },
  {
   "cell_type": "markdown",
   "metadata": {},
   "source": [
    "# file handling part 2\n",
    "-> open() function is used for file access \n",
    "\n",
    "-> then we can perform operation on file like reading, writing, updating\n",
    "\n",
    "-> we close the file using close() function to release the memory\n",
    "\n",
    "## syntax\n",
    "```\n",
    "with open(filename, mode) as f:\n",
    "    operation\n",
    "    ...\n",
    "```"
   ]
  },
  {
   "cell_type": "code",
   "execution_count": 42,
   "metadata": {},
   "outputs": [
    {
     "name": "stdout",
     "output_type": "stream",
     "text": [
      "['frankestien.txt', 'modydick.txt', 'pride_and_prejudice.txt', 'sherlock_holmes.txt', 'students.txt']\n"
     ]
    }
   ],
   "source": [
    "txtfiles = list(get_files(downloads))\n",
    "print(txtfiles)"
   ]
  },
  {
   "cell_type": "code",
   "execution_count": 44,
   "metadata": {},
   "outputs": [
    {
     "name": "stdout",
     "output_type": "stream",
     "text": [
      "pride_and_prejudice.txt\n"
     ]
    }
   ],
   "source": [
    "filepath = txtfiles[2]\n",
    "print(filepath)"
   ]
  },
  {
   "cell_type": "code",
   "execution_count": 52,
   "metadata": {},
   "outputs": [
    {
     "name": "stdout",
     "output_type": "stream",
     "text": [
      "124749\n"
     ]
    }
   ],
   "source": [
    "# read\n",
    "with open(filepath) as f:\n",
    "    content = f.read()\n",
    "    print(len(content.split()))"
   ]
  },
  {
   "cell_type": "code",
   "execution_count": 51,
   "metadata": {},
   "outputs": [
    {
     "name": "stdout",
     "output_type": "stream",
     "text": [
      "215864\n"
     ]
    }
   ],
   "source": [
    "with open('modydick.txt') as file:\n",
    "    content = file.read()\n",
    "    print(len(content.split()))"
   ]
  },
  {
   "cell_type": "code",
   "execution_count": 56,
   "metadata": {},
   "outputs": [
    {
     "name": "stdout",
     "output_type": "stream",
     "text": [
      "done\n"
     ]
    }
   ],
   "source": [
    "with open(\"prices.txt\", \"w\") as file:\n",
    "    file.write(\"mobile phone \\t $20000\\n\")\n",
    "    file.write(\"laptop \\t $60000\\n\")\n",
    "    file.write(\"car \\t $30000\\n\")\n",
    "print(\"done\")\n"
   ]
  },
  {
   "cell_type": "code",
   "execution_count": 62,
   "metadata": {},
   "outputs": [
    {
     "name": "stdout",
     "output_type": "stream",
     "text": [
      "file already exists\n"
     ]
    }
   ],
   "source": [
    "if not os.path.exists('students.abc'):\n",
    "    with open('students.abc', 'w') as file:\n",
    "        file.write(\"Raju,kumar,7th,289389\\n\")\n",
    "        file.write(\"Sonu,kumar,6th,232211\\n\")\n",
    "        file.write(\"Vijay,kumar,7th,223389\\n\")\n",
    "        print(\"file created\")\n",
    "else:\n",
    "    print(\"file already exists\")"
   ]
  },
  {
   "cell_type": "code",
   "execution_count": 65,
   "metadata": {},
   "outputs": [
    {
     "name": "stdout",
     "output_type": "stream",
     "text": [
      "updated\n"
     ]
    }
   ],
   "source": [
    "# update -> append\n",
    "with open('prices.txt','a') as file:\n",
    "    file.write(\"bike \\t $80000\\n\")\n",
    "    file.write(\"fridge \\t $20000\\n\")\n",
    "    file.write(\"refrigrator \\t $30000\\n\")\n",
    "    print(\"updated\")"
   ]
  },
  {
   "cell_type": "code",
   "execution_count": 66,
   "metadata": {},
   "outputs": [
    {
     "name": "stdout",
     "output_type": "stream",
     "text": [
      "updated\n"
     ]
    }
   ],
   "source": [
    "with open('prices.txt','a') as file:\n",
    "    line = input('enter detail:')\n",
    "    file.write(line+'\\n')\n",
    "    print(\"updated\")"
   ]
  },
  {
   "cell_type": "code",
   "execution_count": null,
   "metadata": {},
   "outputs": [],
   "source": []
  }
 ],
 "metadata": {
  "interpreter": {
   "hash": "26d6d95e799f68a0680bea77b17a4e3218da601be7d02863e2950dbe63a5be85"
  },
  "kernelspec": {
   "display_name": "Python 3.9.5 ('base')",
   "language": "python",
   "name": "python3"
  },
  "language_info": {
   "codemirror_mode": {
    "name": "ipython",
    "version": 3
   },
   "file_extension": ".py",
   "mimetype": "text/x-python",
   "name": "python",
   "nbconvert_exporter": "python",
   "pygments_lexer": "ipython3",
   "version": "3.9.5"
  },
  "orig_nbformat": 4
 },
 "nbformat": 4,
 "nbformat_minor": 2
}
