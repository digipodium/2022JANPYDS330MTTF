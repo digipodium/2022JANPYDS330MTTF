{
 "cells": [
  {
   "cell_type": "markdown",
   "metadata": {},
   "source": [
    "# file handling examples\n",
    "\n",
    "download some files from https://www.gutenberg.org/browse/scores/top"
   ]
  },
  {
   "cell_type": "markdown",
   "metadata": {},
   "source": [
    "```\n",
    "|->Folder access\n",
    "|   |- `os` module (library)\n",
    "|       |- current path\n",
    "|       |- change path\n",
    "|       |- list files & folder\n",
    "|       |- check path is valid\n",
    "|->File Access\n",
    "    |- file read\n",
    "    |- file writing\n",
    "    |- file updating\n",
    "```"
   ]
  },
  {
   "cell_type": "code",
   "execution_count": null,
   "metadata": {},
   "outputs": [],
   "source": [
    "import os"
   ]
  },
  {
   "cell_type": "code",
   "execution_count": null,
   "metadata": {},
   "outputs": [],
   "source": [
    "os.getcwd() # get current working directory"
   ]
  },
  {
   "cell_type": "code",
   "execution_count": null,
   "metadata": {},
   "outputs": [],
   "source": [
    "content = os.listdir() # list all files in current directory\n",
    "print(content)"
   ]
  },
  {
   "cell_type": "code",
   "execution_count": null,
   "metadata": {},
   "outputs": [],
   "source": [
    "addr = \"C:/Users/Admin/Downloads\"\n",
    "os.chdir(addr)  # change current directory to addr"
   ]
  },
  {
   "cell_type": "code",
   "execution_count": null,
   "metadata": {},
   "outputs": [],
   "source": [
    "os.getcwd()"
   ]
  },
  {
   "cell_type": "code",
   "execution_count": 10,
   "metadata": {},
   "outputs": [
    {
     "name": "stdout",
     "output_type": "stream",
     "text": [
      "total fonts: 415\n"
     ]
    }
   ],
   "source": [
    "font_names = os.listdir(\"C:/Windows/Fonts\")\n",
    "print(\"total fonts:\", len(font_names))"
   ]
  },
  {
   "cell_type": "code",
   "execution_count": null,
   "metadata": {},
   "outputs": [],
   "source": [
    "downloads = os.listdir()\n",
    "print(downloads)"
   ]
  },
  {
   "cell_type": "code",
   "execution_count": 20,
   "metadata": {},
   "outputs": [],
   "source": [
    "def get_files(content_list, ext='.txt'):\n",
    "    for file in content_list:\n",
    "        if os.path.isfile(file):\n",
    "            if file.endswith(ext):\n",
    "                yield file"
   ]
  },
  {
   "cell_type": "code",
   "execution_count": 24,
   "metadata": {},
   "outputs": [
    {
     "name": "stdout",
     "output_type": "stream",
     "text": [
      "aditya singh we design.pdf\n",
      "Avanishweb.pdf\n",
      "DigiKotlin.pdf\n",
      "Ehsan Ansari .pdf\n",
      "KotlinNotesForProfessionals.pdf\n",
      "mail.pdf\n",
      "Project Info and Format.pdf\n",
      "ProjectSynopsisFrontPage.pdf\n",
      "Report of SA.pdf\n"
     ]
    }
   ],
   "source": [
    "for file in get_files(downloads,'.pdf'):\n",
    "    print(file)"
   ]
  },
  {
   "cell_type": "code",
   "execution_count": null,
   "metadata": {},
   "outputs": [],
   "source": []
  }
 ],
 "metadata": {
  "interpreter": {
   "hash": "26d6d95e799f68a0680bea77b17a4e3218da601be7d02863e2950dbe63a5be85"
  },
  "kernelspec": {
   "display_name": "Python 3.9.5 ('base')",
   "language": "python",
   "name": "python3"
  },
  "language_info": {
   "codemirror_mode": {
    "name": "ipython",
    "version": 3
   },
   "file_extension": ".py",
   "mimetype": "text/x-python",
   "name": "python",
   "nbconvert_exporter": "python",
   "pygments_lexer": "ipython3",
   "version": "3.9.5"
  },
  "orig_nbformat": 4
 },
 "nbformat": 4,
 "nbformat_minor": 2
}
