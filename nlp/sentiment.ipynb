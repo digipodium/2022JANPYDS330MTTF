{
 "cells": [
  {
   "cell_type": "markdown",
   "metadata": {},
   "source": [
    "Library requirements\n",
    "```python\n",
    "!pip install textblob\n",
    "```\n",
    "```python\n",
    "!python -m textblob.download_corpora\n",
    "```"
   ]
  },
  {
   "cell_type": "code",
   "execution_count": 1,
   "metadata": {},
   "outputs": [],
   "source": [
    "from textblob import TextBlob"
   ]
  },
  {
   "cell_type": "code",
   "execution_count": 2,
   "metadata": {},
   "outputs": [],
   "source": [
    "text = '''Computer Space is a space-combat arcade game released in 1971.\n",
    "Created by Nolan Bushnell and Ted Dabney in partnership as Syzygy Engineering, \n",
    "it was the first arcade video game and the first commercially available video game. \n",
    "In the game the player controls a rocket engaged in a missile battle against a pair \n",
    "of hardware-controlled flying saucers set against a starfield background. The goal \n",
    "is to score more hits than the enemy within a set time period. The game is enclosed \n",
    "in a custom fiberglass cabinet, which Bushnell designed to look futuristic. Bushnell \n",
    "and Dabney created the game to be a coin-operated version of Spacewar!, a 1962 \n",
    "computer game. They could not economically run the game on a general-purpose \n",
    "minicomputer, so they built specialized hardware for the game. They ran their \n",
    "first location test in August 1971, and it was shown to industry press and \n",
    "distributors at the annual Music Operators of America Expo in October.'''"
   ]
  },
  {
   "cell_type": "code",
   "execution_count": 3,
   "metadata": {},
   "outputs": [],
   "source": [
    "blob = TextBlob(text)"
   ]
  },
  {
   "cell_type": "code",
   "execution_count": 7,
   "metadata": {},
   "outputs": [
    {
     "data": {
      "text/plain": [
       "WordList(['comput', 'space', 'is', 'a', 'space-combat', 'arcad', 'game', 'releas', 'in', '1971', 'creat', 'by', 'nolan', 'bushnel', 'and', 'ted', 'dabney', 'in', 'partnership', 'as', 'syzygi', 'engin', 'it', 'wa', 'the', 'first', 'arcad', 'video', 'game', 'and', 'the', 'first', 'commerci', 'avail', 'video', 'game', 'in', 'the', 'game', 'the', 'player', 'control', 'a', 'rocket', 'engag', 'in', 'a', 'missil', 'battl', 'against', 'a', 'pair', 'of', 'hardware-control', 'fli', 'saucer', 'set', 'against', 'a', 'starfield', 'background', 'the', 'goal', 'is', 'to', 'score', 'more', 'hit', 'than', 'the', 'enemi', 'within', 'a', 'set', 'time', 'period', 'the', 'game', 'is', 'enclos', 'in', 'a', 'custom', 'fiberglass', 'cabinet', 'which', 'bushnel', 'design', 'to', 'look', 'futurist', 'bushnel', 'and', 'dabney', 'creat', 'the', 'game', 'to', 'be', 'a', 'coin-oper', 'version', 'of', 'spacewar', 'a', '1962', 'comput', 'game', 'they', 'could', 'not', 'econom', 'run', 'the', 'game', 'on', 'a', 'general-purpos', 'minicomput', 'so', 'they', 'built', 'special', 'hardwar', 'for', 'the', 'game', 'they', 'ran', 'their', 'first', 'locat', 'test', 'in', 'august', '1971', 'and', 'it', 'wa', 'shown', 'to', 'industri', 'press', 'and', 'distributor', 'at', 'the', 'annual', 'music', 'oper', 'of', 'america', 'expo', 'in', 'octob'])"
      ]
     },
     "execution_count": 7,
     "metadata": {},
     "output_type": "execute_result"
    }
   ],
   "source": [
    "words = blob.words\n",
    "words.stem()"
   ]
  },
  {
   "cell_type": "code",
   "execution_count": 12,
   "metadata": {},
   "outputs": [],
   "source": [
    "sentlist = blob.sentences"
   ]
  },
  {
   "cell_type": "code",
   "execution_count": 15,
   "metadata": {},
   "outputs": [
    {
     "data": {
      "text/plain": [
       "(Sentence(\"Computer Space is a space-combat arcade game released in 1971.\"),\n",
       " Sentiment(polarity=-0.4, subjectivity=0.4))"
      ]
     },
     "execution_count": 15,
     "metadata": {},
     "output_type": "execute_result"
    }
   ],
   "source": [
    "sentlist[0],sentlist[0].sentiment"
   ]
  },
  {
   "cell_type": "code",
   "execution_count": null,
   "metadata": {},
   "outputs": [],
   "source": [
    "for sentence in sentlist:\n",
    "    print(sentence)\n",
    "    print(sentence.sentiment)\n",
    "    print()"
   ]
  },
  {
   "cell_type": "code",
   "execution_count": 19,
   "metadata": {},
   "outputs": [],
   "source": [
    "def get_sentiment(score):\n",
    "    if score > 0 and score <= 0.5:\n",
    "        return 'Slighly Positive'\n",
    "    elif score > 0.5 and score <= 1:\n",
    "        return 'Positive'\n",
    "    elif score > -0.5 and score <= 0:\n",
    "        return 'Slightly Negative'\n",
    "    elif score > -1 and score <= -0.5:\n",
    "        return 'Negative'\n",
    "    else:\n",
    "        return 'neutral'"
   ]
  },
  {
   "cell_type": "code",
   "execution_count": 27,
   "metadata": {},
   "outputs": [],
   "source": [
    "results = []\n",
    "for sentence in blob.sentences:\n",
    "    out = get_sentiment(sentence.sentiment.polarity)\n",
    "    results.append({\n",
    "        'sentence': sentence.string,\n",
    "        'sentiment': out,\n",
    "        'polarity': sentence.sentiment.polarity\n",
    "    })"
   ]
  },
  {
   "cell_type": "code",
   "execution_count": 30,
   "metadata": {},
   "outputs": [
    {
     "data": {
      "text/plain": [
       "<AxesSubplot:>"
      ]
     },
     "execution_count": 30,
     "metadata": {},
     "output_type": "execute_result"
    },
    {
     "data": {
      "image/png": "[encoded data removed]",
      "text/plain": [
       "<Figure size 432x288 with 1 Axes>"
      ]
     },
     "metadata": {
      "needs_background": "light"
     },
     "output_type": "display_data"
    }
   ],
   "source": [
    "import pandas as pd\n",
    "df = pd.DataFrame(results)\n",
    "df['polarity'].plot(kind='bar')"
   ]
  },
  {
   "cell_type": "code",
   "execution_count": null,
   "metadata": {},
   "outputs": [],
   "source": []
  }
 ],
 "metadata": {
  "interpreter": {
   "hash": "26d6d95e799f68a0680bea77b17a4e3218da601be7d02863e2950dbe63a5be85"
  },
  "kernelspec": {
   "display_name": "Python 3.9.5 ('base')",
   "language": "python",
   "name": "python3"
  },
  "language_info": {
   "codemirror_mode": {
    "name": "ipython",
    "version": 3
   },
   "file_extension": ".py",
   "mimetype": "text/x-python",
   "name": "python",
   "nbconvert_exporter": "python",
   "pygments_lexer": "ipython3",
   "version": "3.9.5"
  },
  "orig_nbformat": 4
 },
 "nbformat": 4,
 "nbformat_minor": 2
}
