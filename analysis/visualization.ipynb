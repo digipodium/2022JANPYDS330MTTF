{
 "cells": [
  {
   "cell_type": "markdown",
   "metadata": {},
   "source": [
    "# Visualization\n",
    "- #### matplotlib\n",
    "- #### seaborn\n",
    "- #### bokeh\n",
    "- #### plotly"
   ]
  },
  {
   "cell_type": "markdown",
   "metadata": {},
   "source": [
    "#### How to install?\n",
    "```\n",
    "pip install matplotlib seaborn bokeh plotly\n",
    "```"
   ]
  },
  {
   "cell_type": "code",
   "execution_count": 1,
   "metadata": {},
   "outputs": [],
   "source": [
    "import matplotlib.pyplot as plt"
   ]
  },
  {
   "cell_type": "code",
   "execution_count": 2,
   "metadata": {},
   "outputs": [
    {
     "data": {
      "text/plain": [
       "[<matplotlib.lines.Line2D at 0x21458064a00>]"
      ]
     },
     "execution_count": 2,
     "metadata": {},
     "output_type": "execute_result"
    },
    {
     "data": {
      "image/png": "[encoded data removed]",
      "text/plain": [
       "<Figure size 432x288 with 1 Axes>"
      ]
     },
     "metadata": {
      "needs_background": "light"
     },
     "output_type": "display_data"
    }
   ],
   "source": [
    "plt.plot([1,2,3,3,3,4,5,6,7,8])"
   ]
  },
  {
   "cell_type": "code",
   "execution_count": 3,
   "metadata": {},
   "outputs": [
    {
     "data": {
      "text/plain": [
       "True"
      ]
     },
     "execution_count": 3,
     "metadata": {},
     "output_type": "execute_result"
    }
   ],
   "source": [
    "x = [1,2,3,3,3,4,5,6,7,8]\n",
    "y = [90,45,2,31,1,2,3,31,2,3]\n",
    "len(x) == len(y)"
   ]
  },
  {
   "cell_type": "code",
   "execution_count": 4,
   "metadata": {},
   "outputs": [
    {
     "data": {
      "image/png": "[encoded data removed]",
      "text/plain": [
       "<Figure size 432x288 with 1 Axes>"
      ]
     },
     "metadata": {
      "needs_background": "light"
     },
     "output_type": "display_data"
    }
   ],
   "source": [
    "plt.plot(x,y)\n",
    "plt.show()"
   ]
  },
  {
   "cell_type": "code",
   "execution_count": 5,
   "metadata": {},
   "outputs": [
    {
     "data": {
      "text/plain": [
       "<matplotlib.collections.PathCollection at 0x2145a1ced30>"
      ]
     },
     "execution_count": 5,
     "metadata": {},
     "output_type": "execute_result"
    },
    {
     "data": {
      "image/png": "[encoded data removed]",
      "text/plain": [
       "<Figure size 432x288 with 1 Axes>"
      ]
     },
     "metadata": {
      "needs_background": "light"
     },
     "output_type": "display_data"
    }
   ],
   "source": [
    "plt.scatter(x,y)"
   ]
  },
  {
   "cell_type": "code",
   "execution_count": 1,
   "metadata": {},
   "outputs": [],
   "source": [
    "import pandas as pd\n",
    "import seaborn as sns"
   ]
  },
  {
   "cell_type": "code",
   "execution_count": 2,
   "metadata": {},
   "outputs": [],
   "source": [
    "pd.set_option('display.max_columns', None)"
   ]
  },
  {
   "cell_type": "code",
   "execution_count": 8,
   "metadata": {},
   "outputs": [],
   "source": [
    "df = pd.read_csv('https://raw.githubusercontent.com/digipodium/Datasets/main/pokemon_alopez247.csv',index_col='Number')"
   ]
  },
  {
   "cell_type": "code",
   "execution_count": 9,
   "metadata": {},
   "outputs": [
    {
     "data": {
      "text/html": [
       "<div>\n",
       "<style scoped>\n",
       "    .dataframe tbody tr th:only-of-type {\n",
       "        vertical-align: middle;\n",
       "    }\n",
       "\n",
       "    .dataframe tbody tr th {\n",
       "        vertical-align: top;\n",
       "    }\n",
       "\n",
       "    .dataframe thead th {\n",
       "        text-align: right;\n",
       "    }\n",
       "</style>\n",
       "<table border=\"1\" class=\"dataframe\">\n",
       "  <thead>\n",
       "    <tr style=\"text-align: right;\">\n",
       "      <th></th>\n",
       "      <th>Name</th>\n",
       "      <th>Type_1</th>\n",
       "      <th>Type_2</th>\n",
       "      <th>Total</th>\n",
       "      <th>HP</th>\n",
       "      <th>Attack</th>\n",
       "      <th>Defense</th>\n",
       "      <th>Sp_Atk</th>\n",
       "      <th>Sp_Def</th>\n",
       "      <th>Speed</th>\n",
       "      <th>Generation</th>\n",
       "      <th>isLegendary</th>\n",
       "      <th>Color</th>\n",
       "      <th>hasGender</th>\n",
       "      <th>Pr_Male</th>\n",
       "      <th>Egg_Group_1</th>\n",
       "      <th>Egg_Group_2</th>\n",
       "      <th>hasMegaEvolution</th>\n",
       "      <th>Height_m</th>\n",
       "      <th>Weight_kg</th>\n",
       "      <th>Catch_Rate</th>\n",
       "      <th>Body_Style</th>\n",
       "    </tr>\n",
       "    <tr>\n",
       "      <th>Number</th>\n",
       "      <th></th>\n",
       "      <th></th>\n",
       "      <th></th>\n",
       "      <th></th>\n",
       "      <th></th>\n",
       "      <th></th>\n",
       "      <th></th>\n",
       "      <th></th>\n",
       "      <th></th>\n",
       "      <th></th>\n",
       "      <th></th>\n",
       "      <th></th>\n",
       "      <th></th>\n",
       "      <th></th>\n",
       "      <th></th>\n",
       "      <th></th>\n",
       "      <th></th>\n",
       "      <th></th>\n",
       "      <th></th>\n",
       "      <th></th>\n",
       "      <th></th>\n",
       "      <th></th>\n",
       "    </tr>\n",
       "  </thead>\n",
       "  <tbody>\n",
       "    <tr>\n",
       "      <th>1</th>\n",
       "      <td>Bulbasaur</td>\n",
       "      <td>Grass</td>\n",
       "      <td>Poison</td>\n",
       "      <td>318</td>\n",
       "      <td>45</td>\n",
       "      <td>49</td>\n",
       "      <td>49</td>\n",
       "      <td>65</td>\n",
       "      <td>65</td>\n",
       "      <td>45</td>\n",
       "      <td>1</td>\n",
       "      <td>False</td>\n",
       "      <td>Green</td>\n",
       "      <td>True</td>\n",
       "      <td>0.875</td>\n",
       "      <td>Monster</td>\n",
       "      <td>Grass</td>\n",
       "      <td>False</td>\n",
       "      <td>0.71</td>\n",
       "      <td>6.9</td>\n",
       "      <td>45</td>\n",
       "      <td>quadruped</td>\n",
       "    </tr>\n",
       "    <tr>\n",
       "      <th>2</th>\n",
       "      <td>Ivysaur</td>\n",
       "      <td>Grass</td>\n",
       "      <td>Poison</td>\n",
       "      <td>405</td>\n",
       "      <td>60</td>\n",
       "      <td>62</td>\n",
       "      <td>63</td>\n",
       "      <td>80</td>\n",
       "      <td>80</td>\n",
       "      <td>60</td>\n",
       "      <td>1</td>\n",
       "      <td>False</td>\n",
       "      <td>Green</td>\n",
       "      <td>True</td>\n",
       "      <td>0.875</td>\n",
       "      <td>Monster</td>\n",
       "      <td>Grass</td>\n",
       "      <td>False</td>\n",
       "      <td>0.99</td>\n",
       "      <td>13.0</td>\n",
       "      <td>45</td>\n",
       "      <td>quadruped</td>\n",
       "    </tr>\n",
       "    <tr>\n",
       "      <th>3</th>\n",
       "      <td>Venusaur</td>\n",
       "      <td>Grass</td>\n",
       "      <td>Poison</td>\n",
       "      <td>525</td>\n",
       "      <td>80</td>\n",
       "      <td>82</td>\n",
       "      <td>83</td>\n",
       "      <td>100</td>\n",
       "      <td>100</td>\n",
       "      <td>80</td>\n",
       "      <td>1</td>\n",
       "      <td>False</td>\n",
       "      <td>Green</td>\n",
       "      <td>True</td>\n",
       "      <td>0.875</td>\n",
       "      <td>Monster</td>\n",
       "      <td>Grass</td>\n",
       "      <td>True</td>\n",
       "      <td>2.01</td>\n",
       "      <td>100.0</td>\n",
       "      <td>45</td>\n",
       "      <td>quadruped</td>\n",
       "    </tr>\n",
       "    <tr>\n",
       "      <th>4</th>\n",
       "      <td>Charmander</td>\n",
       "      <td>Fire</td>\n",
       "      <td>NaN</td>\n",
       "      <td>309</td>\n",
       "      <td>39</td>\n",
       "      <td>52</td>\n",
       "      <td>43</td>\n",
       "      <td>60</td>\n",
       "      <td>50</td>\n",
       "      <td>65</td>\n",
       "      <td>1</td>\n",
       "      <td>False</td>\n",
       "      <td>Red</td>\n",
       "      <td>True</td>\n",
       "      <td>0.875</td>\n",
       "      <td>Monster</td>\n",
       "      <td>Dragon</td>\n",
       "      <td>False</td>\n",
       "      <td>0.61</td>\n",
       "      <td>8.5</td>\n",
       "      <td>45</td>\n",
       "      <td>bipedal_tailed</td>\n",
       "    </tr>\n",
       "    <tr>\n",
       "      <th>5</th>\n",
       "      <td>Charmeleon</td>\n",
       "      <td>Fire</td>\n",
       "      <td>NaN</td>\n",
       "      <td>405</td>\n",
       "      <td>58</td>\n",
       "      <td>64</td>\n",
       "      <td>58</td>\n",
       "      <td>80</td>\n",
       "      <td>65</td>\n",
       "      <td>80</td>\n",
       "      <td>1</td>\n",
       "      <td>False</td>\n",
       "      <td>Red</td>\n",
       "      <td>True</td>\n",
       "      <td>0.875</td>\n",
       "      <td>Monster</td>\n",
       "      <td>Dragon</td>\n",
       "      <td>False</td>\n",
       "      <td>1.09</td>\n",
       "      <td>19.0</td>\n",
       "      <td>45</td>\n",
       "      <td>bipedal_tailed</td>\n",
       "    </tr>\n",
       "  </tbody>\n",
       "</table>\n",
       "</div>"
      ],
      "text/plain": [
       "              Name Type_1  Type_2  Total  HP  Attack  Defense  Sp_Atk  Sp_Def  \\\n",
       "Number                                                                          \n",
       "1        Bulbasaur  Grass  Poison    318  45      49       49      65      65   \n",
       "2          Ivysaur  Grass  Poison    405  60      62       63      80      80   \n",
       "3         Venusaur  Grass  Poison    525  80      82       83     100     100   \n",
       "4       Charmander   Fire     NaN    309  39      52       43      60      50   \n",
       "5       Charmeleon   Fire     NaN    405  58      64       58      80      65   \n",
       "\n",
       "        Speed  Generation  isLegendary  Color  hasGender  Pr_Male Egg_Group_1  \\\n",
       "Number                                                                          \n",
       "1          45           1        False  Green       True    0.875     Monster   \n",
       "2          60           1        False  Green       True    0.875     Monster   \n",
       "3          80           1        False  Green       True    0.875     Monster   \n",
       "4          65           1        False    Red       True    0.875     Monster   \n",
       "5          80           1        False    Red       True    0.875     Monster   \n",
       "\n",
       "       Egg_Group_2  hasMegaEvolution  Height_m  Weight_kg  Catch_Rate  \\\n",
       "Number                                                                  \n",
       "1            Grass             False      0.71        6.9          45   \n",
       "2            Grass             False      0.99       13.0          45   \n",
       "3            Grass              True      2.01      100.0          45   \n",
       "4           Dragon             False      0.61        8.5          45   \n",
       "5           Dragon             False      1.09       19.0          45   \n",
       "\n",
       "            Body_Style  \n",
       "Number                  \n",
       "1            quadruped  \n",
       "2            quadruped  \n",
       "3            quadruped  \n",
       "4       bipedal_tailed  \n",
       "5       bipedal_tailed  "
      ]
     },
     "execution_count": 9,
     "metadata": {},
     "output_type": "execute_result"
    }
   ],
   "source": [
    "df.head()"
   ]
  },
  {
   "cell_type": "code",
   "execution_count": 10,
   "metadata": {},
   "outputs": [
    {
     "data": {
      "text/plain": [
       "Water       105\n",
       "Normal       93\n",
       "Grass        66\n",
       "Bug          63\n",
       "Fire         47\n",
       "Psychic      47\n",
       "Rock         41\n",
       "Electric     36\n",
       "Ground       30\n",
       "Poison       28\n",
       "Dark         28\n",
       "Fighting     25\n",
       "Dragon       24\n",
       "Ghost        23\n",
       "Ice          23\n",
       "Steel        22\n",
       "Fairy        17\n",
       "Flying        3\n",
       "Name: Type_1, dtype: int64"
      ]
     },
     "execution_count": 10,
     "metadata": {},
     "output_type": "execute_result"
    }
   ],
   "source": [
    "df.Type_1.value_counts()"
   ]
  },
  {
   "cell_type": "code",
   "execution_count": 11,
   "metadata": {},
   "outputs": [
    {
     "data": {
      "text/plain": [
       "<AxesSubplot:>"
      ]
     },
     "execution_count": 11,
     "metadata": {},
     "output_type": "execute_result"
    },
    {
     "data": {
      "image/png": "[encoded data removed]",
      "text/plain": [
       "<Figure size 432x288 with 1 Axes>"
      ]
     },
     "metadata": {
      "needs_background": "light"
     },
     "output_type": "display_data"
    }
   ],
   "source": [
    "df.Type_1.value_counts().plot(kind='bar')"
   ]
  },
  {
   "cell_type": "code",
   "execution_count": 12,
   "metadata": {},
   "outputs": [
    {
     "data": {
      "text/plain": [
       "<AxesSubplot:xlabel='Type_1', ylabel='count'>"
      ]
     },
     "execution_count": 12,
     "metadata": {},
     "output_type": "execute_result"
    },
    {
     "data": {
      "image/png": "[encoded data removed]",
      "text/plain": [
       "<Figure size 1080x432 with 1 Axes>"
      ]
     },
     "metadata": {
      "needs_background": "light"
     },
     "output_type": "display_data"
    }
   ],
   "source": [
    "plt.figure(figsize=(15,6))\n",
    "sns.countplot(x='Type_1',data=df)"
   ]
  },
  {
   "cell_type": "code",
   "execution_count": 13,
   "metadata": {},
   "outputs": [
    {
     "data": {
      "text/plain": [
       "<AxesSubplot:xlabel='Total', ylabel='HP'>"
      ]
     },
     "execution_count": 13,
     "metadata": {},
     "output_type": "execute_result"
    },
    {
     "data": {
      "image/png": "[encoded data removed]",
      "text/plain": [
       "<Figure size 432x288 with 1 Axes>"
      ]
     },
     "metadata": {
      "needs_background": "light"
     },
     "output_type": "display_data"
    }
   ],
   "source": [
    "df.plot.scatter(x='Total',y='HP')"
   ]
  },
  {
   "cell_type": "code",
   "execution_count": 14,
   "metadata": {},
   "outputs": [
    {
     "data": {
      "text/plain": [
       "<seaborn.axisgrid.JointGrid at 0x2146349a3a0>"
      ]
     },
     "execution_count": 14,
     "metadata": {},
     "output_type": "execute_result"
    },
    {
     "data": {
      "image/png": "[encoded data removed]",
      "text/plain": [
       "<Figure size 432x432 with 3 Axes>"
      ]
     },
     "metadata": {
      "needs_background": "light"
     },
     "output_type": "display_data"
    }
   ],
   "source": [
    "sns.jointplot(x='Total',y='HP',data=df)"
   ]
  },
  {
   "cell_type": "code",
   "execution_count": 15,
   "metadata": {},
   "outputs": [
    {
     "data": {
      "text/plain": [
       "<seaborn.axisgrid.FacetGrid at 0x214635ed5e0>"
      ]
     },
     "execution_count": 15,
     "metadata": {},
     "output_type": "execute_result"
    },
    {
     "data": {
      "image/png": "[encoded data removed]",
      "text/plain": [
       "<Figure size 429x360 with 1 Axes>"
      ]
     },
     "metadata": {
      "needs_background": "light"
     },
     "output_type": "display_data"
    }
   ],
   "source": [
    "sns.lmplot(x='Speed',y='HP',data=df,hue='isLegendary',fit_reg=False)"
   ]
  },
  {
   "cell_type": "markdown",
   "metadata": {},
   "source": [
    "### plotly graphs\n",
    "- plotly express -> simplified version for single line code\n",
    "- plotly -> normal code with multiple customization"
   ]
  },
  {
   "cell_type": "code",
   "execution_count": 3,
   "metadata": {},
   "outputs": [],
   "source": [
    "import plotly.express as px"
   ]
  },
  {
   "cell_type": "code",
   "execution_count": 17,
   "metadata": {},
   "outputs": [
    {
     "data": {
      "application/vnd.plotly.v1+json": {
       "config": {
        "plotlyServerURL": "https://plot.ly"
       },
       "data": [
        {
         "hovertemplate": "x=%{x}<br>y=%{y}<extra></extra>",
         "legendgroup": "",
         "line": {
          "color": "#636efa",
          "dash": "solid"
         },
         "marker": {
          "symbol": "circle"
         },
         "mode": "lines",
         "name": "",
         "orientation": "v",
         "showlegend": false,
         "type": "scatter",
         "x": [
          0,
          1,
          2,
          3,
          4,
          5,
          6,
          7,
          8,
          9
         ],
         "xaxis": "x",
         "y": [
          1,
          2,
          5,
          6,
          7,
          8,
          9,
          10,
          11,
          12
         ],
         "yaxis": "y"
        }
       ],
       "layout": {
        "legend": {
         "tracegroupgap": 0
        },
        "margin": {
         "t": 60
        },
        "template": {
         "data": {
          "bar": [
           {
            "error_x": {
             "color": "#2a3f5f"
            },
            "error_y": {
             "color": "#2a3f5f"
            },
            "marker": {
             "line": {
              "color": "#E5ECF6",
              "width": 0.5
             },
             "pattern": {
              "fillmode": "overlay",
              "size": 10,
              "solidity": 0.2
             }
            },
            "type": "bar"
           }
          ],
          "barpolar": [
           {
            "marker": {
             "line": {
              "color": "#E5ECF6",
              "width": 0.5
             },
             "pattern": {
              "fillmode": "overlay",
              "size": 10,
              "solidity": 0.2
             }
            },
            "type": "barpolar"
           }
          ],
          "carpet": [
           {
            "aaxis": {
             "endlinecolor": "#2a3f5f",
             "gridcolor": "white",
             "linecolor": "white",
             "minorgridcolor": "white",
             "startlinecolor": "#2a3f5f"
            },
            "baxis": {
             "endlinecolor": "#2a3f5f",
             "gridcolor": "white",
             "linecolor": "white",
             "minorgridcolor": "white",
             "startlinecolor": "#2a3f5f"
            },
            "type": "carpet"
           }
          ],
          "choropleth": [
           {
            "colorbar": {
             "outlinewidth": 0,
             "ticks": ""
            },
            "type": "choropleth"
           }
          ],
          "contour": [
           {
            "colorbar": {
             "outlinewidth": 0,
             "ticks": ""
            },
            "colorscale": [
             [
              0,
              "#0d0887"
             ],
             [
              0.1111111111111111,
              "#46039f"
             ],
             [
              0.2222222222222222,
              "#7201a8"
             ],
             [
              0.3333333333333333,
              "#9c179e"
             ],
             [
              0.4444444444444444,
              "#bd3786"
             ],
             [
              0.5555555555555556,
              "#d8576b"
             ],
             [
              0.6666666666666666,
              "#ed7953"
             ],
             [
              0.7777777777777778,
              "#fb9f3a"
             ],
             [
              0.8888888888888888,
              "#fdca26"
             ],
             [
              1,
              "#f0f921"
             ]
            ],
            "type": "contour"
           }
          ],
          "contourcarpet": [
           {
            "colorbar": {
             "outlinewidth": 0,
             "ticks": ""
            },
            "type": "contourcarpet"
           }
          ],
          "heatmap": [
           {
            "colorbar": {
             "outlinewidth": 0,
             "ticks": ""
            },
            "colorscale": [
             [
              0,
              "#0d0887"
             ],
             [
              0.1111111111111111,
              "#46039f"
             ],
             [
              0.2222222222222222,
              "#7201a8"
             ],
             [
              0.3333333333333333,
              "#9c179e"
             ],
             [
              0.4444444444444444,
              "#bd3786"
             ],
             [
              0.5555555555555556,
              "#d8576b"
             ],
             [
              0.6666666666666666,
              "#ed7953"
             ],
             [
              0.7777777777777778,
              "#fb9f3a"
             ],
             [
              0.8888888888888888,
              "#fdca26"
             ],
             [
              1,
              "#f0f921"
             ]
            ],
            "type": "heatmap"
           }
          ],
          "heatmapgl": [
           {
            "colorbar": {
             "outlinewidth": 0,
             "ticks": ""
            },
            "colorscale": [
             [
              0,
              "#0d0887"
             ],
             [
              0.1111111111111111,
              "#46039f"
             ],
             [
              0.2222222222222222,
              "#7201a8"
             ],
             [
              0.3333333333333333,
              "#9c179e"
             ],
             [
              0.4444444444444444,
              "#bd3786"
             ],
             [
              0.5555555555555556,
              "#d8576b"
             ],
             [
              0.6666666666666666,
              "#ed7953"
             ],
             [
              0.7777777777777778,
              "#fb9f3a"
             ],
             [
              0.8888888888888888,
              "#fdca26"
             ],
             [
              1,
              "#f0f921"
             ]
            ],
            "type": "heatmapgl"
           }
          ],
          "histogram": [
           {
            "marker": {
             "pattern": {
              "fillmode": "overlay",
              "size": 10,
              "solidity": 0.2
             }
            },
            "type": "histogram"
           }
          ],
          "histogram2d": [
           {
            "colorbar": {
             "outlinewidth": 0,
             "ticks": ""
            },
            "colorscale": [
             [
              0,
              "#0d0887"
             ],
             [
              0.1111111111111111,
              "#46039f"
             ],
             [
              0.2222222222222222,
              "#7201a8"
             ],
             [
              0.3333333333333333,
              "#9c179e"
             ],
             [
              0.4444444444444444,
              "#bd3786"
             ],
             [
              0.5555555555555556,
              "#d8576b"
             ],
             [
              0.6666666666666666,
              "#ed7953"
             ],
             [
              0.7777777777777778,
              "#fb9f3a"
             ],
             [
              0.8888888888888888,
              "#fdca26"
             ],
             [
              1,
              "#f0f921"
             ]
            ],
            "type": "histogram2d"
           }
          ],
          "histogram2dcontour": [
           {
            "colorbar": {
             "outlinewidth": 0,
             "ticks": ""
            },
            "colorscale": [
             [
              0,
              "#0d0887"
             ],
             [
              0.1111111111111111,
              "#46039f"
             ],
             [
              0.2222222222222222,
              "#7201a8"
             ],
             [
              0.3333333333333333,
              "#9c179e"
             ],
             [
              0.4444444444444444,
              "#bd3786"
             ],
             [
              0.5555555555555556,
              "#d8576b"
             ],
             [
              0.6666666666666666,
              "#ed7953"
             ],
             [
              0.7777777777777778,
              "#fb9f3a"
             ],
             [
              0.8888888888888888,
              "#fdca26"
             ],
             [
              1,
              "#f0f921"
             ]
            ],
            "type": "histogram2dcontour"
           }
          ],
          "mesh3d": [
           {
            "colorbar": {
             "outlinewidth": 0,
             "ticks": ""
            },
            "type": "mesh3d"
           }
          ],
          "parcoords": [
           {
            "line": {
             "colorbar": {
              "outlinewidth": 0,
              "ticks": ""
             }
            },
            "type": "parcoords"
           }
          ],
          "pie": [
           {
            "automargin": true,
            "type": "pie"
           }
          ],
          "scatter": [
           {
            "marker": {
             "colorbar": {
              "outlinewidth": 0,
              "ticks": ""
             }
            },
            "type": "scatter"
           }
          ],
          "scatter3d": [
           {
            "line": {
             "colorbar": {
              "outlinewidth": 0,
              "ticks": ""
             }
            },
            "marker": {
             "colorbar": {
              "outlinewidth": 0,
              "ticks": ""
             }
            },
            "type": "scatter3d"
           }
          ],
          "scattercarpet": [
           {
            "marker": {
             "colorbar": {
              "outlinewidth": 0,
              "ticks": ""
             }
            },
            "type": "scattercarpet"
           }
          ],
          "scattergeo": [
           {
            "marker": {
             "colorbar": {
              "outlinewidth": 0,
              "ticks": ""
             }
            },
            "type": "scattergeo"
           }
          ],
          "scattergl": [
           {
            "marker": {
             "colorbar": {
              "outlinewidth": 0,
              "ticks": ""
             }
            },
            "type": "scattergl"
           }
          ],
          "scattermapbox": [
           {
            "marker": {
             "colorbar": {
              "outlinewidth": 0,
              "ticks": ""
             }
            },
            "type": "scattermapbox"
           }
          ],
          "scatterpolar": [
           {
            "marker": {
             "colorbar": {
              "outlinewidth": 0,
              "ticks": ""
             }
            },
            "type": "scatterpolar"
           }
          ],
          "scatterpolargl": [
           {
            "marker": {
             "colorbar": {
              "outlinewidth": 0,
              "ticks": ""
             }
            },
            "type": "scatterpolargl"
           }
          ],
          "scatterternary": [
           {
            "marker": {
             "colorbar": {
              "outlinewidth": 0,
              "ticks": ""
             }
            },
            "type": "scatterternary"
           }
          ],
          "surface": [
           {
            "colorbar": {
             "outlinewidth": 0,
             "ticks": ""
            },
            "colorscale": [
             [
              0,
              "#0d0887"
             ],
             [
              0.1111111111111111,
              "#46039f"
             ],
             [
              0.2222222222222222,
              "#7201a8"
             ],
             [
              0.3333333333333333,
              "#9c179e"
             ],
             [
              0.4444444444444444,
              "#bd3786"
             ],
             [
              0.5555555555555556,
              "#d8576b"
             ],
             [
              0.6666666666666666,
              "#ed7953"
             ],
             [
              0.7777777777777778,
              "#fb9f3a"
             ],
             [
              0.8888888888888888,
              "#fdca26"
             ],
             [
              1,
              "#f0f921"
             ]
            ],
            "type": "surface"
           }
          ],
          "table": [
           {
            "cells": {
             "fill": {
              "color": "#EBF0F8"
             },
             "line": {
              "color": "white"
             }
            },
            "header": {
             "fill": {
              "color": "#C8D4E3"
             },
             "line": {
              "color": "white"
             }
            },
            "type": "table"
           }
          ]
         },
         "layout": {
          "annotationdefaults": {
           "arrowcolor": "#2a3f5f",
           "arrowhead": 0,
           "arrowwidth": 1
          },
          "autotypenumbers": "strict",
          "coloraxis": {
           "colorbar": {
            "outlinewidth": 0,
            "ticks": ""
           }
          },
          "colorscale": {
           "diverging": [
            [
             0,
             "#8e0152"
            ],
            [
             0.1,
             "#c51b7d"
            ],
            [
             0.2,
             "#de77ae"
            ],
            [
             0.3,
             "#f1b6da"
            ],
            [
             0.4,
             "#fde0ef"
            ],
            [
             0.5,
             "#f7f7f7"
            ],
            [
             0.6,
             "#e6f5d0"
            ],
            [
             0.7,
             "#b8e186"
            ],
            [
             0.8,
             "#7fbc41"
            ],
            [
             0.9,
             "#4d9221"
            ],
            [
             1,
             "#276419"
            ]
           ],
           "sequential": [
            [
             0,
             "#0d0887"
            ],
            [
             0.1111111111111111,
             "#46039f"
            ],
            [
             0.2222222222222222,
             "#7201a8"
            ],
            [
             0.3333333333333333,
             "#9c179e"
            ],
            [
             0.4444444444444444,
             "#bd3786"
            ],
            [
             0.5555555555555556,
             "#d8576b"
            ],
            [
             0.6666666666666666,
             "#ed7953"
            ],
            [
             0.7777777777777778,
             "#fb9f3a"
            ],
            [
             0.8888888888888888,
             "#fdca26"
            ],
            [
             1,
             "#f0f921"
            ]
           ],
           "sequentialminus": [
            [
             0,
             "#0d0887"
            ],
            [
             0.1111111111111111,
             "#46039f"
            ],
            [
             0.2222222222222222,
             "#7201a8"
            ],
            [
             0.3333333333333333,
             "#9c179e"
            ],
            [
             0.4444444444444444,
             "#bd3786"
            ],
            [
             0.5555555555555556,
             "#d8576b"
            ],
            [
             0.6666666666666666,
             "#ed7953"
            ],
            [
             0.7777777777777778,
             "#fb9f3a"
            ],
            [
             0.8888888888888888,
             "#fdca26"
            ],
            [
             1,
             "#f0f921"
            ]
           ]
          },
          "colorway": [
           "#636efa",
           "#EF553B",
           "#00cc96",
           "#ab63fa",
           "#FFA15A",
           "#19d3f3",
           "#FF6692",
           "#B6E880",
           "#FF97FF",
           "#FECB52"
          ],
          "font": {
           "color": "#2a3f5f"
          },
          "geo": {
           "bgcolor": "white",
           "lakecolor": "white",
           "landcolor": "#E5ECF6",
           "showlakes": true,
           "showland": true,
           "subunitcolor": "white"
          },
          "hoverlabel": {
           "align": "left"
          },
          "hovermode": "closest",
          "mapbox": {
           "style": "light"
          },
          "paper_bgcolor": "white",
          "plot_bgcolor": "#E5ECF6",
          "polar": {
           "angularaxis": {
            "gridcolor": "white",
            "linecolor": "white",
            "ticks": ""
           },
           "bgcolor": "#E5ECF6",
           "radialaxis": {
            "gridcolor": "white",
            "linecolor": "white",
            "ticks": ""
           }
          },
          "scene": {
           "xaxis": {
            "backgroundcolor": "#E5ECF6",
            "gridcolor": "white",
            "gridwidth": 2,
            "linecolor": "white",
            "showbackground": true,
            "ticks": "",
            "zerolinecolor": "white"
           },
           "yaxis": {
            "backgroundcolor": "#E5ECF6",
            "gridcolor": "white",
            "gridwidth": 2,
            "linecolor": "white",
            "showbackground": true,
            "ticks": "",
            "zerolinecolor": "white"
           },
           "zaxis": {
            "backgroundcolor": "#E5ECF6",
            "gridcolor": "white",
            "gridwidth": 2,
            "linecolor": "white",
            "showbackground": true,
            "ticks": "",
            "zerolinecolor": "white"
           }
          },
          "shapedefaults": {
           "line": {
            "color": "#2a3f5f"
           }
          },
          "ternary": {
           "aaxis": {
            "gridcolor": "white",
            "linecolor": "white",
            "ticks": ""
           },
           "baxis": {
            "gridcolor": "white",
            "linecolor": "white",
            "ticks": ""
           },
           "bgcolor": "#E5ECF6",
           "caxis": {
            "gridcolor": "white",
            "linecolor": "white",
            "ticks": ""
           }
          },
          "title": {
           "x": 0.05
          },
          "xaxis": {
           "automargin": true,
           "gridcolor": "white",
           "linecolor": "white",
           "ticks": "",
           "title": {
            "standoff": 15
           },
           "zerolinecolor": "white",
           "zerolinewidth": 2
          },
          "yaxis": {
           "automargin": true,
           "gridcolor": "white",
           "linecolor": "white",
           "ticks": "",
           "title": {
            "standoff": 15
           },
           "zerolinecolor": "white",
           "zerolinewidth": 2
          }
         }
        },
        "xaxis": {
         "anchor": "y",
         "domain": [
          0,
          1
         ],
         "title": {
          "text": "x"
         }
        },
        "yaxis": {
         "anchor": "x",
         "domain": [
          0,
          1
         ],
         "title": {
          "text": "y"
         }
        }
       }
      }
     },
     "metadata": {},
     "output_type": "display_data"
    }
   ],
   "source": [
    "px.line(y=[1,2,5,6,7,8,9,10,11,12])"
   ]
  },
  {
   "cell_type": "code",
   "execution_count": 18,
   "metadata": {},
   "outputs": [
    {
     "data": {
      "application/vnd.plotly.v1+json": {
       "config": {
        "plotlyServerURL": "https://plot.ly"
       },
       "data": [
        {
         "hovertemplate": "isLegendary=False<br>Speed=%{x}<br>HP=%{y}<extra></extra>",
         "legendgroup": "False",
         "marker": {
          "color": "#636efa",
          "symbol": "circle"
         },
         "mode": "markers",
         "name": "False",
         "orientation": "v",
         "showlegend": true,
         "type": "scatter",
         "x": [
          45,
          60,
          80,
          65,
          80,
          100,
          43,
          58,
          78,
          45,
          30,
          70,
          50,
          35,
          75,
          56,
          71,
          101,
          72,
          97,
          70,
          100,
          55,
          80,
          90,
          110,
          40,
          65,
          41,
          56,
          76,
          50,
          65,
          85,
          35,
          60,
          65,
          100,
          20,
          45,
          55,
          90,
          30,
          40,
          50,
          25,
          30,
          45,
          90,
          95,
          120,
          90,
          115,
          55,
          85,
          70,
          95,
          60,
          95,
          90,
          90,
          70,
          90,
          105,
          120,
          35,
          45,
          55,
          40,
          55,
          70,
          70,
          100,
          20,
          35,
          45,
          90,
          105,
          15,
          30,
          45,
          70,
          60,
          75,
          100,
          45,
          70,
          25,
          50,
          40,
          70,
          80,
          95,
          110,
          70,
          42,
          67,
          50,
          75,
          100,
          140,
          40,
          55,
          35,
          45,
          87,
          76,
          30,
          35,
          60,
          25,
          40,
          50,
          60,
          90,
          60,
          85,
          63,
          68,
          85,
          115,
          90,
          105,
          95,
          105,
          93,
          85,
          110,
          80,
          81,
          60,
          48,
          55,
          65,
          130,
          65,
          40,
          35,
          55,
          55,
          80,
          130,
          30,
          50,
          70,
          80,
          100,
          45,
          60,
          80,
          65,
          80,
          100,
          43,
          58,
          78,
          20,
          90,
          50,
          70,
          55,
          85,
          30,
          40,
          130,
          67,
          67,
          60,
          15,
          15,
          20,
          40,
          70,
          95,
          35,
          45,
          55,
          50,
          40,
          50,
          30,
          70,
          50,
          80,
          110,
          85,
          30,
          30,
          95,
          15,
          35,
          110,
          65,
          91,
          30,
          85,
          48,
          33,
          85,
          15,
          40,
          45,
          85,
          30,
          30,
          45,
          85,
          65,
          5,
          85,
          115,
          40,
          55,
          20,
          30,
          50,
          50,
          35,
          65,
          45,
          75,
          70,
          70,
          65,
          95,
          85,
          40,
          50,
          60,
          85,
          75,
          35,
          70,
          65,
          95,
          83,
          100,
          55,
          41,
          51,
          61,
          100,
          70,
          95,
          120,
          45,
          55,
          80,
          40,
          50,
          60,
          35,
          70,
          60,
          100,
          20,
          15,
          65,
          15,
          65,
          30,
          50,
          70,
          30,
          60,
          80,
          85,
          125,
          85,
          65,
          40,
          50,
          80,
          65,
          60,
          35,
          70,
          30,
          90,
          100,
          40,
          160,
          40,
          28,
          48,
          68,
          25,
          50,
          20,
          30,
          50,
          70,
          50,
          50,
          30,
          40,
          50,
          60,
          80,
          65,
          105,
          95,
          95,
          85,
          85,
          65,
          40,
          55,
          65,
          95,
          60,
          60,
          35,
          40,
          20,
          60,
          80,
          60,
          10,
          70,
          100,
          35,
          55,
          50,
          80,
          90,
          65,
          70,
          70,
          60,
          60,
          35,
          55,
          55,
          75,
          23,
          43,
          75,
          45,
          80,
          81,
          70,
          40,
          45,
          65,
          25,
          25,
          51,
          65,
          75,
          23,
          50,
          80,
          25,
          45,
          65,
          32,
          52,
          52,
          55,
          97,
          50,
          50,
          100,
          30,
          50,
          70,
          31,
          36,
          56,
          61,
          81,
          108,
          40,
          50,
          60,
          60,
          80,
          100,
          31,
          71,
          25,
          65,
          45,
          60,
          70,
          55,
          90,
          58,
          58,
          30,
          30,
          36,
          36,
          66,
          70,
          40,
          95,
          85,
          115,
          35,
          85,
          34,
          39,
          115,
          70,
          80,
          85,
          105,
          105,
          71,
          85,
          112,
          45,
          74,
          84,
          23,
          33,
          10,
          60,
          30,
          91,
          35,
          42,
          82,
          102,
          5,
          60,
          90,
          32,
          47,
          65,
          95,
          50,
          85,
          46,
          66,
          91,
          50,
          40,
          60,
          125,
          60,
          50,
          40,
          50,
          95,
          83,
          80,
          95,
          95,
          65,
          95,
          80,
          90,
          80,
          40,
          45,
          110,
          91,
          85,
          80,
          100,
          63,
          83,
          113,
          45,
          55,
          65,
          45,
          60,
          70,
          42,
          77,
          55,
          60,
          80,
          66,
          106,
          64,
          101,
          64,
          101,
          64,
          101,
          24,
          29,
          43,
          65,
          93,
          76,
          116,
          15,
          20,
          25,
          72,
          114,
          68,
          88,
          50,
          35,
          40,
          45,
          64,
          69,
          74,
          45,
          85,
          42,
          42,
          92,
          57,
          47,
          112,
          66,
          116,
          30,
          90,
          98,
          65,
          74,
          92,
          50,
          95,
          60,
          55,
          45,
          48,
          58,
          97,
          30,
          30,
          22,
          32,
          70,
          110,
          65,
          75,
          65,
          105,
          75,
          115,
          45,
          55,
          65,
          20,
          30,
          30,
          55,
          98,
          44,
          59,
          79,
          75,
          95,
          103,
          60,
          20,
          15,
          30,
          40,
          60,
          65,
          65,
          108,
          10,
          20,
          30,
          50,
          90,
          60,
          40,
          50,
          30,
          40,
          20,
          55,
          80,
          57,
          67,
          97,
          40,
          50,
          105,
          25,
          145,
          32,
          65,
          105,
          48,
          35,
          55,
          60,
          70,
          55,
          60,
          80,
          60,
          80,
          65,
          109,
          38,
          58,
          98,
          60,
          100,
          108,
          90,
          99,
          38,
          57,
          64,
          60,
          73,
          104,
          71,
          97,
          122,
          57,
          78,
          62,
          84,
          126,
          35,
          29,
          89,
          72,
          106,
          42,
          52,
          75,
          52,
          68,
          43,
          58,
          102,
          68,
          104,
          28,
          35,
          60,
          23,
          29,
          49,
          72,
          45,
          73,
          50,
          68,
          30,
          44,
          44,
          59,
          70,
          109,
          48,
          71,
          46,
          58,
          60,
          118,
          101,
          50,
          40,
          60,
          80,
          75,
          38,
          56,
          51,
          84,
          28,
          28,
          55,
          123
         ],
         "xaxis": "x",
         "y": [
          45,
          60,
          80,
          39,
          58,
          78,
          44,
          59,
          79,
          45,
          50,
          60,
          40,
          45,
          65,
          40,
          63,
          83,
          30,
          55,
          40,
          65,
          35,
          60,
          35,
          60,
          50,
          75,
          55,
          70,
          90,
          46,
          61,
          81,
          70,
          95,
          38,
          73,
          115,
          140,
          40,
          75,
          45,
          60,
          75,
          35,
          60,
          60,
          70,
          10,
          35,
          40,
          65,
          50,
          80,
          40,
          65,
          55,
          90,
          40,
          65,
          90,
          25,
          40,
          55,
          70,
          80,
          90,
          50,
          65,
          80,
          40,
          80,
          40,
          55,
          80,
          50,
          65,
          90,
          95,
          25,
          50,
          52,
          35,
          60,
          65,
          90,
          80,
          105,
          30,
          50,
          30,
          45,
          60,
          35,
          60,
          85,
          30,
          55,
          40,
          60,
          60,
          95,
          50,
          60,
          50,
          50,
          90,
          40,
          65,
          80,
          105,
          250,
          65,
          105,
          30,
          55,
          45,
          80,
          30,
          60,
          40,
          70,
          65,
          65,
          65,
          65,
          75,
          20,
          95,
          130,
          48,
          55,
          130,
          65,
          65,
          65,
          35,
          70,
          30,
          60,
          80,
          160,
          41,
          61,
          91,
          100,
          45,
          60,
          80,
          39,
          58,
          78,
          50,
          65,
          85,
          35,
          85,
          60,
          100,
          40,
          55,
          40,
          70,
          85,
          75,
          125,
          20,
          50,
          90,
          35,
          55,
          40,
          65,
          55,
          70,
          90,
          75,
          70,
          100,
          70,
          90,
          35,
          55,
          75,
          55,
          30,
          75,
          65,
          55,
          95,
          65,
          95,
          60,
          95,
          60,
          48,
          190,
          70,
          50,
          75,
          100,
          65,
          75,
          60,
          90,
          65,
          70,
          20,
          80,
          55,
          60,
          90,
          40,
          50,
          50,
          100,
          55,
          35,
          75,
          45,
          65,
          65,
          45,
          75,
          75,
          90,
          90,
          85,
          73,
          55,
          35,
          50,
          45,
          45,
          45,
          95,
          255,
          50,
          70,
          100,
          100,
          40,
          50,
          70,
          45,
          60,
          80,
          50,
          70,
          100,
          35,
          70,
          38,
          78,
          45,
          50,
          60,
          50,
          60,
          40,
          60,
          80,
          40,
          70,
          90,
          40,
          60,
          40,
          60,
          28,
          38,
          68,
          40,
          70,
          60,
          60,
          60,
          80,
          150,
          31,
          61,
          1,
          64,
          84,
          104,
          72,
          144,
          50,
          30,
          50,
          70,
          50,
          50,
          50,
          60,
          70,
          30,
          60,
          40,
          70,
          60,
          60,
          65,
          65,
          50,
          70,
          100,
          45,
          70,
          130,
          170,
          60,
          70,
          70,
          60,
          80,
          60,
          45,
          50,
          80,
          50,
          70,
          45,
          75,
          73,
          73,
          70,
          70,
          50,
          110,
          43,
          63,
          40,
          60,
          66,
          86,
          45,
          75,
          20,
          95,
          70,
          60,
          44,
          64,
          20,
          40,
          99,
          65,
          65,
          95,
          50,
          80,
          70,
          90,
          110,
          35,
          55,
          55,
          100,
          43,
          45,
          65,
          95,
          40,
          60,
          80,
          55,
          75,
          95,
          44,
          64,
          76,
          53,
          64,
          84,
          40,
          55,
          85,
          59,
          79,
          37,
          77,
          45,
          60,
          80,
          40,
          60,
          67,
          97,
          30,
          60,
          40,
          60,
          70,
          30,
          70,
          60,
          55,
          85,
          45,
          70,
          76,
          111,
          75,
          90,
          150,
          55,
          65,
          60,
          100,
          49,
          71,
          45,
          63,
          103,
          57,
          67,
          50,
          20,
          100,
          76,
          50,
          58,
          68,
          108,
          135,
          40,
          70,
          68,
          108,
          40,
          70,
          48,
          83,
          74,
          49,
          69,
          45,
          60,
          90,
          70,
          70,
          110,
          115,
          100,
          75,
          75,
          85,
          86,
          65,
          65,
          75,
          110,
          85,
          68,
          60,
          45,
          70,
          50,
          120,
          80,
          100,
          45,
          60,
          75,
          65,
          90,
          110,
          55,
          75,
          95,
          45,
          60,
          45,
          65,
          85,
          41,
          64,
          50,
          75,
          50,
          75,
          50,
          75,
          76,
          116,
          50,
          62,
          80,
          45,
          75,
          55,
          70,
          85,
          55,
          67,
          60,
          110,
          103,
          75,
          85,
          105,
          50,
          75,
          105,
          120,
          75,
          45,
          55,
          75,
          30,
          40,
          60,
          40,
          60,
          45,
          70,
          70,
          50,
          60,
          95,
          70,
          105,
          75,
          50,
          70,
          50,
          65,
          72,
          38,
          58,
          54,
          74,
          55,
          75,
          50,
          80,
          40,
          60,
          55,
          75,
          45,
          60,
          70,
          45,
          65,
          110,
          62,
          75,
          36,
          51,
          71,
          60,
          80,
          55,
          50,
          70,
          69,
          114,
          55,
          100,
          165,
          50,
          70,
          44,
          74,
          40,
          60,
          60,
          35,
          65,
          85,
          55,
          75,
          50,
          60,
          60,
          46,
          66,
          76,
          55,
          95,
          70,
          50,
          80,
          109,
          45,
          65,
          77,
          59,
          89,
          45,
          65,
          95,
          70,
          100,
          70,
          110,
          85,
          58,
          52,
          72,
          92,
          55,
          85,
          91,
          100,
          71,
          56,
          61,
          88,
          40,
          59,
          75,
          41,
          54,
          72,
          38,
          85,
          45,
          62,
          78,
          38,
          45,
          80,
          62,
          86,
          44,
          54,
          78,
          66,
          123,
          67,
          95,
          75,
          62,
          74,
          45,
          59,
          60,
          78,
          101,
          62,
          82,
          53,
          86,
          42,
          72,
          50,
          65,
          50,
          71,
          44,
          62,
          58,
          82,
          77,
          123,
          95,
          78,
          67,
          50,
          45,
          68,
          90,
          57,
          43,
          85,
          49,
          65,
          55,
          95,
          40,
          85
         ],
         "yaxis": "y"
        },
        {
         "hovertemplate": "isLegendary=True<br>Speed=%{x}<br>HP=%{y}<extra></extra>",
         "legendgroup": "True",
         "marker": {
          "color": "#EF553B",
          "symbol": "circle"
         },
         "mode": "markers",
         "name": "True",
         "orientation": "v",
         "showlegend": true,
         "type": "scatter",
         "x": [
          85,
          100,
          90,
          130,
          115,
          100,
          85,
          110,
          90,
          50,
          50,
          50,
          110,
          110,
          90,
          90,
          95,
          100,
          150,
          95,
          80,
          115,
          90,
          100,
          77,
          100,
          90,
          125,
          100,
          120,
          100,
          108,
          108,
          108,
          111,
          111,
          90,
          90,
          101,
          95,
          99,
          99,
          95,
          50,
          70,
          70
         ],
         "xaxis": "x",
         "y": [
          90,
          90,
          90,
          106,
          90,
          115,
          100,
          106,
          106,
          80,
          80,
          80,
          80,
          80,
          100,
          100,
          105,
          100,
          50,
          75,
          80,
          75,
          100,
          90,
          91,
          110,
          150,
          70,
          100,
          120,
          100,
          91,
          91,
          91,
          79,
          79,
          100,
          100,
          89,
          125,
          126,
          126,
          108,
          50,
          80,
          80
         ],
         "yaxis": "y"
        }
       ],
       "layout": {
        "height": 500,
        "legend": {
         "title": {
          "text": "isLegendary"
         },
         "tracegroupgap": 0
        },
        "margin": {
         "t": 60
        },
        "template": {
         "data": {
          "bar": [
           {
            "error_x": {
             "color": "#2a3f5f"
            },
            "error_y": {
             "color": "#2a3f5f"
            },
            "marker": {
             "line": {
              "color": "#E5ECF6",
              "width": 0.5
             },
             "pattern": {
              "fillmode": "overlay",
              "size": 10,
              "solidity": 0.2
             }
            },
            "type": "bar"
           }
          ],
          "barpolar": [
           {
            "marker": {
             "line": {
              "color": "#E5ECF6",
              "width": 0.5
             },
             "pattern": {
              "fillmode": "overlay",
              "size": 10,
              "solidity": 0.2
             }
            },
            "type": "barpolar"
           }
          ],
          "carpet": [
           {
            "aaxis": {
             "endlinecolor": "#2a3f5f",
             "gridcolor": "white",
             "linecolor": "white",
             "minorgridcolor": "white",
             "startlinecolor": "#2a3f5f"
            },
            "baxis": {
             "endlinecolor": "#2a3f5f",
             "gridcolor": "white",
             "linecolor": "white",
             "minorgridcolor": "white",
             "startlinecolor": "#2a3f5f"
            },
            "type": "carpet"
           }
          ],
          "choropleth": [
           {
            "colorbar": {
             "outlinewidth": 0,
             "ticks": ""
            },
            "type": "choropleth"
           }
          ],
          "contour": [
           {
            "colorbar": {
             "outlinewidth": 0,
             "ticks": ""
            },
            "colorscale": [
             [
              0,
              "#0d0887"
             ],
             [
              0.1111111111111111,
              "#46039f"
             ],
             [
              0.2222222222222222,
              "#7201a8"
             ],
             [
              0.3333333333333333,
              "#9c179e"
             ],
             [
              0.4444444444444444,
              "#bd3786"
             ],
             [
              0.5555555555555556,
              "#d8576b"
             ],
             [
              0.6666666666666666,
              "#ed7953"
             ],
             [
              0.7777777777777778,
              "#fb9f3a"
             ],
             [
              0.8888888888888888,
              "#fdca26"
             ],
             [
              1,
              "#f0f921"
             ]
            ],
            "type": "contour"
           }
          ],
          "contourcarpet": [
           {
            "colorbar": {
             "outlinewidth": 0,
             "ticks": ""
            },
            "type": "contourcarpet"
           }
          ],
          "heatmap": [
           {
            "colorbar": {
             "outlinewidth": 0,
             "ticks": ""
            },
            "colorscale": [
             [
              0,
              "#0d0887"
             ],
             [
              0.1111111111111111,
              "#46039f"
             ],
             [
              0.2222222222222222,
              "#7201a8"
             ],
             [
              0.3333333333333333,
              "#9c179e"
             ],
             [
              0.4444444444444444,
              "#bd3786"
             ],
             [
              0.5555555555555556,
              "#d8576b"
             ],
             [
              0.6666666666666666,
              "#ed7953"
             ],
             [
              0.7777777777777778,
              "#fb9f3a"
             ],
             [
              0.8888888888888888,
              "#fdca26"
             ],
             [
              1,
              "#f0f921"
             ]
            ],
            "type": "heatmap"
           }
          ],
          "heatmapgl": [
           {
            "colorbar": {
             "outlinewidth": 0,
             "ticks": ""
            },
            "colorscale": [
             [
              0,
              "#0d0887"
             ],
             [
              0.1111111111111111,
              "#46039f"
             ],
             [
              0.2222222222222222,
              "#7201a8"
             ],
             [
              0.3333333333333333,
              "#9c179e"
             ],
             [
              0.4444444444444444,
              "#bd3786"
             ],
             [
              0.5555555555555556,
              "#d8576b"
             ],
             [
              0.6666666666666666,
              "#ed7953"
             ],
             [
              0.7777777777777778,
              "#fb9f3a"
             ],
             [
              0.8888888888888888,
              "#fdca26"
             ],
             [
              1,
              "#f0f921"
             ]
            ],
            "type": "heatmapgl"
           }
          ],
          "histogram": [
           {
            "marker": {
             "pattern": {
              "fillmode": "overlay",
              "size": 10,
              "solidity": 0.2
             }
            },
            "type": "histogram"
           }
          ],
          "histogram2d": [
           {
            "colorbar": {
             "outlinewidth": 0,
             "ticks": ""
            },
            "colorscale": [
             [
              0,
              "#0d0887"
             ],
             [
              0.1111111111111111,
              "#46039f"
             ],
             [
              0.2222222222222222,
              "#7201a8"
             ],
             [
              0.3333333333333333,
              "#9c179e"
             ],
             [
              0.4444444444444444,
              "#bd3786"
             ],
             [
              0.5555555555555556,
              "#d8576b"
             ],
             [
              0.6666666666666666,
              "#ed7953"
             ],
             [
              0.7777777777777778,
              "#fb9f3a"
             ],
             [
              0.8888888888888888,
              "#fdca26"
             ],
             [
              1,
              "#f0f921"
             ]
            ],
            "type": "histogram2d"
           }
          ],
          "histogram2dcontour": [
           {
            "colorbar": {
             "outlinewidth": 0,
             "ticks": ""
            },
            "colorscale": [
             [
              0,
              "#0d0887"
             ],
             [
              0.1111111111111111,
              "#46039f"
             ],
             [
              0.2222222222222222,
              "#7201a8"
             ],
             [
              0.3333333333333333,
              "#9c179e"
             ],
             [
              0.4444444444444444,
              "#bd3786"
             ],
             [
              0.5555555555555556,
              "#d8576b"
             ],
             [
              0.6666666666666666,
              "#ed7953"
             ],
             [
              0.7777777777777778,
              "#fb9f3a"
             ],
             [
              0.8888888888888888,
              "#fdca26"
             ],
             [
              1,
              "#f0f921"
             ]
            ],
            "type": "histogram2dcontour"
           }
          ],
          "mesh3d": [
           {
            "colorbar": {
             "outlinewidth": 0,
             "ticks": ""
            },
            "type": "mesh3d"
           }
          ],
          "parcoords": [
           {
            "line": {
             "colorbar": {
              "outlinewidth": 0,
              "ticks": ""
             }
            },
            "type": "parcoords"
           }
          ],
          "pie": [
           {
            "automargin": true,
            "type": "pie"
           }
          ],
          "scatter": [
           {
            "marker": {
             "colorbar": {
              "outlinewidth": 0,
              "ticks": ""
             }
            },
            "type": "scatter"
           }
          ],
          "scatter3d": [
           {
            "line": {
             "colorbar": {
              "outlinewidth": 0,
              "ticks": ""
             }
            },
            "marker": {
             "colorbar": {
              "outlinewidth": 0,
              "ticks": ""
             }
            },
            "type": "scatter3d"
           }
          ],
          "scattercarpet": [
           {
            "marker": {
             "colorbar": {
              "outlinewidth": 0,
              "ticks": ""
             }
            },
            "type": "scattercarpet"
           }
          ],
          "scattergeo": [
           {
            "marker": {
             "colorbar": {
              "outlinewidth": 0,
              "ticks": ""
             }
            },
            "type": "scattergeo"
           }
          ],
          "scattergl": [
           {
            "marker": {
             "colorbar": {
              "outlinewidth": 0,
              "ticks": ""
             }
            },
            "type": "scattergl"
           }
          ],
          "scattermapbox": [
           {
            "marker": {
             "colorbar": {
              "outlinewidth": 0,
              "ticks": ""
             }
            },
            "type": "scattermapbox"
           }
          ],
          "scatterpolar": [
           {
            "marker": {
             "colorbar": {
              "outlinewidth": 0,
              "ticks": ""
             }
            },
            "type": "scatterpolar"
           }
          ],
          "scatterpolargl": [
           {
            "marker": {
             "colorbar": {
              "outlinewidth": 0,
              "ticks": ""
             }
            },
            "type": "scatterpolargl"
           }
          ],
          "scatterternary": [
           {
            "marker": {
             "colorbar": {
              "outlinewidth": 0,
              "ticks": ""
             }
            },
            "type": "scatterternary"
           }
          ],
          "surface": [
           {
            "colorbar": {
             "outlinewidth": 0,
             "ticks": ""
            },
            "colorscale": [
             [
              0,
              "#0d0887"
             ],
             [
              0.1111111111111111,
              "#46039f"
             ],
             [
              0.2222222222222222,
              "#7201a8"
             ],
             [
              0.3333333333333333,
              "#9c179e"
             ],
             [
              0.4444444444444444,
              "#bd3786"
             ],
             [
              0.5555555555555556,
              "#d8576b"
             ],
             [
              0.6666666666666666,
              "#ed7953"
             ],
             [
              0.7777777777777778,
              "#fb9f3a"
             ],
             [
              0.8888888888888888,
              "#fdca26"
             ],
             [
              1,
              "#f0f921"
             ]
            ],
            "type": "surface"
           }
          ],
          "table": [
           {
            "cells": {
             "fill": {
              "color": "#EBF0F8"
             },
             "line": {
              "color": "white"
             }
            },
            "header": {
             "fill": {
              "color": "#C8D4E3"
             },
             "line": {
              "color": "white"
             }
            },
            "type": "table"
           }
          ]
         },
         "layout": {
          "annotationdefaults": {
           "arrowcolor": "#2a3f5f",
           "arrowhead": 0,
           "arrowwidth": 1
          },
          "autotypenumbers": "strict",
          "coloraxis": {
           "colorbar": {
            "outlinewidth": 0,
            "ticks": ""
           }
          },
          "colorscale": {
           "diverging": [
            [
             0,
             "#8e0152"
            ],
            [
             0.1,
             "#c51b7d"
            ],
            [
             0.2,
             "#de77ae"
            ],
            [
             0.3,
             "#f1b6da"
            ],
            [
             0.4,
             "#fde0ef"
            ],
            [
             0.5,
             "#f7f7f7"
            ],
            [
             0.6,
             "#e6f5d0"
            ],
            [
             0.7,
             "#b8e186"
            ],
            [
             0.8,
             "#7fbc41"
            ],
            [
             0.9,
             "#4d9221"
            ],
            [
             1,
             "#276419"
            ]
           ],
           "sequential": [
            [
             0,
             "#0d0887"
            ],
            [
             0.1111111111111111,
             "#46039f"
            ],
            [
             0.2222222222222222,
             "#7201a8"
            ],
            [
             0.3333333333333333,
             "#9c179e"
            ],
            [
             0.4444444444444444,
             "#bd3786"
            ],
            [
             0.5555555555555556,
             "#d8576b"
            ],
            [
             0.6666666666666666,
             "#ed7953"
            ],
            [
             0.7777777777777778,
             "#fb9f3a"
            ],
            [
             0.8888888888888888,
             "#fdca26"
            ],
            [
             1,
             "#f0f921"
            ]
           ],
           "sequentialminus": [
            [
             0,
             "#0d0887"
            ],
            [
             0.1111111111111111,
             "#46039f"
            ],
            [
             0.2222222222222222,
             "#7201a8"
            ],
            [
             0.3333333333333333,
             "#9c179e"
            ],
            [
             0.4444444444444444,
             "#bd3786"
            ],
            [
             0.5555555555555556,
             "#d8576b"
            ],
            [
             0.6666666666666666,
             "#ed7953"
            ],
            [
             0.7777777777777778,
             "#fb9f3a"
            ],
            [
             0.8888888888888888,
             "#fdca26"
            ],
            [
             1,
             "#f0f921"
            ]
           ]
          },
          "colorway": [
           "#636efa",
           "#EF553B",
           "#00cc96",
           "#ab63fa",
           "#FFA15A",
           "#19d3f3",
           "#FF6692",
           "#B6E880",
           "#FF97FF",
           "#FECB52"
          ],
          "font": {
           "color": "#2a3f5f"
          },
          "geo": {
           "bgcolor": "white",
           "lakecolor": "white",
           "landcolor": "#E5ECF6",
           "showlakes": true,
           "showland": true,
           "subunitcolor": "white"
          },
          "hoverlabel": {
           "align": "left"
          },
          "hovermode": "closest",
          "mapbox": {
           "style": "light"
          },
          "paper_bgcolor": "white",
          "plot_bgcolor": "#E5ECF6",
          "polar": {
           "angularaxis": {
            "gridcolor": "white",
            "linecolor": "white",
            "ticks": ""
           },
           "bgcolor": "#E5ECF6",
           "radialaxis": {
            "gridcolor": "white",
            "linecolor": "white",
            "ticks": ""
           }
          },
          "scene": {
           "xaxis": {
            "backgroundcolor": "#E5ECF6",
            "gridcolor": "white",
            "gridwidth": 2,
            "linecolor": "white",
            "showbackground": true,
            "ticks": "",
            "zerolinecolor": "white"
           },
           "yaxis": {
            "backgroundcolor": "#E5ECF6",
            "gridcolor": "white",
            "gridwidth": 2,
            "linecolor": "white",
            "showbackground": true,
            "ticks": "",
            "zerolinecolor": "white"
           },
           "zaxis": {
            "backgroundcolor": "#E5ECF6",
            "gridcolor": "white",
            "gridwidth": 2,
            "linecolor": "white",
            "showbackground": true,
            "ticks": "",
            "zerolinecolor": "white"
           }
          },
          "shapedefaults": {
           "line": {
            "color": "#2a3f5f"
           }
          },
          "ternary": {
           "aaxis": {
            "gridcolor": "white",
            "linecolor": "white",
            "ticks": ""
           },
           "baxis": {
            "gridcolor": "white",
            "linecolor": "white",
            "ticks": ""
           },
           "bgcolor": "#E5ECF6",
           "caxis": {
            "gridcolor": "white",
            "linecolor": "white",
            "ticks": ""
           }
          },
          "title": {
           "x": 0.05
          },
          "xaxis": {
           "automargin": true,
           "gridcolor": "white",
           "linecolor": "white",
           "ticks": "",
           "title": {
            "standoff": 15
           },
           "zerolinecolor": "white",
           "zerolinewidth": 2
          },
          "yaxis": {
           "automargin": true,
           "gridcolor": "white",
           "linecolor": "white",
           "ticks": "",
           "title": {
            "standoff": 15
           },
           "zerolinecolor": "white",
           "zerolinewidth": 2
          }
         }
        },
        "width": 600,
        "xaxis": {
         "anchor": "y",
         "domain": [
          0,
          1
         ],
         "title": {
          "text": "Speed"
         }
        },
        "yaxis": {
         "anchor": "x",
         "domain": [
          0,
          1
         ],
         "title": {
          "text": "HP"
         }
        }
       }
      }
     },
     "metadata": {},
     "output_type": "display_data"
    }
   ],
   "source": [
    "px.scatter(df,x='Speed',y='HP',color='isLegendary',height=500,width=600)"
   ]
  },
  {
   "cell_type": "code",
   "execution_count": 19,
   "metadata": {},
   "outputs": [
    {
     "data": {
      "application/vnd.plotly.v1+json": {
       "config": {
        "plotlyServerURL": "https://plot.ly"
       },
       "data": [
        {
         "hovertemplate": "isLegendary=False<br>Speed=%{x}<br>HP=%{y}<br>Defense=%{marker.size}<extra></extra>",
         "legendgroup": "False",
         "marker": {
          "color": "#636efa",
          "size": [
           49,
           63,
           83,
           43,
           58,
           78,
           65,
           80,
           100,
           35,
           55,
           50,
           30,
           50,
           40,
           40,
           55,
           75,
           35,
           60,
           30,
           65,
           44,
           69,
           40,
           55,
           85,
           110,
           52,
           67,
           87,
           40,
           57,
           77,
           48,
           73,
           40,
           75,
           20,
           45,
           35,
           70,
           55,
           70,
           85,
           55,
           80,
           50,
           60,
           25,
           50,
           35,
           60,
           48,
           78,
           35,
           60,
           45,
           80,
           40,
           65,
           95,
           15,
           30,
           45,
           50,
           70,
           80,
           35,
           50,
           65,
           35,
           65,
           100,
           115,
           130,
           55,
           70,
           65,
           110,
           70,
           95,
           55,
           45,
           70,
           55,
           80,
           50,
           75,
           100,
           180,
           30,
           45,
           60,
           160,
           45,
           70,
           90,
           115,
           50,
           70,
           80,
           85,
           95,
           110,
           53,
           79,
           75,
           95,
           120,
           95,
           120,
           5,
           115,
           80,
           70,
           95,
           60,
           65,
           55,
           85,
           65,
           80,
           35,
           57,
           57,
           100,
           95,
           55,
           79,
           80,
           48,
           50,
           60,
           60,
           60,
           70,
           100,
           125,
           90,
           105,
           65,
           65,
           45,
           65,
           95,
           100,
           65,
           80,
           100,
           43,
           58,
           78,
           64,
           80,
           100,
           34,
           64,
           30,
           50,
           30,
           50,
           40,
           70,
           80,
           38,
           58,
           15,
           28,
           15,
           65,
           85,
           45,
           70,
           40,
           55,
           85,
           95,
           50,
           80,
           115,
           75,
           40,
           50,
           70,
           55,
           30,
           55,
           45,
           45,
           85,
           60,
           110,
           42,
           80,
           60,
           48,
           58,
           65,
           90,
           140,
           70,
           105,
           200,
           50,
           75,
           75,
           100,
           230,
           75,
           55,
           50,
           75,
           40,
           120,
           40,
           80,
           85,
           35,
           75,
           45,
           70,
           140,
           30,
           50,
           95,
           60,
           120,
           90,
           62,
           35,
           35,
           95,
           15,
           37,
           37,
           105,
           10,
           50,
           70,
           110,
           100,
           35,
           45,
           65,
           40,
           60,
           70,
           50,
           70,
           90,
           35,
           70,
           41,
           61,
           35,
           55,
           50,
           55,
           70,
           30,
           50,
           70,
           50,
           40,
           60,
           30,
           60,
           30,
           100,
           25,
           35,
           65,
           32,
           62,
           60,
           80,
           60,
           80,
           100,
           90,
           45,
           45,
           23,
           43,
           63,
           30,
           60,
           40,
           135,
           45,
           65,
           75,
           85,
           100,
           140,
           180,
           55,
           75,
           40,
           60,
           40,
           50,
           55,
           55,
           45,
           53,
           83,
           20,
           40,
           35,
           45,
           40,
           70,
           140,
           35,
           65,
           60,
           45,
           50,
           80,
           40,
           60,
           60,
           90,
           60,
           60,
           65,
           85,
           43,
           73,
           65,
           85,
           55,
           105,
           77,
           97,
           50,
           100,
           20,
           79,
           70,
           70,
           35,
           65,
           90,
           130,
           83,
           70,
           60,
           48,
           50,
           80,
           50,
           70,
           90,
           85,
           105,
           105,
           130,
           55,
           60,
           100,
           80,
           80,
           100,
           130,
           64,
           85,
           105,
           44,
           52,
           71,
           53,
           68,
           88,
           30,
           50,
           70,
           40,
           60,
           41,
           51,
           34,
           49,
           79,
           35,
           65,
           40,
           60,
           118,
           168,
           45,
           85,
           50,
           42,
           102,
           70,
           35,
           55,
           45,
           70,
           48,
           68,
           66,
           34,
           44,
           44,
           84,
           60,
           52,
           42,
           64,
           50,
           47,
           67,
           86,
           116,
           95,
           45,
           5,
           45,
           108,
           45,
           65,
           95,
           40,
           40,
           70,
           78,
           118,
           90,
           110,
           40,
           65,
           72,
           56,
           76,
           50,
           50,
           75,
           65,
           115,
           95,
           130,
           125,
           67,
           67,
           95,
           86,
           130,
           110,
           125,
           80,
           70,
           65,
           145,
           135,
           70,
           77,
           120,
           80,
           100,
           55,
           75,
           95,
           45,
           55,
           65,
           45,
           60,
           85,
           39,
           69,
           45,
           65,
           90,
           37,
           50,
           48,
           63,
           48,
           63,
           48,
           63,
           45,
           85,
           50,
           62,
           80,
           32,
           63,
           85,
           105,
           130,
           43,
           55,
           40,
           60,
           86,
           55,
           85,
           95,
           40,
           55,
           75,
           85,
           75,
           70,
           90,
           80,
           59,
           99,
           89,
           60,
           85,
           50,
           75,
           65,
           35,
           45,
           80,
           45,
           55,
           67,
           85,
           125,
           70,
           115,
           80,
           85,
           145,
           103,
           133,
           45,
           65,
           62,
           82,
           40,
           60,
           40,
           60,
           50,
           70,
           95,
           40,
           50,
           75,
           50,
           63,
           50,
           65,
           85,
           50,
           70,
           60,
           45,
           105,
           45,
           70,
           50,
           70,
           80,
           50,
           60,
           91,
           131,
           70,
           95,
           115,
           40,
           70,
           80,
           55,
           75,
           55,
           60,
           90,
           60,
           70,
           90,
           40,
           80,
           30,
           85,
           40,
           84,
           50,
           60,
           90,
           50,
           80,
           70,
           100,
           95,
           50,
           75,
           75,
           105,
           66,
           112,
           50,
           70,
           90,
           55,
           65,
           90,
           77,
           95,
           65,
           95,
           122,
           40,
           58,
           72,
           40,
           52,
           67,
           38,
           77,
           43,
           55,
           71,
           40,
           60,
           50,
           58,
           72,
           39,
           47,
           68,
           48,
           62,
           62,
           78,
           60,
           54,
           76,
           100,
           150,
           150,
           60,
           72,
           66,
           86,
           53,
           88,
           67,
           115,
           60,
           90,
           62,
           88,
           33,
           52,
           77,
           119,
           50,
           72,
           65,
           75,
           57,
           150,
           35,
           53,
           70,
           91,
           48,
           76,
           70,
           122,
           85,
           184,
           35,
           80
          ],
          "sizemode": "area",
          "sizeref": 0.575,
          "symbol": "circle"
         },
         "mode": "markers",
         "name": "False",
         "orientation": "v",
         "showlegend": true,
         "type": "scatter",
         "x": [
          45,
          60,
          80,
          65,
          80,
          100,
          43,
          58,
          78,
          45,
          30,
          70,
          50,
          35,
          75,
          56,
          71,
          101,
          72,
          97,
          70,
          100,
          55,
          80,
          90,
          110,
          40,
          65,
          41,
          56,
          76,
          50,
          65,
          85,
          35,
          60,
          65,
          100,
          20,
          45,
          55,
          90,
          30,
          40,
          50,
          25,
          30,
          45,
          90,
          95,
          120,
          90,
          115,
          55,
          85,
          70,
          95,
          60,
          95,
          90,
          90,
          70,
          90,
          105,
          120,
          35,
          45,
          55,
          40,
          55,
          70,
          70,
          100,
          20,
          35,
          45,
          90,
          105,
          15,
          30,
          45,
          70,
          60,
          75,
          100,
          45,
          70,
          25,
          50,
          40,
          70,
          80,
          95,
          110,
          70,
          42,
          67,
          50,
          75,
          100,
          140,
          40,
          55,
          35,
          45,
          87,
          76,
          30,
          35,
          60,
          25,
          40,
          50,
          60,
          90,
          60,
          85,
          63,
          68,
          85,
          115,
          90,
          105,
          95,
          105,
          93,
          85,
          110,
          80,
          81,
          60,
          48,
          55,
          65,
          130,
          65,
          40,
          35,
          55,
          55,
          80,
          130,
          30,
          50,
          70,
          80,
          100,
          45,
          60,
          80,
          65,
          80,
          100,
          43,
          58,
          78,
          20,
          90,
          50,
          70,
          55,
          85,
          30,
          40,
          130,
          67,
          67,
          60,
          15,
          15,
          20,
          40,
          70,
          95,
          35,
          45,
          55,
          50,
          40,
          50,
          30,
          70,
          50,
          80,
          110,
          85,
          30,
          30,
          95,
          15,
          35,
          110,
          65,
          91,
          30,
          85,
          48,
          33,
          85,
          15,
          40,
          45,
          85,
          30,
          30,
          45,
          85,
          65,
          5,
          85,
          115,
          40,
          55,
          20,
          30,
          50,
          50,
          35,
          65,
          45,
          75,
          70,
          70,
          65,
          95,
          85,
          40,
          50,
          60,
          85,
          75,
          35,
          70,
          65,
          95,
          83,
          100,
          55,
          41,
          51,
          61,
          100,
          70,
          95,
          120,
          45,
          55,
          80,
          40,
          50,
          60,
          35,
          70,
          60,
          100,
          20,
          15,
          65,
          15,
          65,
          30,
          50,
          70,
          30,
          60,
          80,
          85,
          125,
          85,
          65,
          40,
          50,
          80,
          65,
          60,
          35,
          70,
          30,
          90,
          100,
          40,
          160,
          40,
          28,
          48,
          68,
          25,
          50,
          20,
          30,
          50,
          70,
          50,
          50,
          30,
          40,
          50,
          60,
          80,
          65,
          105,
          95,
          95,
          85,
          85,
          65,
          40,
          55,
          65,
          95,
          60,
          60,
          35,
          40,
          20,
          60,
          80,
          60,
          10,
          70,
          100,
          35,
          55,
          50,
          80,
          90,
          65,
          70,
          70,
          60,
          60,
          35,
          55,
          55,
          75,
          23,
          43,
          75,
          45,
          80,
          81,
          70,
          40,
          45,
          65,
          25,
          25,
          51,
          65,
          75,
          23,
          50,
          80,
          25,
          45,
          65,
          32,
          52,
          52,
          55,
          97,
          50,
          50,
          100,
          30,
          50,
          70,
          31,
          36,
          56,
          61,
          81,
          108,
          40,
          50,
          60,
          60,
          80,
          100,
          31,
          71,
          25,
          65,
          45,
          60,
          70,
          55,
          90,
          58,
          58,
          30,
          30,
          36,
          36,
          66,
          70,
          40,
          95,
          85,
          115,
          35,
          85,
          34,
          39,
          115,
          70,
          80,
          85,
          105,
          105,
          71,
          85,
          112,
          45,
          74,
          84,
          23,
          33,
          10,
          60,
          30,
          91,
          35,
          42,
          82,
          102,
          5,
          60,
          90,
          32,
          47,
          65,
          95,
          50,
          85,
          46,
          66,
          91,
          50,
          40,
          60,
          125,
          60,
          50,
          40,
          50,
          95,
          83,
          80,
          95,
          95,
          65,
          95,
          80,
          90,
          80,
          40,
          45,
          110,
          91,
          85,
          80,
          100,
          63,
          83,
          113,
          45,
          55,
          65,
          45,
          60,
          70,
          42,
          77,
          55,
          60,
          80,
          66,
          106,
          64,
          101,
          64,
          101,
          64,
          101,
          24,
          29,
          43,
          65,
          93,
          76,
          116,
          15,
          20,
          25,
          72,
          114,
          68,
          88,
          50,
          35,
          40,
          45,
          64,
          69,
          74,
          45,
          85,
          42,
          42,
          92,
          57,
          47,
          112,
          66,
          116,
          30,
          90,
          98,
          65,
          74,
          92,
          50,
          95,
          60,
          55,
          45,
          48,
          58,
          97,
          30,
          30,
          22,
          32,
          70,
          110,
          65,
          75,
          65,
          105,
          75,
          115,
          45,
          55,
          65,
          20,
          30,
          30,
          55,
          98,
          44,
          59,
          79,
          75,
          95,
          103,
          60,
          20,
          15,
          30,
          40,
          60,
          65,
          65,
          108,
          10,
          20,
          30,
          50,
          90,
          60,
          40,
          50,
          30,
          40,
          20,
          55,
          80,
          57,
          67,
          97,
          40,
          50,
          105,
          25,
          145,
          32,
          65,
          105,
          48,
          35,
          55,
          60,
          70,
          55,
          60,
          80,
          60,
          80,
          65,
          109,
          38,
          58,
          98,
          60,
          100,
          108,
          90,
          99,
          38,
          57,
          64,
          60,
          73,
          104,
          71,
          97,
          122,
          57,
          78,
          62,
          84,
          126,
          35,
          29,
          89,
          72,
          106,
          42,
          52,
          75,
          52,
          68,
          43,
          58,
          102,
          68,
          104,
          28,
          35,
          60,
          23,
          29,
          49,
          72,
          45,
          73,
          50,
          68,
          30,
          44,
          44,
          59,
          70,
          109,
          48,
          71,
          46,
          58,
          60,
          118,
          101,
          50,
          40,
          60,
          80,
          75,
          38,
          56,
          51,
          84,
          28,
          28,
          55,
          123
         ],
         "xaxis": "x",
         "y": [
          45,
          60,
          80,
          39,
          58,
          78,
          44,
          59,
          79,
          45,
          50,
          60,
          40,
          45,
          65,
          40,
          63,
          83,
          30,
          55,
          40,
          65,
          35,
          60,
          35,
          60,
          50,
          75,
          55,
          70,
          90,
          46,
          61,
          81,
          70,
          95,
          38,
          73,
          115,
          140,
          40,
          75,
          45,
          60,
          75,
          35,
          60,
          60,
          70,
          10,
          35,
          40,
          65,
          50,
          80,
          40,
          65,
          55,
          90,
          40,
          65,
          90,
          25,
          40,
          55,
          70,
          80,
          90,
          50,
          65,
          80,
          40,
          80,
          40,
          55,
          80,
          50,
          65,
          90,
          95,
          25,
          50,
          52,
          35,
          60,
          65,
          90,
          80,
          105,
          30,
          50,
          30,
          45,
          60,
          35,
          60,
          85,
          30,
          55,
          40,
          60,
          60,
          95,
          50,
          60,
          50,
          50,
          90,
          40,
          65,
          80,
          105,
          250,
          65,
          105,
          30,
          55,
          45,
          80,
          30,
          60,
          40,
          70,
          65,
          65,
          65,
          65,
          75,
          20,
          95,
          130,
          48,
          55,
          130,
          65,
          65,
          65,
          35,
          70,
          30,
          60,
          80,
          160,
          41,
          61,
          91,
          100,
          45,
          60,
          80,
          39,
          58,
          78,
          50,
          65,
          85,
          35,
          85,
          60,
          100,
          40,
          55,
          40,
          70,
          85,
          75,
          125,
          20,
          50,
          90,
          35,
          55,
          40,
          65,
          55,
          70,
          90,
          75,
          70,
          100,
          70,
          90,
          35,
          55,
          75,
          55,
          30,
          75,
          65,
          55,
          95,
          65,
          95,
          60,
          95,
          60,
          48,
          190,
          70,
          50,
          75,
          100,
          65,
          75,
          60,
          90,
          65,
          70,
          20,
          80,
          55,
          60,
          90,
          40,
          50,
          50,
          100,
          55,
          35,
          75,
          45,
          65,
          65,
          45,
          75,
          75,
          90,
          90,
          85,
          73,
          55,
          35,
          50,
          45,
          45,
          45,
          95,
          255,
          50,
          70,
          100,
          100,
          40,
          50,
          70,
          45,
          60,
          80,
          50,
          70,
          100,
          35,
          70,
          38,
          78,
          45,
          50,
          60,
          50,
          60,
          40,
          60,
          80,
          40,
          70,
          90,
          40,
          60,
          40,
          60,
          28,
          38,
          68,
          40,
          70,
          60,
          60,
          60,
          80,
          150,
          31,
          61,
          1,
          64,
          84,
          104,
          72,
          144,
          50,
          30,
          50,
          70,
          50,
          50,
          50,
          60,
          70,
          30,
          60,
          40,
          70,
          60,
          60,
          65,
          65,
          50,
          70,
          100,
          45,
          70,
          130,
          170,
          60,
          70,
          70,
          60,
          80,
          60,
          45,
          50,
          80,
          50,
          70,
          45,
          75,
          73,
          73,
          70,
          70,
          50,
          110,
          43,
          63,
          40,
          60,
          66,
          86,
          45,
          75,
          20,
          95,
          70,
          60,
          44,
          64,
          20,
          40,
          99,
          65,
          65,
          95,
          50,
          80,
          70,
          90,
          110,
          35,
          55,
          55,
          100,
          43,
          45,
          65,
          95,
          40,
          60,
          80,
          55,
          75,
          95,
          44,
          64,
          76,
          53,
          64,
          84,
          40,
          55,
          85,
          59,
          79,
          37,
          77,
          45,
          60,
          80,
          40,
          60,
          67,
          97,
          30,
          60,
          40,
          60,
          70,
          30,
          70,
          60,
          55,
          85,
          45,
          70,
          76,
          111,
          75,
          90,
          150,
          55,
          65,
          60,
          100,
          49,
          71,
          45,
          63,
          103,
          57,
          67,
          50,
          20,
          100,
          76,
          50,
          58,
          68,
          108,
          135,
          40,
          70,
          68,
          108,
          40,
          70,
          48,
          83,
          74,
          49,
          69,
          45,
          60,
          90,
          70,
          70,
          110,
          115,
          100,
          75,
          75,
          85,
          86,
          65,
          65,
          75,
          110,
          85,
          68,
          60,
          45,
          70,
          50,
          120,
          80,
          100,
          45,
          60,
          75,
          65,
          90,
          110,
          55,
          75,
          95,
          45,
          60,
          45,
          65,
          85,
          41,
          64,
          50,
          75,
          50,
          75,
          50,
          75,
          76,
          116,
          50,
          62,
          80,
          45,
          75,
          55,
          70,
          85,
          55,
          67,
          60,
          110,
          103,
          75,
          85,
          105,
          50,
          75,
          105,
          120,
          75,
          45,
          55,
          75,
          30,
          40,
          60,
          40,
          60,
          45,
          70,
          70,
          50,
          60,
          95,
          70,
          105,
          75,
          50,
          70,
          50,
          65,
          72,
          38,
          58,
          54,
          74,
          55,
          75,
          50,
          80,
          40,
          60,
          55,
          75,
          45,
          60,
          70,
          45,
          65,
          110,
          62,
          75,
          36,
          51,
          71,
          60,
          80,
          55,
          50,
          70,
          69,
          114,
          55,
          100,
          165,
          50,
          70,
          44,
          74,
          40,
          60,
          60,
          35,
          65,
          85,
          55,
          75,
          50,
          60,
          60,
          46,
          66,
          76,
          55,
          95,
          70,
          50,
          80,
          109,
          45,
          65,
          77,
          59,
          89,
          45,
          65,
          95,
          70,
          100,
          70,
          110,
          85,
          58,
          52,
          72,
          92,
          55,
          85,
          91,
          100,
          71,
          56,
          61,
          88,
          40,
          59,
          75,
          41,
          54,
          72,
          38,
          85,
          45,
          62,
          78,
          38,
          45,
          80,
          62,
          86,
          44,
          54,
          78,
          66,
          123,
          67,
          95,
          75,
          62,
          74,
          45,
          59,
          60,
          78,
          101,
          62,
          82,
          53,
          86,
          42,
          72,
          50,
          65,
          50,
          71,
          44,
          62,
          58,
          82,
          77,
          123,
          95,
          78,
          67,
          50,
          45,
          68,
          90,
          57,
          43,
          85,
          49,
          65,
          55,
          95,
          40,
          85
         ],
         "yaxis": "y"
        },
        {
         "hovertemplate": "isLegendary=True<br>Speed=%{x}<br>HP=%{y}<br>Defense=%{marker.size}<extra></extra>",
         "legendgroup": "True",
         "marker": {
          "color": "#EF553B",
          "size": [
           100,
           85,
           90,
           90,
           75,
           85,
           115,
           130,
           90,
           200,
           100,
           150,
           90,
           80,
           90,
           140,
           90,
           100,
           50,
           130,
           105,
           70,
           120,
           100,
           106,
           110,
           100,
           90,
           100,
           120,
           100,
           129,
           90,
           72,
           70,
           70,
           100,
           120,
           90,
           90,
           95,
           95,
           121,
           150,
           60,
           120
          ],
          "sizemode": "area",
          "sizeref": 0.575,
          "symbol": "circle"
         },
         "mode": "markers",
         "name": "True",
         "orientation": "v",
         "showlegend": true,
         "type": "scatter",
         "x": [
          85,
          100,
          90,
          130,
          115,
          100,
          85,
          110,
          90,
          50,
          50,
          50,
          110,
          110,
          90,
          90,
          95,
          100,
          150,
          95,
          80,
          115,
          90,
          100,
          77,
          100,
          90,
          125,
          100,
          120,
          100,
          108,
          108,
          108,
          111,
          111,
          90,
          90,
          101,
          95,
          99,
          99,
          95,
          50,
          70,
          70
         ],
         "xaxis": "x",
         "y": [
          90,
          90,
          90,
          106,
          90,
          115,
          100,
          106,
          106,
          80,
          80,
          80,
          80,
          80,
          100,
          100,
          105,
          100,
          50,
          75,
          80,
          75,
          100,
          90,
          91,
          110,
          150,
          70,
          100,
          120,
          100,
          91,
          91,
          91,
          79,
          79,
          100,
          100,
          89,
          125,
          126,
          126,
          108,
          50,
          80,
          80
         ],
         "yaxis": "y"
        }
       ],
       "layout": {
        "height": 500,
        "legend": {
         "itemsizing": "constant",
         "title": {
          "text": "isLegendary"
         },
         "tracegroupgap": 0
        },
        "margin": {
         "t": 60
        },
        "template": {
         "data": {
          "bar": [
           {
            "error_x": {
             "color": "#2a3f5f"
            },
            "error_y": {
             "color": "#2a3f5f"
            },
            "marker": {
             "line": {
              "color": "#E5ECF6",
              "width": 0.5
             },
             "pattern": {
              "fillmode": "overlay",
              "size": 10,
              "solidity": 0.2
             }
            },
            "type": "bar"
           }
          ],
          "barpolar": [
           {
            "marker": {
             "line": {
              "color": "#E5ECF6",
              "width": 0.5
             },
             "pattern": {
              "fillmode": "overlay",
              "size": 10,
              "solidity": 0.2
             }
            },
            "type": "barpolar"
           }
          ],
          "carpet": [
           {
            "aaxis": {
             "endlinecolor": "#2a3f5f",
             "gridcolor": "white",
             "linecolor": "white",
             "minorgridcolor": "white",
             "startlinecolor": "#2a3f5f"
            },
            "baxis": {
             "endlinecolor": "#2a3f5f",
             "gridcolor": "white",
             "linecolor": "white",
             "minorgridcolor": "white",
             "startlinecolor": "#2a3f5f"
            },
            "type": "carpet"
           }
          ],
          "choropleth": [
           {
            "colorbar": {
             "outlinewidth": 0,
             "ticks": ""
            },
            "type": "choropleth"
           }
          ],
          "contour": [
           {
            "colorbar": {
             "outlinewidth": 0,
             "ticks": ""
            },
            "colorscale": [
             [
              0,
              "#0d0887"
             ],
             [
              0.1111111111111111,
              "#46039f"
             ],
             [
              0.2222222222222222,
              "#7201a8"
             ],
             [
              0.3333333333333333,
              "#9c179e"
             ],
             [
              0.4444444444444444,
              "#bd3786"
             ],
             [
              0.5555555555555556,
              "#d8576b"
             ],
             [
              0.6666666666666666,
              "#ed7953"
             ],
             [
              0.7777777777777778,
              "#fb9f3a"
             ],
             [
              0.8888888888888888,
              "#fdca26"
             ],
             [
              1,
              "#f0f921"
             ]
            ],
            "type": "contour"
           }
          ],
          "contourcarpet": [
           {
            "colorbar": {
             "outlinewidth": 0,
             "ticks": ""
            },
            "type": "contourcarpet"
           }
          ],
          "heatmap": [
           {
            "colorbar": {
             "outlinewidth": 0,
             "ticks": ""
            },
            "colorscale": [
             [
              0,
              "#0d0887"
             ],
             [
              0.1111111111111111,
              "#46039f"
             ],
             [
              0.2222222222222222,
              "#7201a8"
             ],
             [
              0.3333333333333333,
              "#9c179e"
             ],
             [
              0.4444444444444444,
              "#bd3786"
             ],
             [
              0.5555555555555556,
              "#d8576b"
             ],
             [
              0.6666666666666666,
              "#ed7953"
             ],
             [
              0.7777777777777778,
              "#fb9f3a"
             ],
             [
              0.8888888888888888,
              "#fdca26"
             ],
             [
              1,
              "#f0f921"
             ]
            ],
            "type": "heatmap"
           }
          ],
          "heatmapgl": [
           {
            "colorbar": {
             "outlinewidth": 0,
             "ticks": ""
            },
            "colorscale": [
             [
              0,
              "#0d0887"
             ],
             [
              0.1111111111111111,
              "#46039f"
             ],
             [
              0.2222222222222222,
              "#7201a8"
             ],
             [
              0.3333333333333333,
              "#9c179e"
             ],
             [
              0.4444444444444444,
              "#bd3786"
             ],
             [
              0.5555555555555556,
              "#d8576b"
             ],
             [
              0.6666666666666666,
              "#ed7953"
             ],
             [
              0.7777777777777778,
              "#fb9f3a"
             ],
             [
              0.8888888888888888,
              "#fdca26"
             ],
             [
              1,
              "#f0f921"
             ]
            ],
            "type": "heatmapgl"
           }
          ],
          "histogram": [
           {
            "marker": {
             "pattern": {
              "fillmode": "overlay",
              "size": 10,
              "solidity": 0.2
             }
            },
            "type": "histogram"
           }
          ],
          "histogram2d": [
           {
            "colorbar": {
             "outlinewidth": 0,
             "ticks": ""
            },
            "colorscale": [
             [
              0,
              "#0d0887"
             ],
             [
              0.1111111111111111,
              "#46039f"
             ],
             [
              0.2222222222222222,
              "#7201a8"
             ],
             [
              0.3333333333333333,
              "#9c179e"
             ],
             [
              0.4444444444444444,
              "#bd3786"
             ],
             [
              0.5555555555555556,
              "#d8576b"
             ],
             [
              0.6666666666666666,
              "#ed7953"
             ],
             [
              0.7777777777777778,
              "#fb9f3a"
             ],
             [
              0.8888888888888888,
              "#fdca26"
             ],
             [
              1,
              "#f0f921"
             ]
            ],
            "type": "histogram2d"
           }
          ],
          "histogram2dcontour": [
           {
            "colorbar": {
             "outlinewidth": 0,
             "ticks": ""
            },
            "colorscale": [
             [
              0,
              "#0d0887"
             ],
             [
              0.1111111111111111,
              "#46039f"
             ],
             [
              0.2222222222222222,
              "#7201a8"
             ],
             [
              0.3333333333333333,
              "#9c179e"
             ],
             [
              0.4444444444444444,
              "#bd3786"
             ],
             [
              0.5555555555555556,
              "#d8576b"
             ],
             [
              0.6666666666666666,
              "#ed7953"
             ],
             [
              0.7777777777777778,
              "#fb9f3a"
             ],
             [
              0.8888888888888888,
              "#fdca26"
             ],
             [
              1,
              "#f0f921"
             ]
            ],
            "type": "histogram2dcontour"
           }
          ],
          "mesh3d": [
           {
            "colorbar": {
             "outlinewidth": 0,
             "ticks": ""
            },
            "type": "mesh3d"
           }
          ],
          "parcoords": [
           {
            "line": {
             "colorbar": {
              "outlinewidth": 0,
              "ticks": ""
             }
            },
            "type": "parcoords"
           }
          ],
          "pie": [
           {
            "automargin": true,
            "type": "pie"
           }
          ],
          "scatter": [
           {
            "marker": {
             "colorbar": {
              "outlinewidth": 0,
              "ticks": ""
             }
            },
            "type": "scatter"
           }
          ],
          "scatter3d": [
           {
            "line": {
             "colorbar": {
              "outlinewidth": 0,
              "ticks": ""
             }
            },
            "marker": {
             "colorbar": {
              "outlinewidth": 0,
              "ticks": ""
             }
            },
            "type": "scatter3d"
           }
          ],
          "scattercarpet": [
           {
            "marker": {
             "colorbar": {
              "outlinewidth": 0,
              "ticks": ""
             }
            },
            "type": "scattercarpet"
           }
          ],
          "scattergeo": [
           {
            "marker": {
             "colorbar": {
              "outlinewidth": 0,
              "ticks": ""
             }
            },
            "type": "scattergeo"
           }
          ],
          "scattergl": [
           {
            "marker": {
             "colorbar": {
              "outlinewidth": 0,
              "ticks": ""
             }
            },
            "type": "scattergl"
           }
          ],
          "scattermapbox": [
           {
            "marker": {
             "colorbar": {
              "outlinewidth": 0,
              "ticks": ""
             }
            },
            "type": "scattermapbox"
           }
          ],
          "scatterpolar": [
           {
            "marker": {
             "colorbar": {
              "outlinewidth": 0,
              "ticks": ""
             }
            },
            "type": "scatterpolar"
           }
          ],
          "scatterpolargl": [
           {
            "marker": {
             "colorbar": {
              "outlinewidth": 0,
              "ticks": ""
             }
            },
            "type": "scatterpolargl"
           }
          ],
          "scatterternary": [
           {
            "marker": {
             "colorbar": {
              "outlinewidth": 0,
              "ticks": ""
             }
            },
            "type": "scatterternary"
           }
          ],
          "surface": [
           {
            "colorbar": {
             "outlinewidth": 0,
             "ticks": ""
            },
            "colorscale": [
             [
              0,
              "#0d0887"
             ],
             [
              0.1111111111111111,
              "#46039f"
             ],
             [
              0.2222222222222222,
              "#7201a8"
             ],
             [
              0.3333333333333333,
              "#9c179e"
             ],
             [
              0.4444444444444444,
              "#bd3786"
             ],
             [
              0.5555555555555556,
              "#d8576b"
             ],
             [
              0.6666666666666666,
              "#ed7953"
             ],
             [
              0.7777777777777778,
              "#fb9f3a"
             ],
             [
              0.8888888888888888,
              "#fdca26"
             ],
             [
              1,
              "#f0f921"
             ]
            ],
            "type": "surface"
           }
          ],
          "table": [
           {
            "cells": {
             "fill": {
              "color": "#EBF0F8"
             },
             "line": {
              "color": "white"
             }
            },
            "header": {
             "fill": {
              "color": "#C8D4E3"
             },
             "line": {
              "color": "white"
             }
            },
            "type": "table"
           }
          ]
         },
         "layout": {
          "annotationdefaults": {
           "arrowcolor": "#2a3f5f",
           "arrowhead": 0,
           "arrowwidth": 1
          },
          "autotypenumbers": "strict",
          "coloraxis": {
           "colorbar": {
            "outlinewidth": 0,
            "ticks": ""
           }
          },
          "colorscale": {
           "diverging": [
            [
             0,
             "#8e0152"
            ],
            [
             0.1,
             "#c51b7d"
            ],
            [
             0.2,
             "#de77ae"
            ],
            [
             0.3,
             "#f1b6da"
            ],
            [
             0.4,
             "#fde0ef"
            ],
            [
             0.5,
             "#f7f7f7"
            ],
            [
             0.6,
             "#e6f5d0"
            ],
            [
             0.7,
             "#b8e186"
            ],
            [
             0.8,
             "#7fbc41"
            ],
            [
             0.9,
             "#4d9221"
            ],
            [
             1,
             "#276419"
            ]
           ],
           "sequential": [
            [
             0,
             "#0d0887"
            ],
            [
             0.1111111111111111,
             "#46039f"
            ],
            [
             0.2222222222222222,
             "#7201a8"
            ],
            [
             0.3333333333333333,
             "#9c179e"
            ],
            [
             0.4444444444444444,
             "#bd3786"
            ],
            [
             0.5555555555555556,
             "#d8576b"
            ],
            [
             0.6666666666666666,
             "#ed7953"
            ],
            [
             0.7777777777777778,
             "#fb9f3a"
            ],
            [
             0.8888888888888888,
             "#fdca26"
            ],
            [
             1,
             "#f0f921"
            ]
           ],
           "sequentialminus": [
            [
             0,
             "#0d0887"
            ],
            [
             0.1111111111111111,
             "#46039f"
            ],
            [
             0.2222222222222222,
             "#7201a8"
            ],
            [
             0.3333333333333333,
             "#9c179e"
            ],
            [
             0.4444444444444444,
             "#bd3786"
            ],
            [
             0.5555555555555556,
             "#d8576b"
            ],
            [
             0.6666666666666666,
             "#ed7953"
            ],
            [
             0.7777777777777778,
             "#fb9f3a"
            ],
            [
             0.8888888888888888,
             "#fdca26"
            ],
            [
             1,
             "#f0f921"
            ]
           ]
          },
          "colorway": [
           "#636efa",
           "#EF553B",
           "#00cc96",
           "#ab63fa",
           "#FFA15A",
           "#19d3f3",
           "#FF6692",
           "#B6E880",
           "#FF97FF",
           "#FECB52"
          ],
          "font": {
           "color": "#2a3f5f"
          },
          "geo": {
           "bgcolor": "white",
           "lakecolor": "white",
           "landcolor": "#E5ECF6",
           "showlakes": true,
           "showland": true,
           "subunitcolor": "white"
          },
          "hoverlabel": {
           "align": "left"
          },
          "hovermode": "closest",
          "mapbox": {
           "style": "light"
          },
          "paper_bgcolor": "white",
          "plot_bgcolor": "#E5ECF6",
          "polar": {
           "angularaxis": {
            "gridcolor": "white",
            "linecolor": "white",
            "ticks": ""
           },
           "bgcolor": "#E5ECF6",
           "radialaxis": {
            "gridcolor": "white",
            "linecolor": "white",
            "ticks": ""
           }
          },
          "scene": {
           "xaxis": {
            "backgroundcolor": "#E5ECF6",
            "gridcolor": "white",
            "gridwidth": 2,
            "linecolor": "white",
            "showbackground": true,
            "ticks": "",
            "zerolinecolor": "white"
           },
           "yaxis": {
            "backgroundcolor": "#E5ECF6",
            "gridcolor": "white",
            "gridwidth": 2,
            "linecolor": "white",
            "showbackground": true,
            "ticks": "",
            "zerolinecolor": "white"
           },
           "zaxis": {
            "backgroundcolor": "#E5ECF6",
            "gridcolor": "white",
            "gridwidth": 2,
            "linecolor": "white",
            "showbackground": true,
            "ticks": "",
            "zerolinecolor": "white"
           }
          },
          "shapedefaults": {
           "line": {
            "color": "#2a3f5f"
           }
          },
          "ternary": {
           "aaxis": {
            "gridcolor": "white",
            "linecolor": "white",
            "ticks": ""
           },
           "baxis": {
            "gridcolor": "white",
            "linecolor": "white",
            "ticks": ""
           },
           "bgcolor": "#E5ECF6",
           "caxis": {
            "gridcolor": "white",
            "linecolor": "white",
            "ticks": ""
           }
          },
          "title": {
           "x": 0.05
          },
          "xaxis": {
           "automargin": true,
           "gridcolor": "white",
           "linecolor": "white",
           "ticks": "",
           "title": {
            "standoff": 15
           },
           "zerolinecolor": "white",
           "zerolinewidth": 2
          },
          "yaxis": {
           "automargin": true,
           "gridcolor": "white",
           "linecolor": "white",
           "ticks": "",
           "title": {
            "standoff": 15
           },
           "zerolinecolor": "white",
           "zerolinewidth": 2
          }
         }
        },
        "width": 600,
        "xaxis": {
         "anchor": "y",
         "domain": [
          0,
          1
         ],
         "title": {
          "text": "Speed"
         }
        },
        "yaxis": {
         "anchor": "x",
         "domain": [
          0,
          1
         ],
         "title": {
          "text": "HP"
         }
        }
       }
      }
     },
     "metadata": {},
     "output_type": "display_data"
    }
   ],
   "source": [
    "px.scatter(df,x='Speed',y='HP',color='isLegendary',height=500,width=600,size='Defense')"
   ]
  },
  {
   "cell_type": "code",
   "execution_count": 20,
   "metadata": {},
   "outputs": [
    {
     "data": {
      "application/vnd.plotly.v1+json": {
       "config": {
        "plotlyServerURL": "https://plot.ly"
       },
       "data": [
        {
         "customdata": [
          [
           "Bulbasaur"
          ],
          [
           "Ivysaur"
          ],
          [
           "Venusaur"
          ],
          [
           "Charmander"
          ],
          [
           "Charmeleon"
          ],
          [
           "Charizard"
          ],
          [
           "Squirtle"
          ],
          [
           "Wartortle"
          ],
          [
           "Blastoise"
          ],
          [
           "Caterpie"
          ],
          [
           "Metapod"
          ],
          [
           "Butterfree"
          ],
          [
           "Weedle"
          ],
          [
           "Kakuna"
          ],
          [
           "Beedrill"
          ],
          [
           "Pidgey"
          ],
          [
           "Pidgeotto"
          ],
          [
           "Pidgeot"
          ],
          [
           "Rattata"
          ],
          [
           "Raticate"
          ],
          [
           "Spearow"
          ],
          [
           "Fearow"
          ],
          [
           "Ekans"
          ],
          [
           "Arbok"
          ],
          [
           "Pikachu"
          ],
          [
           "Raichu"
          ],
          [
           "Sandshrew"
          ],
          [
           "Sandslash"
          ],
          [
           "Nidoran♀"
          ],
          [
           "Nidorina"
          ],
          [
           "Nidoqueen"
          ],
          [
           "Nidoran♂"
          ],
          [
           "Nidorino"
          ],
          [
           "Nidoking"
          ],
          [
           "Clefairy"
          ],
          [
           "Clefable"
          ],
          [
           "Vulpix"
          ],
          [
           "Ninetales"
          ],
          [
           "Jigglypuff"
          ],
          [
           "Wigglytuff"
          ],
          [
           "Zubat"
          ],
          [
           "Golbat"
          ],
          [
           "Oddish"
          ],
          [
           "Gloom"
          ],
          [
           "Vileplume"
          ],
          [
           "Paras"
          ],
          [
           "Parasect"
          ],
          [
           "Venonat"
          ],
          [
           "Venomoth"
          ],
          [
           "Diglett"
          ],
          [
           "Dugtrio"
          ],
          [
           "Meowth"
          ],
          [
           "Persian"
          ],
          [
           "Psyduck"
          ],
          [
           "Golduck"
          ],
          [
           "Mankey"
          ],
          [
           "Primeape"
          ],
          [
           "Growlithe"
          ],
          [
           "Arcanine"
          ],
          [
           "Poliwag"
          ],
          [
           "Poliwhirl"
          ],
          [
           "Poliwrath"
          ],
          [
           "Abra"
          ],
          [
           "Kadabra"
          ],
          [
           "Alakazam"
          ],
          [
           "Machop"
          ],
          [
           "Machoke"
          ],
          [
           "Machamp"
          ],
          [
           "Bellsprout"
          ],
          [
           "Weepinbell"
          ],
          [
           "Victreebel"
          ],
          [
           "Tentacool"
          ],
          [
           "Tentacruel"
          ],
          [
           "Geodude"
          ],
          [
           "Graveler"
          ],
          [
           "Golem"
          ],
          [
           "Ponyta"
          ],
          [
           "Rapidash"
          ],
          [
           "Slowpoke"
          ],
          [
           "Slowbro"
          ],
          [
           "Magnemite"
          ],
          [
           "Magneton"
          ],
          [
           "Farfetch'd"
          ],
          [
           "Doduo"
          ],
          [
           "Dodrio"
          ],
          [
           "Seel"
          ],
          [
           "Dewgong"
          ],
          [
           "Grimer"
          ],
          [
           "Muk"
          ],
          [
           "Shellder"
          ],
          [
           "Cloyster"
          ],
          [
           "Gastly"
          ],
          [
           "Haunter"
          ],
          [
           "Gengar"
          ],
          [
           "Onix"
          ],
          [
           "Drowzee"
          ],
          [
           "Hypno"
          ],
          [
           "Krabby"
          ],
          [
           "Kingler"
          ],
          [
           "Voltorb"
          ],
          [
           "Electrode"
          ],
          [
           "Exeggcute"
          ],
          [
           "Exeggutor"
          ],
          [
           "Cubone"
          ],
          [
           "Marowak"
          ],
          [
           "Hitmonlee"
          ],
          [
           "Hitmonchan"
          ],
          [
           "Lickitung"
          ],
          [
           "Koffing"
          ],
          [
           "Weezing"
          ],
          [
           "Rhyhorn"
          ],
          [
           "Rhydon"
          ],
          [
           "Chansey"
          ],
          [
           "Tangela"
          ],
          [
           "Kangaskhan"
          ],
          [
           "Horsea"
          ],
          [
           "Seadra"
          ],
          [
           "Goldeen"
          ],
          [
           "Seaking"
          ],
          [
           "Staryu"
          ],
          [
           "Starmie"
          ],
          [
           "Mr._Mime"
          ],
          [
           "Scyther"
          ],
          [
           "Jynx"
          ],
          [
           "Electabuzz"
          ],
          [
           "Magmar"
          ],
          [
           "Pinsir"
          ],
          [
           "Tauros"
          ],
          [
           "Magikarp"
          ],
          [
           "Gyarados"
          ],
          [
           "Lapras"
          ],
          [
           "Ditto"
          ],
          [
           "Eevee"
          ],
          [
           "Vaporeon"
          ],
          [
           "Jolteon"
          ],
          [
           "Flareon"
          ],
          [
           "Porygon"
          ],
          [
           "Omanyte"
          ],
          [
           "Omastar"
          ],
          [
           "Kabuto"
          ],
          [
           "Kabutops"
          ],
          [
           "Aerodactyl"
          ],
          [
           "Snorlax"
          ],
          [
           "Dratini"
          ],
          [
           "Dragonair"
          ],
          [
           "Dragonite"
          ],
          [
           "Mew"
          ],
          [
           "Chikorita"
          ],
          [
           "Bayleef"
          ],
          [
           "Meganium"
          ],
          [
           "Cyndaquil"
          ],
          [
           "Quilava"
          ],
          [
           "Typhlosion"
          ],
          [
           "Totodile"
          ],
          [
           "Croconaw"
          ],
          [
           "Feraligatr"
          ],
          [
           "Sentret"
          ],
          [
           "Furret"
          ],
          [
           "Hoothoot"
          ],
          [
           "Noctowl"
          ],
          [
           "Ledyba"
          ],
          [
           "Ledian"
          ],
          [
           "Spinarak"
          ],
          [
           "Ariados"
          ],
          [
           "Crobat"
          ],
          [
           "Chinchou"
          ],
          [
           "Lanturn"
          ],
          [
           "Pichu"
          ],
          [
           "Cleffa"
          ],
          [
           "Igglybuff"
          ],
          [
           "Togepi"
          ],
          [
           "Togetic"
          ],
          [
           "Natu"
          ],
          [
           "Xatu"
          ],
          [
           "Mareep"
          ],
          [
           "Flaaffy"
          ],
          [
           "Ampharos"
          ],
          [
           "Bellossom"
          ],
          [
           "Marill"
          ],
          [
           "Azumarill"
          ],
          [
           "Sudowoodo"
          ],
          [
           "Politoed"
          ],
          [
           "Hoppip"
          ],
          [
           "Skiploom"
          ],
          [
           "Jumpluff"
          ],
          [
           "Aipom"
          ],
          [
           "Sunkern"
          ],
          [
           "Sunflora"
          ],
          [
           "Yanma"
          ],
          [
           "Wooper"
          ],
          [
           "Quagsire"
          ],
          [
           "Espeon"
          ],
          [
           "Umbreon"
          ],
          [
           "Murkrow"
          ],
          [
           "Slowking"
          ],
          [
           "Misdreavus"
          ],
          [
           "Unown"
          ],
          [
           "Wobbuffet"
          ],
          [
           "Girafarig"
          ],
          [
           "Pineco"
          ],
          [
           "Forretress"
          ],
          [
           "Dunsparce"
          ],
          [
           "Gligar"
          ],
          [
           "Steelix"
          ],
          [
           "Snubbull"
          ],
          [
           "Granbull"
          ],
          [
           "Qwilfish"
          ],
          [
           "Scizor"
          ],
          [
           "Shuckle"
          ],
          [
           "Heracross"
          ],
          [
           "Sneasel"
          ],
          [
           "Teddiursa"
          ],
          [
           "Ursaring"
          ],
          [
           "Slugma"
          ],
          [
           "Magcargo"
          ],
          [
           "Swinub"
          ],
          [
           "Piloswine"
          ],
          [
           "Corsola"
          ],
          [
           "Remoraid"
          ],
          [
           "Octillery"
          ],
          [
           "Delibird"
          ],
          [
           "Mantine"
          ],
          [
           "Skarmory"
          ],
          [
           "Houndour"
          ],
          [
           "Houndoom"
          ],
          [
           "Kingdra"
          ],
          [
           "Phanpy"
          ],
          [
           "Donphan"
          ],
          [
           "Porygon2"
          ],
          [
           "Stantler"
          ],
          [
           "Smeargle"
          ],
          [
           "Tyrogue"
          ],
          [
           "Hitmontop"
          ],
          [
           "Smoochum"
          ],
          [
           "Elekid"
          ],
          [
           "Magby"
          ],
          [
           "Miltank"
          ],
          [
           "Blissey"
          ],
          [
           "Larvitar"
          ],
          [
           "Pupitar"
          ],
          [
           "Tyranitar"
          ],
          [
           "Celebi"
          ],
          [
           "Treecko"
          ],
          [
           "Grovyle"
          ],
          [
           "Sceptile"
          ],
          [
           "Torchic"
          ],
          [
           "Combusken"
          ],
          [
           "Blaziken"
          ],
          [
           "Mudkip"
          ],
          [
           "Marshtomp"
          ],
          [
           "Swampert"
          ],
          [
           "Poochyena"
          ],
          [
           "Mightyena"
          ],
          [
           "Zigzagoon"
          ],
          [
           "Linoone"
          ],
          [
           "Wurmple"
          ],
          [
           "Silcoon"
          ],
          [
           "Beautifly"
          ],
          [
           "Cascoon"
          ],
          [
           "Dustox"
          ],
          [
           "Lotad"
          ],
          [
           "Lombre"
          ],
          [
           "Ludicolo"
          ],
          [
           "Seedot"
          ],
          [
           "Nuzleaf"
          ],
          [
           "Shiftry"
          ],
          [
           "Taillow"
          ],
          [
           "Swellow"
          ],
          [
           "Wingull"
          ],
          [
           "Pelipper"
          ],
          [
           "Ralts"
          ],
          [
           "Kirlia"
          ],
          [
           "Gardevoir"
          ],
          [
           "Surskit"
          ],
          [
           "Masquerain"
          ],
          [
           "Shroomish"
          ],
          [
           "Breloom"
          ],
          [
           "Slakoth"
          ],
          [
           "Vigoroth"
          ],
          [
           "Slaking"
          ],
          [
           "Nincada"
          ],
          [
           "Ninjask"
          ],
          [
           "Shedinja"
          ],
          [
           "Whismur"
          ],
          [
           "Loudred"
          ],
          [
           "Exploud"
          ],
          [
           "Makuhita"
          ],
          [
           "Hariyama"
          ],
          [
           "Azurill"
          ],
          [
           "Nosepass"
          ],
          [
           "Skitty"
          ],
          [
           "Delcatty"
          ],
          [
           "Sableye"
          ],
          [
           "Mawile"
          ],
          [
           "Aron"
          ],
          [
           "Lairon"
          ],
          [
           "Aggron"
          ],
          [
           "Meditite"
          ],
          [
           "Medicham"
          ],
          [
           "Electrike"
          ],
          [
           "Manectric"
          ],
          [
           "Plusle"
          ],
          [
           "Minun"
          ],
          [
           "Volbeat"
          ],
          [
           "Illumise"
          ],
          [
           "Roselia"
          ],
          [
           "Gulpin"
          ],
          [
           "Swalot"
          ],
          [
           "Carvanha"
          ],
          [
           "Sharpedo"
          ],
          [
           "Wailmer"
          ],
          [
           "Wailord"
          ],
          [
           "Numel"
          ],
          [
           "Camerupt"
          ],
          [
           "Torkoal"
          ],
          [
           "Spoink"
          ],
          [
           "Grumpig"
          ],
          [
           "Spinda"
          ],
          [
           "Trapinch"
          ],
          [
           "Vibrava"
          ],
          [
           "Flygon"
          ],
          [
           "Cacnea"
          ],
          [
           "Cacturne"
          ],
          [
           "Swablu"
          ],
          [
           "Altaria"
          ],
          [
           "Zangoose"
          ],
          [
           "Seviper"
          ],
          [
           "Lunatone"
          ],
          [
           "Solrock"
          ],
          [
           "Barboach"
          ],
          [
           "Whiscash"
          ],
          [
           "Corphish"
          ],
          [
           "Crawdaunt"
          ],
          [
           "Baltoy"
          ],
          [
           "Claydol"
          ],
          [
           "Lileep"
          ],
          [
           "Cradily"
          ],
          [
           "Anorith"
          ],
          [
           "Armaldo"
          ],
          [
           "Feebas"
          ],
          [
           "Milotic"
          ],
          [
           "Castform"
          ],
          [
           "Kecleon"
          ],
          [
           "Shuppet"
          ],
          [
           "Banette"
          ],
          [
           "Duskull"
          ],
          [
           "Dusclops"
          ],
          [
           "Tropius"
          ],
          [
           "Chimecho"
          ],
          [
           "Absol"
          ],
          [
           "Wynaut"
          ],
          [
           "Snorunt"
          ],
          [
           "Glalie"
          ],
          [
           "Spheal"
          ],
          [
           "Sealeo"
          ],
          [
           "Walrein"
          ],
          [
           "Clamperl"
          ],
          [
           "Huntail"
          ],
          [
           "Gorebyss"
          ],
          [
           "Relicanth"
          ],
          [
           "Luvdisc"
          ],
          [
           "Bagon"
          ],
          [
           "Shelgon"
          ],
          [
           "Salamence"
          ],
          [
           "Beldum"
          ],
          [
           "Metang"
          ],
          [
           "Metagross"
          ],
          [
           "Turtwig"
          ],
          [
           "Grotle"
          ],
          [
           "Torterra"
          ],
          [
           "Chimchar"
          ],
          [
           "Monferno"
          ],
          [
           "Infernape"
          ],
          [
           "Piplup"
          ],
          [
           "Prinplup"
          ],
          [
           "Empoleon"
          ],
          [
           "Starly"
          ],
          [
           "Staravia"
          ],
          [
           "Staraptor"
          ],
          [
           "Bidoof"
          ],
          [
           "Bibarel"
          ],
          [
           "Kricketot"
          ],
          [
           "Kricketune"
          ],
          [
           "Shinx"
          ],
          [
           "Luxio"
          ],
          [
           "Luxray"
          ],
          [
           "Budew"
          ],
          [
           "Roserade"
          ],
          [
           "Cranidos"
          ],
          [
           "Rampardos"
          ],
          [
           "Shieldon"
          ],
          [
           "Bastiodon"
          ],
          [
           "Burmy"
          ],
          [
           "Wormadam"
          ],
          [
           "Mothim"
          ],
          [
           "Combee"
          ],
          [
           "Vespiquen"
          ],
          [
           "Pachirisu"
          ],
          [
           "Buizel"
          ],
          [
           "Floatzel"
          ],
          [
           "Cherubi"
          ],
          [
           "Cherrim"
          ],
          [
           "Shellos"
          ],
          [
           "Gastrodon"
          ],
          [
           "Ambipom"
          ],
          [
           "Drifloon"
          ],
          [
           "Drifblim"
          ],
          [
           "Buneary"
          ],
          [
           "Lopunny"
          ],
          [
           "Mismagius"
          ],
          [
           "Honchkrow"
          ],
          [
           "Glameow"
          ],
          [
           "Purugly"
          ],
          [
           "Chingling"
          ],
          [
           "Stunky"
          ],
          [
           "Skuntank"
          ],
          [
           "Bronzor"
          ],
          [
           "Bronzong"
          ],
          [
           "Bonsly"
          ],
          [
           "Mime_Jr."
          ],
          [
           "Happiny"
          ],
          [
           "Chatot"
          ],
          [
           "Spiritomb"
          ],
          [
           "Gible"
          ],
          [
           "Gabite"
          ],
          [
           "Garchomp"
          ],
          [
           "Munchlax"
          ],
          [
           "Riolu"
          ],
          [
           "Lucario"
          ],
          [
           "Hippopotas"
          ],
          [
           "Hippowdon"
          ],
          [
           "Skorupi"
          ],
          [
           "Drapion"
          ],
          [
           "Croagunk"
          ],
          [
           "Toxicroak"
          ],
          [
           "Carnivine"
          ],
          [
           "Finneon"
          ],
          [
           "Lumineon"
          ],
          [
           "Mantyke"
          ],
          [
           "Snover"
          ],
          [
           "Abomasnow"
          ],
          [
           "Weavile"
          ],
          [
           "Magnezone"
          ],
          [
           "Lickilicky"
          ],
          [
           "Rhyperior"
          ],
          [
           "Tangrowth"
          ],
          [
           "Electivire"
          ],
          [
           "Magmortar"
          ],
          [
           "Togekiss"
          ],
          [
           "Yanmega"
          ],
          [
           "Leafeon"
          ],
          [
           "Glaceon"
          ],
          [
           "Gliscor"
          ],
          [
           "Mamoswine"
          ],
          [
           "Porygon-Z"
          ],
          [
           "Gallade"
          ],
          [
           "Probopass"
          ],
          [
           "Dusknoir"
          ],
          [
           "Froslass"
          ],
          [
           "Rotom"
          ],
          [
           "Cresselia"
          ],
          [
           "Phione"
          ],
          [
           "Manaphy"
          ],
          [
           "Snivy"
          ],
          [
           "Servine"
          ],
          [
           "Serperior"
          ],
          [
           "Tepig"
          ],
          [
           "Pignite"
          ],
          [
           "Emboar"
          ],
          [
           "Oshawott"
          ],
          [
           "Dewott"
          ],
          [
           "Samurott"
          ],
          [
           "Patrat"
          ],
          [
           "Watchog"
          ],
          [
           "Lillipup"
          ],
          [
           "Herdier"
          ],
          [
           "Stoutland"
          ],
          [
           "Purrloin"
          ],
          [
           "Liepard"
          ],
          [
           "Pansage"
          ],
          [
           "Simisage"
          ],
          [
           "Pansear"
          ],
          [
           "Simisear"
          ],
          [
           "Panpour"
          ],
          [
           "Simipour"
          ],
          [
           "Munna"
          ],
          [
           "Musharna"
          ],
          [
           "Pidove"
          ],
          [
           "Tranquill"
          ],
          [
           "Unfezant"
          ],
          [
           "Blitzle"
          ],
          [
           "Zebstrika"
          ],
          [
           "Roggenrola"
          ],
          [
           "Boldore"
          ],
          [
           "Gigalith"
          ],
          [
           "Woobat"
          ],
          [
           "Swoobat"
          ],
          [
           "Drilbur"
          ],
          [
           "Excadrill"
          ],
          [
           "Audino"
          ],
          [
           "Timburr"
          ],
          [
           "Gurdurr"
          ],
          [
           "Conkeldurr"
          ],
          [
           "Tympole"
          ],
          [
           "Palpitoad"
          ],
          [
           "Seismitoad"
          ],
          [
           "Throh"
          ],
          [
           "Sawk"
          ],
          [
           "Sewaddle"
          ],
          [
           "Swadloon"
          ],
          [
           "Leavanny"
          ],
          [
           "Venipede"
          ],
          [
           "Whirlipede"
          ],
          [
           "Scolipede"
          ],
          [
           "Cottonee"
          ],
          [
           "Whimsicott"
          ],
          [
           "Petilil"
          ],
          [
           "Lilligant"
          ],
          [
           "Basculin"
          ],
          [
           "Sandile"
          ],
          [
           "Krokorok"
          ],
          [
           "Krookodile"
          ],
          [
           "Darumaka"
          ],
          [
           "Darmanitan"
          ],
          [
           "Maractus"
          ],
          [
           "Dwebble"
          ],
          [
           "Crustle"
          ],
          [
           "Scraggy"
          ],
          [
           "Scrafty"
          ],
          [
           "Sigilyph"
          ],
          [
           "Yamask"
          ],
          [
           "Cofagrigus"
          ],
          [
           "Tirtouga"
          ],
          [
           "Carracosta"
          ],
          [
           "Archen"
          ],
          [
           "Archeops"
          ],
          [
           "Trubbish"
          ],
          [
           "Garbodor"
          ],
          [
           "Zorua"
          ],
          [
           "Zoroark"
          ],
          [
           "Minccino"
          ],
          [
           "Cinccino"
          ],
          [
           "Gothita"
          ],
          [
           "Gothorita"
          ],
          [
           "Gothitelle"
          ],
          [
           "Solosis"
          ],
          [
           "Duosion"
          ],
          [
           "Reuniclus"
          ],
          [
           "Ducklett"
          ],
          [
           "Swanna"
          ],
          [
           "Vanillite"
          ],
          [
           "Vanillish"
          ],
          [
           "Vanilluxe"
          ],
          [
           "Deerling"
          ],
          [
           "Sawsbuck"
          ],
          [
           "Emolga"
          ],
          [
           "Karrablast"
          ],
          [
           "Escavalier"
          ],
          [
           "Foongus"
          ],
          [
           "Amoonguss"
          ],
          [
           "Frillish"
          ],
          [
           "Jellicent"
          ],
          [
           "Alomomola"
          ],
          [
           "Joltik"
          ],
          [
           "Galvantula"
          ],
          [
           "Ferroseed"
          ],
          [
           "Ferrothorn"
          ],
          [
           "Klink"
          ],
          [
           "Klang"
          ],
          [
           "Klinklang"
          ],
          [
           "Tynamo"
          ],
          [
           "Eelektrik"
          ],
          [
           "Eelektross"
          ],
          [
           "Elgyem"
          ],
          [
           "Beheeyem"
          ],
          [
           "Litwick"
          ],
          [
           "Lampent"
          ],
          [
           "Chandelure"
          ],
          [
           "Axew"
          ],
          [
           "Fraxure"
          ],
          [
           "Haxorus"
          ],
          [
           "Cubchoo"
          ],
          [
           "Beartic"
          ],
          [
           "Cryogonal"
          ],
          [
           "Shelmet"
          ],
          [
           "Accelgor"
          ],
          [
           "Stunfisk"
          ],
          [
           "Mienfoo"
          ],
          [
           "Mienshao"
          ],
          [
           "Druddigon"
          ],
          [
           "Golett"
          ],
          [
           "Golurk"
          ],
          [
           "Pawniard"
          ],
          [
           "Bisharp"
          ],
          [
           "Bouffalant"
          ],
          [
           "Rufflet"
          ],
          [
           "Braviary"
          ],
          [
           "Vullaby"
          ],
          [
           "Mandibuzz"
          ],
          [
           "Heatmor"
          ],
          [
           "Durant"
          ],
          [
           "Deino"
          ],
          [
           "Zweilous"
          ],
          [
           "Hydreigon"
          ],
          [
           "Larvesta"
          ],
          [
           "Volcarona"
          ],
          [
           "Keldeo"
          ],
          [
           "Meloetta"
          ],
          [
           "Genesect"
          ],
          [
           "Chespin"
          ],
          [
           "Quilladin"
          ],
          [
           "Chesnaught"
          ],
          [
           "Fennekin"
          ],
          [
           "Braixen"
          ],
          [
           "Delphox"
          ],
          [
           "Froakie"
          ],
          [
           "Frogadier"
          ],
          [
           "Greninja"
          ],
          [
           "Bunnelby"
          ],
          [
           "Diggersby"
          ],
          [
           "Fletchling"
          ],
          [
           "Fletchinder"
          ],
          [
           "Talonflame"
          ],
          [
           "Scatterbug"
          ],
          [
           "Spewpa"
          ],
          [
           "Vivillon"
          ],
          [
           "Litleo"
          ],
          [
           "Pyroar"
          ],
          [
           "Flabébé"
          ],
          [
           "Floette"
          ],
          [
           "Florges"
          ],
          [
           "Skiddo"
          ],
          [
           "Gogoat"
          ],
          [
           "Pancham"
          ],
          [
           "Pangoro"
          ],
          [
           "Furfrou"
          ],
          [
           "Espurr"
          ],
          [
           "Meowstic"
          ],
          [
           "Honedge"
          ],
          [
           "Doublade"
          ],
          [
           "Aegislash"
          ],
          [
           "Spritzee"
          ],
          [
           "Aromatisse"
          ],
          [
           "Swirlix"
          ],
          [
           "Slurpuff"
          ],
          [
           "Inkay"
          ],
          [
           "Malamar"
          ],
          [
           "Binacle"
          ],
          [
           "Barbaracle"
          ],
          [
           "Skrelp"
          ],
          [
           "Dragalge"
          ],
          [
           "Clauncher"
          ],
          [
           "Clawitzer"
          ],
          [
           "Helioptile"
          ],
          [
           "Heliolisk"
          ],
          [
           "Tyrunt"
          ],
          [
           "Tyrantrum"
          ],
          [
           "Amaura"
          ],
          [
           "Aurorus"
          ],
          [
           "Sylveon"
          ],
          [
           "Hawlucha"
          ],
          [
           "Dedenne"
          ],
          [
           "Carbink"
          ],
          [
           "Goomy"
          ],
          [
           "Sliggoo"
          ],
          [
           "Goodra"
          ],
          [
           "Klefki"
          ],
          [
           "Phantump"
          ],
          [
           "Trevenant"
          ],
          [
           "Pumpkaboo"
          ],
          [
           "Gourgeist"
          ],
          [
           "Bergmite"
          ],
          [
           "Avalugg"
          ],
          [
           "Noibat"
          ],
          [
           "Noivern"
          ]
         ],
         "hovertemplate": "isLegendary=False<br>Speed=%{x}<br>HP=%{y}<br>Defense=%{z}<br>Name=%{customdata[0]}<extra></extra>",
         "legendgroup": "False",
         "marker": {
          "color": "#636efa",
          "symbol": "circle"
         },
         "mode": "markers",
         "name": "False",
         "scene": "scene",
         "showlegend": true,
         "type": "scatter3d",
         "x": [
          45,
          60,
          80,
          65,
          80,
          100,
          43,
          58,
          78,
          45,
          30,
          70,
          50,
          35,
          75,
          56,
          71,
          101,
          72,
          97,
          70,
          100,
          55,
          80,
          90,
          110,
          40,
          65,
          41,
          56,
          76,
          50,
          65,
          85,
          35,
          60,
          65,
          100,
          20,
          45,
          55,
          90,
          30,
          40,
          50,
          25,
          30,
          45,
          90,
          95,
          120,
          90,
          115,
          55,
          85,
          70,
          95,
          60,
          95,
          90,
          90,
          70,
          90,
          105,
          120,
          35,
          45,
          55,
          40,
          55,
          70,
          70,
          100,
          20,
          35,
          45,
          90,
          105,
          15,
          30,
          45,
          70,
          60,
          75,
          100,
          45,
          70,
          25,
          50,
          40,
          70,
          80,
          95,
          110,
          70,
          42,
          67,
          50,
          75,
          100,
          140,
          40,
          55,
          35,
          45,
          87,
          76,
          30,
          35,
          60,
          25,
          40,
          50,
          60,
          90,
          60,
          85,
          63,
          68,
          85,
          115,
          90,
          105,
          95,
          105,
          93,
          85,
          110,
          80,
          81,
          60,
          48,
          55,
          65,
          130,
          65,
          40,
          35,
          55,
          55,
          80,
          130,
          30,
          50,
          70,
          80,
          100,
          45,
          60,
          80,
          65,
          80,
          100,
          43,
          58,
          78,
          20,
          90,
          50,
          70,
          55,
          85,
          30,
          40,
          130,
          67,
          67,
          60,
          15,
          15,
          20,
          40,
          70,
          95,
          35,
          45,
          55,
          50,
          40,
          50,
          30,
          70,
          50,
          80,
          110,
          85,
          30,
          30,
          95,
          15,
          35,
          110,
          65,
          91,
          30,
          85,
          48,
          33,
          85,
          15,
          40,
          45,
          85,
          30,
          30,
          45,
          85,
          65,
          5,
          85,
          115,
          40,
          55,
          20,
          30,
          50,
          50,
          35,
          65,
          45,
          75,
          70,
          70,
          65,
          95,
          85,
          40,
          50,
          60,
          85,
          75,
          35,
          70,
          65,
          95,
          83,
          100,
          55,
          41,
          51,
          61,
          100,
          70,
          95,
          120,
          45,
          55,
          80,
          40,
          50,
          60,
          35,
          70,
          60,
          100,
          20,
          15,
          65,
          15,
          65,
          30,
          50,
          70,
          30,
          60,
          80,
          85,
          125,
          85,
          65,
          40,
          50,
          80,
          65,
          60,
          35,
          70,
          30,
          90,
          100,
          40,
          160,
          40,
          28,
          48,
          68,
          25,
          50,
          20,
          30,
          50,
          70,
          50,
          50,
          30,
          40,
          50,
          60,
          80,
          65,
          105,
          95,
          95,
          85,
          85,
          65,
          40,
          55,
          65,
          95,
          60,
          60,
          35,
          40,
          20,
          60,
          80,
          60,
          10,
          70,
          100,
          35,
          55,
          50,
          80,
          90,
          65,
          70,
          70,
          60,
          60,
          35,
          55,
          55,
          75,
          23,
          43,
          75,
          45,
          80,
          81,
          70,
          40,
          45,
          65,
          25,
          25,
          51,
          65,
          75,
          23,
          50,
          80,
          25,
          45,
          65,
          32,
          52,
          52,
          55,
          97,
          50,
          50,
          100,
          30,
          50,
          70,
          31,
          36,
          56,
          61,
          81,
          108,
          40,
          50,
          60,
          60,
          80,
          100,
          31,
          71,
          25,
          65,
          45,
          60,
          70,
          55,
          90,
          58,
          58,
          30,
          30,
          36,
          36,
          66,
          70,
          40,
          95,
          85,
          115,
          35,
          85,
          34,
          39,
          115,
          70,
          80,
          85,
          105,
          105,
          71,
          85,
          112,
          45,
          74,
          84,
          23,
          33,
          10,
          60,
          30,
          91,
          35,
          42,
          82,
          102,
          5,
          60,
          90,
          32,
          47,
          65,
          95,
          50,
          85,
          46,
          66,
          91,
          50,
          40,
          60,
          125,
          60,
          50,
          40,
          50,
          95,
          83,
          80,
          95,
          95,
          65,
          95,
          80,
          90,
          80,
          40,
          45,
          110,
          91,
          85,
          80,
          100,
          63,
          83,
          113,
          45,
          55,
          65,
          45,
          60,
          70,
          42,
          77,
          55,
          60,
          80,
          66,
          106,
          64,
          101,
          64,
          101,
          64,
          101,
          24,
          29,
          43,
          65,
          93,
          76,
          116,
          15,
          20,
          25,
          72,
          114,
          68,
          88,
          50,
          35,
          40,
          45,
          64,
          69,
          74,
          45,
          85,
          42,
          42,
          92,
          57,
          47,
          112,
          66,
          116,
          30,
          90,
          98,
          65,
          74,
          92,
          50,
          95,
          60,
          55,
          45,
          48,
          58,
          97,
          30,
          30,
          22,
          32,
          70,
          110,
          65,
          75,
          65,
          105,
          75,
          115,
          45,
          55,
          65,
          20,
          30,
          30,
          55,
          98,
          44,
          59,
          79,
          75,
          95,
          103,
          60,
          20,
          15,
          30,
          40,
          60,
          65,
          65,
          108,
          10,
          20,
          30,
          50,
          90,
          60,
          40,
          50,
          30,
          40,
          20,
          55,
          80,
          57,
          67,
          97,
          40,
          50,
          105,
          25,
          145,
          32,
          65,
          105,
          48,
          35,
          55,
          60,
          70,
          55,
          60,
          80,
          60,
          80,
          65,
          109,
          38,
          58,
          98,
          60,
          100,
          108,
          90,
          99,
          38,
          57,
          64,
          60,
          73,
          104,
          71,
          97,
          122,
          57,
          78,
          62,
          84,
          126,
          35,
          29,
          89,
          72,
          106,
          42,
          52,
          75,
          52,
          68,
          43,
          58,
          102,
          68,
          104,
          28,
          35,
          60,
          23,
          29,
          49,
          72,
          45,
          73,
          50,
          68,
          30,
          44,
          44,
          59,
          70,
          109,
          48,
          71,
          46,
          58,
          60,
          118,
          101,
          50,
          40,
          60,
          80,
          75,
          38,
          56,
          51,
          84,
          28,
          28,
          55,
          123
         ],
         "y": [
          45,
          60,
          80,
          39,
          58,
          78,
          44,
          59,
          79,
          45,
          50,
          60,
          40,
          45,
          65,
          40,
          63,
          83,
          30,
          55,
          40,
          65,
          35,
          60,
          35,
          60,
          50,
          75,
          55,
          70,
          90,
          46,
          61,
          81,
          70,
          95,
          38,
          73,
          115,
          140,
          40,
          75,
          45,
          60,
          75,
          35,
          60,
          60,
          70,
          10,
          35,
          40,
          65,
          50,
          80,
          40,
          65,
          55,
          90,
          40,
          65,
          90,
          25,
          40,
          55,
          70,
          80,
          90,
          50,
          65,
          80,
          40,
          80,
          40,
          55,
          80,
          50,
          65,
          90,
          95,
          25,
          50,
          52,
          35,
          60,
          65,
          90,
          80,
          105,
          30,
          50,
          30,
          45,
          60,
          35,
          60,
          85,
          30,
          55,
          40,
          60,
          60,
          95,
          50,
          60,
          50,
          50,
          90,
          40,
          65,
          80,
          105,
          250,
          65,
          105,
          30,
          55,
          45,
          80,
          30,
          60,
          40,
          70,
          65,
          65,
          65,
          65,
          75,
          20,
          95,
          130,
          48,
          55,
          130,
          65,
          65,
          65,
          35,
          70,
          30,
          60,
          80,
          160,
          41,
          61,
          91,
          100,
          45,
          60,
          80,
          39,
          58,
          78,
          50,
          65,
          85,
          35,
          85,
          60,
          100,
          40,
          55,
          40,
          70,
          85,
          75,
          125,
          20,
          50,
          90,
          35,
          55,
          40,
          65,
          55,
          70,
          90,
          75,
          70,
          100,
          70,
          90,
          35,
          55,
          75,
          55,
          30,
          75,
          65,
          55,
          95,
          65,
          95,
          60,
          95,
          60,
          48,
          190,
          70,
          50,
          75,
          100,
          65,
          75,
          60,
          90,
          65,
          70,
          20,
          80,
          55,
          60,
          90,
          40,
          50,
          50,
          100,
          55,
          35,
          75,
          45,
          65,
          65,
          45,
          75,
          75,
          90,
          90,
          85,
          73,
          55,
          35,
          50,
          45,
          45,
          45,
          95,
          255,
          50,
          70,
          100,
          100,
          40,
          50,
          70,
          45,
          60,
          80,
          50,
          70,
          100,
          35,
          70,
          38,
          78,
          45,
          50,
          60,
          50,
          60,
          40,
          60,
          80,
          40,
          70,
          90,
          40,
          60,
          40,
          60,
          28,
          38,
          68,
          40,
          70,
          60,
          60,
          60,
          80,
          150,
          31,
          61,
          1,
          64,
          84,
          104,
          72,
          144,
          50,
          30,
          50,
          70,
          50,
          50,
          50,
          60,
          70,
          30,
          60,
          40,
          70,
          60,
          60,
          65,
          65,
          50,
          70,
          100,
          45,
          70,
          130,
          170,
          60,
          70,
          70,
          60,
          80,
          60,
          45,
          50,
          80,
          50,
          70,
          45,
          75,
          73,
          73,
          70,
          70,
          50,
          110,
          43,
          63,
          40,
          60,
          66,
          86,
          45,
          75,
          20,
          95,
          70,
          60,
          44,
          64,
          20,
          40,
          99,
          65,
          65,
          95,
          50,
          80,
          70,
          90,
          110,
          35,
          55,
          55,
          100,
          43,
          45,
          65,
          95,
          40,
          60,
          80,
          55,
          75,
          95,
          44,
          64,
          76,
          53,
          64,
          84,
          40,
          55,
          85,
          59,
          79,
          37,
          77,
          45,
          60,
          80,
          40,
          60,
          67,
          97,
          30,
          60,
          40,
          60,
          70,
          30,
          70,
          60,
          55,
          85,
          45,
          70,
          76,
          111,
          75,
          90,
          150,
          55,
          65,
          60,
          100,
          49,
          71,
          45,
          63,
          103,
          57,
          67,
          50,
          20,
          100,
          76,
          50,
          58,
          68,
          108,
          135,
          40,
          70,
          68,
          108,
          40,
          70,
          48,
          83,
          74,
          49,
          69,
          45,
          60,
          90,
          70,
          70,
          110,
          115,
          100,
          75,
          75,
          85,
          86,
          65,
          65,
          75,
          110,
          85,
          68,
          60,
          45,
          70,
          50,
          120,
          80,
          100,
          45,
          60,
          75,
          65,
          90,
          110,
          55,
          75,
          95,
          45,
          60,
          45,
          65,
          85,
          41,
          64,
          50,
          75,
          50,
          75,
          50,
          75,
          76,
          116,
          50,
          62,
          80,
          45,
          75,
          55,
          70,
          85,
          55,
          67,
          60,
          110,
          103,
          75,
          85,
          105,
          50,
          75,
          105,
          120,
          75,
          45,
          55,
          75,
          30,
          40,
          60,
          40,
          60,
          45,
          70,
          70,
          50,
          60,
          95,
          70,
          105,
          75,
          50,
          70,
          50,
          65,
          72,
          38,
          58,
          54,
          74,
          55,
          75,
          50,
          80,
          40,
          60,
          55,
          75,
          45,
          60,
          70,
          45,
          65,
          110,
          62,
          75,
          36,
          51,
          71,
          60,
          80,
          55,
          50,
          70,
          69,
          114,
          55,
          100,
          165,
          50,
          70,
          44,
          74,
          40,
          60,
          60,
          35,
          65,
          85,
          55,
          75,
          50,
          60,
          60,
          46,
          66,
          76,
          55,
          95,
          70,
          50,
          80,
          109,
          45,
          65,
          77,
          59,
          89,
          45,
          65,
          95,
          70,
          100,
          70,
          110,
          85,
          58,
          52,
          72,
          92,
          55,
          85,
          91,
          100,
          71,
          56,
          61,
          88,
          40,
          59,
          75,
          41,
          54,
          72,
          38,
          85,
          45,
          62,
          78,
          38,
          45,
          80,
          62,
          86,
          44,
          54,
          78,
          66,
          123,
          67,
          95,
          75,
          62,
          74,
          45,
          59,
          60,
          78,
          101,
          62,
          82,
          53,
          86,
          42,
          72,
          50,
          65,
          50,
          71,
          44,
          62,
          58,
          82,
          77,
          123,
          95,
          78,
          67,
          50,
          45,
          68,
          90,
          57,
          43,
          85,
          49,
          65,
          55,
          95,
          40,
          85
         ],
         "z": [
          49,
          63,
          83,
          43,
          58,
          78,
          65,
          80,
          100,
          35,
          55,
          50,
          30,
          50,
          40,
          40,
          55,
          75,
          35,
          60,
          30,
          65,
          44,
          69,
          40,
          55,
          85,
          110,
          52,
          67,
          87,
          40,
          57,
          77,
          48,
          73,
          40,
          75,
          20,
          45,
          35,
          70,
          55,
          70,
          85,
          55,
          80,
          50,
          60,
          25,
          50,
          35,
          60,
          48,
          78,
          35,
          60,
          45,
          80,
          40,
          65,
          95,
          15,
          30,
          45,
          50,
          70,
          80,
          35,
          50,
          65,
          35,
          65,
          100,
          115,
          130,
          55,
          70,
          65,
          110,
          70,
          95,
          55,
          45,
          70,
          55,
          80,
          50,
          75,
          100,
          180,
          30,
          45,
          60,
          160,
          45,
          70,
          90,
          115,
          50,
          70,
          80,
          85,
          95,
          110,
          53,
          79,
          75,
          95,
          120,
          95,
          120,
          5,
          115,
          80,
          70,
          95,
          60,
          65,
          55,
          85,
          65,
          80,
          35,
          57,
          57,
          100,
          95,
          55,
          79,
          80,
          48,
          50,
          60,
          60,
          60,
          70,
          100,
          125,
          90,
          105,
          65,
          65,
          45,
          65,
          95,
          100,
          65,
          80,
          100,
          43,
          58,
          78,
          64,
          80,
          100,
          34,
          64,
          30,
          50,
          30,
          50,
          40,
          70,
          80,
          38,
          58,
          15,
          28,
          15,
          65,
          85,
          45,
          70,
          40,
          55,
          85,
          95,
          50,
          80,
          115,
          75,
          40,
          50,
          70,
          55,
          30,
          55,
          45,
          45,
          85,
          60,
          110,
          42,
          80,
          60,
          48,
          58,
          65,
          90,
          140,
          70,
          105,
          200,
          50,
          75,
          75,
          100,
          230,
          75,
          55,
          50,
          75,
          40,
          120,
          40,
          80,
          85,
          35,
          75,
          45,
          70,
          140,
          30,
          50,
          95,
          60,
          120,
          90,
          62,
          35,
          35,
          95,
          15,
          37,
          37,
          105,
          10,
          50,
          70,
          110,
          100,
          35,
          45,
          65,
          40,
          60,
          70,
          50,
          70,
          90,
          35,
          70,
          41,
          61,
          35,
          55,
          50,
          55,
          70,
          30,
          50,
          70,
          50,
          40,
          60,
          30,
          60,
          30,
          100,
          25,
          35,
          65,
          32,
          62,
          60,
          80,
          60,
          80,
          100,
          90,
          45,
          45,
          23,
          43,
          63,
          30,
          60,
          40,
          135,
          45,
          65,
          75,
          85,
          100,
          140,
          180,
          55,
          75,
          40,
          60,
          40,
          50,
          55,
          55,
          45,
          53,
          83,
          20,
          40,
          35,
          45,
          40,
          70,
          140,
          35,
          65,
          60,
          45,
          50,
          80,
          40,
          60,
          60,
          90,
          60,
          60,
          65,
          85,
          43,
          73,
          65,
          85,
          55,
          105,
          77,
          97,
          50,
          100,
          20,
          79,
          70,
          70,
          35,
          65,
          90,
          130,
          83,
          70,
          60,
          48,
          50,
          80,
          50,
          70,
          90,
          85,
          105,
          105,
          130,
          55,
          60,
          100,
          80,
          80,
          100,
          130,
          64,
          85,
          105,
          44,
          52,
          71,
          53,
          68,
          88,
          30,
          50,
          70,
          40,
          60,
          41,
          51,
          34,
          49,
          79,
          35,
          65,
          40,
          60,
          118,
          168,
          45,
          85,
          50,
          42,
          102,
          70,
          35,
          55,
          45,
          70,
          48,
          68,
          66,
          34,
          44,
          44,
          84,
          60,
          52,
          42,
          64,
          50,
          47,
          67,
          86,
          116,
          95,
          45,
          5,
          45,
          108,
          45,
          65,
          95,
          40,
          40,
          70,
          78,
          118,
          90,
          110,
          40,
          65,
          72,
          56,
          76,
          50,
          50,
          75,
          65,
          115,
          95,
          130,
          125,
          67,
          67,
          95,
          86,
          130,
          110,
          125,
          80,
          70,
          65,
          145,
          135,
          70,
          77,
          120,
          80,
          100,
          55,
          75,
          95,
          45,
          55,
          65,
          45,
          60,
          85,
          39,
          69,
          45,
          65,
          90,
          37,
          50,
          48,
          63,
          48,
          63,
          48,
          63,
          45,
          85,
          50,
          62,
          80,
          32,
          63,
          85,
          105,
          130,
          43,
          55,
          40,
          60,
          86,
          55,
          85,
          95,
          40,
          55,
          75,
          85,
          75,
          70,
          90,
          80,
          59,
          99,
          89,
          60,
          85,
          50,
          75,
          65,
          35,
          45,
          80,
          45,
          55,
          67,
          85,
          125,
          70,
          115,
          80,
          85,
          145,
          103,
          133,
          45,
          65,
          62,
          82,
          40,
          60,
          40,
          60,
          50,
          70,
          95,
          40,
          50,
          75,
          50,
          63,
          50,
          65,
          85,
          50,
          70,
          60,
          45,
          105,
          45,
          70,
          50,
          70,
          80,
          50,
          60,
          91,
          131,
          70,
          95,
          115,
          40,
          70,
          80,
          55,
          75,
          55,
          60,
          90,
          60,
          70,
          90,
          40,
          80,
          30,
          85,
          40,
          84,
          50,
          60,
          90,
          50,
          80,
          70,
          100,
          95,
          50,
          75,
          75,
          105,
          66,
          112,
          50,
          70,
          90,
          55,
          65,
          90,
          77,
          95,
          65,
          95,
          122,
          40,
          58,
          72,
          40,
          52,
          67,
          38,
          77,
          43,
          55,
          71,
          40,
          60,
          50,
          58,
          72,
          39,
          47,
          68,
          48,
          62,
          62,
          78,
          60,
          54,
          76,
          100,
          150,
          150,
          60,
          72,
          66,
          86,
          53,
          88,
          67,
          115,
          60,
          90,
          62,
          88,
          33,
          52,
          77,
          119,
          50,
          72,
          65,
          75,
          57,
          150,
          35,
          53,
          70,
          91,
          48,
          76,
          70,
          122,
          85,
          184,
          35,
          80
         ]
        },
        {
         "customdata": [
          [
           "Articuno"
          ],
          [
           "Zapdos"
          ],
          [
           "Moltres"
          ],
          [
           "Mewtwo"
          ],
          [
           "Raikou"
          ],
          [
           "Entei"
          ],
          [
           "Suicune"
          ],
          [
           "Lugia"
          ],
          [
           "Ho-Oh"
          ],
          [
           "Regirock"
          ],
          [
           "Regice"
          ],
          [
           "Registeel"
          ],
          [
           "Latias"
          ],
          [
           "Latios"
          ],
          [
           "Kyogre"
          ],
          [
           "Groudon"
          ],
          [
           "Rayquaza"
          ],
          [
           "Jirachi"
          ],
          [
           "Deoxys"
          ],
          [
           "Uxie"
          ],
          [
           "Mesprit"
          ],
          [
           "Azelf"
          ],
          [
           "Dialga"
          ],
          [
           "Palkia"
          ],
          [
           "Heatran"
          ],
          [
           "Regigigas"
          ],
          [
           "Giratina"
          ],
          [
           "Darkrai"
          ],
          [
           "Shaymin"
          ],
          [
           "Arceus"
          ],
          [
           "Victini"
          ],
          [
           "Cobalion"
          ],
          [
           "Terrakion"
          ],
          [
           "Virizion"
          ],
          [
           "Tornadus"
          ],
          [
           "Thundurus"
          ],
          [
           "Reshiram"
          ],
          [
           "Zekrom"
          ],
          [
           "Landorus"
          ],
          [
           "Kyurem"
          ],
          [
           "Xerneas"
          ],
          [
           "Yveltal"
          ],
          [
           "Zygarde"
          ],
          [
           "Diancie"
          ],
          [
           "Hoopa"
          ],
          [
           "Volcanion"
          ]
         ],
         "hovertemplate": "isLegendary=True<br>Speed=%{x}<br>HP=%{y}<br>Defense=%{z}<br>Name=%{customdata[0]}<extra></extra>",
         "legendgroup": "True",
         "marker": {
          "color": "#EF553B",
          "symbol": "diamond"
         },
         "mode": "markers",
         "name": "True",
         "scene": "scene",
         "showlegend": true,
         "type": "scatter3d",
         "x": [
          85,
          100,
          90,
          130,
          115,
          100,
          85,
          110,
          90,
          50,
          50,
          50,
          110,
          110,
          90,
          90,
          95,
          100,
          150,
          95,
          80,
          115,
          90,
          100,
          77,
          100,
          90,
          125,
          100,
          120,
          100,
          108,
          108,
          108,
          111,
          111,
          90,
          90,
          101,
          95,
          99,
          99,
          95,
          50,
          70,
          70
         ],
         "y": [
          90,
          90,
          90,
          106,
          90,
          115,
          100,
          106,
          106,
          80,
          80,
          80,
          80,
          80,
          100,
          100,
          105,
          100,
          50,
          75,
          80,
          75,
          100,
          90,
          91,
          110,
          150,
          70,
          100,
          120,
          100,
          91,
          91,
          91,
          79,
          79,
          100,
          100,
          89,
          125,
          126,
          126,
          108,
          50,
          80,
          80
         ],
         "z": [
          100,
          85,
          90,
          90,
          75,
          85,
          115,
          130,
          90,
          200,
          100,
          150,
          90,
          80,
          90,
          140,
          90,
          100,
          50,
          130,
          105,
          70,
          120,
          100,
          106,
          110,
          100,
          90,
          100,
          120,
          100,
          129,
          90,
          72,
          70,
          70,
          100,
          120,
          90,
          90,
          95,
          95,
          121,
          150,
          60,
          120
         ]
        }
       ],
       "layout": {
        "height": 500,
        "legend": {
         "title": {
          "text": "isLegendary"
         },
         "tracegroupgap": 0
        },
        "margin": {
         "t": 60
        },
        "scene": {
         "domain": {
          "x": [
           0,
           1
          ],
          "y": [
           0,
           1
          ]
         },
         "xaxis": {
          "title": {
           "text": "Speed"
          }
         },
         "yaxis": {
          "title": {
           "text": "HP"
          }
         },
         "zaxis": {
          "title": {
           "text": "Defense"
          }
         }
        },
        "template": {
         "data": {
          "bar": [
           {
            "error_x": {
             "color": "#2a3f5f"
            },
            "error_y": {
             "color": "#2a3f5f"
            },
            "marker": {
             "line": {
              "color": "#E5ECF6",
              "width": 0.5
             },
             "pattern": {
              "fillmode": "overlay",
              "size": 10,
              "solidity": 0.2
             }
            },
            "type": "bar"
           }
          ],
          "barpolar": [
           {
            "marker": {
             "line": {
              "color": "#E5ECF6",
              "width": 0.5
             },
             "pattern": {
              "fillmode": "overlay",
              "size": 10,
              "solidity": 0.2
             }
            },
            "type": "barpolar"
           }
          ],
          "carpet": [
           {
            "aaxis": {
             "endlinecolor": "#2a3f5f",
             "gridcolor": "white",
             "linecolor": "white",
             "minorgridcolor": "white",
             "startlinecolor": "#2a3f5f"
            },
            "baxis": {
             "endlinecolor": "#2a3f5f",
             "gridcolor": "white",
             "linecolor": "white",
             "minorgridcolor": "white",
             "startlinecolor": "#2a3f5f"
            },
            "type": "carpet"
           }
          ],
          "choropleth": [
           {
            "colorbar": {
             "outlinewidth": 0,
             "ticks": ""
            },
            "type": "choropleth"
           }
          ],
          "contour": [
           {
            "colorbar": {
             "outlinewidth": 0,
             "ticks": ""
            },
            "colorscale": [
             [
              0,
              "#0d0887"
             ],
             [
              0.1111111111111111,
              "#46039f"
             ],
             [
              0.2222222222222222,
              "#7201a8"
             ],
             [
              0.3333333333333333,
              "#9c179e"
             ],
             [
              0.4444444444444444,
              "#bd3786"
             ],
             [
              0.5555555555555556,
              "#d8576b"
             ],
             [
              0.6666666666666666,
              "#ed7953"
             ],
             [
              0.7777777777777778,
              "#fb9f3a"
             ],
             [
              0.8888888888888888,
              "#fdca26"
             ],
             [
              1,
              "#f0f921"
             ]
            ],
            "type": "contour"
           }
          ],
          "contourcarpet": [
           {
            "colorbar": {
             "outlinewidth": 0,
             "ticks": ""
            },
            "type": "contourcarpet"
           }
          ],
          "heatmap": [
           {
            "colorbar": {
             "outlinewidth": 0,
             "ticks": ""
            },
            "colorscale": [
             [
              0,
              "#0d0887"
             ],
             [
              0.1111111111111111,
              "#46039f"
             ],
             [
              0.2222222222222222,
              "#7201a8"
             ],
             [
              0.3333333333333333,
              "#9c179e"
             ],
             [
              0.4444444444444444,
              "#bd3786"
             ],
             [
              0.5555555555555556,
              "#d8576b"
             ],
             [
              0.6666666666666666,
              "#ed7953"
             ],
             [
              0.7777777777777778,
              "#fb9f3a"
             ],
             [
              0.8888888888888888,
              "#fdca26"
             ],
             [
              1,
              "#f0f921"
             ]
            ],
            "type": "heatmap"
           }
          ],
          "heatmapgl": [
           {
            "colorbar": {
             "outlinewidth": 0,
             "ticks": ""
            },
            "colorscale": [
             [
              0,
              "#0d0887"
             ],
             [
              0.1111111111111111,
              "#46039f"
             ],
             [
              0.2222222222222222,
              "#7201a8"
             ],
             [
              0.3333333333333333,
              "#9c179e"
             ],
             [
              0.4444444444444444,
              "#bd3786"
             ],
             [
              0.5555555555555556,
              "#d8576b"
             ],
             [
              0.6666666666666666,
              "#ed7953"
             ],
             [
              0.7777777777777778,
              "#fb9f3a"
             ],
             [
              0.8888888888888888,
              "#fdca26"
             ],
             [
              1,
              "#f0f921"
             ]
            ],
            "type": "heatmapgl"
           }
          ],
          "histogram": [
           {
            "marker": {
             "pattern": {
              "fillmode": "overlay",
              "size": 10,
              "solidity": 0.2
             }
            },
            "type": "histogram"
           }
          ],
          "histogram2d": [
           {
            "colorbar": {
             "outlinewidth": 0,
             "ticks": ""
            },
            "colorscale": [
             [
              0,
              "#0d0887"
             ],
             [
              0.1111111111111111,
              "#46039f"
             ],
             [
              0.2222222222222222,
              "#7201a8"
             ],
             [
              0.3333333333333333,
              "#9c179e"
             ],
             [
              0.4444444444444444,
              "#bd3786"
             ],
             [
              0.5555555555555556,
              "#d8576b"
             ],
             [
              0.6666666666666666,
              "#ed7953"
             ],
             [
              0.7777777777777778,
              "#fb9f3a"
             ],
             [
              0.8888888888888888,
              "#fdca26"
             ],
             [
              1,
              "#f0f921"
             ]
            ],
            "type": "histogram2d"
           }
          ],
          "histogram2dcontour": [
           {
            "colorbar": {
             "outlinewidth": 0,
             "ticks": ""
            },
            "colorscale": [
             [
              0,
              "#0d0887"
             ],
             [
              0.1111111111111111,
              "#46039f"
             ],
             [
              0.2222222222222222,
              "#7201a8"
             ],
             [
              0.3333333333333333,
              "#9c179e"
             ],
             [
              0.4444444444444444,
              "#bd3786"
             ],
             [
              0.5555555555555556,
              "#d8576b"
             ],
             [
              0.6666666666666666,
              "#ed7953"
             ],
             [
              0.7777777777777778,
              "#fb9f3a"
             ],
             [
              0.8888888888888888,
              "#fdca26"
             ],
             [
              1,
              "#f0f921"
             ]
            ],
            "type": "histogram2dcontour"
           }
          ],
          "mesh3d": [
           {
            "colorbar": {
             "outlinewidth": 0,
             "ticks": ""
            },
            "type": "mesh3d"
           }
          ],
          "parcoords": [
           {
            "line": {
             "colorbar": {
              "outlinewidth": 0,
              "ticks": ""
             }
            },
            "type": "parcoords"
           }
          ],
          "pie": [
           {
            "automargin": true,
            "type": "pie"
           }
          ],
          "scatter": [
           {
            "marker": {
             "colorbar": {
              "outlinewidth": 0,
              "ticks": ""
             }
            },
            "type": "scatter"
           }
          ],
          "scatter3d": [
           {
            "line": {
             "colorbar": {
              "outlinewidth": 0,
              "ticks": ""
             }
            },
            "marker": {
             "colorbar": {
              "outlinewidth": 0,
              "ticks": ""
             }
            },
            "type": "scatter3d"
           }
          ],
          "scattercarpet": [
           {
            "marker": {
             "colorbar": {
              "outlinewidth": 0,
              "ticks": ""
             }
            },
            "type": "scattercarpet"
           }
          ],
          "scattergeo": [
           {
            "marker": {
             "colorbar": {
              "outlinewidth": 0,
              "ticks": ""
             }
            },
            "type": "scattergeo"
           }
          ],
          "scattergl": [
           {
            "marker": {
             "colorbar": {
              "outlinewidth": 0,
              "ticks": ""
             }
            },
            "type": "scattergl"
           }
          ],
          "scattermapbox": [
           {
            "marker": {
             "colorbar": {
              "outlinewidth": 0,
              "ticks": ""
             }
            },
            "type": "scattermapbox"
           }
          ],
          "scatterpolar": [
           {
            "marker": {
             "colorbar": {
              "outlinewidth": 0,
              "ticks": ""
             }
            },
            "type": "scatterpolar"
           }
          ],
          "scatterpolargl": [
           {
            "marker": {
             "colorbar": {
              "outlinewidth": 0,
              "ticks": ""
             }
            },
            "type": "scatterpolargl"
           }
          ],
          "scatterternary": [
           {
            "marker": {
             "colorbar": {
              "outlinewidth": 0,
              "ticks": ""
             }
            },
            "type": "scatterternary"
           }
          ],
          "surface": [
           {
            "colorbar": {
             "outlinewidth": 0,
             "ticks": ""
            },
            "colorscale": [
             [
              0,
              "#0d0887"
             ],
             [
              0.1111111111111111,
              "#46039f"
             ],
             [
              0.2222222222222222,
              "#7201a8"
             ],
             [
              0.3333333333333333,
              "#9c179e"
             ],
             [
              0.4444444444444444,
              "#bd3786"
             ],
             [
              0.5555555555555556,
              "#d8576b"
             ],
             [
              0.6666666666666666,
              "#ed7953"
             ],
             [
              0.7777777777777778,
              "#fb9f3a"
             ],
             [
              0.8888888888888888,
              "#fdca26"
             ],
             [
              1,
              "#f0f921"
             ]
            ],
            "type": "surface"
           }
          ],
          "table": [
           {
            "cells": {
             "fill": {
              "color": "#EBF0F8"
             },
             "line": {
              "color": "white"
             }
            },
            "header": {
             "fill": {
              "color": "#C8D4E3"
             },
             "line": {
              "color": "white"
             }
            },
            "type": "table"
           }
          ]
         },
         "layout": {
          "annotationdefaults": {
           "arrowcolor": "#2a3f5f",
           "arrowhead": 0,
           "arrowwidth": 1
          },
          "autotypenumbers": "strict",
          "coloraxis": {
           "colorbar": {
            "outlinewidth": 0,
            "ticks": ""
           }
          },
          "colorscale": {
           "diverging": [
            [
             0,
             "#8e0152"
            ],
            [
             0.1,
             "#c51b7d"
            ],
            [
             0.2,
             "#de77ae"
            ],
            [
             0.3,
             "#f1b6da"
            ],
            [
             0.4,
             "#fde0ef"
            ],
            [
             0.5,
             "#f7f7f7"
            ],
            [
             0.6,
             "#e6f5d0"
            ],
            [
             0.7,
             "#b8e186"
            ],
            [
             0.8,
             "#7fbc41"
            ],
            [
             0.9,
             "#4d9221"
            ],
            [
             1,
             "#276419"
            ]
           ],
           "sequential": [
            [
             0,
             "#0d0887"
            ],
            [
             0.1111111111111111,
             "#46039f"
            ],
            [
             0.2222222222222222,
             "#7201a8"
            ],
            [
             0.3333333333333333,
             "#9c179e"
            ],
            [
             0.4444444444444444,
             "#bd3786"
            ],
            [
             0.5555555555555556,
             "#d8576b"
            ],
            [
             0.6666666666666666,
             "#ed7953"
            ],
            [
             0.7777777777777778,
             "#fb9f3a"
            ],
            [
             0.8888888888888888,
             "#fdca26"
            ],
            [
             1,
             "#f0f921"
            ]
           ],
           "sequentialminus": [
            [
             0,
             "#0d0887"
            ],
            [
             0.1111111111111111,
             "#46039f"
            ],
            [
             0.2222222222222222,
             "#7201a8"
            ],
            [
             0.3333333333333333,
             "#9c179e"
            ],
            [
             0.4444444444444444,
             "#bd3786"
            ],
            [
             0.5555555555555556,
             "#d8576b"
            ],
            [
             0.6666666666666666,
             "#ed7953"
            ],
            [
             0.7777777777777778,
             "#fb9f3a"
            ],
            [
             0.8888888888888888,
             "#fdca26"
            ],
            [
             1,
             "#f0f921"
            ]
           ]
          },
          "colorway": [
           "#636efa",
           "#EF553B",
           "#00cc96",
           "#ab63fa",
           "#FFA15A",
           "#19d3f3",
           "#FF6692",
           "#B6E880",
           "#FF97FF",
           "#FECB52"
          ],
          "font": {
           "color": "#2a3f5f"
          },
          "geo": {
           "bgcolor": "white",
           "lakecolor": "white",
           "landcolor": "#E5ECF6",
           "showlakes": true,
           "showland": true,
           "subunitcolor": "white"
          },
          "hoverlabel": {
           "align": "left"
          },
          "hovermode": "closest",
          "mapbox": {
           "style": "light"
          },
          "paper_bgcolor": "white",
          "plot_bgcolor": "#E5ECF6",
          "polar": {
           "angularaxis": {
            "gridcolor": "white",
            "linecolor": "white",
            "ticks": ""
           },
           "bgcolor": "#E5ECF6",
           "radialaxis": {
            "gridcolor": "white",
            "linecolor": "white",
            "ticks": ""
           }
          },
          "scene": {
           "xaxis": {
            "backgroundcolor": "#E5ECF6",
            "gridcolor": "white",
            "gridwidth": 2,
            "linecolor": "white",
            "showbackground": true,
            "ticks": "",
            "zerolinecolor": "white"
           },
           "yaxis": {
            "backgroundcolor": "#E5ECF6",
            "gridcolor": "white",
            "gridwidth": 2,
            "linecolor": "white",
            "showbackground": true,
            "ticks": "",
            "zerolinecolor": "white"
           },
           "zaxis": {
            "backgroundcolor": "#E5ECF6",
            "gridcolor": "white",
            "gridwidth": 2,
            "linecolor": "white",
            "showbackground": true,
            "ticks": "",
            "zerolinecolor": "white"
           }
          },
          "shapedefaults": {
           "line": {
            "color": "#2a3f5f"
           }
          },
          "ternary": {
           "aaxis": {
            "gridcolor": "white",
            "linecolor": "white",
            "ticks": ""
           },
           "baxis": {
            "gridcolor": "white",
            "linecolor": "white",
            "ticks": ""
           },
           "bgcolor": "#E5ECF6",
           "caxis": {
            "gridcolor": "white",
            "linecolor": "white",
            "ticks": ""
           }
          },
          "title": {
           "x": 0.05
          },
          "xaxis": {
           "automargin": true,
           "gridcolor": "white",
           "linecolor": "white",
           "ticks": "",
           "title": {
            "standoff": 15
           },
           "zerolinecolor": "white",
           "zerolinewidth": 2
          },
          "yaxis": {
           "automargin": true,
           "gridcolor": "white",
           "linecolor": "white",
           "ticks": "",
           "title": {
            "standoff": 15
           },
           "zerolinecolor": "white",
           "zerolinewidth": 2
          }
         }
        },
        "width": 600
       }
      }
     },
     "metadata": {},
     "output_type": "display_data"
    }
   ],
   "source": [
    "px.scatter_3d(df,x='Speed',y='HP',z='Defense',color='isLegendary',\n",
    "                height=500,width=600,symbol='isLegendary',hover_data=['Name'])"
   ]
  },
  {
   "cell_type": "code",
   "execution_count": 21,
   "metadata": {},
   "outputs": [
    {
     "data": {
      "text/html": [
       "<div>\n",
       "<style scoped>\n",
       "    .dataframe tbody tr th:only-of-type {\n",
       "        vertical-align: middle;\n",
       "    }\n",
       "\n",
       "    .dataframe tbody tr th {\n",
       "        vertical-align: top;\n",
       "    }\n",
       "\n",
       "    .dataframe thead th {\n",
       "        text-align: right;\n",
       "    }\n",
       "</style>\n",
       "<table border=\"1\" class=\"dataframe\">\n",
       "  <thead>\n",
       "    <tr style=\"text-align: right;\">\n",
       "      <th></th>\n",
       "      <th>Name</th>\n",
       "      <th>Type_1</th>\n",
       "      <th>Type_2</th>\n",
       "      <th>Total</th>\n",
       "      <th>HP</th>\n",
       "      <th>Attack</th>\n",
       "      <th>Defense</th>\n",
       "      <th>Sp_Atk</th>\n",
       "      <th>Sp_Def</th>\n",
       "      <th>Speed</th>\n",
       "      <th>Generation</th>\n",
       "      <th>isLegendary</th>\n",
       "      <th>Color</th>\n",
       "      <th>hasGender</th>\n",
       "      <th>Pr_Male</th>\n",
       "      <th>Egg_Group_1</th>\n",
       "      <th>Egg_Group_2</th>\n",
       "      <th>hasMegaEvolution</th>\n",
       "      <th>Height_m</th>\n",
       "      <th>Weight_kg</th>\n",
       "      <th>Catch_Rate</th>\n",
       "      <th>Body_Style</th>\n",
       "    </tr>\n",
       "    <tr>\n",
       "      <th>Number</th>\n",
       "      <th></th>\n",
       "      <th></th>\n",
       "      <th></th>\n",
       "      <th></th>\n",
       "      <th></th>\n",
       "      <th></th>\n",
       "      <th></th>\n",
       "      <th></th>\n",
       "      <th></th>\n",
       "      <th></th>\n",
       "      <th></th>\n",
       "      <th></th>\n",
       "      <th></th>\n",
       "      <th></th>\n",
       "      <th></th>\n",
       "      <th></th>\n",
       "      <th></th>\n",
       "      <th></th>\n",
       "      <th></th>\n",
       "      <th></th>\n",
       "      <th></th>\n",
       "      <th></th>\n",
       "    </tr>\n",
       "  </thead>\n",
       "  <tbody>\n",
       "    <tr>\n",
       "      <th>1</th>\n",
       "      <td>Bulbasaur</td>\n",
       "      <td>Grass</td>\n",
       "      <td>Poison</td>\n",
       "      <td>318</td>\n",
       "      <td>45</td>\n",
       "      <td>49</td>\n",
       "      <td>49</td>\n",
       "      <td>65</td>\n",
       "      <td>65</td>\n",
       "      <td>45</td>\n",
       "      <td>1</td>\n",
       "      <td>False</td>\n",
       "      <td>Green</td>\n",
       "      <td>True</td>\n",
       "      <td>0.875</td>\n",
       "      <td>Monster</td>\n",
       "      <td>Grass</td>\n",
       "      <td>False</td>\n",
       "      <td>0.71</td>\n",
       "      <td>6.9</td>\n",
       "      <td>45</td>\n",
       "      <td>quadruped</td>\n",
       "    </tr>\n",
       "    <tr>\n",
       "      <th>2</th>\n",
       "      <td>Ivysaur</td>\n",
       "      <td>Grass</td>\n",
       "      <td>Poison</td>\n",
       "      <td>405</td>\n",
       "      <td>60</td>\n",
       "      <td>62</td>\n",
       "      <td>63</td>\n",
       "      <td>80</td>\n",
       "      <td>80</td>\n",
       "      <td>60</td>\n",
       "      <td>1</td>\n",
       "      <td>False</td>\n",
       "      <td>Green</td>\n",
       "      <td>True</td>\n",
       "      <td>0.875</td>\n",
       "      <td>Monster</td>\n",
       "      <td>Grass</td>\n",
       "      <td>False</td>\n",
       "      <td>0.99</td>\n",
       "      <td>13.0</td>\n",
       "      <td>45</td>\n",
       "      <td>quadruped</td>\n",
       "    </tr>\n",
       "    <tr>\n",
       "      <th>3</th>\n",
       "      <td>Venusaur</td>\n",
       "      <td>Grass</td>\n",
       "      <td>Poison</td>\n",
       "      <td>525</td>\n",
       "      <td>80</td>\n",
       "      <td>82</td>\n",
       "      <td>83</td>\n",
       "      <td>100</td>\n",
       "      <td>100</td>\n",
       "      <td>80</td>\n",
       "      <td>1</td>\n",
       "      <td>False</td>\n",
       "      <td>Green</td>\n",
       "      <td>True</td>\n",
       "      <td>0.875</td>\n",
       "      <td>Monster</td>\n",
       "      <td>Grass</td>\n",
       "      <td>True</td>\n",
       "      <td>2.01</td>\n",
       "      <td>100.0</td>\n",
       "      <td>45</td>\n",
       "      <td>quadruped</td>\n",
       "    </tr>\n",
       "    <tr>\n",
       "      <th>4</th>\n",
       "      <td>Charmander</td>\n",
       "      <td>Fire</td>\n",
       "      <td>NaN</td>\n",
       "      <td>309</td>\n",
       "      <td>39</td>\n",
       "      <td>52</td>\n",
       "      <td>43</td>\n",
       "      <td>60</td>\n",
       "      <td>50</td>\n",
       "      <td>65</td>\n",
       "      <td>1</td>\n",
       "      <td>False</td>\n",
       "      <td>Red</td>\n",
       "      <td>True</td>\n",
       "      <td>0.875</td>\n",
       "      <td>Monster</td>\n",
       "      <td>Dragon</td>\n",
       "      <td>False</td>\n",
       "      <td>0.61</td>\n",
       "      <td>8.5</td>\n",
       "      <td>45</td>\n",
       "      <td>bipedal_tailed</td>\n",
       "    </tr>\n",
       "    <tr>\n",
       "      <th>5</th>\n",
       "      <td>Charmeleon</td>\n",
       "      <td>Fire</td>\n",
       "      <td>NaN</td>\n",
       "      <td>405</td>\n",
       "      <td>58</td>\n",
       "      <td>64</td>\n",
       "      <td>58</td>\n",
       "      <td>80</td>\n",
       "      <td>65</td>\n",
       "      <td>80</td>\n",
       "      <td>1</td>\n",
       "      <td>False</td>\n",
       "      <td>Red</td>\n",
       "      <td>True</td>\n",
       "      <td>0.875</td>\n",
       "      <td>Monster</td>\n",
       "      <td>Dragon</td>\n",
       "      <td>False</td>\n",
       "      <td>1.09</td>\n",
       "      <td>19.0</td>\n",
       "      <td>45</td>\n",
       "      <td>bipedal_tailed</td>\n",
       "    </tr>\n",
       "    <tr>\n",
       "      <th>...</th>\n",
       "      <td>...</td>\n",
       "      <td>...</td>\n",
       "      <td>...</td>\n",
       "      <td>...</td>\n",
       "      <td>...</td>\n",
       "      <td>...</td>\n",
       "      <td>...</td>\n",
       "      <td>...</td>\n",
       "      <td>...</td>\n",
       "      <td>...</td>\n",
       "      <td>...</td>\n",
       "      <td>...</td>\n",
       "      <td>...</td>\n",
       "      <td>...</td>\n",
       "      <td>...</td>\n",
       "      <td>...</td>\n",
       "      <td>...</td>\n",
       "      <td>...</td>\n",
       "      <td>...</td>\n",
       "      <td>...</td>\n",
       "      <td>...</td>\n",
       "      <td>...</td>\n",
       "    </tr>\n",
       "    <tr>\n",
       "      <th>717</th>\n",
       "      <td>Yveltal</td>\n",
       "      <td>Dark</td>\n",
       "      <td>Flying</td>\n",
       "      <td>680</td>\n",
       "      <td>126</td>\n",
       "      <td>131</td>\n",
       "      <td>95</td>\n",
       "      <td>131</td>\n",
       "      <td>98</td>\n",
       "      <td>99</td>\n",
       "      <td>6</td>\n",
       "      <td>True</td>\n",
       "      <td>Red</td>\n",
       "      <td>False</td>\n",
       "      <td>NaN</td>\n",
       "      <td>Undiscovered</td>\n",
       "      <td>NaN</td>\n",
       "      <td>False</td>\n",
       "      <td>5.79</td>\n",
       "      <td>203.0</td>\n",
       "      <td>45</td>\n",
       "      <td>two_wings</td>\n",
       "    </tr>\n",
       "    <tr>\n",
       "      <th>718</th>\n",
       "      <td>Zygarde</td>\n",
       "      <td>Dragon</td>\n",
       "      <td>Ground</td>\n",
       "      <td>600</td>\n",
       "      <td>108</td>\n",
       "      <td>100</td>\n",
       "      <td>121</td>\n",
       "      <td>81</td>\n",
       "      <td>95</td>\n",
       "      <td>95</td>\n",
       "      <td>6</td>\n",
       "      <td>True</td>\n",
       "      <td>Green</td>\n",
       "      <td>False</td>\n",
       "      <td>NaN</td>\n",
       "      <td>Undiscovered</td>\n",
       "      <td>NaN</td>\n",
       "      <td>False</td>\n",
       "      <td>5.00</td>\n",
       "      <td>305.0</td>\n",
       "      <td>3</td>\n",
       "      <td>serpentine_body</td>\n",
       "    </tr>\n",
       "    <tr>\n",
       "      <th>719</th>\n",
       "      <td>Diancie</td>\n",
       "      <td>Rock</td>\n",
       "      <td>Fairy</td>\n",
       "      <td>600</td>\n",
       "      <td>50</td>\n",
       "      <td>100</td>\n",
       "      <td>150</td>\n",
       "      <td>100</td>\n",
       "      <td>150</td>\n",
       "      <td>50</td>\n",
       "      <td>6</td>\n",
       "      <td>True</td>\n",
       "      <td>Pink</td>\n",
       "      <td>False</td>\n",
       "      <td>NaN</td>\n",
       "      <td>Undiscovered</td>\n",
       "      <td>NaN</td>\n",
       "      <td>True</td>\n",
       "      <td>0.71</td>\n",
       "      <td>8.8</td>\n",
       "      <td>3</td>\n",
       "      <td>head_arms</td>\n",
       "    </tr>\n",
       "    <tr>\n",
       "      <th>720</th>\n",
       "      <td>Hoopa</td>\n",
       "      <td>Psychic</td>\n",
       "      <td>Ghost</td>\n",
       "      <td>600</td>\n",
       "      <td>80</td>\n",
       "      <td>110</td>\n",
       "      <td>60</td>\n",
       "      <td>150</td>\n",
       "      <td>130</td>\n",
       "      <td>70</td>\n",
       "      <td>6</td>\n",
       "      <td>True</td>\n",
       "      <td>Purple</td>\n",
       "      <td>False</td>\n",
       "      <td>NaN</td>\n",
       "      <td>Undiscovered</td>\n",
       "      <td>NaN</td>\n",
       "      <td>False</td>\n",
       "      <td>0.51</td>\n",
       "      <td>9.0</td>\n",
       "      <td>3</td>\n",
       "      <td>head_only</td>\n",
       "    </tr>\n",
       "    <tr>\n",
       "      <th>721</th>\n",
       "      <td>Volcanion</td>\n",
       "      <td>Fire</td>\n",
       "      <td>Water</td>\n",
       "      <td>600</td>\n",
       "      <td>80</td>\n",
       "      <td>110</td>\n",
       "      <td>120</td>\n",
       "      <td>130</td>\n",
       "      <td>90</td>\n",
       "      <td>70</td>\n",
       "      <td>6</td>\n",
       "      <td>True</td>\n",
       "      <td>Brown</td>\n",
       "      <td>False</td>\n",
       "      <td>NaN</td>\n",
       "      <td>Undiscovered</td>\n",
       "      <td>NaN</td>\n",
       "      <td>False</td>\n",
       "      <td>1.70</td>\n",
       "      <td>195.0</td>\n",
       "      <td>3</td>\n",
       "      <td>quadruped</td>\n",
       "    </tr>\n",
       "  </tbody>\n",
       "</table>\n",
       "<p>721 rows × 22 columns</p>\n",
       "</div>"
      ],
      "text/plain": [
       "              Name   Type_1  Type_2  Total   HP  Attack  Defense  Sp_Atk  \\\n",
       "Number                                                                     \n",
       "1        Bulbasaur    Grass  Poison    318   45      49       49      65   \n",
       "2          Ivysaur    Grass  Poison    405   60      62       63      80   \n",
       "3         Venusaur    Grass  Poison    525   80      82       83     100   \n",
       "4       Charmander     Fire     NaN    309   39      52       43      60   \n",
       "5       Charmeleon     Fire     NaN    405   58      64       58      80   \n",
       "...            ...      ...     ...    ...  ...     ...      ...     ...   \n",
       "717        Yveltal     Dark  Flying    680  126     131       95     131   \n",
       "718        Zygarde   Dragon  Ground    600  108     100      121      81   \n",
       "719        Diancie     Rock   Fairy    600   50     100      150     100   \n",
       "720          Hoopa  Psychic   Ghost    600   80     110       60     150   \n",
       "721      Volcanion     Fire   Water    600   80     110      120     130   \n",
       "\n",
       "        Sp_Def  Speed  Generation  isLegendary   Color  hasGender  Pr_Male  \\\n",
       "Number                                                                       \n",
       "1           65     45           1        False   Green       True    0.875   \n",
       "2           80     60           1        False   Green       True    0.875   \n",
       "3          100     80           1        False   Green       True    0.875   \n",
       "4           50     65           1        False     Red       True    0.875   \n",
       "5           65     80           1        False     Red       True    0.875   \n",
       "...        ...    ...         ...          ...     ...        ...      ...   \n",
       "717         98     99           6         True     Red      False      NaN   \n",
       "718         95     95           6         True   Green      False      NaN   \n",
       "719        150     50           6         True    Pink      False      NaN   \n",
       "720        130     70           6         True  Purple      False      NaN   \n",
       "721         90     70           6         True   Brown      False      NaN   \n",
       "\n",
       "         Egg_Group_1 Egg_Group_2  hasMegaEvolution  Height_m  Weight_kg  \\\n",
       "Number                                                                    \n",
       "1            Monster       Grass             False      0.71        6.9   \n",
       "2            Monster       Grass             False      0.99       13.0   \n",
       "3            Monster       Grass              True      2.01      100.0   \n",
       "4            Monster      Dragon             False      0.61        8.5   \n",
       "5            Monster      Dragon             False      1.09       19.0   \n",
       "...              ...         ...               ...       ...        ...   \n",
       "717     Undiscovered         NaN             False      5.79      203.0   \n",
       "718     Undiscovered         NaN             False      5.00      305.0   \n",
       "719     Undiscovered         NaN              True      0.71        8.8   \n",
       "720     Undiscovered         NaN             False      0.51        9.0   \n",
       "721     Undiscovered         NaN             False      1.70      195.0   \n",
       "\n",
       "        Catch_Rate       Body_Style  \n",
       "Number                               \n",
       "1               45        quadruped  \n",
       "2               45        quadruped  \n",
       "3               45        quadruped  \n",
       "4               45   bipedal_tailed  \n",
       "5               45   bipedal_tailed  \n",
       "...            ...              ...  \n",
       "717             45        two_wings  \n",
       "718              3  serpentine_body  \n",
       "719              3        head_arms  \n",
       "720              3        head_only  \n",
       "721              3        quadruped  \n",
       "\n",
       "[721 rows x 22 columns]"
      ]
     },
     "execution_count": 21,
     "metadata": {},
     "output_type": "execute_result"
    }
   ],
   "source": [
    "df"
   ]
  },
  {
   "cell_type": "code",
   "execution_count": 22,
   "metadata": {},
   "outputs": [],
   "source": [
    "poketype_df = df.groupby('Type_1').sum()"
   ]
  },
  {
   "cell_type": "code",
   "execution_count": 23,
   "metadata": {},
   "outputs": [
    {
     "data": {
      "text/html": [
       "<div>\n",
       "<style scoped>\n",
       "    .dataframe tbody tr th:only-of-type {\n",
       "        vertical-align: middle;\n",
       "    }\n",
       "\n",
       "    .dataframe tbody tr th {\n",
       "        vertical-align: top;\n",
       "    }\n",
       "\n",
       "    .dataframe thead th {\n",
       "        text-align: right;\n",
       "    }\n",
       "</style>\n",
       "<table border=\"1\" class=\"dataframe\">\n",
       "  <thead>\n",
       "    <tr style=\"text-align: right;\">\n",
       "      <th></th>\n",
       "      <th>Total</th>\n",
       "      <th>HP</th>\n",
       "      <th>Attack</th>\n",
       "      <th>Defense</th>\n",
       "      <th>Sp_Atk</th>\n",
       "      <th>Sp_Def</th>\n",
       "      <th>Speed</th>\n",
       "      <th>Generation</th>\n",
       "      <th>isLegendary</th>\n",
       "      <th>hasGender</th>\n",
       "      <th>Pr_Male</th>\n",
       "      <th>hasMegaEvolution</th>\n",
       "      <th>Height_m</th>\n",
       "      <th>Weight_kg</th>\n",
       "      <th>Catch_Rate</th>\n",
       "    </tr>\n",
       "    <tr>\n",
       "      <th>Type_1</th>\n",
       "      <th></th>\n",
       "      <th></th>\n",
       "      <th></th>\n",
       "      <th></th>\n",
       "      <th></th>\n",
       "      <th></th>\n",
       "      <th></th>\n",
       "      <th></th>\n",
       "      <th></th>\n",
       "      <th></th>\n",
       "      <th></th>\n",
       "      <th></th>\n",
       "      <th></th>\n",
       "      <th></th>\n",
       "      <th></th>\n",
       "    </tr>\n",
       "  </thead>\n",
       "  <tbody>\n",
       "    <tr>\n",
       "      <th>Bug</th>\n",
       "      <td>23003</td>\n",
       "      <td>3525</td>\n",
       "      <td>4109</td>\n",
       "      <td>4265</td>\n",
       "      <td>3404</td>\n",
       "      <td>3916</td>\n",
       "      <td>3784</td>\n",
       "      <td>208</td>\n",
       "      <td>0</td>\n",
       "      <td>61</td>\n",
       "      <td>30.375</td>\n",
       "      <td>4</td>\n",
       "      <td>54.13</td>\n",
       "      <td>1842.8</td>\n",
       "      <td>7528</td>\n",
       "    </tr>\n",
       "    <tr>\n",
       "      <th>Dark</th>\n",
       "      <td>12173</td>\n",
       "      <td>1881</td>\n",
       "      <td>2415</td>\n",
       "      <td>1902</td>\n",
       "      <td>1974</td>\n",
       "      <td>1890</td>\n",
       "      <td>2111</td>\n",
       "      <td>117</td>\n",
       "      <td>2</td>\n",
       "      <td>26</td>\n",
       "      <td>13.125</td>\n",
       "      <td>3</td>\n",
       "      <td>32.09</td>\n",
       "      <td>1115.8</td>\n",
       "      <td>2435</td>\n",
       "    </tr>\n",
       "    <tr>\n",
       "      <th>Dragon</th>\n",
       "      <td>12047</td>\n",
       "      <td>1873</td>\n",
       "      <td>2463</td>\n",
       "      <td>1899</td>\n",
       "      <td>1979</td>\n",
       "      <td>1993</td>\n",
       "      <td>1840</td>\n",
       "      <td>95</td>\n",
       "      <td>7</td>\n",
       "      <td>19</td>\n",
       "      <td>9.500</td>\n",
       "      <td>6</td>\n",
       "      <td>48.93</td>\n",
       "      <td>2757.9</td>\n",
       "      <td>873</td>\n",
       "    </tr>\n",
       "    <tr>\n",
       "      <th>Electric</th>\n",
       "      <td>15145</td>\n",
       "      <td>2142</td>\n",
       "      <td>2440</td>\n",
       "      <td>2127</td>\n",
       "      <td>2991</td>\n",
       "      <td>2438</td>\n",
       "      <td>3007</td>\n",
       "      <td>114</td>\n",
       "      <td>3</td>\n",
       "      <td>28</td>\n",
       "      <td>15.625</td>\n",
       "      <td>2</td>\n",
       "      <td>32.22</td>\n",
       "      <td>1348.1</td>\n",
       "      <td>3959</td>\n",
       "    </tr>\n",
       "    <tr>\n",
       "      <th>Fairy</th>\n",
       "      <td>7024</td>\n",
       "      <td>1260</td>\n",
       "      <td>1046</td>\n",
       "      <td>1117</td>\n",
       "      <td>1335</td>\n",
       "      <td>1440</td>\n",
       "      <td>826</td>\n",
       "      <td>70</td>\n",
       "      <td>1</td>\n",
       "      <td>16</td>\n",
       "      <td>6.750</td>\n",
       "      <td>0</td>\n",
       "      <td>14.20</td>\n",
       "      <td>423.7</td>\n",
       "      <td>2045</td>\n",
       "    </tr>\n",
       "    <tr>\n",
       "      <th>Fighting</th>\n",
       "      <td>10109</td>\n",
       "      <td>1756</td>\n",
       "      <td>2368</td>\n",
       "      <td>1607</td>\n",
       "      <td>1214</td>\n",
       "      <td>1592</td>\n",
       "      <td>1572</td>\n",
       "      <td>84</td>\n",
       "      <td>0</td>\n",
       "      <td>25</td>\n",
       "      <td>18.250</td>\n",
       "      <td>2</td>\n",
       "      <td>29.21</td>\n",
       "      <td>1373.1</td>\n",
       "      <td>2575</td>\n",
       "    </tr>\n",
       "    <tr>\n",
       "      <th>Fire</th>\n",
       "      <td>20822</td>\n",
       "      <td>3224</td>\n",
       "      <td>3864</td>\n",
       "      <td>3050</td>\n",
       "      <td>3923</td>\n",
       "      <td>3265</td>\n",
       "      <td>3496</td>\n",
       "      <td>154</td>\n",
       "      <td>5</td>\n",
       "      <td>43</td>\n",
       "      <td>29.375</td>\n",
       "      <td>3</td>\n",
       "      <td>54.69</td>\n",
       "      <td>3006.9</td>\n",
       "      <td>3515</td>\n",
       "    </tr>\n",
       "    <tr>\n",
       "      <th>Flying</th>\n",
       "      <td>1360</td>\n",
       "      <td>204</td>\n",
       "      <td>215</td>\n",
       "      <td>185</td>\n",
       "      <td>267</td>\n",
       "      <td>200</td>\n",
       "      <td>289</td>\n",
       "      <td>17</td>\n",
       "      <td>1</td>\n",
       "      <td>3</td>\n",
       "      <td>2.000</td>\n",
       "      <td>0</td>\n",
       "      <td>3.51</td>\n",
       "      <td>156.0</td>\n",
       "      <td>238</td>\n",
       "    </tr>\n",
       "    <tr>\n",
       "      <th>Ghost</th>\n",
       "      <td>9744</td>\n",
       "      <td>1416</td>\n",
       "      <td>1553</td>\n",
       "      <td>1747</td>\n",
       "      <td>1870</td>\n",
       "      <td>1759</td>\n",
       "      <td>1399</td>\n",
       "      <td>90</td>\n",
       "      <td>1</td>\n",
       "      <td>22</td>\n",
       "      <td>11.000</td>\n",
       "      <td>2</td>\n",
       "      <td>29.93</td>\n",
       "      <td>1237.7</td>\n",
       "      <td>2263</td>\n",
       "    </tr>\n",
       "    <tr>\n",
       "      <th>Grass</th>\n",
       "      <td>27031</td>\n",
       "      <td>4369</td>\n",
       "      <td>4680</td>\n",
       "      <td>4578</td>\n",
       "      <td>4906</td>\n",
       "      <td>4545</td>\n",
       "      <td>3953</td>\n",
       "      <td>223</td>\n",
       "      <td>2</td>\n",
       "      <td>64</td>\n",
       "      <td>38.875</td>\n",
       "      <td>3</td>\n",
       "      <td>64.97</td>\n",
       "      <td>2515.2</td>\n",
       "      <td>7018</td>\n",
       "    </tr>\n",
       "    <tr>\n",
       "      <th>Ground</th>\n",
       "      <td>12630</td>\n",
       "      <td>2172</td>\n",
       "      <td>2739</td>\n",
       "      <td>2465</td>\n",
       "      <td>1552</td>\n",
       "      <td>1838</td>\n",
       "      <td>1864</td>\n",
       "      <td>93</td>\n",
       "      <td>2</td>\n",
       "      <td>25</td>\n",
       "      <td>13.000</td>\n",
       "      <td>0</td>\n",
       "      <td>36.23</td>\n",
       "      <td>3141.8</td>\n",
       "      <td>3216</td>\n",
       "    </tr>\n",
       "    <tr>\n",
       "      <th>Ice</th>\n",
       "      <td>9823</td>\n",
       "      <td>1648</td>\n",
       "      <td>1626</td>\n",
       "      <td>1634</td>\n",
       "      <td>1741</td>\n",
       "      <td>1751</td>\n",
       "      <td>1423</td>\n",
       "      <td>82</td>\n",
       "      <td>2</td>\n",
       "      <td>20</td>\n",
       "      <td>8.875</td>\n",
       "      <td>1</td>\n",
       "      <td>27.76</td>\n",
       "      <td>2375.0</td>\n",
       "      <td>2166</td>\n",
       "    </tr>\n",
       "    <tr>\n",
       "      <th>Normal</th>\n",
       "      <td>36471</td>\n",
       "      <td>7117</td>\n",
       "      <td>6671</td>\n",
       "      <td>5375</td>\n",
       "      <td>5064</td>\n",
       "      <td>5766</td>\n",
       "      <td>6478</td>\n",
       "      <td>283</td>\n",
       "      <td>2</td>\n",
       "      <td>86</td>\n",
       "      <td>40.625</td>\n",
       "      <td>4</td>\n",
       "      <td>91.13</td>\n",
       "      <td>4014.3</td>\n",
       "      <td>11445</td>\n",
       "    </tr>\n",
       "    <tr>\n",
       "      <th>Poison</th>\n",
       "      <td>11176</td>\n",
       "      <td>1883</td>\n",
       "      <td>2091</td>\n",
       "      <td>1927</td>\n",
       "      <td>1692</td>\n",
       "      <td>1803</td>\n",
       "      <td>1780</td>\n",
       "      <td>71</td>\n",
       "      <td>0</td>\n",
       "      <td>28</td>\n",
       "      <td>14.000</td>\n",
       "      <td>0</td>\n",
       "      <td>34.02</td>\n",
       "      <td>1025.4</td>\n",
       "      <td>3680</td>\n",
       "    </tr>\n",
       "    <tr>\n",
       "      <th>Psychic</th>\n",
       "      <td>20797</td>\n",
       "      <td>3319</td>\n",
       "      <td>2880</td>\n",
       "      <td>3057</td>\n",
       "      <td>4258</td>\n",
       "      <td>3872</td>\n",
       "      <td>3411</td>\n",
       "      <td>162</td>\n",
       "      <td>8</td>\n",
       "      <td>36</td>\n",
       "      <td>18.375</td>\n",
       "      <td>4</td>\n",
       "      <td>44.60</td>\n",
       "      <td>1391.5</td>\n",
       "      <td>4407</td>\n",
       "    </tr>\n",
       "    <tr>\n",
       "      <th>Rock</th>\n",
       "      <td>17950</td>\n",
       "      <td>2646</td>\n",
       "      <td>3627</td>\n",
       "      <td>4090</td>\n",
       "      <td>2462</td>\n",
       "      <td>2996</td>\n",
       "      <td>2129</td>\n",
       "      <td>143</td>\n",
       "      <td>3</td>\n",
       "      <td>35</td>\n",
       "      <td>24.625</td>\n",
       "      <td>3</td>\n",
       "      <td>54.29</td>\n",
       "      <td>4131.1</td>\n",
       "      <td>2834</td>\n",
       "    </tr>\n",
       "    <tr>\n",
       "      <th>Steel</th>\n",
       "      <td>10228</td>\n",
       "      <td>1426</td>\n",
       "      <td>1838</td>\n",
       "      <td>2627</td>\n",
       "      <td>1398</td>\n",
       "      <td>1747</td>\n",
       "      <td>1192</td>\n",
       "      <td>87</td>\n",
       "      <td>4</td>\n",
       "      <td>10</td>\n",
       "      <td>5.000</td>\n",
       "      <td>4</td>\n",
       "      <td>34.90</td>\n",
       "      <td>3451.8</td>\n",
       "      <td>1386</td>\n",
       "    </tr>\n",
       "    <tr>\n",
       "      <th>Water</th>\n",
       "      <td>43806</td>\n",
       "      <td>7441</td>\n",
       "      <td>7460</td>\n",
       "      <td>7401</td>\n",
       "      <td>7530</td>\n",
       "      <td>7148</td>\n",
       "      <td>6826</td>\n",
       "      <td>303</td>\n",
       "      <td>3</td>\n",
       "      <td>97</td>\n",
       "      <td>57.000</td>\n",
       "      <td>5</td>\n",
       "      <td>138.72</td>\n",
       "      <td>5625.5</td>\n",
       "      <td>10695</td>\n",
       "    </tr>\n",
       "  </tbody>\n",
       "</table>\n",
       "</div>"
      ],
      "text/plain": [
       "          Total    HP  Attack  Defense  Sp_Atk  Sp_Def  Speed  Generation  \\\n",
       "Type_1                                                                      \n",
       "Bug       23003  3525    4109     4265    3404    3916   3784         208   \n",
       "Dark      12173  1881    2415     1902    1974    1890   2111         117   \n",
       "Dragon    12047  1873    2463     1899    1979    1993   1840          95   \n",
       "Electric  15145  2142    2440     2127    2991    2438   3007         114   \n",
       "Fairy      7024  1260    1046     1117    1335    1440    826          70   \n",
       "Fighting  10109  1756    2368     1607    1214    1592   1572          84   \n",
       "Fire      20822  3224    3864     3050    3923    3265   3496         154   \n",
       "Flying     1360   204     215      185     267     200    289          17   \n",
       "Ghost      9744  1416    1553     1747    1870    1759   1399          90   \n",
       "Grass     27031  4369    4680     4578    4906    4545   3953         223   \n",
       "Ground    12630  2172    2739     2465    1552    1838   1864          93   \n",
       "Ice        9823  1648    1626     1634    1741    1751   1423          82   \n",
       "Normal    36471  7117    6671     5375    5064    5766   6478         283   \n",
       "Poison    11176  1883    2091     1927    1692    1803   1780          71   \n",
       "Psychic   20797  3319    2880     3057    4258    3872   3411         162   \n",
       "Rock      17950  2646    3627     4090    2462    2996   2129         143   \n",
       "Steel     10228  1426    1838     2627    1398    1747   1192          87   \n",
       "Water     43806  7441    7460     7401    7530    7148   6826         303   \n",
       "\n",
       "          isLegendary  hasGender  Pr_Male  hasMegaEvolution  Height_m  \\\n",
       "Type_1                                                                  \n",
       "Bug                 0         61   30.375                 4     54.13   \n",
       "Dark                2         26   13.125                 3     32.09   \n",
       "Dragon              7         19    9.500                 6     48.93   \n",
       "Electric            3         28   15.625                 2     32.22   \n",
       "Fairy               1         16    6.750                 0     14.20   \n",
       "Fighting            0         25   18.250                 2     29.21   \n",
       "Fire                5         43   29.375                 3     54.69   \n",
       "Flying              1          3    2.000                 0      3.51   \n",
       "Ghost               1         22   11.000                 2     29.93   \n",
       "Grass               2         64   38.875                 3     64.97   \n",
       "Ground              2         25   13.000                 0     36.23   \n",
       "Ice                 2         20    8.875                 1     27.76   \n",
       "Normal              2         86   40.625                 4     91.13   \n",
       "Poison              0         28   14.000                 0     34.02   \n",
       "Psychic             8         36   18.375                 4     44.60   \n",
       "Rock                3         35   24.625                 3     54.29   \n",
       "Steel               4         10    5.000                 4     34.90   \n",
       "Water               3         97   57.000                 5    138.72   \n",
       "\n",
       "          Weight_kg  Catch_Rate  \n",
       "Type_1                           \n",
       "Bug          1842.8        7528  \n",
       "Dark         1115.8        2435  \n",
       "Dragon       2757.9         873  \n",
       "Electric     1348.1        3959  \n",
       "Fairy         423.7        2045  \n",
       "Fighting     1373.1        2575  \n",
       "Fire         3006.9        3515  \n",
       "Flying        156.0         238  \n",
       "Ghost        1237.7        2263  \n",
       "Grass        2515.2        7018  \n",
       "Ground       3141.8        3216  \n",
       "Ice          2375.0        2166  \n",
       "Normal       4014.3       11445  \n",
       "Poison       1025.4        3680  \n",
       "Psychic      1391.5        4407  \n",
       "Rock         4131.1        2834  \n",
       "Steel        3451.8        1386  \n",
       "Water        5625.5       10695  "
      ]
     },
     "execution_count": 23,
     "metadata": {},
     "output_type": "execute_result"
    }
   ],
   "source": [
    "poketype_df"
   ]
  },
  {
   "cell_type": "code",
   "execution_count": 24,
   "metadata": {},
   "outputs": [
    {
     "data": {
      "application/vnd.plotly.v1+json": {
       "config": {
        "plotlyServerURL": "https://plot.ly"
       },
       "data": [
        {
         "alignmentgroup": "True",
         "hovertemplate": "Type_1=%{x}<br>Attack=%{y}<extra></extra>",
         "legendgroup": "",
         "marker": {
          "color": "#636efa",
          "pattern": {
           "shape": ""
          }
         },
         "name": "",
         "offsetgroup": "",
         "orientation": "v",
         "showlegend": false,
         "textposition": "auto",
         "type": "bar",
         "x": [
          "Bug",
          "Dark",
          "Dragon",
          "Electric",
          "Fairy",
          "Fighting",
          "Fire",
          "Flying",
          "Ghost",
          "Grass",
          "Ground",
          "Ice",
          "Normal",
          "Poison",
          "Psychic",
          "Rock",
          "Steel",
          "Water"
         ],
         "xaxis": "x",
         "y": [
          4109,
          2415,
          2463,
          2440,
          1046,
          2368,
          3864,
          215,
          1553,
          4680,
          2739,
          1626,
          6671,
          2091,
          2880,
          3627,
          1838,
          7460
         ],
         "yaxis": "y"
        }
       ],
       "layout": {
        "barmode": "relative",
        "legend": {
         "tracegroupgap": 0
        },
        "margin": {
         "t": 60
        },
        "template": {
         "data": {
          "bar": [
           {
            "error_x": {
             "color": "#2a3f5f"
            },
            "error_y": {
             "color": "#2a3f5f"
            },
            "marker": {
             "line": {
              "color": "#E5ECF6",
              "width": 0.5
             },
             "pattern": {
              "fillmode": "overlay",
              "size": 10,
              "solidity": 0.2
             }
            },
            "type": "bar"
           }
          ],
          "barpolar": [
           {
            "marker": {
             "line": {
              "color": "#E5ECF6",
              "width": 0.5
             },
             "pattern": {
              "fillmode": "overlay",
              "size": 10,
              "solidity": 0.2
             }
            },
            "type": "barpolar"
           }
          ],
          "carpet": [
           {
            "aaxis": {
             "endlinecolor": "#2a3f5f",
             "gridcolor": "white",
             "linecolor": "white",
             "minorgridcolor": "white",
             "startlinecolor": "#2a3f5f"
            },
            "baxis": {
             "endlinecolor": "#2a3f5f",
             "gridcolor": "white",
             "linecolor": "white",
             "minorgridcolor": "white",
             "startlinecolor": "#2a3f5f"
            },
            "type": "carpet"
           }
          ],
          "choropleth": [
           {
            "colorbar": {
             "outlinewidth": 0,
             "ticks": ""
            },
            "type": "choropleth"
           }
          ],
          "contour": [
           {
            "colorbar": {
             "outlinewidth": 0,
             "ticks": ""
            },
            "colorscale": [
             [
              0,
              "#0d0887"
             ],
             [
              0.1111111111111111,
              "#46039f"
             ],
             [
              0.2222222222222222,
              "#7201a8"
             ],
             [
              0.3333333333333333,
              "#9c179e"
             ],
             [
              0.4444444444444444,
              "#bd3786"
             ],
             [
              0.5555555555555556,
              "#d8576b"
             ],
             [
              0.6666666666666666,
              "#ed7953"
             ],
             [
              0.7777777777777778,
              "#fb9f3a"
             ],
             [
              0.8888888888888888,
              "#fdca26"
             ],
             [
              1,
              "#f0f921"
             ]
            ],
            "type": "contour"
           }
          ],
          "contourcarpet": [
           {
            "colorbar": {
             "outlinewidth": 0,
             "ticks": ""
            },
            "type": "contourcarpet"
           }
          ],
          "heatmap": [
           {
            "colorbar": {
             "outlinewidth": 0,
             "ticks": ""
            },
            "colorscale": [
             [
              0,
              "#0d0887"
             ],
             [
              0.1111111111111111,
              "#46039f"
             ],
             [
              0.2222222222222222,
              "#7201a8"
             ],
             [
              0.3333333333333333,
              "#9c179e"
             ],
             [
              0.4444444444444444,
              "#bd3786"
             ],
             [
              0.5555555555555556,
              "#d8576b"
             ],
             [
              0.6666666666666666,
              "#ed7953"
             ],
             [
              0.7777777777777778,
              "#fb9f3a"
             ],
             [
              0.8888888888888888,
              "#fdca26"
             ],
             [
              1,
              "#f0f921"
             ]
            ],
            "type": "heatmap"
           }
          ],
          "heatmapgl": [
           {
            "colorbar": {
             "outlinewidth": 0,
             "ticks": ""
            },
            "colorscale": [
             [
              0,
              "#0d0887"
             ],
             [
              0.1111111111111111,
              "#46039f"
             ],
             [
              0.2222222222222222,
              "#7201a8"
             ],
             [
              0.3333333333333333,
              "#9c179e"
             ],
             [
              0.4444444444444444,
              "#bd3786"
             ],
             [
              0.5555555555555556,
              "#d8576b"
             ],
             [
              0.6666666666666666,
              "#ed7953"
             ],
             [
              0.7777777777777778,
              "#fb9f3a"
             ],
             [
              0.8888888888888888,
              "#fdca26"
             ],
             [
              1,
              "#f0f921"
             ]
            ],
            "type": "heatmapgl"
           }
          ],
          "histogram": [
           {
            "marker": {
             "pattern": {
              "fillmode": "overlay",
              "size": 10,
              "solidity": 0.2
             }
            },
            "type": "histogram"
           }
          ],
          "histogram2d": [
           {
            "colorbar": {
             "outlinewidth": 0,
             "ticks": ""
            },
            "colorscale": [
             [
              0,
              "#0d0887"
             ],
             [
              0.1111111111111111,
              "#46039f"
             ],
             [
              0.2222222222222222,
              "#7201a8"
             ],
             [
              0.3333333333333333,
              "#9c179e"
             ],
             [
              0.4444444444444444,
              "#bd3786"
             ],
             [
              0.5555555555555556,
              "#d8576b"
             ],
             [
              0.6666666666666666,
              "#ed7953"
             ],
             [
              0.7777777777777778,
              "#fb9f3a"
             ],
             [
              0.8888888888888888,
              "#fdca26"
             ],
             [
              1,
              "#f0f921"
             ]
            ],
            "type": "histogram2d"
           }
          ],
          "histogram2dcontour": [
           {
            "colorbar": {
             "outlinewidth": 0,
             "ticks": ""
            },
            "colorscale": [
             [
              0,
              "#0d0887"
             ],
             [
              0.1111111111111111,
              "#46039f"
             ],
             [
              0.2222222222222222,
              "#7201a8"
             ],
             [
              0.3333333333333333,
              "#9c179e"
             ],
             [
              0.4444444444444444,
              "#bd3786"
             ],
             [
              0.5555555555555556,
              "#d8576b"
             ],
             [
              0.6666666666666666,
              "#ed7953"
             ],
             [
              0.7777777777777778,
              "#fb9f3a"
             ],
             [
              0.8888888888888888,
              "#fdca26"
             ],
             [
              1,
              "#f0f921"
             ]
            ],
            "type": "histogram2dcontour"
           }
          ],
          "mesh3d": [
           {
            "colorbar": {
             "outlinewidth": 0,
             "ticks": ""
            },
            "type": "mesh3d"
           }
          ],
          "parcoords": [
           {
            "line": {
             "colorbar": {
              "outlinewidth": 0,
              "ticks": ""
             }
            },
            "type": "parcoords"
           }
          ],
          "pie": [
           {
            "automargin": true,
            "type": "pie"
           }
          ],
          "scatter": [
           {
            "marker": {
             "colorbar": {
              "outlinewidth": 0,
              "ticks": ""
             }
            },
            "type": "scatter"
           }
          ],
          "scatter3d": [
           {
            "line": {
             "colorbar": {
              "outlinewidth": 0,
              "ticks": ""
             }
            },
            "marker": {
             "colorbar": {
              "outlinewidth": 0,
              "ticks": ""
             }
            },
            "type": "scatter3d"
           }
          ],
          "scattercarpet": [
           {
            "marker": {
             "colorbar": {
              "outlinewidth": 0,
              "ticks": ""
             }
            },
            "type": "scattercarpet"
           }
          ],
          "scattergeo": [
           {
            "marker": {
             "colorbar": {
              "outlinewidth": 0,
              "ticks": ""
             }
            },
            "type": "scattergeo"
           }
          ],
          "scattergl": [
           {
            "marker": {
             "colorbar": {
              "outlinewidth": 0,
              "ticks": ""
             }
            },
            "type": "scattergl"
           }
          ],
          "scattermapbox": [
           {
            "marker": {
             "colorbar": {
              "outlinewidth": 0,
              "ticks": ""
             }
            },
            "type": "scattermapbox"
           }
          ],
          "scatterpolar": [
           {
            "marker": {
             "colorbar": {
              "outlinewidth": 0,
              "ticks": ""
             }
            },
            "type": "scatterpolar"
           }
          ],
          "scatterpolargl": [
           {
            "marker": {
             "colorbar": {
              "outlinewidth": 0,
              "ticks": ""
             }
            },
            "type": "scatterpolargl"
           }
          ],
          "scatterternary": [
           {
            "marker": {
             "colorbar": {
              "outlinewidth": 0,
              "ticks": ""
             }
            },
            "type": "scatterternary"
           }
          ],
          "surface": [
           {
            "colorbar": {
             "outlinewidth": 0,
             "ticks": ""
            },
            "colorscale": [
             [
              0,
              "#0d0887"
             ],
             [
              0.1111111111111111,
              "#46039f"
             ],
             [
              0.2222222222222222,
              "#7201a8"
             ],
             [
              0.3333333333333333,
              "#9c179e"
             ],
             [
              0.4444444444444444,
              "#bd3786"
             ],
             [
              0.5555555555555556,
              "#d8576b"
             ],
             [
              0.6666666666666666,
              "#ed7953"
             ],
             [
              0.7777777777777778,
              "#fb9f3a"
             ],
             [
              0.8888888888888888,
              "#fdca26"
             ],
             [
              1,
              "#f0f921"
             ]
            ],
            "type": "surface"
           }
          ],
          "table": [
           {
            "cells": {
             "fill": {
              "color": "#EBF0F8"
             },
             "line": {
              "color": "white"
             }
            },
            "header": {
             "fill": {
              "color": "#C8D4E3"
             },
             "line": {
              "color": "white"
             }
            },
            "type": "table"
           }
          ]
         },
         "layout": {
          "annotationdefaults": {
           "arrowcolor": "#2a3f5f",
           "arrowhead": 0,
           "arrowwidth": 1
          },
          "autotypenumbers": "strict",
          "coloraxis": {
           "colorbar": {
            "outlinewidth": 0,
            "ticks": ""
           }
          },
          "colorscale": {
           "diverging": [
            [
             0,
             "#8e0152"
            ],
            [
             0.1,
             "#c51b7d"
            ],
            [
             0.2,
             "#de77ae"
            ],
            [
             0.3,
             "#f1b6da"
            ],
            [
             0.4,
             "#fde0ef"
            ],
            [
             0.5,
             "#f7f7f7"
            ],
            [
             0.6,
             "#e6f5d0"
            ],
            [
             0.7,
             "#b8e186"
            ],
            [
             0.8,
             "#7fbc41"
            ],
            [
             0.9,
             "#4d9221"
            ],
            [
             1,
             "#276419"
            ]
           ],
           "sequential": [
            [
             0,
             "#0d0887"
            ],
            [
             0.1111111111111111,
             "#46039f"
            ],
            [
             0.2222222222222222,
             "#7201a8"
            ],
            [
             0.3333333333333333,
             "#9c179e"
            ],
            [
             0.4444444444444444,
             "#bd3786"
            ],
            [
             0.5555555555555556,
             "#d8576b"
            ],
            [
             0.6666666666666666,
             "#ed7953"
            ],
            [
             0.7777777777777778,
             "#fb9f3a"
            ],
            [
             0.8888888888888888,
             "#fdca26"
            ],
            [
             1,
             "#f0f921"
            ]
           ],
           "sequentialminus": [
            [
             0,
             "#0d0887"
            ],
            [
             0.1111111111111111,
             "#46039f"
            ],
            [
             0.2222222222222222,
             "#7201a8"
            ],
            [
             0.3333333333333333,
             "#9c179e"
            ],
            [
             0.4444444444444444,
             "#bd3786"
            ],
            [
             0.5555555555555556,
             "#d8576b"
            ],
            [
             0.6666666666666666,
             "#ed7953"
            ],
            [
             0.7777777777777778,
             "#fb9f3a"
            ],
            [
             0.8888888888888888,
             "#fdca26"
            ],
            [
             1,
             "#f0f921"
            ]
           ]
          },
          "colorway": [
           "#636efa",
           "#EF553B",
           "#00cc96",
           "#ab63fa",
           "#FFA15A",
           "#19d3f3",
           "#FF6692",
           "#B6E880",
           "#FF97FF",
           "#FECB52"
          ],
          "font": {
           "color": "#2a3f5f"
          },
          "geo": {
           "bgcolor": "white",
           "lakecolor": "white",
           "landcolor": "#E5ECF6",
           "showlakes": true,
           "showland": true,
           "subunitcolor": "white"
          },
          "hoverlabel": {
           "align": "left"
          },
          "hovermode": "closest",
          "mapbox": {
           "style": "light"
          },
          "paper_bgcolor": "white",
          "plot_bgcolor": "#E5ECF6",
          "polar": {
           "angularaxis": {
            "gridcolor": "white",
            "linecolor": "white",
            "ticks": ""
           },
           "bgcolor": "#E5ECF6",
           "radialaxis": {
            "gridcolor": "white",
            "linecolor": "white",
            "ticks": ""
           }
          },
          "scene": {
           "xaxis": {
            "backgroundcolor": "#E5ECF6",
            "gridcolor": "white",
            "gridwidth": 2,
            "linecolor": "white",
            "showbackground": true,
            "ticks": "",
            "zerolinecolor": "white"
           },
           "yaxis": {
            "backgroundcolor": "#E5ECF6",
            "gridcolor": "white",
            "gridwidth": 2,
            "linecolor": "white",
            "showbackground": true,
            "ticks": "",
            "zerolinecolor": "white"
           },
           "zaxis": {
            "backgroundcolor": "#E5ECF6",
            "gridcolor": "white",
            "gridwidth": 2,
            "linecolor": "white",
            "showbackground": true,
            "ticks": "",
            "zerolinecolor": "white"
           }
          },
          "shapedefaults": {
           "line": {
            "color": "#2a3f5f"
           }
          },
          "ternary": {
           "aaxis": {
            "gridcolor": "white",
            "linecolor": "white",
            "ticks": ""
           },
           "baxis": {
            "gridcolor": "white",
            "linecolor": "white",
            "ticks": ""
           },
           "bgcolor": "#E5ECF6",
           "caxis": {
            "gridcolor": "white",
            "linecolor": "white",
            "ticks": ""
           }
          },
          "title": {
           "x": 0.05
          },
          "xaxis": {
           "automargin": true,
           "gridcolor": "white",
           "linecolor": "white",
           "ticks": "",
           "title": {
            "standoff": 15
           },
           "zerolinecolor": "white",
           "zerolinewidth": 2
          },
          "yaxis": {
           "automargin": true,
           "gridcolor": "white",
           "linecolor": "white",
           "ticks": "",
           "title": {
            "standoff": 15
           },
           "zerolinecolor": "white",
           "zerolinewidth": 2
          }
         }
        },
        "xaxis": {
         "anchor": "y",
         "domain": [
          0,
          1
         ],
         "title": {
          "text": "Type_1"
         }
        },
        "yaxis": {
         "anchor": "x",
         "domain": [
          0,
          1
         ],
         "title": {
          "text": "Attack"
         },
         "type": "log"
        }
       }
      }
     },
     "metadata": {},
     "output_type": "display_data"
    }
   ],
   "source": [
    "px.bar(poketype_df,x=poketype_df.index,y='Attack',log_y=True)"
   ]
  },
  {
   "cell_type": "markdown",
   "metadata": {},
   "source": [
    "### plotly combined graph"
   ]
  },
  {
   "cell_type": "code",
   "execution_count": 25,
   "metadata": {},
   "outputs": [],
   "source": [
    "import plotly.graph_objs as go"
   ]
  },
  {
   "cell_type": "code",
   "execution_count": 26,
   "metadata": {},
   "outputs": [
    {
     "data": {
      "application/vnd.plotly.v1+json": {
       "config": {
        "plotlyServerURL": "https://plot.ly"
       },
       "data": [
        {
         "name": "Attack",
         "type": "bar",
         "x": [
          "Bug",
          "Dark",
          "Dragon",
          "Electric",
          "Fairy",
          "Fighting",
          "Fire",
          "Flying",
          "Ghost",
          "Grass",
          "Ground",
          "Ice",
          "Normal",
          "Poison",
          "Psychic",
          "Rock",
          "Steel",
          "Water"
         ],
         "y": [
          4109,
          2415,
          2463,
          2440,
          1046,
          2368,
          3864,
          215,
          1553,
          4680,
          2739,
          1626,
          6671,
          2091,
          2880,
          3627,
          1838,
          7460
         ]
        },
        {
         "name": "Defense",
         "type": "bar",
         "x": [
          "Bug",
          "Dark",
          "Dragon",
          "Electric",
          "Fairy",
          "Fighting",
          "Fire",
          "Flying",
          "Ghost",
          "Grass",
          "Ground",
          "Ice",
          "Normal",
          "Poison",
          "Psychic",
          "Rock",
          "Steel",
          "Water"
         ],
         "y": [
          4265,
          1902,
          1899,
          2127,
          1117,
          1607,
          3050,
          185,
          1747,
          4578,
          2465,
          1634,
          5375,
          1927,
          3057,
          4090,
          2627,
          7401
         ]
        }
       ],
       "layout": {
        "template": {
         "data": {
          "bar": [
           {
            "error_x": {
             "color": "#2a3f5f"
            },
            "error_y": {
             "color": "#2a3f5f"
            },
            "marker": {
             "line": {
              "color": "#E5ECF6",
              "width": 0.5
             },
             "pattern": {
              "fillmode": "overlay",
              "size": 10,
              "solidity": 0.2
             }
            },
            "type": "bar"
           }
          ],
          "barpolar": [
           {
            "marker": {
             "line": {
              "color": "#E5ECF6",
              "width": 0.5
             },
             "pattern": {
              "fillmode": "overlay",
              "size": 10,
              "solidity": 0.2
             }
            },
            "type": "barpolar"
           }
          ],
          "carpet": [
           {
            "aaxis": {
             "endlinecolor": "#2a3f5f",
             "gridcolor": "white",
             "linecolor": "white",
             "minorgridcolor": "white",
             "startlinecolor": "#2a3f5f"
            },
            "baxis": {
             "endlinecolor": "#2a3f5f",
             "gridcolor": "white",
             "linecolor": "white",
             "minorgridcolor": "white",
             "startlinecolor": "#2a3f5f"
            },
            "type": "carpet"
           }
          ],
          "choropleth": [
           {
            "colorbar": {
             "outlinewidth": 0,
             "ticks": ""
            },
            "type": "choropleth"
           }
          ],
          "contour": [
           {
            "colorbar": {
             "outlinewidth": 0,
             "ticks": ""
            },
            "colorscale": [
             [
              0,
              "#0d0887"
             ],
             [
              0.1111111111111111,
              "#46039f"
             ],
             [
              0.2222222222222222,
              "#7201a8"
             ],
             [
              0.3333333333333333,
              "#9c179e"
             ],
             [
              0.4444444444444444,
              "#bd3786"
             ],
             [
              0.5555555555555556,
              "#d8576b"
             ],
             [
              0.6666666666666666,
              "#ed7953"
             ],
             [
              0.7777777777777778,
              "#fb9f3a"
             ],
             [
              0.8888888888888888,
              "#fdca26"
             ],
             [
              1,
              "#f0f921"
             ]
            ],
            "type": "contour"
           }
          ],
          "contourcarpet": [
           {
            "colorbar": {
             "outlinewidth": 0,
             "ticks": ""
            },
            "type": "contourcarpet"
           }
          ],
          "heatmap": [
           {
            "colorbar": {
             "outlinewidth": 0,
             "ticks": ""
            },
            "colorscale": [
             [
              0,
              "#0d0887"
             ],
             [
              0.1111111111111111,
              "#46039f"
             ],
             [
              0.2222222222222222,
              "#7201a8"
             ],
             [
              0.3333333333333333,
              "#9c179e"
             ],
             [
              0.4444444444444444,
              "#bd3786"
             ],
             [
              0.5555555555555556,
              "#d8576b"
             ],
             [
              0.6666666666666666,
              "#ed7953"
             ],
             [
              0.7777777777777778,
              "#fb9f3a"
             ],
             [
              0.8888888888888888,
              "#fdca26"
             ],
             [
              1,
              "#f0f921"
             ]
            ],
            "type": "heatmap"
           }
          ],
          "heatmapgl": [
           {
            "colorbar": {
             "outlinewidth": 0,
             "ticks": ""
            },
            "colorscale": [
             [
              0,
              "#0d0887"
             ],
             [
              0.1111111111111111,
              "#46039f"
             ],
             [
              0.2222222222222222,
              "#7201a8"
             ],
             [
              0.3333333333333333,
              "#9c179e"
             ],
             [
              0.4444444444444444,
              "#bd3786"
             ],
             [
              0.5555555555555556,
              "#d8576b"
             ],
             [
              0.6666666666666666,
              "#ed7953"
             ],
             [
              0.7777777777777778,
              "#fb9f3a"
             ],
             [
              0.8888888888888888,
              "#fdca26"
             ],
             [
              1,
              "#f0f921"
             ]
            ],
            "type": "heatmapgl"
           }
          ],
          "histogram": [
           {
            "marker": {
             "pattern": {
              "fillmode": "overlay",
              "size": 10,
              "solidity": 0.2
             }
            },
            "type": "histogram"
           }
          ],
          "histogram2d": [
           {
            "colorbar": {
             "outlinewidth": 0,
             "ticks": ""
            },
            "colorscale": [
             [
              0,
              "#0d0887"
             ],
             [
              0.1111111111111111,
              "#46039f"
             ],
             [
              0.2222222222222222,
              "#7201a8"
             ],
             [
              0.3333333333333333,
              "#9c179e"
             ],
             [
              0.4444444444444444,
              "#bd3786"
             ],
             [
              0.5555555555555556,
              "#d8576b"
             ],
             [
              0.6666666666666666,
              "#ed7953"
             ],
             [
              0.7777777777777778,
              "#fb9f3a"
             ],
             [
              0.8888888888888888,
              "#fdca26"
             ],
             [
              1,
              "#f0f921"
             ]
            ],
            "type": "histogram2d"
           }
          ],
          "histogram2dcontour": [
           {
            "colorbar": {
             "outlinewidth": 0,
             "ticks": ""
            },
            "colorscale": [
             [
              0,
              "#0d0887"
             ],
             [
              0.1111111111111111,
              "#46039f"
             ],
             [
              0.2222222222222222,
              "#7201a8"
             ],
             [
              0.3333333333333333,
              "#9c179e"
             ],
             [
              0.4444444444444444,
              "#bd3786"
             ],
             [
              0.5555555555555556,
              "#d8576b"
             ],
             [
              0.6666666666666666,
              "#ed7953"
             ],
             [
              0.7777777777777778,
              "#fb9f3a"
             ],
             [
              0.8888888888888888,
              "#fdca26"
             ],
             [
              1,
              "#f0f921"
             ]
            ],
            "type": "histogram2dcontour"
           }
          ],
          "mesh3d": [
           {
            "colorbar": {
             "outlinewidth": 0,
             "ticks": ""
            },
            "type": "mesh3d"
           }
          ],
          "parcoords": [
           {
            "line": {
             "colorbar": {
              "outlinewidth": 0,
              "ticks": ""
             }
            },
            "type": "parcoords"
           }
          ],
          "pie": [
           {
            "automargin": true,
            "type": "pie"
           }
          ],
          "scatter": [
           {
            "marker": {
             "colorbar": {
              "outlinewidth": 0,
              "ticks": ""
             }
            },
            "type": "scatter"
           }
          ],
          "scatter3d": [
           {
            "line": {
             "colorbar": {
              "outlinewidth": 0,
              "ticks": ""
             }
            },
            "marker": {
             "colorbar": {
              "outlinewidth": 0,
              "ticks": ""
             }
            },
            "type": "scatter3d"
           }
          ],
          "scattercarpet": [
           {
            "marker": {
             "colorbar": {
              "outlinewidth": 0,
              "ticks": ""
             }
            },
            "type": "scattercarpet"
           }
          ],
          "scattergeo": [
           {
            "marker": {
             "colorbar": {
              "outlinewidth": 0,
              "ticks": ""
             }
            },
            "type": "scattergeo"
           }
          ],
          "scattergl": [
           {
            "marker": {
             "colorbar": {
              "outlinewidth": 0,
              "ticks": ""
             }
            },
            "type": "scattergl"
           }
          ],
          "scattermapbox": [
           {
            "marker": {
             "colorbar": {
              "outlinewidth": 0,
              "ticks": ""
             }
            },
            "type": "scattermapbox"
           }
          ],
          "scatterpolar": [
           {
            "marker": {
             "colorbar": {
              "outlinewidth": 0,
              "ticks": ""
             }
            },
            "type": "scatterpolar"
           }
          ],
          "scatterpolargl": [
           {
            "marker": {
             "colorbar": {
              "outlinewidth": 0,
              "ticks": ""
             }
            },
            "type": "scatterpolargl"
           }
          ],
          "scatterternary": [
           {
            "marker": {
             "colorbar": {
              "outlinewidth": 0,
              "ticks": ""
             }
            },
            "type": "scatterternary"
           }
          ],
          "surface": [
           {
            "colorbar": {
             "outlinewidth": 0,
             "ticks": ""
            },
            "colorscale": [
             [
              0,
              "#0d0887"
             ],
             [
              0.1111111111111111,
              "#46039f"
             ],
             [
              0.2222222222222222,
              "#7201a8"
             ],
             [
              0.3333333333333333,
              "#9c179e"
             ],
             [
              0.4444444444444444,
              "#bd3786"
             ],
             [
              0.5555555555555556,
              "#d8576b"
             ],
             [
              0.6666666666666666,
              "#ed7953"
             ],
             [
              0.7777777777777778,
              "#fb9f3a"
             ],
             [
              0.8888888888888888,
              "#fdca26"
             ],
             [
              1,
              "#f0f921"
             ]
            ],
            "type": "surface"
           }
          ],
          "table": [
           {
            "cells": {
             "fill": {
              "color": "#EBF0F8"
             },
             "line": {
              "color": "white"
             }
            },
            "header": {
             "fill": {
              "color": "#C8D4E3"
             },
             "line": {
              "color": "white"
             }
            },
            "type": "table"
           }
          ]
         },
         "layout": {
          "annotationdefaults": {
           "arrowcolor": "#2a3f5f",
           "arrowhead": 0,
           "arrowwidth": 1
          },
          "autotypenumbers": "strict",
          "coloraxis": {
           "colorbar": {
            "outlinewidth": 0,
            "ticks": ""
           }
          },
          "colorscale": {
           "diverging": [
            [
             0,
             "#8e0152"
            ],
            [
             0.1,
             "#c51b7d"
            ],
            [
             0.2,
             "#de77ae"
            ],
            [
             0.3,
             "#f1b6da"
            ],
            [
             0.4,
             "#fde0ef"
            ],
            [
             0.5,
             "#f7f7f7"
            ],
            [
             0.6,
             "#e6f5d0"
            ],
            [
             0.7,
             "#b8e186"
            ],
            [
             0.8,
             "#7fbc41"
            ],
            [
             0.9,
             "#4d9221"
            ],
            [
             1,
             "#276419"
            ]
           ],
           "sequential": [
            [
             0,
             "#0d0887"
            ],
            [
             0.1111111111111111,
             "#46039f"
            ],
            [
             0.2222222222222222,
             "#7201a8"
            ],
            [
             0.3333333333333333,
             "#9c179e"
            ],
            [
             0.4444444444444444,
             "#bd3786"
            ],
            [
             0.5555555555555556,
             "#d8576b"
            ],
            [
             0.6666666666666666,
             "#ed7953"
            ],
            [
             0.7777777777777778,
             "#fb9f3a"
            ],
            [
             0.8888888888888888,
             "#fdca26"
            ],
            [
             1,
             "#f0f921"
            ]
           ],
           "sequentialminus": [
            [
             0,
             "#0d0887"
            ],
            [
             0.1111111111111111,
             "#46039f"
            ],
            [
             0.2222222222222222,
             "#7201a8"
            ],
            [
             0.3333333333333333,
             "#9c179e"
            ],
            [
             0.4444444444444444,
             "#bd3786"
            ],
            [
             0.5555555555555556,
             "#d8576b"
            ],
            [
             0.6666666666666666,
             "#ed7953"
            ],
            [
             0.7777777777777778,
             "#fb9f3a"
            ],
            [
             0.8888888888888888,
             "#fdca26"
            ],
            [
             1,
             "#f0f921"
            ]
           ]
          },
          "colorway": [
           "#636efa",
           "#EF553B",
           "#00cc96",
           "#ab63fa",
           "#FFA15A",
           "#19d3f3",
           "#FF6692",
           "#B6E880",
           "#FF97FF",
           "#FECB52"
          ],
          "font": {
           "color": "#2a3f5f"
          },
          "geo": {
           "bgcolor": "white",
           "lakecolor": "white",
           "landcolor": "#E5ECF6",
           "showlakes": true,
           "showland": true,
           "subunitcolor": "white"
          },
          "hoverlabel": {
           "align": "left"
          },
          "hovermode": "closest",
          "mapbox": {
           "style": "light"
          },
          "paper_bgcolor": "white",
          "plot_bgcolor": "#E5ECF6",
          "polar": {
           "angularaxis": {
            "gridcolor": "white",
            "linecolor": "white",
            "ticks": ""
           },
           "bgcolor": "#E5ECF6",
           "radialaxis": {
            "gridcolor": "white",
            "linecolor": "white",
            "ticks": ""
           }
          },
          "scene": {
           "xaxis": {
            "backgroundcolor": "#E5ECF6",
            "gridcolor": "white",
            "gridwidth": 2,
            "linecolor": "white",
            "showbackground": true,
            "ticks": "",
            "zerolinecolor": "white"
           },
           "yaxis": {
            "backgroundcolor": "#E5ECF6",
            "gridcolor": "white",
            "gridwidth": 2,
            "linecolor": "white",
            "showbackground": true,
            "ticks": "",
            "zerolinecolor": "white"
           },
           "zaxis": {
            "backgroundcolor": "#E5ECF6",
            "gridcolor": "white",
            "gridwidth": 2,
            "linecolor": "white",
            "showbackground": true,
            "ticks": "",
            "zerolinecolor": "white"
           }
          },
          "shapedefaults": {
           "line": {
            "color": "#2a3f5f"
           }
          },
          "ternary": {
           "aaxis": {
            "gridcolor": "white",
            "linecolor": "white",
            "ticks": ""
           },
           "baxis": {
            "gridcolor": "white",
            "linecolor": "white",
            "ticks": ""
           },
           "bgcolor": "#E5ECF6",
           "caxis": {
            "gridcolor": "white",
            "linecolor": "white",
            "ticks": ""
           }
          },
          "title": {
           "x": 0.05
          },
          "xaxis": {
           "automargin": true,
           "gridcolor": "white",
           "linecolor": "white",
           "ticks": "",
           "title": {
            "standoff": 15
           },
           "zerolinecolor": "white",
           "zerolinewidth": 2
          },
          "yaxis": {
           "automargin": true,
           "gridcolor": "white",
           "linecolor": "white",
           "ticks": "",
           "title": {
            "standoff": 15
           },
           "zerolinecolor": "white",
           "zerolinewidth": 2
          }
         }
        }
       }
      }
     },
     "metadata": {},
     "output_type": "display_data"
    }
   ],
   "source": [
    "x = poketype_df.index\n",
    "trace1 = {\n",
    "    'x': x,\n",
    "    'y': poketype_df.Attack,\n",
    "    'type': 'bar',\n",
    "    'name': 'Attack'\n",
    "}\n",
    "trace2 = {\n",
    "    'x': x,\n",
    "    'y': poketype_df.Defense,\n",
    "    'type': 'bar',\n",
    "    'name': 'Defense'\n",
    "}\n",
    "data = [trace1,trace2]\n",
    "go.Figure(data=data)"
   ]
  },
  {
   "cell_type": "code",
   "execution_count": 27,
   "metadata": {},
   "outputs": [
    {
     "data": {
      "application/vnd.plotly.v1+json": {
       "config": {
        "plotlyServerURL": "https://plot.ly"
       },
       "data": [
        {
         "name": "Attack",
         "type": "bar",
         "x": [
          "Bug",
          "Dark",
          "Dragon",
          "Electric",
          "Fairy",
          "Fighting",
          "Fire",
          "Flying",
          "Ghost",
          "Grass",
          "Ground",
          "Ice",
          "Normal",
          "Poison",
          "Psychic",
          "Rock",
          "Steel",
          "Water"
         ],
         "y": [
          4109,
          2415,
          2463,
          2440,
          1046,
          2368,
          3864,
          215,
          1553,
          4680,
          2739,
          1626,
          6671,
          2091,
          2880,
          3627,
          1838,
          7460
         ]
        },
        {
         "name": "Defense",
         "type": "bar",
         "x": [
          "Bug",
          "Dark",
          "Dragon",
          "Electric",
          "Fairy",
          "Fighting",
          "Fire",
          "Flying",
          "Ghost",
          "Grass",
          "Ground",
          "Ice",
          "Normal",
          "Poison",
          "Psychic",
          "Rock",
          "Steel",
          "Water"
         ],
         "y": [
          4265,
          1902,
          1899,
          2127,
          1117,
          1607,
          3050,
          185,
          1747,
          4578,
          2465,
          1634,
          5375,
          1927,
          3057,
          4090,
          2627,
          7401
         ]
        }
       ],
       "layout": {
        "barmode": "relative",
        "template": {
         "data": {
          "bar": [
           {
            "error_x": {
             "color": "#2a3f5f"
            },
            "error_y": {
             "color": "#2a3f5f"
            },
            "marker": {
             "line": {
              "color": "#E5ECF6",
              "width": 0.5
             },
             "pattern": {
              "fillmode": "overlay",
              "size": 10,
              "solidity": 0.2
             }
            },
            "type": "bar"
           }
          ],
          "barpolar": [
           {
            "marker": {
             "line": {
              "color": "#E5ECF6",
              "width": 0.5
             },
             "pattern": {
              "fillmode": "overlay",
              "size": 10,
              "solidity": 0.2
             }
            },
            "type": "barpolar"
           }
          ],
          "carpet": [
           {
            "aaxis": {
             "endlinecolor": "#2a3f5f",
             "gridcolor": "white",
             "linecolor": "white",
             "minorgridcolor": "white",
             "startlinecolor": "#2a3f5f"
            },
            "baxis": {
             "endlinecolor": "#2a3f5f",
             "gridcolor": "white",
             "linecolor": "white",
             "minorgridcolor": "white",
             "startlinecolor": "#2a3f5f"
            },
            "type": "carpet"
           }
          ],
          "choropleth": [
           {
            "colorbar": {
             "outlinewidth": 0,
             "ticks": ""
            },
            "type": "choropleth"
           }
          ],
          "contour": [
           {
            "colorbar": {
             "outlinewidth": 0,
             "ticks": ""
            },
            "colorscale": [
             [
              0,
              "#0d0887"
             ],
             [
              0.1111111111111111,
              "#46039f"
             ],
             [
              0.2222222222222222,
              "#7201a8"
             ],
             [
              0.3333333333333333,
              "#9c179e"
             ],
             [
              0.4444444444444444,
              "#bd3786"
             ],
             [
              0.5555555555555556,
              "#d8576b"
             ],
             [
              0.6666666666666666,
              "#ed7953"
             ],
             [
              0.7777777777777778,
              "#fb9f3a"
             ],
             [
              0.8888888888888888,
              "#fdca26"
             ],
             [
              1,
              "#f0f921"
             ]
            ],
            "type": "contour"
           }
          ],
          "contourcarpet": [
           {
            "colorbar": {
             "outlinewidth": 0,
             "ticks": ""
            },
            "type": "contourcarpet"
           }
          ],
          "heatmap": [
           {
            "colorbar": {
             "outlinewidth": 0,
             "ticks": ""
            },
            "colorscale": [
             [
              0,
              "#0d0887"
             ],
             [
              0.1111111111111111,
              "#46039f"
             ],
             [
              0.2222222222222222,
              "#7201a8"
             ],
             [
              0.3333333333333333,
              "#9c179e"
             ],
             [
              0.4444444444444444,
              "#bd3786"
             ],
             [
              0.5555555555555556,
              "#d8576b"
             ],
             [
              0.6666666666666666,
              "#ed7953"
             ],
             [
              0.7777777777777778,
              "#fb9f3a"
             ],
             [
              0.8888888888888888,
              "#fdca26"
             ],
             [
              1,
              "#f0f921"
             ]
            ],
            "type": "heatmap"
           }
          ],
          "heatmapgl": [
           {
            "colorbar": {
             "outlinewidth": 0,
             "ticks": ""
            },
            "colorscale": [
             [
              0,
              "#0d0887"
             ],
             [
              0.1111111111111111,
              "#46039f"
             ],
             [
              0.2222222222222222,
              "#7201a8"
             ],
             [
              0.3333333333333333,
              "#9c179e"
             ],
             [
              0.4444444444444444,
              "#bd3786"
             ],
             [
              0.5555555555555556,
              "#d8576b"
             ],
             [
              0.6666666666666666,
              "#ed7953"
             ],
             [
              0.7777777777777778,
              "#fb9f3a"
             ],
             [
              0.8888888888888888,
              "#fdca26"
             ],
             [
              1,
              "#f0f921"
             ]
            ],
            "type": "heatmapgl"
           }
          ],
          "histogram": [
           {
            "marker": {
             "pattern": {
              "fillmode": "overlay",
              "size": 10,
              "solidity": 0.2
             }
            },
            "type": "histogram"
           }
          ],
          "histogram2d": [
           {
            "colorbar": {
             "outlinewidth": 0,
             "ticks": ""
            },
            "colorscale": [
             [
              0,
              "#0d0887"
             ],
             [
              0.1111111111111111,
              "#46039f"
             ],
             [
              0.2222222222222222,
              "#7201a8"
             ],
             [
              0.3333333333333333,
              "#9c179e"
             ],
             [
              0.4444444444444444,
              "#bd3786"
             ],
             [
              0.5555555555555556,
              "#d8576b"
             ],
             [
              0.6666666666666666,
              "#ed7953"
             ],
             [
              0.7777777777777778,
              "#fb9f3a"
             ],
             [
              0.8888888888888888,
              "#fdca26"
             ],
             [
              1,
              "#f0f921"
             ]
            ],
            "type": "histogram2d"
           }
          ],
          "histogram2dcontour": [
           {
            "colorbar": {
             "outlinewidth": 0,
             "ticks": ""
            },
            "colorscale": [
             [
              0,
              "#0d0887"
             ],
             [
              0.1111111111111111,
              "#46039f"
             ],
             [
              0.2222222222222222,
              "#7201a8"
             ],
             [
              0.3333333333333333,
              "#9c179e"
             ],
             [
              0.4444444444444444,
              "#bd3786"
             ],
             [
              0.5555555555555556,
              "#d8576b"
             ],
             [
              0.6666666666666666,
              "#ed7953"
             ],
             [
              0.7777777777777778,
              "#fb9f3a"
             ],
             [
              0.8888888888888888,
              "#fdca26"
             ],
             [
              1,
              "#f0f921"
             ]
            ],
            "type": "histogram2dcontour"
           }
          ],
          "mesh3d": [
           {
            "colorbar": {
             "outlinewidth": 0,
             "ticks": ""
            },
            "type": "mesh3d"
           }
          ],
          "parcoords": [
           {
            "line": {
             "colorbar": {
              "outlinewidth": 0,
              "ticks": ""
             }
            },
            "type": "parcoords"
           }
          ],
          "pie": [
           {
            "automargin": true,
            "type": "pie"
           }
          ],
          "scatter": [
           {
            "marker": {
             "colorbar": {
              "outlinewidth": 0,
              "ticks": ""
             }
            },
            "type": "scatter"
           }
          ],
          "scatter3d": [
           {
            "line": {
             "colorbar": {
              "outlinewidth": 0,
              "ticks": ""
             }
            },
            "marker": {
             "colorbar": {
              "outlinewidth": 0,
              "ticks": ""
             }
            },
            "type": "scatter3d"
           }
          ],
          "scattercarpet": [
           {
            "marker": {
             "colorbar": {
              "outlinewidth": 0,
              "ticks": ""
             }
            },
            "type": "scattercarpet"
           }
          ],
          "scattergeo": [
           {
            "marker": {
             "colorbar": {
              "outlinewidth": 0,
              "ticks": ""
             }
            },
            "type": "scattergeo"
           }
          ],
          "scattergl": [
           {
            "marker": {
             "colorbar": {
              "outlinewidth": 0,
              "ticks": ""
             }
            },
            "type": "scattergl"
           }
          ],
          "scattermapbox": [
           {
            "marker": {
             "colorbar": {
              "outlinewidth": 0,
              "ticks": ""
             }
            },
            "type": "scattermapbox"
           }
          ],
          "scatterpolar": [
           {
            "marker": {
             "colorbar": {
              "outlinewidth": 0,
              "ticks": ""
             }
            },
            "type": "scatterpolar"
           }
          ],
          "scatterpolargl": [
           {
            "marker": {
             "colorbar": {
              "outlinewidth": 0,
              "ticks": ""
             }
            },
            "type": "scatterpolargl"
           }
          ],
          "scatterternary": [
           {
            "marker": {
             "colorbar": {
              "outlinewidth": 0,
              "ticks": ""
             }
            },
            "type": "scatterternary"
           }
          ],
          "surface": [
           {
            "colorbar": {
             "outlinewidth": 0,
             "ticks": ""
            },
            "colorscale": [
             [
              0,
              "#0d0887"
             ],
             [
              0.1111111111111111,
              "#46039f"
             ],
             [
              0.2222222222222222,
              "#7201a8"
             ],
             [
              0.3333333333333333,
              "#9c179e"
             ],
             [
              0.4444444444444444,
              "#bd3786"
             ],
             [
              0.5555555555555556,
              "#d8576b"
             ],
             [
              0.6666666666666666,
              "#ed7953"
             ],
             [
              0.7777777777777778,
              "#fb9f3a"
             ],
             [
              0.8888888888888888,
              "#fdca26"
             ],
             [
              1,
              "#f0f921"
             ]
            ],
            "type": "surface"
           }
          ],
          "table": [
           {
            "cells": {
             "fill": {
              "color": "#EBF0F8"
             },
             "line": {
              "color": "white"
             }
            },
            "header": {
             "fill": {
              "color": "#C8D4E3"
             },
             "line": {
              "color": "white"
             }
            },
            "type": "table"
           }
          ]
         },
         "layout": {
          "annotationdefaults": {
           "arrowcolor": "#2a3f5f",
           "arrowhead": 0,
           "arrowwidth": 1
          },
          "autotypenumbers": "strict",
          "coloraxis": {
           "colorbar": {
            "outlinewidth": 0,
            "ticks": ""
           }
          },
          "colorscale": {
           "diverging": [
            [
             0,
             "#8e0152"
            ],
            [
             0.1,
             "#c51b7d"
            ],
            [
             0.2,
             "#de77ae"
            ],
            [
             0.3,
             "#f1b6da"
            ],
            [
             0.4,
             "#fde0ef"
            ],
            [
             0.5,
             "#f7f7f7"
            ],
            [
             0.6,
             "#e6f5d0"
            ],
            [
             0.7,
             "#b8e186"
            ],
            [
             0.8,
             "#7fbc41"
            ],
            [
             0.9,
             "#4d9221"
            ],
            [
             1,
             "#276419"
            ]
           ],
           "sequential": [
            [
             0,
             "#0d0887"
            ],
            [
             0.1111111111111111,
             "#46039f"
            ],
            [
             0.2222222222222222,
             "#7201a8"
            ],
            [
             0.3333333333333333,
             "#9c179e"
            ],
            [
             0.4444444444444444,
             "#bd3786"
            ],
            [
             0.5555555555555556,
             "#d8576b"
            ],
            [
             0.6666666666666666,
             "#ed7953"
            ],
            [
             0.7777777777777778,
             "#fb9f3a"
            ],
            [
             0.8888888888888888,
             "#fdca26"
            ],
            [
             1,
             "#f0f921"
            ]
           ],
           "sequentialminus": [
            [
             0,
             "#0d0887"
            ],
            [
             0.1111111111111111,
             "#46039f"
            ],
            [
             0.2222222222222222,
             "#7201a8"
            ],
            [
             0.3333333333333333,
             "#9c179e"
            ],
            [
             0.4444444444444444,
             "#bd3786"
            ],
            [
             0.5555555555555556,
             "#d8576b"
            ],
            [
             0.6666666666666666,
             "#ed7953"
            ],
            [
             0.7777777777777778,
             "#fb9f3a"
            ],
            [
             0.8888888888888888,
             "#fdca26"
            ],
            [
             1,
             "#f0f921"
            ]
           ]
          },
          "colorway": [
           "#636efa",
           "#EF553B",
           "#00cc96",
           "#ab63fa",
           "#FFA15A",
           "#19d3f3",
           "#FF6692",
           "#B6E880",
           "#FF97FF",
           "#FECB52"
          ],
          "font": {
           "color": "#2a3f5f"
          },
          "geo": {
           "bgcolor": "white",
           "lakecolor": "white",
           "landcolor": "#E5ECF6",
           "showlakes": true,
           "showland": true,
           "subunitcolor": "white"
          },
          "hoverlabel": {
           "align": "left"
          },
          "hovermode": "closest",
          "mapbox": {
           "style": "light"
          },
          "paper_bgcolor": "white",
          "plot_bgcolor": "#E5ECF6",
          "polar": {
           "angularaxis": {
            "gridcolor": "white",
            "linecolor": "white",
            "ticks": ""
           },
           "bgcolor": "#E5ECF6",
           "radialaxis": {
            "gridcolor": "white",
            "linecolor": "white",
            "ticks": ""
           }
          },
          "scene": {
           "xaxis": {
            "backgroundcolor": "#E5ECF6",
            "gridcolor": "white",
            "gridwidth": 2,
            "linecolor": "white",
            "showbackground": true,
            "ticks": "",
            "zerolinecolor": "white"
           },
           "yaxis": {
            "backgroundcolor": "#E5ECF6",
            "gridcolor": "white",
            "gridwidth": 2,
            "linecolor": "white",
            "showbackground": true,
            "ticks": "",
            "zerolinecolor": "white"
           },
           "zaxis": {
            "backgroundcolor": "#E5ECF6",
            "gridcolor": "white",
            "gridwidth": 2,
            "linecolor": "white",
            "showbackground": true,
            "ticks": "",
            "zerolinecolor": "white"
           }
          },
          "shapedefaults": {
           "line": {
            "color": "#2a3f5f"
           }
          },
          "ternary": {
           "aaxis": {
            "gridcolor": "white",
            "linecolor": "white",
            "ticks": ""
           },
           "baxis": {
            "gridcolor": "white",
            "linecolor": "white",
            "ticks": ""
           },
           "bgcolor": "#E5ECF6",
           "caxis": {
            "gridcolor": "white",
            "linecolor": "white",
            "ticks": ""
           }
          },
          "title": {
           "x": 0.05
          },
          "xaxis": {
           "automargin": true,
           "gridcolor": "white",
           "linecolor": "white",
           "ticks": "",
           "title": {
            "standoff": 15
           },
           "zerolinecolor": "white",
           "zerolinewidth": 2
          },
          "yaxis": {
           "automargin": true,
           "gridcolor": "white",
           "linecolor": "white",
           "ticks": "",
           "title": {
            "standoff": 15
           },
           "zerolinecolor": "white",
           "zerolinewidth": 2
          }
         }
        },
        "title": {
         "text": "Pokemon Attack and Defense"
        },
        "xaxis": {
         "title": {
          "text": "Pokemon Type"
         }
        },
        "yaxis": {
         "title": {
          "text": "Attack and Defense"
         }
        }
       }
      }
     },
     "metadata": {},
     "output_type": "display_data"
    }
   ],
   "source": [
    "x = poketype_df.index\n",
    "trace1 = {\n",
    "    'x': x,\n",
    "    'y': poketype_df.Attack,\n",
    "    'type': 'bar',\n",
    "    'name': 'Attack'\n",
    "}\n",
    "trace2 = {\n",
    "    'x': x,\n",
    "    'y': poketype_df.Defense,\n",
    "    'type': 'bar',\n",
    "    'name': 'Defense'\n",
    "}\n",
    "layout = {\n",
    "    'title': 'Pokemon Attack and Defense',\n",
    "    'xaxis': {'title': 'Pokemon Type'},\n",
    "    'yaxis': {'title': 'Attack and Defense'},\n",
    "    'barmode': 'relative'\n",
    "}\n",
    "data = [trace1,trace2]\n",
    "go.Figure(data=data,layout=layout)"
   ]
  },
  {
   "cell_type": "markdown",
   "metadata": {},
   "source": [
    "# Task\n",
    "Perform data visualization on the following dataset\n",
    "https://raw.githubusercontent.com/digipodium/Datasets/main/timesData.csv"
   ]
  },
  {
   "cell_type": "code",
   "execution_count": 6,
   "metadata": {},
   "outputs": [],
   "source": [
    "data = pd.read_csv('https://raw.githubusercontent.com/digipodium/Datasets/main/timesData.csv')"
   ]
  },
  {
   "cell_type": "code",
   "execution_count": null,
   "metadata": {},
   "outputs": [],
   "source": [
    "px.box(df, x='Type_1',y='Total')"
   ]
  },
  {
   "cell_type": "markdown",
   "metadata": {},
   "source": [
    "Animated Graph"
   ]
  },
  {
   "cell_type": "code",
   "execution_count": 11,
   "metadata": {},
   "outputs": [
    {
     "data": {
      "text/html": [
       "<div>\n",
       "<style scoped>\n",
       "    .dataframe tbody tr th:only-of-type {\n",
       "        vertical-align: middle;\n",
       "    }\n",
       "\n",
       "    .dataframe tbody tr th {\n",
       "        vertical-align: top;\n",
       "    }\n",
       "\n",
       "    .dataframe thead th {\n",
       "        text-align: right;\n",
       "    }\n",
       "</style>\n",
       "<table border=\"1\" class=\"dataframe\">\n",
       "  <thead>\n",
       "    <tr style=\"text-align: right;\">\n",
       "      <th></th>\n",
       "      <th>country</th>\n",
       "      <th>continent</th>\n",
       "      <th>year</th>\n",
       "      <th>lifeExp</th>\n",
       "      <th>pop</th>\n",
       "      <th>gdpPercap</th>\n",
       "      <th>iso_alpha</th>\n",
       "      <th>iso_num</th>\n",
       "    </tr>\n",
       "  </thead>\n",
       "  <tbody>\n",
       "    <tr>\n",
       "      <th>0</th>\n",
       "      <td>Afghanistan</td>\n",
       "      <td>Asia</td>\n",
       "      <td>1952</td>\n",
       "      <td>28.801</td>\n",
       "      <td>8425333</td>\n",
       "      <td>779.445314</td>\n",
       "      <td>AFG</td>\n",
       "      <td>4</td>\n",
       "    </tr>\n",
       "    <tr>\n",
       "      <th>1</th>\n",
       "      <td>Afghanistan</td>\n",
       "      <td>Asia</td>\n",
       "      <td>1957</td>\n",
       "      <td>30.332</td>\n",
       "      <td>9240934</td>\n",
       "      <td>820.853030</td>\n",
       "      <td>AFG</td>\n",
       "      <td>4</td>\n",
       "    </tr>\n",
       "    <tr>\n",
       "      <th>2</th>\n",
       "      <td>Afghanistan</td>\n",
       "      <td>Asia</td>\n",
       "      <td>1962</td>\n",
       "      <td>31.997</td>\n",
       "      <td>10267083</td>\n",
       "      <td>853.100710</td>\n",
       "      <td>AFG</td>\n",
       "      <td>4</td>\n",
       "    </tr>\n",
       "    <tr>\n",
       "      <th>3</th>\n",
       "      <td>Afghanistan</td>\n",
       "      <td>Asia</td>\n",
       "      <td>1967</td>\n",
       "      <td>34.020</td>\n",
       "      <td>11537966</td>\n",
       "      <td>836.197138</td>\n",
       "      <td>AFG</td>\n",
       "      <td>4</td>\n",
       "    </tr>\n",
       "    <tr>\n",
       "      <th>4</th>\n",
       "      <td>Afghanistan</td>\n",
       "      <td>Asia</td>\n",
       "      <td>1972</td>\n",
       "      <td>36.088</td>\n",
       "      <td>13079460</td>\n",
       "      <td>739.981106</td>\n",
       "      <td>AFG</td>\n",
       "      <td>4</td>\n",
       "    </tr>\n",
       "  </tbody>\n",
       "</table>\n",
       "</div>"
      ],
      "text/plain": [
       "       country continent  year  lifeExp       pop   gdpPercap iso_alpha  \\\n",
       "0  Afghanistan      Asia  1952   28.801   8425333  779.445314       AFG   \n",
       "1  Afghanistan      Asia  1957   30.332   9240934  820.853030       AFG   \n",
       "2  Afghanistan      Asia  1962   31.997  10267083  853.100710       AFG   \n",
       "3  Afghanistan      Asia  1967   34.020  11537966  836.197138       AFG   \n",
       "4  Afghanistan      Asia  1972   36.088  13079460  739.981106       AFG   \n",
       "\n",
       "   iso_num  \n",
       "0        4  \n",
       "1        4  \n",
       "2        4  \n",
       "3        4  \n",
       "4        4  "
      ]
     },
     "execution_count": 11,
     "metadata": {},
     "output_type": "execute_result"
    }
   ],
   "source": [
    "df =  px.data.gapminder()\n",
    "df.head()"
   ]
  },
  {
   "cell_type": "code",
   "execution_count": 10,
   "metadata": {},
   "outputs": [
    {
     "data": {
      "application/vnd.plotly.v1+json": {
       "config": {
        "plotlyServerURL": "https://plot.ly"
       },
       "data": [
        {
         "hovertemplate": "year=1952<br>gdpPercap=%{x}<br>lifeExp=%{y}<extra></extra>",
         "ids": [
          "Afghanistan",
          "Albania",
          "Algeria",
          "Angola",
          "Argentina",
          "Australia",
          "Austria",
          "Bahrain",
          "Bangladesh",
          "Belgium",
          "Benin",
          "Bolivia",
          "Bosnia and Herzegovina",
          "Botswana",
          "Brazil",
          "Bulgaria",
          "Burkina Faso",
          "Burundi",
          "Cambodia",
          "Cameroon",
          "Canada",
          "Central African Republic",
          "Chad",
          "Chile",
          "China",
          "Colombia",
          "Comoros",
          "Congo, Dem. Rep.",
          "Congo, Rep.",
          "Costa Rica",
          "Cote d'Ivoire",
          "Croatia",
          "Cuba",
          "Czech Republic",
          "Denmark",
          "Djibouti",
          "Dominican Republic",
          "Ecuador",
          "Egypt",
          "El Salvador",
          "Equatorial Guinea",
          "Eritrea",
          "Ethiopia",
          "Finland",
          "France",
          "Gabon",
          "Gambia",
          "Germany",
          "Ghana",
          "Greece",
          "Guatemala",
          "Guinea",
          "Guinea-Bissau",
          "Haiti",
          "Honduras",
          "Hong Kong, China",
          "Hungary",
          "Iceland",
          "India",
          "Indonesia",
          "Iran",
          "Iraq",
          "Ireland",
          "Israel",
          "Italy",
          "Jamaica",
          "Japan",
          "Jordan",
          "Kenya",
          "Korea, Dem. Rep.",
          "Korea, Rep.",
          "Kuwait",
          "Lebanon",
          "Lesotho",
          "Liberia",
          "Libya",
          "Madagascar",
          "Malawi",
          "Malaysia",
          "Mali",
          "Mauritania",
          "Mauritius",
          "Mexico",
          "Mongolia",
          "Montenegro",
          "Morocco",
          "Mozambique",
          "Myanmar",
          "Namibia",
          "Nepal",
          "Netherlands",
          "New Zealand",
          "Nicaragua",
          "Niger",
          "Nigeria",
          "Norway",
          "Oman",
          "Pakistan",
          "Panama",
          "Paraguay",
          "Peru",
          "Philippines",
          "Poland",
          "Portugal",
          "Puerto Rico",
          "Reunion",
          "Romania",
          "Rwanda",
          "Sao Tome and Principe",
          "Saudi Arabia",
          "Senegal",
          "Serbia",
          "Sierra Leone",
          "Singapore",
          "Slovak Republic",
          "Slovenia",
          "Somalia",
          "South Africa",
          "Spain",
          "Sri Lanka",
          "Sudan",
          "Swaziland",
          "Sweden",
          "Switzerland",
          "Syria",
          "Taiwan",
          "Tanzania",
          "Thailand",
          "Togo",
          "Trinidad and Tobago",
          "Tunisia",
          "Turkey",
          "Uganda",
          "United Kingdom",
          "United States",
          "Uruguay",
          "Venezuela",
          "Vietnam",
          "West Bank and Gaza",
          "Yemen, Rep.",
          "Zambia",
          "Zimbabwe"
         ],
         "legendgroup": "",
         "marker": {
          "color": "#636efa",
          "symbol": "circle"
         },
         "mode": "markers",
         "name": "",
         "orientation": "v",
         "showlegend": false,
         "type": "scatter",
         "x": [
          779.4453145,
          1601.056136,
          2449.008185,
          3520.610273,
          5911.315053,
          10039.59564,
          6137.076492,
          9867.084765,
          684.2441716,
          8343.105126999999,
          1062.7522,
          2677.326347,
          973.5331948,
          851.2411407,
          2108.944355,
          2444.286648,
          543.2552413,
          339.2964587,
          368.4692856,
          1172.667655,
          11367.16112,
          1071.310713,
          1178.665927,
          3939.978789,
          400.448611,
          2144.115096,
          1102.990936,
          780.5423257,
          2125.621418,
          2627.0094710000008,
          1388.594732,
          3119.23652,
          5586.53878,
          6876.14025,
          9692.385245,
          2669.529475,
          1397.717137,
          3522.110717,
          1418.822445,
          3048.3029,
          375.6431231,
          328.9405571000001,
          362.1462796,
          6424.519071,
          7029.809327,
          4293.476475,
          485.2306591,
          7144.114393000002,
          911.2989371,
          3530.690067,
          2428.2377690000008,
          510.1964923000001,
          299.850319,
          1840.366939,
          2194.926204,
          3054.421209,
          5263.673816,
          7267.688428,
          546.5657493,
          749.6816546,
          3035.326002,
          4129.766056,
          5210.280328,
          4086.522128,
          4931.404154999998,
          2898.530881,
          3216.956347,
          1546.907807,
          853.5409189999998,
          1088.277758,
          1030.592226,
          108382.3529,
          4834.804067,
          298.8462121,
          575.5729961000002,
          2387.54806,
          1443.011715,
          369.1650802,
          1831.132894,
          452.3369807,
          743.1159097,
          1967.955707,
          3478.125529,
          786.5668575,
          2647.585601,
          1688.20357,
          468.5260381,
          331,
          2423.780443,
          545.8657228999998,
          8941.571858,
          10556.57566,
          3112.363948,
          761.879376,
          1077.281856,
          10095.42172,
          1828.230307,
          684.5971437999998,
          2480.380334,
          1952.308701,
          3758.523437,
          1272.880995,
          4029.329699,
          3068.319867,
          3081.959785,
          2718.885295,
          3144.613186,
          493.3238752,
          879.5835855,
          6459.554823,
          1450.356983,
          3581.459448,
          879.7877358,
          2315.138227,
          5074.659104,
          4215.041741,
          1135.749842,
          4725.295531000002,
          3834.034742,
          1083.53203,
          1615.991129,
          1148.376626,
          8527.844662000001,
          14734.23275,
          1643.485354,
          1206.947913,
          716.6500721,
          757.7974177,
          859.8086567,
          3023.271928,
          1468.475631,
          1969.10098,
          734.753484,
          9979.508487,
          13990.482080000002,
          5716.766744,
          7689.799761,
          605.0664917,
          1515.5923289999996,
          781.7175761,
          1147.388831,
          406.8841148
         ],
         "xaxis": "x",
         "y": [
          28.801,
          55.23,
          43.077,
          30.015,
          62.485,
          69.12,
          66.8,
          50.93899999999999,
          37.484,
          68,
          38.223,
          40.414,
          53.82,
          47.622,
          50.917,
          59.6,
          31.975,
          39.031,
          39.417,
          38.523,
          68.75,
          35.463,
          38.092,
          54.745,
          44,
          50.643,
          40.715,
          39.143,
          42.111,
          57.206,
          40.477,
          61.21,
          59.42100000000001,
          66.87,
          70.78,
          34.812,
          45.928,
          48.357,
          41.893,
          45.262,
          34.482,
          35.92800000000001,
          34.078,
          66.55,
          67.41,
          37.003,
          30,
          67.5,
          43.149,
          65.86,
          42.023,
          33.609,
          32.5,
          37.579,
          41.912,
          60.96,
          64.03,
          72.49,
          37.37300000000001,
          37.468,
          44.869,
          45.32,
          66.91,
          65.39,
          65.94,
          58.53,
          63.03,
          43.158,
          42.27,
          50.056,
          47.453,
          55.565,
          55.928,
          42.13800000000001,
          38.48,
          42.723,
          36.681,
          36.256,
          48.463,
          33.685,
          40.543,
          50.986,
          50.789,
          42.244,
          59.164,
          42.87300000000001,
          31.286,
          36.319,
          41.725,
          36.157,
          72.13,
          69.39,
          42.31399999999999,
          37.444,
          36.324,
          72.67,
          37.578,
          43.43600000000001,
          55.191,
          62.649,
          43.902,
          47.752,
          61.31,
          59.82,
          64.28,
          52.724,
          61.05,
          40,
          46.471,
          39.875,
          37.278,
          57.996,
          30.331,
          60.396,
          64.36,
          65.57,
          32.978,
          45.00899999999999,
          64.94,
          57.593,
          38.635,
          41.407,
          71.86,
          69.62,
          45.883,
          58.5,
          41.215,
          50.848,
          38.596,
          59.1,
          44.6,
          43.585,
          39.978,
          69.18,
          68.44,
          66.071,
          55.088,
          40.412,
          43.16,
          32.548,
          42.038,
          48.451
         ],
         "yaxis": "y"
        }
       ],
       "frames": [
        {
         "data": [
          {
           "hovertemplate": "year=1952<br>gdpPercap=%{x}<br>lifeExp=%{y}<extra></extra>",
           "ids": [
            "Afghanistan",
            "Albania",
            "Algeria",
            "Angola",
            "Argentina",
            "Australia",
            "Austria",
            "Bahrain",
            "Bangladesh",
            "Belgium",
            "Benin",
            "Bolivia",
            "Bosnia and Herzegovina",
            "Botswana",
            "Brazil",
            "Bulgaria",
            "Burkina Faso",
            "Burundi",
            "Cambodia",
            "Cameroon",
            "Canada",
            "Central African Republic",
            "Chad",
            "Chile",
            "China",
            "Colombia",
            "Comoros",
            "Congo, Dem. Rep.",
            "Congo, Rep.",
            "Costa Rica",
            "Cote d'Ivoire",
            "Croatia",
            "Cuba",
            "Czech Republic",
            "Denmark",
            "Djibouti",
            "Dominican Republic",
            "Ecuador",
            "Egypt",
            "El Salvador",
            "Equatorial Guinea",
            "Eritrea",
            "Ethiopia",
            "Finland",
            "France",
            "Gabon",
            "Gambia",
            "Germany",
            "Ghana",
            "Greece",
            "Guatemala",
            "Guinea",
            "Guinea-Bissau",
            "Haiti",
            "Honduras",
            "Hong Kong, China",
            "Hungary",
            "Iceland",
            "India",
            "Indonesia",
            "Iran",
            "Iraq",
            "Ireland",
            "Israel",
            "Italy",
            "Jamaica",
            "Japan",
            "Jordan",
            "Kenya",
            "Korea, Dem. Rep.",
            "Korea, Rep.",
            "Kuwait",
            "Lebanon",
            "Lesotho",
            "Liberia",
            "Libya",
            "Madagascar",
            "Malawi",
            "Malaysia",
            "Mali",
            "Mauritania",
            "Mauritius",
            "Mexico",
            "Mongolia",
            "Montenegro",
            "Morocco",
            "Mozambique",
            "Myanmar",
            "Namibia",
            "Nepal",
            "Netherlands",
            "New Zealand",
            "Nicaragua",
            "Niger",
            "Nigeria",
            "Norway",
            "Oman",
            "Pakistan",
            "Panama",
            "Paraguay",
            "Peru",
            "Philippines",
            "Poland",
            "Portugal",
            "Puerto Rico",
            "Reunion",
            "Romania",
            "Rwanda",
            "Sao Tome and Principe",
            "Saudi Arabia",
            "Senegal",
            "Serbia",
            "Sierra Leone",
            "Singapore",
            "Slovak Republic",
            "Slovenia",
            "Somalia",
            "South Africa",
            "Spain",
            "Sri Lanka",
            "Sudan",
            "Swaziland",
            "Sweden",
            "Switzerland",
            "Syria",
            "Taiwan",
            "Tanzania",
            "Thailand",
            "Togo",
            "Trinidad and Tobago",
            "Tunisia",
            "Turkey",
            "Uganda",
            "United Kingdom",
            "United States",
            "Uruguay",
            "Venezuela",
            "Vietnam",
            "West Bank and Gaza",
            "Yemen, Rep.",
            "Zambia",
            "Zimbabwe"
           ],
           "legendgroup": "",
           "marker": {
            "color": "#636efa",
            "symbol": "circle"
           },
           "mode": "markers",
           "name": "",
           "orientation": "v",
           "showlegend": false,
           "type": "scatter",
           "x": [
            779.4453145,
            1601.056136,
            2449.008185,
            3520.610273,
            5911.315053,
            10039.59564,
            6137.076492,
            9867.084765,
            684.2441716,
            8343.105126999999,
            1062.7522,
            2677.326347,
            973.5331948,
            851.2411407,
            2108.944355,
            2444.286648,
            543.2552413,
            339.2964587,
            368.4692856,
            1172.667655,
            11367.16112,
            1071.310713,
            1178.665927,
            3939.978789,
            400.448611,
            2144.115096,
            1102.990936,
            780.5423257,
            2125.621418,
            2627.0094710000008,
            1388.594732,
            3119.23652,
            5586.53878,
            6876.14025,
            9692.385245,
            2669.529475,
            1397.717137,
            3522.110717,
            1418.822445,
            3048.3029,
            375.6431231,
            328.9405571000001,
            362.1462796,
            6424.519071,
            7029.809327,
            4293.476475,
            485.2306591,
            7144.114393000002,
            911.2989371,
            3530.690067,
            2428.2377690000008,
            510.1964923000001,
            299.850319,
            1840.366939,
            2194.926204,
            3054.421209,
            5263.673816,
            7267.688428,
            546.5657493,
            749.6816546,
            3035.326002,
            4129.766056,
            5210.280328,
            4086.522128,
            4931.404154999998,
            2898.530881,
            3216.956347,
            1546.907807,
            853.5409189999998,
            1088.277758,
            1030.592226,
            108382.3529,
            4834.804067,
            298.8462121,
            575.5729961000002,
            2387.54806,
            1443.011715,
            369.1650802,
            1831.132894,
            452.3369807,
            743.1159097,
            1967.955707,
            3478.125529,
            786.5668575,
            2647.585601,
            1688.20357,
            468.5260381,
            331,
            2423.780443,
            545.8657228999998,
            8941.571858,
            10556.57566,
            3112.363948,
            761.879376,
            1077.281856,
            10095.42172,
            1828.230307,
            684.5971437999998,
            2480.380334,
            1952.308701,
            3758.523437,
            1272.880995,
            4029.329699,
            3068.319867,
            3081.959785,
            2718.885295,
            3144.613186,
            493.3238752,
            879.5835855,
            6459.554823,
            1450.356983,
            3581.459448,
            879.7877358,
            2315.138227,
            5074.659104,
            4215.041741,
            1135.749842,
            4725.295531000002,
            3834.034742,
            1083.53203,
            1615.991129,
            1148.376626,
            8527.844662000001,
            14734.23275,
            1643.485354,
            1206.947913,
            716.6500721,
            757.7974177,
            859.8086567,
            3023.271928,
            1468.475631,
            1969.10098,
            734.753484,
            9979.508487,
            13990.482080000002,
            5716.766744,
            7689.799761,
            605.0664917,
            1515.5923289999996,
            781.7175761,
            1147.388831,
            406.8841148
           ],
           "xaxis": "x",
           "y": [
            28.801,
            55.23,
            43.077,
            30.015,
            62.485,
            69.12,
            66.8,
            50.93899999999999,
            37.484,
            68,
            38.223,
            40.414,
            53.82,
            47.622,
            50.917,
            59.6,
            31.975,
            39.031,
            39.417,
            38.523,
            68.75,
            35.463,
            38.092,
            54.745,
            44,
            50.643,
            40.715,
            39.143,
            42.111,
            57.206,
            40.477,
            61.21,
            59.42100000000001,
            66.87,
            70.78,
            34.812,
            45.928,
            48.357,
            41.893,
            45.262,
            34.482,
            35.92800000000001,
            34.078,
            66.55,
            67.41,
            37.003,
            30,
            67.5,
            43.149,
            65.86,
            42.023,
            33.609,
            32.5,
            37.579,
            41.912,
            60.96,
            64.03,
            72.49,
            37.37300000000001,
            37.468,
            44.869,
            45.32,
            66.91,
            65.39,
            65.94,
            58.53,
            63.03,
            43.158,
            42.27,
            50.056,
            47.453,
            55.565,
            55.928,
            42.13800000000001,
            38.48,
            42.723,
            36.681,
            36.256,
            48.463,
            33.685,
            40.543,
            50.986,
            50.789,
            42.244,
            59.164,
            42.87300000000001,
            31.286,
            36.319,
            41.725,
            36.157,
            72.13,
            69.39,
            42.31399999999999,
            37.444,
            36.324,
            72.67,
            37.578,
            43.43600000000001,
            55.191,
            62.649,
            43.902,
            47.752,
            61.31,
            59.82,
            64.28,
            52.724,
            61.05,
            40,
            46.471,
            39.875,
            37.278,
            57.996,
            30.331,
            60.396,
            64.36,
            65.57,
            32.978,
            45.00899999999999,
            64.94,
            57.593,
            38.635,
            41.407,
            71.86,
            69.62,
            45.883,
            58.5,
            41.215,
            50.848,
            38.596,
            59.1,
            44.6,
            43.585,
            39.978,
            69.18,
            68.44,
            66.071,
            55.088,
            40.412,
            43.16,
            32.548,
            42.038,
            48.451
           ],
           "yaxis": "y"
          }
         ],
         "name": "1952"
        },
        {
         "data": [
          {
           "hovertemplate": "year=1957<br>gdpPercap=%{x}<br>lifeExp=%{y}<extra></extra>",
           "ids": [
            "Afghanistan",
            "Albania",
            "Algeria",
            "Angola",
            "Argentina",
            "Australia",
            "Austria",
            "Bahrain",
            "Bangladesh",
            "Belgium",
            "Benin",
            "Bolivia",
            "Bosnia and Herzegovina",
            "Botswana",
            "Brazil",
            "Bulgaria",
            "Burkina Faso",
            "Burundi",
            "Cambodia",
            "Cameroon",
            "Canada",
            "Central African Republic",
            "Chad",
            "Chile",
            "China",
            "Colombia",
            "Comoros",
            "Congo, Dem. Rep.",
            "Congo, Rep.",
            "Costa Rica",
            "Cote d'Ivoire",
            "Croatia",
            "Cuba",
            "Czech Republic",
            "Denmark",
            "Djibouti",
            "Dominican Republic",
            "Ecuador",
            "Egypt",
            "El Salvador",
            "Equatorial Guinea",
            "Eritrea",
            "Ethiopia",
            "Finland",
            "France",
            "Gabon",
            "Gambia",
            "Germany",
            "Ghana",
            "Greece",
            "Guatemala",
            "Guinea",
            "Guinea-Bissau",
            "Haiti",
            "Honduras",
            "Hong Kong, China",
            "Hungary",
            "Iceland",
            "India",
            "Indonesia",
            "Iran",
            "Iraq",
            "Ireland",
            "Israel",
            "Italy",
            "Jamaica",
            "Japan",
            "Jordan",
            "Kenya",
            "Korea, Dem. Rep.",
            "Korea, Rep.",
            "Kuwait",
            "Lebanon",
            "Lesotho",
            "Liberia",
            "Libya",
            "Madagascar",
            "Malawi",
            "Malaysia",
            "Mali",
            "Mauritania",
            "Mauritius",
            "Mexico",
            "Mongolia",
            "Montenegro",
            "Morocco",
            "Mozambique",
            "Myanmar",
            "Namibia",
            "Nepal",
            "Netherlands",
            "New Zealand",
            "Nicaragua",
            "Niger",
            "Nigeria",
            "Norway",
            "Oman",
            "Pakistan",
            "Panama",
            "Paraguay",
            "Peru",
            "Philippines",
            "Poland",
            "Portugal",
            "Puerto Rico",
            "Reunion",
            "Romania",
            "Rwanda",
            "Sao Tome and Principe",
            "Saudi Arabia",
            "Senegal",
            "Serbia",
            "Sierra Leone",
            "Singapore",
            "Slovak Republic",
            "Slovenia",
            "Somalia",
            "South Africa",
            "Spain",
            "Sri Lanka",
            "Sudan",
            "Swaziland",
            "Sweden",
            "Switzerland",
            "Syria",
            "Taiwan",
            "Tanzania",
            "Thailand",
            "Togo",
            "Trinidad and Tobago",
            "Tunisia",
            "Turkey",
            "Uganda",
            "United Kingdom",
            "United States",
            "Uruguay",
            "Venezuela",
            "Vietnam",
            "West Bank and Gaza",
            "Yemen, Rep.",
            "Zambia",
            "Zimbabwe"
           ],
           "legendgroup": "",
           "marker": {
            "color": "#636efa",
            "symbol": "circle"
           },
           "mode": "markers",
           "name": "",
           "orientation": "v",
           "showlegend": false,
           "type": "scatter",
           "x": [
            820.8530296,
            1942.284244,
            3013.976023,
            3827.940465,
            6856.8562120000015,
            10949.64959,
            8842.59803,
            11635.79945,
            661.6374577,
            9714.960623,
            959.6010805,
            2127.686326,
            1353.989176,
            918.2325349,
            2487.365989,
            3008.670727,
            617.1834647999998,
            379.5646281000001,
            434.0383364,
            1313.048099,
            12489.95006,
            1190.844328,
            1308.495577,
            4315.622723,
            575.9870009,
            2323.805581,
            1211.148548,
            905.8602303,
            2315.056572,
            2990.010802,
            1500.895925,
            4338.231617,
            6092.1743590000015,
            8256.343918,
            11099.65935,
            2864.9690760000008,
            1544.402995,
            3780.546651,
            1458.915272,
            3421.523218,
            426.0964081,
            344.1618859,
            378.9041632,
            7545.415386,
            8662.834898000001,
            4976.198099,
            520.9267111,
            10187.82665,
            1043.5615369999996,
            4916.299889,
            2617.155967,
            576.2670245,
            431.79045660000014,
            1726.887882,
            2220.487682,
            3629.076457,
            6040.180011,
            9244.001412,
            590.061996,
            858.9002707000002,
            3290.257643,
            6229.333562,
            5599.077872,
            5385.278451,
            6248.656232,
            4756.525781,
            4317.694365,
            1886.080591,
            944.4383152,
            1571.134655,
            1487.593537,
            113523.1329,
            6089.786934000002,
            335.9971151000001,
            620.9699901,
            3448.284395,
            1589.20275,
            416.3698064,
            1810.0669920000007,
            490.3821867,
            846.1202613,
            2034.037981,
            4131.546641,
            912.6626085,
            3682.259903,
            1642.002314,
            495.58683330000014,
            350,
            2621.448058,
            597.9363557999999,
            11276.19344,
            12247.39532,
            3457.415947,
            835.5234025000002,
            1100.5925630000004,
            11653.97304,
            2242.746551,
            747.0835292,
            2961.800905,
            2046.154706,
            4245.256697999999,
            1547.944844,
            4734.253019,
            3774.571743,
            3907.156189,
            2769.451844,
            3943.370225,
            540.2893982999999,
            860.7369026,
            8157.5912480000015,
            1567.653006,
            4981.090891,
            1004.484437,
            2843.104409,
            6093.26298,
            5862.276629,
            1258.147413,
            5487.104219,
            4564.80241,
            1072.546602,
            1770.3370739999998,
            1244.708364,
            9911.878226,
            17909.48973,
            2117.234893,
            1507.86129,
            698.5356073,
            793.5774147999998,
            925.9083202,
            4100.3934,
            1395.232468,
            2218.754257,
            774.3710692000002,
            11283.17795,
            14847.12712,
            6150.772969,
            9802.466526,
            676.2854477999998,
            1827.067742,
            804.8304547,
            1311.956766,
            518.7642681
           ],
           "xaxis": "x",
           "y": [
            30.332,
            59.28,
            45.685,
            31.999,
            64.399,
            70.33,
            67.48,
            53.832,
            39.348,
            69.24,
            40.358,
            41.89,
            58.45,
            49.618,
            53.285,
            66.61,
            34.906,
            40.533,
            41.36600000000001,
            40.428,
            69.96,
            37.464,
            39.881,
            56.074,
            50.54896,
            55.118,
            42.46,
            40.652,
            45.053,
            60.026,
            42.469,
            64.77,
            62.325,
            69.03,
            71.81,
            37.328,
            49.828,
            51.356,
            44.444,
            48.57,
            35.98300000000001,
            38.047,
            36.667,
            67.49,
            68.93,
            38.999,
            32.065,
            69.1,
            44.779,
            67.86,
            44.142,
            34.558,
            33.489000000000004,
            40.696,
            44.665,
            64.75,
            66.41,
            73.47,
            40.249,
            39.918,
            47.181,
            48.437,
            68.9,
            67.84,
            67.81,
            62.61,
            65.5,
            45.669,
            44.68600000000001,
            54.081,
            52.681,
            58.033,
            59.489,
            45.047,
            39.486,
            45.289,
            38.865,
            37.207,
            52.102,
            35.30699999999999,
            42.338,
            58.089,
            55.19,
            45.24800000000001,
            61.448,
            45.423,
            33.779,
            41.905,
            45.226000000000006,
            37.686,
            72.99,
            70.26,
            45.432,
            38.598,
            37.802,
            73.44,
            40.08,
            45.557,
            59.201,
            63.19600000000001,
            46.26300000000001,
            51.334,
            65.77,
            61.51,
            68.54,
            55.09,
            64.1,
            41.5,
            48.945,
            42.868,
            39.329,
            61.685,
            31.57,
            63.179,
            67.45,
            67.85,
            34.977,
            47.985,
            66.66,
            61.456,
            39.624,
            43.424,
            72.49,
            70.56,
            48.284,
            62.4,
            42.974,
            53.63,
            41.208,
            61.8,
            47.1,
            48.07899999999999,
            42.57100000000001,
            70.42,
            69.49,
            67.044,
            57.907,
            42.887,
            45.67100000000001,
            33.97,
            44.077,
            50.469
           ],
           "yaxis": "y"
          }
         ],
         "name": "1957"
        },
        {
         "data": [
          {
           "hovertemplate": "year=1962<br>gdpPercap=%{x}<br>lifeExp=%{y}<extra></extra>",
           "ids": [
            "Afghanistan",
            "Albania",
            "Algeria",
            "Angola",
            "Argentina",
            "Australia",
            "Austria",
            "Bahrain",
            "Bangladesh",
            "Belgium",
            "Benin",
            "Bolivia",
            "Bosnia and Herzegovina",
            "Botswana",
            "Brazil",
            "Bulgaria",
            "Burkina Faso",
            "Burundi",
            "Cambodia",
            "Cameroon",
            "Canada",
            "Central African Republic",
            "Chad",
            "Chile",
            "China",
            "Colombia",
            "Comoros",
            "Congo, Dem. Rep.",
            "Congo, Rep.",
            "Costa Rica",
            "Cote d'Ivoire",
            "Croatia",
            "Cuba",
            "Czech Republic",
            "Denmark",
            "Djibouti",
            "Dominican Republic",
            "Ecuador",
            "Egypt",
            "El Salvador",
            "Equatorial Guinea",
            "Eritrea",
            "Ethiopia",
            "Finland",
            "France",
            "Gabon",
            "Gambia",
            "Germany",
            "Ghana",
            "Greece",
            "Guatemala",
            "Guinea",
            "Guinea-Bissau",
            "Haiti",
            "Honduras",
            "Hong Kong, China",
            "Hungary",
            "Iceland",
            "India",
            "Indonesia",
            "Iran",
            "Iraq",
            "Ireland",
            "Israel",
            "Italy",
            "Jamaica",
            "Japan",
            "Jordan",
            "Kenya",
            "Korea, Dem. Rep.",
            "Korea, Rep.",
            "Kuwait",
            "Lebanon",
            "Lesotho",
            "Liberia",
            "Libya",
            "Madagascar",
            "Malawi",
            "Malaysia",
            "Mali",
            "Mauritania",
            "Mauritius",
            "Mexico",
            "Mongolia",
            "Montenegro",
            "Morocco",
            "Mozambique",
            "Myanmar",
            "Namibia",
            "Nepal",
            "Netherlands",
            "New Zealand",
            "Nicaragua",
            "Niger",
            "Nigeria",
            "Norway",
            "Oman",
            "Pakistan",
            "Panama",
            "Paraguay",
            "Peru",
            "Philippines",
            "Poland",
            "Portugal",
            "Puerto Rico",
            "Reunion",
            "Romania",
            "Rwanda",
            "Sao Tome and Principe",
            "Saudi Arabia",
            "Senegal",
            "Serbia",
            "Sierra Leone",
            "Singapore",
            "Slovak Republic",
            "Slovenia",
            "Somalia",
            "South Africa",
            "Spain",
            "Sri Lanka",
            "Sudan",
            "Swaziland",
            "Sweden",
            "Switzerland",
            "Syria",
            "Taiwan",
            "Tanzania",
            "Thailand",
            "Togo",
            "Trinidad and Tobago",
            "Tunisia",
            "Turkey",
            "Uganda",
            "United Kingdom",
            "United States",
            "Uruguay",
            "Venezuela",
            "Vietnam",
            "West Bank and Gaza",
            "Yemen, Rep.",
            "Zambia",
            "Zimbabwe"
           ],
           "legendgroup": "",
           "marker": {
            "color": "#636efa",
            "symbol": "circle"
           },
           "mode": "markers",
           "name": "",
           "orientation": "v",
           "showlegend": false,
           "type": "scatter",
           "x": [
            853.1007099999998,
            2312.888958,
            2550.81688,
            4269.276742,
            7133.166023000002,
            12217.22686,
            10750.72111,
            12753.27514,
            686.3415537999998,
            10991.20676,
            949.4990641,
            2180.972546,
            1709.683679,
            983.6539764,
            3336.585802,
            4254.337839,
            722.5120206,
            355.2032273,
            496.9136476,
            1399.607441,
            13462.48555,
            1193.068753,
            1389.817618,
            4519.094331,
            487.6740183,
            2492.351109,
            1406.648278,
            896.3146335000001,
            2464.783157,
            3460.937025,
            1728.8694280000002,
            5477.890018,
            5180.75591,
            10136.86713,
            13583.31351,
            3020.989263,
            1662.137359,
            4086.114078,
            1693.335853,
            3776.803627,
            582.8419713999998,
            380.9958433000001,
            419.4564161,
            9371.842561,
            10560.48553,
            6631.459222,
            599.650276,
            12902.46291,
            1190.041118,
            6017.190732999999,
            2750.364446,
            686.3736739,
            522.0343725,
            1796.589032,
            2291.156835,
            4692.648271999999,
            7550.359877,
            10350.15906,
            658.3471509,
            849.2897700999998,
            4187.329802,
            8341.737815,
            6631.597314,
            7105.630706,
            8243.58234,
            5246.107524,
            6576.649461,
            2348.009158,
            896.9663732,
            1621.693598,
            1536.344387,
            95458.11176,
            5714.560611,
            411.8006266,
            634.1951625,
            6757.030816,
            1643.38711,
            427.9010856,
            2036.884944,
            496.1743428,
            1055.896036,
            2529.0674870000007,
            4581.609385,
            1056.353958,
            4649.593785,
            1566.353493,
            556.6863539,
            388,
            3173.215595,
            652.3968593,
            12790.84956,
            13175.678,
            3634.364406,
            997.7661127,
            1150.9274779999996,
            13450.40151,
            2924.638113,
            803.3427418,
            3536.540301,
            2148.027146,
            4957.037982,
            1649.552153,
            5338.752143,
            4727.954889,
            5108.34463,
            3173.72334,
            4734.997586,
            597.4730727000001,
            1071.551119,
            11626.41975,
            1654.988723,
            6289.629157,
            1116.6398769999996,
            3674.735572,
            7481.107598,
            7402.303395,
            1369.488336,
            5768.729717,
            5693.843879,
            1074.47196,
            1959.593767,
            1856.182125,
            12329.44192,
            20431.0927,
            2193.037133,
            1822.879028,
            722.0038073,
            1002.199172,
            1067.53481,
            4997.523971000001,
            1660.30321,
            2322.869908,
            767.2717397999999,
            12477.17707,
            16173.14586,
            5603.357717,
            8422.974165000001,
            772.0491602000002,
            2198.9563120000007,
            825.6232006,
            1452.725766,
            527.2721818
           ],
           "xaxis": "x",
           "y": [
            31.997,
            64.82,
            48.303,
            34,
            65.142,
            70.93,
            69.54,
            56.923,
            41.216,
            70.25,
            42.618,
            43.428,
            61.93,
            51.52,
            55.665,
            69.51,
            37.814,
            42.045,
            43.415,
            42.643,
            71.3,
            39.475,
            41.716,
            57.924,
            44.50136,
            57.863,
            44.467,
            42.122,
            48.435,
            62.842,
            44.93,
            67.13,
            65.24600000000001,
            69.9,
            72.35,
            39.69300000000001,
            53.459,
            54.64,
            46.992,
            52.307,
            37.485,
            40.158,
            40.059,
            68.75,
            70.51,
            40.489,
            33.896,
            70.3,
            46.452,
            69.51,
            46.95399999999999,
            35.753,
            34.488,
            43.59,
            48.041,
            67.65,
            67.96,
            73.68,
            43.605,
            42.518,
            49.325,
            51.457,
            70.29,
            69.39,
            69.24,
            65.61,
            68.73,
            48.12600000000001,
            47.949,
            56.65600000000001,
            55.292,
            60.47,
            62.094,
            47.747,
            40.502,
            47.808,
            40.848,
            38.41,
            55.737,
            36.936,
            44.24800000000001,
            60.246,
            58.299,
            48.25100000000001,
            63.728,
            47.924,
            36.161,
            45.108,
            48.386,
            39.393,
            73.23,
            71.24,
            48.632,
            39.487,
            39.36,
            73.47,
            43.165,
            47.67,
            61.817,
            64.361,
            49.096,
            54.757,
            67.64,
            64.39,
            69.62,
            57.666,
            66.8,
            43,
            51.893,
            45.914,
            41.45399999999999,
            64.531,
            32.767,
            65.798,
            70.33,
            69.15,
            36.981,
            49.951,
            69.69,
            62.192,
            40.87,
            44.992,
            73.37,
            71.32,
            50.305,
            65.2,
            44.246,
            56.06100000000001,
            43.922,
            64.9,
            49.57899999999999,
            52.098,
            45.344,
            70.76,
            70.21,
            68.253,
            60.77,
            45.363,
            48.127,
            35.18,
            46.023,
            52.358
           ],
           "yaxis": "y"
          }
         ],
         "name": "1962"
        },
        {
         "data": [
          {
           "hovertemplate": "year=1967<br>gdpPercap=%{x}<br>lifeExp=%{y}<extra></extra>",
           "ids": [
            "Afghanistan",
            "Albania",
            "Algeria",
            "Angola",
            "Argentina",
            "Australia",
            "Austria",
            "Bahrain",
            "Bangladesh",
            "Belgium",
            "Benin",
            "Bolivia",
            "Bosnia and Herzegovina",
            "Botswana",
            "Brazil",
            "Bulgaria",
            "Burkina Faso",
            "Burundi",
            "Cambodia",
            "Cameroon",
            "Canada",
            "Central African Republic",
            "Chad",
            "Chile",
            "China",
            "Colombia",
            "Comoros",
            "Congo, Dem. Rep.",
            "Congo, Rep.",
            "Costa Rica",
            "Cote d'Ivoire",
            "Croatia",
            "Cuba",
            "Czech Republic",
            "Denmark",
            "Djibouti",
            "Dominican Republic",
            "Ecuador",
            "Egypt",
            "El Salvador",
            "Equatorial Guinea",
            "Eritrea",
            "Ethiopia",
            "Finland",
            "France",
            "Gabon",
            "Gambia",
            "Germany",
            "Ghana",
            "Greece",
            "Guatemala",
            "Guinea",
            "Guinea-Bissau",
            "Haiti",
            "Honduras",
            "Hong Kong, China",
            "Hungary",
            "Iceland",
            "India",
            "Indonesia",
            "Iran",
            "Iraq",
            "Ireland",
            "Israel",
            "Italy",
            "Jamaica",
            "Japan",
            "Jordan",
            "Kenya",
            "Korea, Dem. Rep.",
            "Korea, Rep.",
            "Kuwait",
            "Lebanon",
            "Lesotho",
            "Liberia",
            "Libya",
            "Madagascar",
            "Malawi",
            "Malaysia",
            "Mali",
            "Mauritania",
            "Mauritius",
            "Mexico",
            "Mongolia",
            "Montenegro",
            "Morocco",
            "Mozambique",
            "Myanmar",
            "Namibia",
            "Nepal",
            "Netherlands",
            "New Zealand",
            "Nicaragua",
            "Niger",
            "Nigeria",
            "Norway",
            "Oman",
            "Pakistan",
            "Panama",
            "Paraguay",
            "Peru",
            "Philippines",
            "Poland",
            "Portugal",
            "Puerto Rico",
            "Reunion",
            "Romania",
            "Rwanda",
            "Sao Tome and Principe",
            "Saudi Arabia",
            "Senegal",
            "Serbia",
            "Sierra Leone",
            "Singapore",
            "Slovak Republic",
            "Slovenia",
            "Somalia",
            "South Africa",
            "Spain",
            "Sri Lanka",
            "Sudan",
            "Swaziland",
            "Sweden",
            "Switzerland",
            "Syria",
            "Taiwan",
            "Tanzania",
            "Thailand",
            "Togo",
            "Trinidad and Tobago",
            "Tunisia",
            "Turkey",
            "Uganda",
            "United Kingdom",
            "United States",
            "Uruguay",
            "Venezuela",
            "Vietnam",
            "West Bank and Gaza",
            "Yemen, Rep.",
            "Zambia",
            "Zimbabwe"
           ],
           "legendgroup": "",
           "marker": {
            "color": "#636efa",
            "symbol": "circle"
           },
           "mode": "markers",
           "name": "",
           "orientation": "v",
           "showlegend": false,
           "type": "scatter",
           "x": [
            836.1971382,
            2760.196931,
            3246.991771,
            5522.776375,
            8052.953020999998,
            14526.12465,
            12834.6024,
            14804.6727,
            721.1860862000002,
            13149.04119,
            1035.831411,
            2586.886053,
            2172.3524230000007,
            1214.709294,
            3429.864357,
            5577.0028,
            794.8265597,
            412.97751360000007,
            523.4323142,
            1508.453148,
            16076.58803,
            1136.056615,
            1196.810565,
            5106.654313,
            612.7056934,
            2678.729839,
            1876.029643,
            861.5932424,
            2677.9396420000007,
            4161.727834,
            2052.050473,
            6960.297861,
            5690.268015,
            11399.44489,
            15937.21123,
            3020.050513,
            1653.7230029999996,
            4579.074215,
            1814.880728,
            4358.595393,
            915.5960025,
            468.7949699,
            516.1186438,
            10921.63626,
            12999.91766,
            8358.761987,
            734.7829124,
            14745.62561,
            1125.69716,
            8513.097016,
            3242.531147,
            708.7595409,
            715.5806402000002,
            1452.057666,
            2538.269358,
            6197.962814,
            9326.64467,
            13319.89568,
            700.7706107000001,
            762.4317721,
            5906.731804999999,
            8931.459811,
            7655.568963,
            8393.741404,
            10022.40131,
            6124.703450999999,
            9847.788607,
            2741.796252,
            1056.736457,
            2143.540609,
            2029.228142,
            80894.88326,
            6006.983042,
            498.6390265,
            713.6036482999998,
            18772.75169,
            1634.047282,
            495.5147806,
            2277.742396,
            545.0098873,
            1421.145193,
            2475.387562,
            5754.733883,
            1226.04113,
            5907.850937,
            1711.04477,
            566.6691539,
            349,
            3793.694753,
            676.4422254,
            15363.25136,
            14463.918930000002,
            4643.393534000002,
            1054.384891,
            1014.514104,
            16361.87647,
            4720.942687,
            942.4082588,
            4421.009084,
            2299.376311,
            5788.09333,
            1814.12743,
            6557.152776,
            6361.517993,
            6929.277714,
            4021.175739,
            6470.866545,
            510.9637142,
            1384.840593,
            16903.04886,
            1612.404632,
            7991.707066,
            1206.043465,
            4977.41854,
            8412.902397,
            9405.489397,
            1284.7331800000004,
            7114.477970999998,
            7993.512294,
            1135.514326,
            1687.997641,
            2613.101665,
            15258.29697,
            22966.14432,
            1881.923632,
            2643.858681,
            848.2186575,
            1295.46066,
            1477.59676,
            5621.368472,
            1932.3601670000005,
            2826.3563870000007,
            908.9185217,
            14142.85089,
            19530.36557,
            5444.61962,
            9541.474188,
            637.1232887,
            2649.715007,
            862.4421463,
            1777.077318,
            569.7950712
           ],
           "xaxis": "x",
           "y": [
            34.02,
            66.22,
            51.407,
            35.985,
            65.634,
            71.1,
            70.14,
            59.923,
            43.453,
            70.94,
            44.885,
            45.032,
            64.79,
            53.298,
            57.632,
            70.42,
            40.697,
            43.548,
            45.415,
            44.799,
            72.13,
            41.478,
            43.601000000000006,
            60.523,
            58.38112,
            59.963,
            46.472,
            44.056,
            52.04,
            65.42399999999999,
            47.35,
            68.5,
            68.29,
            70.38,
            72.96,
            42.074,
            56.75100000000001,
            56.678,
            49.293,
            55.855,
            38.987,
            42.18899999999999,
            42.115,
            69.83,
            71.55,
            44.598,
            35.857,
            70.8,
            48.072,
            71,
            50.01600000000001,
            37.197,
            35.492,
            46.243,
            50.924,
            70,
            69.5,
            73.73,
            47.19300000000001,
            45.964,
            52.469,
            54.459,
            71.08,
            70.75,
            71.06,
            67.51,
            71.43,
            51.629,
            50.654,
            59.942,
            57.716,
            64.624,
            63.87,
            48.492,
            41.536,
            50.227,
            42.881,
            39.487,
            59.371,
            38.487,
            46.289,
            61.557,
            60.11,
            51.253,
            67.178,
            50.335,
            38.113,
            49.379,
            51.159,
            41.472,
            73.82,
            71.52,
            51.88399999999999,
            40.118,
            41.04,
            74.08,
            46.988,
            49.8,
            64.071,
            64.95100000000001,
            51.445,
            56.393,
            69.61,
            66.6,
            71.1,
            60.542,
            66.8,
            44.1,
            54.425,
            49.901,
            43.563,
            66.914,
            34.113,
            67.946,
            70.98,
            69.18,
            38.977,
            51.927,
            71.44,
            64.266,
            42.858,
            46.633,
            74.16,
            72.77,
            53.655,
            67.5,
            45.757,
            58.285,
            46.769,
            65.4,
            52.053,
            54.33600000000001,
            48.051,
            71.36,
            70.76,
            68.468,
            63.479,
            47.838,
            51.631,
            36.984,
            47.768,
            53.995
           ],
           "yaxis": "y"
          }
         ],
         "name": "1967"
        },
        {
         "data": [
          {
           "hovertemplate": "year=1972<br>gdpPercap=%{x}<br>lifeExp=%{y}<extra></extra>",
           "ids": [
            "Afghanistan",
            "Albania",
            "Algeria",
            "Angola",
            "Argentina",
            "Australia",
            "Austria",
            "Bahrain",
            "Bangladesh",
            "Belgium",
            "Benin",
            "Bolivia",
            "Bosnia and Herzegovina",
            "Botswana",
            "Brazil",
            "Bulgaria",
            "Burkina Faso",
            "Burundi",
            "Cambodia",
            "Cameroon",
            "Canada",
            "Central African Republic",
            "Chad",
            "Chile",
            "China",
            "Colombia",
            "Comoros",
            "Congo, Dem. Rep.",
            "Congo, Rep.",
            "Costa Rica",
            "Cote d'Ivoire",
            "Croatia",
            "Cuba",
            "Czech Republic",
            "Denmark",
            "Djibouti",
            "Dominican Republic",
            "Ecuador",
            "Egypt",
            "El Salvador",
            "Equatorial Guinea",
            "Eritrea",
            "Ethiopia",
            "Finland",
            "France",
            "Gabon",
            "Gambia",
            "Germany",
            "Ghana",
            "Greece",
            "Guatemala",
            "Guinea",
            "Guinea-Bissau",
            "Haiti",
            "Honduras",
            "Hong Kong, China",
            "Hungary",
            "Iceland",
            "India",
            "Indonesia",
            "Iran",
            "Iraq",
            "Ireland",
            "Israel",
            "Italy",
            "Jamaica",
            "Japan",
            "Jordan",
            "Kenya",
            "Korea, Dem. Rep.",
            "Korea, Rep.",
            "Kuwait",
            "Lebanon",
            "Lesotho",
            "Liberia",
            "Libya",
            "Madagascar",
            "Malawi",
            "Malaysia",
            "Mali",
            "Mauritania",
            "Mauritius",
            "Mexico",
            "Mongolia",
            "Montenegro",
            "Morocco",
            "Mozambique",
            "Myanmar",
            "Namibia",
            "Nepal",
            "Netherlands",
            "New Zealand",
            "Nicaragua",
            "Niger",
            "Nigeria",
            "Norway",
            "Oman",
            "Pakistan",
            "Panama",
            "Paraguay",
            "Peru",
            "Philippines",
            "Poland",
            "Portugal",
            "Puerto Rico",
            "Reunion",
            "Romania",
            "Rwanda",
            "Sao Tome and Principe",
            "Saudi Arabia",
            "Senegal",
            "Serbia",
            "Sierra Leone",
            "Singapore",
            "Slovak Republic",
            "Slovenia",
            "Somalia",
            "South Africa",
            "Spain",
            "Sri Lanka",
            "Sudan",
            "Swaziland",
            "Sweden",
            "Switzerland",
            "Syria",
            "Taiwan",
            "Tanzania",
            "Thailand",
            "Togo",
            "Trinidad and Tobago",
            "Tunisia",
            "Turkey",
            "Uganda",
            "United Kingdom",
            "United States",
            "Uruguay",
            "Venezuela",
            "Vietnam",
            "West Bank and Gaza",
            "Yemen, Rep.",
            "Zambia",
            "Zimbabwe"
           ],
           "legendgroup": "",
           "marker": {
            "color": "#636efa",
            "symbol": "circle"
           },
           "mode": "markers",
           "name": "",
           "orientation": "v",
           "showlegend": false,
           "type": "scatter",
           "x": [
            739.9811057999998,
            3313.422188,
            4182.663766,
            5473.288004999999,
            9443.038526,
            16788.62948,
            16661.6256,
            18268.65839,
            630.2336265,
            16672.14356,
            1085.796879,
            2980.331339,
            2860.16975,
            2263.6111140000007,
            4985.711467,
            6597.494398,
            854.7359763000002,
            464.0995039,
            421.6240257,
            1684.1465280000002,
            18970.57086,
            1070.013275,
            1104.103987,
            5494.024437,
            676.9000921,
            3264.660041,
            1937.577675,
            904.8960685,
            3213.152683,
            5118.146939,
            2378.201111,
            9164.090127,
            5305.445256,
            13108.4536,
            18866.20721,
            3694.2123520000014,
            2189.874499,
            5280.99471,
            2024.008147,
            4520.246008,
            672.4122571,
            514.3242081999998,
            566.2439442000001,
            14358.8759,
            16107.19171,
            11401.94841,
            756.0868363,
            18016.18027,
            1178.223708,
            12724.82957,
            4031.408271,
            741.6662307,
            820.2245876000002,
            1654.456946,
            2529.842345,
            8315.928145,
            10168.65611,
            15798.06362,
            724.032527,
            1111.107907,
            9613.818607,
            9576.037596,
            9530.772896,
            12786.93223,
            12269.27378,
            7433.889293000001,
            14778.78636,
            2110.856309,
            1222.359968,
            3701.621503,
            3030.87665,
            109347.867,
            7486.384341,
            496.5815922000001,
            803.0054535,
            21011.49721,
            1748.562982,
            584.6219709,
            2849.09478,
            581.3688761,
            1586.851781,
            2575.484158,
            6809.406690000002,
            1421.741975,
            7778.414017,
            1930.194975,
            724.9178037,
            357,
            3746.080948,
            674.7881296,
            18794.74567,
            16046.03728,
            4688.593267,
            954.2092363,
            1698.388838,
            18965.05551,
            10618.03855,
            1049.938981,
            5364.249663000001,
            2523.337977,
            5937.827283,
            1989.37407,
            8006.506993000001,
            9022.247417,
            9123.041742,
            5047.658563,
            8011.4144019999985,
            590.5806637999998,
            1532.985254,
            24837.42865,
            1597.712056,
            10522.06749,
            1353.759762,
            8597.756202,
            9674.167626,
            12383.4862,
            1254.576127,
            7765.962636,
            10638.75131,
            1213.39553,
            1659.652775,
            3364.836625,
            17832.02464,
            27195.11304,
            2571.423014,
            4062.523897,
            915.9850592,
            1524.358936,
            1649.660188,
            6619.551418999999,
            2753.2859940000008,
            3450.69638,
            950.735869,
            15895.11641,
            21806.03594,
            5703.408898,
            10505.25966,
            699.5016441,
            3133.409277,
            1265.047031,
            1773.498265,
            799.3621757999998
           ],
           "xaxis": "x",
           "y": [
            36.088,
            67.69,
            54.518,
            37.928,
            67.065,
            71.93,
            70.63,
            63.3,
            45.252,
            71.44,
            47.014,
            46.714,
            67.45,
            56.024,
            59.504,
            70.9,
            43.591,
            44.057,
            40.317,
            47.049,
            72.88,
            43.457,
            45.569,
            63.441,
            63.11888,
            61.62300000000001,
            48.944,
            45.989,
            54.907,
            67.84899999999999,
            49.801,
            69.61,
            70.723,
            70.29,
            73.47,
            44.36600000000001,
            59.631,
            58.79600000000001,
            51.137,
            58.207,
            40.516,
            44.142,
            43.515,
            70.87,
            72.38,
            48.69,
            38.308,
            71,
            49.875,
            72.34,
            53.738,
            38.842,
            36.486,
            48.042,
            53.88399999999999,
            72,
            69.76,
            74.46,
            50.651,
            49.203,
            55.234,
            56.95,
            71.28,
            71.63,
            72.19,
            69,
            73.42,
            56.528,
            53.559,
            63.983,
            62.612,
            67.712,
            65.421,
            49.767,
            42.614,
            52.773,
            44.851000000000006,
            41.76600000000001,
            63.01,
            39.977,
            48.437,
            62.944,
            62.361,
            53.754,
            70.63600000000002,
            52.862,
            40.328,
            53.07,
            53.867,
            43.971,
            73.75,
            71.89,
            55.151,
            40.546,
            42.82100000000001,
            74.34,
            52.143,
            51.929,
            66.21600000000001,
            65.815,
            55.448,
            58.065,
            70.85,
            69.26,
            72.16,
            64.274,
            69.21,
            44.6,
            56.48,
            53.886,
            45.815,
            68.7,
            35.4,
            69.521,
            70.35,
            69.82,
            40.973,
            53.69600000000001,
            73.06,
            65.042,
            45.083,
            49.552,
            74.72,
            73.78,
            57.29600000000001,
            69.39,
            47.62,
            60.405,
            49.75899999999999,
            65.9,
            55.602,
            57.005,
            51.01600000000001,
            72.01,
            71.34,
            68.673,
            65.712,
            50.254,
            56.532,
            39.848,
            50.107,
            55.635
           ],
           "yaxis": "y"
          }
         ],
         "name": "1972"
        },
        {
         "data": [
          {
           "hovertemplate": "year=1977<br>gdpPercap=%{x}<br>lifeExp=%{y}<extra></extra>",
           "ids": [
            "Afghanistan",
            "Albania",
            "Algeria",
            "Angola",
            "Argentina",
            "Australia",
            "Austria",
            "Bahrain",
            "Bangladesh",
            "Belgium",
            "Benin",
            "Bolivia",
            "Bosnia and Herzegovina",
            "Botswana",
            "Brazil",
            "Bulgaria",
            "Burkina Faso",
            "Burundi",
            "Cambodia",
            "Cameroon",
            "Canada",
            "Central African Republic",
            "Chad",
            "Chile",
            "China",
            "Colombia",
            "Comoros",
            "Congo, Dem. Rep.",
            "Congo, Rep.",
            "Costa Rica",
            "Cote d'Ivoire",
            "Croatia",
            "Cuba",
            "Czech Republic",
            "Denmark",
            "Djibouti",
            "Dominican Republic",
            "Ecuador",
            "Egypt",
            "El Salvador",
            "Equatorial Guinea",
            "Eritrea",
            "Ethiopia",
            "Finland",
            "France",
            "Gabon",
            "Gambia",
            "Germany",
            "Ghana",
            "Greece",
            "Guatemala",
            "Guinea",
            "Guinea-Bissau",
            "Haiti",
            "Honduras",
            "Hong Kong, China",
            "Hungary",
            "Iceland",
            "India",
            "Indonesia",
            "Iran",
            "Iraq",
            "Ireland",
            "Israel",
            "Italy",
            "Jamaica",
            "Japan",
            "Jordan",
            "Kenya",
            "Korea, Dem. Rep.",
            "Korea, Rep.",
            "Kuwait",
            "Lebanon",
            "Lesotho",
            "Liberia",
            "Libya",
            "Madagascar",
            "Malawi",
            "Malaysia",
            "Mali",
            "Mauritania",
            "Mauritius",
            "Mexico",
            "Mongolia",
            "Montenegro",
            "Morocco",
            "Mozambique",
            "Myanmar",
            "Namibia",
            "Nepal",
            "Netherlands",
            "New Zealand",
            "Nicaragua",
            "Niger",
            "Nigeria",
            "Norway",
            "Oman",
            "Pakistan",
            "Panama",
            "Paraguay",
            "Peru",
            "Philippines",
            "Poland",
            "Portugal",
            "Puerto Rico",
            "Reunion",
            "Romania",
            "Rwanda",
            "Sao Tome and Principe",
            "Saudi Arabia",
            "Senegal",
            "Serbia",
            "Sierra Leone",
            "Singapore",
            "Slovak Republic",
            "Slovenia",
            "Somalia",
            "South Africa",
            "Spain",
            "Sri Lanka",
            "Sudan",
            "Swaziland",
            "Sweden",
            "Switzerland",
            "Syria",
            "Taiwan",
            "Tanzania",
            "Thailand",
            "Togo",
            "Trinidad and Tobago",
            "Tunisia",
            "Turkey",
            "Uganda",
            "United Kingdom",
            "United States",
            "Uruguay",
            "Venezuela",
            "Vietnam",
            "West Bank and Gaza",
            "Yemen, Rep.",
            "Zambia",
            "Zimbabwe"
           ],
           "legendgroup": "",
           "marker": {
            "color": "#636efa",
            "symbol": "circle"
           },
           "mode": "markers",
           "name": "",
           "orientation": "v",
           "showlegend": false,
           "type": "scatter",
           "x": [
            786.11336,
            3533.003910000001,
            4910.416756000001,
            3008.647355,
            10079.02674,
            18334.19751,
            19749.4223,
            19340.10196,
            659.8772322000002,
            19117.97448,
            1029.161251,
            3548.097832,
            3528.481305,
            3214.857818,
            6660.118654,
            7612.240438,
            743.3870368,
            556.1032651,
            524.9721831999999,
            1783.432873,
            22090.88306,
            1109.374338,
            1133.98495,
            4756.763836,
            741.2374699,
            3815.80787,
            1172.603047,
            795.757282,
            3259.178978,
            5926.876967,
            2517.736547,
            11305.38517,
            6380.494965999998,
            14800.16062,
            20422.9015,
            3081.761022,
            2681.9889,
            6679.62326,
            2785.493582,
            5138.922374,
            958.5668124,
            505.7538077,
            556.8083834,
            15605.42283,
            18292.63514,
            21745.57328,
            884.7552507000001,
            20512.92123,
            993.2239571,
            14195.52428,
            4879.992748,
            874.6858642999998,
            764.7259627999998,
            1874.298931,
            3203.208066,
            11186.14125,
            11674.83737,
            19654.96247,
            813.3373230000002,
            1382.702056,
            11888.59508,
            14688.23507,
            11150.98113,
            13306.61921,
            14255.98475,
            6650.195573,
            16610.37701,
            2852.351568,
            1267.613204,
            4106.301249,
            4657.22102,
            59265.47714,
            8659.696836,
            745.3695408,
            640.3224382999998,
            21951.21176,
            1544.228586,
            663.2236766,
            3827.921571,
            686.3952693,
            1497.492223,
            3710.982963,
            7674.929108,
            1647.511665,
            9595.929905,
            2370.619976,
            502.3197334,
            371,
            3876.485958,
            694.1124398,
            21209.0592,
            16233.7177,
            5486.371089,
            808.8970727999998,
            1981.951806,
            23311.34939,
            11848.34392,
            1175.921193,
            5351.912144,
            3248.373311,
            6281.290854999998,
            2373.204287,
            9508.141454,
            10172.48572,
            9770.524921,
            4319.804067,
            9356.39724,
            670.0806011,
            1737.561657,
            34167.7626,
            1561.769116,
            12980.66956,
            1348.285159,
            11210.08948,
            10922.66404,
            15277.030169999998,
            1450.992513,
            8028.651439,
            13236.92117,
            1348.775651,
            2202.988423,
            3781.410618,
            18855.72521,
            26982.29052,
            3195.484582,
            5596.519826,
            962.4922932,
            1961.2246350000007,
            1532.776998,
            7899.554209000001,
            3120.876811,
            4269.122326,
            843.7331372000001,
            17428.74846,
            24072.63213,
            6504.339663000002,
            13143.95095,
            713.5371196000001,
            3682.831494,
            1829.765177,
            1588.688299,
            685.5876821
           ],
           "xaxis": "x",
           "y": [
            38.438,
            68.93,
            58.014,
            39.483,
            68.48100000000001,
            73.49,
            72.17,
            65.593,
            46.923,
            72.8,
            49.19,
            50.023,
            69.86,
            59.319,
            61.489,
            70.81,
            46.137,
            45.91,
            31.22,
            49.355,
            74.21,
            46.775,
            47.383,
            67.05199999999999,
            63.96736,
            63.837,
            50.93899999999999,
            47.804,
            55.625,
            70.75,
            52.374,
            70.64,
            72.649,
            70.71,
            74.69,
            46.519,
            61.788,
            61.31,
            53.319,
            56.69600000000001,
            42.024,
            44.535,
            44.51,
            72.52,
            73.83,
            52.79,
            41.842,
            72.5,
            51.756,
            73.68,
            56.029,
            40.762,
            37.465,
            49.923,
            57.402,
            73.6,
            69.95,
            76.11,
            54.208,
            52.702,
            57.702,
            60.413,
            72.03,
            73.06,
            73.48,
            70.11,
            75.38,
            61.13399999999999,
            56.155,
            67.15899999999999,
            64.766,
            69.343,
            66.09899999999999,
            52.208,
            43.764,
            57.442,
            46.881,
            43.767,
            65.256,
            41.714,
            50.852,
            64.93,
            65.032,
            55.49100000000001,
            73.066,
            55.73,
            42.495,
            56.059,
            56.437,
            46.74800000000001,
            75.24,
            72.22,
            57.47,
            41.291,
            44.514,
            75.37,
            57.367,
            54.043,
            68.681,
            66.35300000000001,
            58.447,
            60.06,
            70.67,
            70.41,
            73.44,
            67.064,
            69.46,
            45,
            58.55,
            58.69,
            48.879,
            70.3,
            36.788,
            70.795,
            70.45,
            70.97,
            41.974,
            55.527,
            74.39,
            65.949,
            47.8,
            52.537,
            75.44,
            75.39,
            61.195,
            70.59,
            49.919,
            62.494,
            52.887,
            68.3,
            59.837,
            59.507,
            50.35,
            72.76,
            73.38,
            69.48100000000001,
            67.456,
            55.764,
            60.765,
            44.175,
            51.386,
            57.674
           ],
           "yaxis": "y"
          }
         ],
         "name": "1977"
        },
        {
         "data": [
          {
           "hovertemplate": "year=1982<br>gdpPercap=%{x}<br>lifeExp=%{y}<extra></extra>",
           "ids": [
            "Afghanistan",
            "Albania",
            "Algeria",
            "Angola",
            "Argentina",
            "Australia",
            "Austria",
            "Bahrain",
            "Bangladesh",
            "Belgium",
            "Benin",
            "Bolivia",
            "Bosnia and Herzegovina",
            "Botswana",
            "Brazil",
            "Bulgaria",
            "Burkina Faso",
            "Burundi",
            "Cambodia",
            "Cameroon",
            "Canada",
            "Central African Republic",
            "Chad",
            "Chile",
            "China",
            "Colombia",
            "Comoros",
            "Congo, Dem. Rep.",
            "Congo, Rep.",
            "Costa Rica",
            "Cote d'Ivoire",
            "Croatia",
            "Cuba",
            "Czech Republic",
            "Denmark",
            "Djibouti",
            "Dominican Republic",
            "Ecuador",
            "Egypt",
            "El Salvador",
            "Equatorial Guinea",
            "Eritrea",
            "Ethiopia",
            "Finland",
            "France",
            "Gabon",
            "Gambia",
            "Germany",
            "Ghana",
            "Greece",
            "Guatemala",
            "Guinea",
            "Guinea-Bissau",
            "Haiti",
            "Honduras",
            "Hong Kong, China",
            "Hungary",
            "Iceland",
            "India",
            "Indonesia",
            "Iran",
            "Iraq",
            "Ireland",
            "Israel",
            "Italy",
            "Jamaica",
            "Japan",
            "Jordan",
            "Kenya",
            "Korea, Dem. Rep.",
            "Korea, Rep.",
            "Kuwait",
            "Lebanon",
            "Lesotho",
            "Liberia",
            "Libya",
            "Madagascar",
            "Malawi",
            "Malaysia",
            "Mali",
            "Mauritania",
            "Mauritius",
            "Mexico",
            "Mongolia",
            "Montenegro",
            "Morocco",
            "Mozambique",
            "Myanmar",
            "Namibia",
            "Nepal",
            "Netherlands",
            "New Zealand",
            "Nicaragua",
            "Niger",
            "Nigeria",
            "Norway",
            "Oman",
            "Pakistan",
            "Panama",
            "Paraguay",
            "Peru",
            "Philippines",
            "Poland",
            "Portugal",
            "Puerto Rico",
            "Reunion",
            "Romania",
            "Rwanda",
            "Sao Tome and Principe",
            "Saudi Arabia",
            "Senegal",
            "Serbia",
            "Sierra Leone",
            "Singapore",
            "Slovak Republic",
            "Slovenia",
            "Somalia",
            "South Africa",
            "Spain",
            "Sri Lanka",
            "Sudan",
            "Swaziland",
            "Sweden",
            "Switzerland",
            "Syria",
            "Taiwan",
            "Tanzania",
            "Thailand",
            "Togo",
            "Trinidad and Tobago",
            "Tunisia",
            "Turkey",
            "Uganda",
            "United Kingdom",
            "United States",
            "Uruguay",
            "Venezuela",
            "Vietnam",
            "West Bank and Gaza",
            "Yemen, Rep.",
            "Zambia",
            "Zimbabwe"
           ],
           "legendgroup": "",
           "marker": {
            "color": "#636efa",
            "symbol": "circle"
           },
           "mode": "markers",
           "name": "",
           "orientation": "v",
           "showlegend": false,
           "type": "scatter",
           "x": [
            978.0114388,
            3630.880722,
            5745.160213,
            2756.953672,
            8997.897412,
            19477.00928,
            21597.08362,
            19211.14731,
            676.9818656,
            20979.84589,
            1277.897616,
            3156.510452,
            4126.613157,
            4551.14215,
            7030.835878,
            8224.191647,
            807.1985855,
            559.6032309999998,
            624.4754784,
            2367.983282,
            22898.79214,
            956.7529907,
            797.9081006,
            5095.6657380000015,
            962.4213805,
            4397.575659,
            1267.100083,
            673.7478181,
            4879.507522,
            5262.734751,
            2602.710169,
            13221.82184,
            7316.918106999998,
            15377.22855,
            21688.04048,
            2879.468067,
            2861.092386,
            7213.791267,
            3503.729636,
            4098.344175,
            927.8253427,
            524.8758493,
            577.8607471,
            18533.15761,
            20293.89746,
            15113.36194,
            835.8096107999999,
            22031.53274,
            876.032569,
            15268.42089,
            4820.49479,
            857.2503577,
            838.1239671,
            2011.159549,
            3121.7607940000007,
            14560.53051,
            12545.99066,
            23269.6075,
            855.7235377000002,
            1516.872988,
            7608.334602,
            14517.90711,
            12618.32141,
            15367.0292,
            16537.4835,
            6068.05135,
            19384.10571,
            4161.415959,
            1348.225791,
            4106.525293,
            5622.942464,
            31354.03573,
            7640.519520999998,
            797.2631074,
            572.1995694,
            17364.275380000006,
            1302.878658,
            632.8039209,
            4920.355951,
            618.0140640999998,
            1481.150189,
            3688.037739,
            9611.147541,
            2000.603139,
            11222.58762,
            2702.620356,
            462.2114149,
            424,
            4191.100511,
            718.3730947,
            21399.46046,
            17632.4104,
            3470.3381560000007,
            909.7221354,
            1576.97375,
            26298.63531,
            12954.79101,
            1443.429832,
            7009.601598,
            4258.503604,
            6434.501797,
            2603.273765,
            8451.531004,
            11753.84291,
            10330.98915,
            5267.219353,
            9605.314053,
            881.5706467,
            1890.218117,
            33693.17525,
            1518.479984,
            15181.0927,
            1465.010784,
            15169.16112,
            11348.54585,
            17866.72175,
            1176.807031,
            8568.266228,
            13926.16997,
            1648.079789,
            1895.544073,
            3895.384018,
            20667.38125,
            28397.71512,
            3761.837715,
            7426.3547739999985,
            874.2426069,
            2393.219781,
            1344.577953,
            9119.528607,
            3560.2331740000004,
            4241.356344,
            682.2662267999998,
            18232.42452,
            25009.55914,
            6920.223051000001,
            11152.41011,
            707.2357863,
            4336.032082,
            1977.55701,
            1408.678565,
            788.8550411
           ],
           "xaxis": "x",
           "y": [
            39.854,
            70.42,
            61.368,
            39.942,
            69.942,
            74.74,
            73.18,
            69.05199999999999,
            50.00899999999999,
            73.93,
            50.904,
            53.859,
            70.69,
            61.484,
            63.33600000000001,
            71.08,
            48.122,
            47.471,
            50.957,
            52.96100000000001,
            75.76,
            48.295,
            49.517,
            70.565,
            65.525,
            66.653,
            52.933,
            47.784,
            56.695,
            73.45,
            53.983,
            70.46,
            73.717,
            70.96,
            74.63,
            48.812,
            63.727,
            64.342,
            56.006,
            56.604,
            43.662,
            43.89,
            44.916,
            74.55,
            74.89,
            56.56399999999999,
            45.58,
            73.8,
            53.744,
            75.24,
            58.137,
            42.89100000000001,
            39.327,
            51.46100000000001,
            60.909,
            75.45,
            69.39,
            76.99,
            56.596,
            56.159,
            59.62,
            62.038,
            73.1,
            74.45,
            74.98,
            71.21,
            77.11,
            63.739,
            58.76600000000001,
            69.1,
            67.123,
            71.309,
            66.983,
            55.078,
            44.852,
            62.155,
            48.969,
            45.642,
            68,
            43.916,
            53.599,
            66.711,
            67.405,
            57.489,
            74.101,
            59.65,
            42.795,
            58.056,
            58.968,
            49.594,
            76.05,
            73.84,
            59.298,
            42.598,
            45.826,
            75.97,
            62.728,
            56.158,
            70.472,
            66.874,
            61.40600000000001,
            62.082,
            71.32,
            72.77,
            73.75,
            69.885,
            69.66,
            46.218,
            60.351000000000006,
            63.012,
            52.379,
            70.16199999999999,
            38.445,
            71.76,
            70.8,
            71.063,
            42.955,
            58.161,
            76.3,
            68.757,
            50.338,
            55.56100000000001,
            76.42,
            76.21,
            64.59,
            72.16,
            50.608,
            64.597,
            55.471,
            68.832,
            64.048,
            61.036,
            49.849,
            74.04,
            74.65,
            70.805,
            68.557,
            58.816,
            64.406,
            49.113,
            51.82100000000001,
            60.363
           ],
           "yaxis": "y"
          }
         ],
         "name": "1982"
        },
        {
         "data": [
          {
           "hovertemplate": "year=1987<br>gdpPercap=%{x}<br>lifeExp=%{y}<extra></extra>",
           "ids": [
            "Afghanistan",
            "Albania",
            "Algeria",
            "Angola",
            "Argentina",
            "Australia",
            "Austria",
            "Bahrain",
            "Bangladesh",
            "Belgium",
            "Benin",
            "Bolivia",
            "Bosnia and Herzegovina",
            "Botswana",
            "Brazil",
            "Bulgaria",
            "Burkina Faso",
            "Burundi",
            "Cambodia",
            "Cameroon",
            "Canada",
            "Central African Republic",
            "Chad",
            "Chile",
            "China",
            "Colombia",
            "Comoros",
            "Congo, Dem. Rep.",
            "Congo, Rep.",
            "Costa Rica",
            "Cote d'Ivoire",
            "Croatia",
            "Cuba",
            "Czech Republic",
            "Denmark",
            "Djibouti",
            "Dominican Republic",
            "Ecuador",
            "Egypt",
            "El Salvador",
            "Equatorial Guinea",
            "Eritrea",
            "Ethiopia",
            "Finland",
            "France",
            "Gabon",
            "Gambia",
            "Germany",
            "Ghana",
            "Greece",
            "Guatemala",
            "Guinea",
            "Guinea-Bissau",
            "Haiti",
            "Honduras",
            "Hong Kong, China",
            "Hungary",
            "Iceland",
            "India",
            "Indonesia",
            "Iran",
            "Iraq",
            "Ireland",
            "Israel",
            "Italy",
            "Jamaica",
            "Japan",
            "Jordan",
            "Kenya",
            "Korea, Dem. Rep.",
            "Korea, Rep.",
            "Kuwait",
            "Lebanon",
            "Lesotho",
            "Liberia",
            "Libya",
            "Madagascar",
            "Malawi",
            "Malaysia",
            "Mali",
            "Mauritania",
            "Mauritius",
            "Mexico",
            "Mongolia",
            "Montenegro",
            "Morocco",
            "Mozambique",
            "Myanmar",
            "Namibia",
            "Nepal",
            "Netherlands",
            "New Zealand",
            "Nicaragua",
            "Niger",
            "Nigeria",
            "Norway",
            "Oman",
            "Pakistan",
            "Panama",
            "Paraguay",
            "Peru",
            "Philippines",
            "Poland",
            "Portugal",
            "Puerto Rico",
            "Reunion",
            "Romania",
            "Rwanda",
            "Sao Tome and Principe",
            "Saudi Arabia",
            "Senegal",
            "Serbia",
            "Sierra Leone",
            "Singapore",
            "Slovak Republic",
            "Slovenia",
            "Somalia",
            "South Africa",
            "Spain",
            "Sri Lanka",
            "Sudan",
            "Swaziland",
            "Sweden",
            "Switzerland",
            "Syria",
            "Taiwan",
            "Tanzania",
            "Thailand",
            "Togo",
            "Trinidad and Tobago",
            "Tunisia",
            "Turkey",
            "Uganda",
            "United Kingdom",
            "United States",
            "Uruguay",
            "Venezuela",
            "Vietnam",
            "West Bank and Gaza",
            "Yemen, Rep.",
            "Zambia",
            "Zimbabwe"
           ],
           "legendgroup": "",
           "marker": {
            "color": "#636efa",
            "symbol": "circle"
           },
           "mode": "markers",
           "name": "",
           "orientation": "v",
           "showlegend": false,
           "type": "scatter",
           "x": [
            852.3959447999998,
            3738.932735,
            5681.358539,
            2430.208311,
            9139.671389,
            21888.88903,
            23687.82607,
            18524.02406,
            751.9794035,
            22525.56308,
            1225.85601,
            2753.69149,
            4314.114757,
            6205.88385,
            7807.095818000002,
            8239.854824,
            912.0631417,
            621.8188188999999,
            683.8955732000002,
            2602.664206,
            26626.51503,
            844.8763504000002,
            952.386129,
            5547.063754,
            1378.904018,
            4903.2191,
            1315.980812,
            672.774812,
            4201.194936999998,
            5629.915318,
            2156.9560690000008,
            13822.58394,
            7532.924762999999,
            16310.4434,
            25116.17581,
            2880.102568,
            2899.842175,
            6481.776993,
            3885.46071,
            4140.442097,
            966.8968149,
            521.1341333,
            573.7413142000001,
            21141.01223,
            22066.44214,
            11864.40844,
            611.6588611000002,
            24639.18566,
            847.0061135,
            16120.52839,
            4246.485974,
            805.5724717999999,
            736.4153921,
            1823.015995,
            3023.096699,
            20038.47269,
            12986.47998,
            26923.20628,
            976.5126756,
            1748.356961,
            6642.881371,
            11643.57268,
            13872.86652,
            17122.47986,
            19207.23482,
            6351.237495,
            22375.94189,
            4448.679912,
            1361.936856,
            4106.492315,
            8533.088805,
            28118.42998,
            5377.091329,
            773.9932140999998,
            506.1138573,
            11770.5898,
            1155.441948,
            635.5173633999998,
            5249.802653,
            684.1715576,
            1421.603576,
            4783.586903,
            8688.156003,
            2338.008304,
            11732.51017,
            2755.046991,
            389.8761846,
            385,
            3693.731337,
            775.6324501,
            23651.32361,
            19007.19129,
            2955.984375,
            668.3000228,
            1385.029563,
            31540.9748,
            18115.22313,
            1704.686583,
            7034.779161,
            3998.875695,
            6360.943444,
            2189.634995,
            9082.351172,
            13039.30876,
            12281.34191,
            5303.377488,
            9696.273295,
            847.991217,
            1516.525457,
            21198.26136,
            1441.72072,
            15870.87851,
            1294.4477880000004,
            18861.53081,
            12037.26758,
            18678.53492,
            1093.244963,
            7825.823398,
            15764.98313,
            1876.766827,
            1507.819159,
            3984.839812,
            23586.92927,
            30281.70459,
            3116.774285,
            11054.56175,
            831.8220794,
            2982.653773,
            1202.201361,
            7388.597823,
            3810.419296,
            5089.043686,
            617.7244065,
            21664.78767,
            29884.350410000006,
            7452.398969,
            9883.584648,
            820.7994449,
            5107.197384,
            1971.741538,
            1213.315116,
            706.1573059
           ],
           "xaxis": "x",
           "y": [
            40.822,
            72,
            65.79899999999999,
            39.906,
            70.774,
            76.32,
            74.94,
            70.75,
            52.819,
            75.35,
            52.337,
            57.25100000000001,
            71.14,
            63.622,
            65.205,
            71.34,
            49.557,
            48.21100000000001,
            53.914,
            54.985,
            76.86,
            50.485,
            51.051,
            72.492,
            67.274,
            67.768,
            54.926,
            47.412,
            57.47,
            74.752,
            54.655,
            71.52,
            74.17399999999998,
            71.58,
            74.8,
            50.04,
            66.046,
            67.23100000000001,
            59.797,
            63.154,
            45.664,
            46.453,
            46.684,
            74.83,
            76.34,
            60.19,
            49.265,
            74.847,
            55.729,
            76.67,
            60.782,
            45.552,
            41.245,
            53.636,
            64.492,
            76.2,
            69.58,
            77.23,
            58.553,
            60.137,
            63.04,
            65.044,
            74.36,
            75.6,
            76.42,
            71.77,
            78.67,
            65.869,
            59.339,
            70.64699999999998,
            69.81,
            74.17399999999998,
            67.926,
            57.18,
            46.027,
            66.234,
            49.35,
            47.457,
            69.5,
            46.364,
            56.145,
            68.74,
            69.498,
            60.222,
            74.865,
            62.677,
            42.861,
            58.339,
            60.835,
            52.537,
            76.83,
            74.32,
            62.008,
            44.555,
            46.886,
            75.89,
            67.734,
            58.245,
            71.523,
            67.378,
            64.134,
            64.15100000000001,
            70.98,
            74.06,
            74.63,
            71.913,
            69.53,
            44.02,
            61.728,
            66.295,
            55.769,
            71.218,
            40.006,
            73.56,
            71.08,
            72.25,
            44.50100000000001,
            60.834,
            76.9,
            69.01100000000001,
            51.744,
            57.678,
            77.19,
            77.41,
            66.97399999999999,
            73.4,
            51.535,
            66.084,
            56.941,
            69.582,
            66.89399999999999,
            63.108,
            51.50899999999999,
            75.007,
            75.02,
            71.918,
            70.19,
            62.82,
            67.046,
            52.922,
            50.82100000000001,
            62.351000000000006
           ],
           "yaxis": "y"
          }
         ],
         "name": "1987"
        },
        {
         "data": [
          {
           "hovertemplate": "year=1992<br>gdpPercap=%{x}<br>lifeExp=%{y}<extra></extra>",
           "ids": [
            "Afghanistan",
            "Albania",
            "Algeria",
            "Angola",
            "Argentina",
            "Australia",
            "Austria",
            "Bahrain",
            "Bangladesh",
            "Belgium",
            "Benin",
            "Bolivia",
            "Bosnia and Herzegovina",
            "Botswana",
            "Brazil",
            "Bulgaria",
            "Burkina Faso",
            "Burundi",
            "Cambodia",
            "Cameroon",
            "Canada",
            "Central African Republic",
            "Chad",
            "Chile",
            "China",
            "Colombia",
            "Comoros",
            "Congo, Dem. Rep.",
            "Congo, Rep.",
            "Costa Rica",
            "Cote d'Ivoire",
            "Croatia",
            "Cuba",
            "Czech Republic",
            "Denmark",
            "Djibouti",
            "Dominican Republic",
            "Ecuador",
            "Egypt",
            "El Salvador",
            "Equatorial Guinea",
            "Eritrea",
            "Ethiopia",
            "Finland",
            "France",
            "Gabon",
            "Gambia",
            "Germany",
            "Ghana",
            "Greece",
            "Guatemala",
            "Guinea",
            "Guinea-Bissau",
            "Haiti",
            "Honduras",
            "Hong Kong, China",
            "Hungary",
            "Iceland",
            "India",
            "Indonesia",
            "Iran",
            "Iraq",
            "Ireland",
            "Israel",
            "Italy",
            "Jamaica",
            "Japan",
            "Jordan",
            "Kenya",
            "Korea, Dem. Rep.",
            "Korea, Rep.",
            "Kuwait",
            "Lebanon",
            "Lesotho",
            "Liberia",
            "Libya",
            "Madagascar",
            "Malawi",
            "Malaysia",
            "Mali",
            "Mauritania",
            "Mauritius",
            "Mexico",
            "Mongolia",
            "Montenegro",
            "Morocco",
            "Mozambique",
            "Myanmar",
            "Namibia",
            "Nepal",
            "Netherlands",
            "New Zealand",
            "Nicaragua",
            "Niger",
            "Nigeria",
            "Norway",
            "Oman",
            "Pakistan",
            "Panama",
            "Paraguay",
            "Peru",
            "Philippines",
            "Poland",
            "Portugal",
            "Puerto Rico",
            "Reunion",
            "Romania",
            "Rwanda",
            "Sao Tome and Principe",
            "Saudi Arabia",
            "Senegal",
            "Serbia",
            "Sierra Leone",
            "Singapore",
            "Slovak Republic",
            "Slovenia",
            "Somalia",
            "South Africa",
            "Spain",
            "Sri Lanka",
            "Sudan",
            "Swaziland",
            "Sweden",
            "Switzerland",
            "Syria",
            "Taiwan",
            "Tanzania",
            "Thailand",
            "Togo",
            "Trinidad and Tobago",
            "Tunisia",
            "Turkey",
            "Uganda",
            "United Kingdom",
            "United States",
            "Uruguay",
            "Venezuela",
            "Vietnam",
            "West Bank and Gaza",
            "Yemen, Rep.",
            "Zambia",
            "Zimbabwe"
           ],
           "legendgroup": "",
           "marker": {
            "color": "#636efa",
            "symbol": "circle"
           },
           "mode": "markers",
           "name": "",
           "orientation": "v",
           "showlegend": false,
           "type": "scatter",
           "x": [
            649.3413952000002,
            2497.437901,
            5023.216647,
            2627.845685,
            9308.41871,
            23424.76683,
            27042.01868,
            19035.57917,
            837.8101642999999,
            25575.57069,
            1191.207681,
            2961.699694,
            2546.781445,
            7954.111645,
            6950.283020999998,
            6302.623438000001,
            931.7527731,
            631.6998778,
            682.3031755,
            1793.1632780000002,
            26342.88426,
            747.9055252,
            1058.0643,
            7596.125964,
            1655.784158,
            5444.648617,
            1246.90737,
            457.7191807,
            4016.239529,
            6160.416317,
            1648.073791,
            8447.794873,
            5592.843963,
            14297.02122,
            26406.73985,
            2377.156192000001,
            3044.214214,
            7103.702595000002,
            3794.755195,
            4444.2317,
            1132.055034,
            582.8585102000002,
            421.3534653,
            20647.16499,
            24703.79615,
            13522.15752,
            665.6244126,
            26505.30317,
            925.060154,
            17541.49634,
            4439.45084,
            794.3484384,
            745.5398706,
            1456.309517,
            3081.694603,
            24757.60301,
            10535.62855,
            25144.39201,
            1164.406809,
            2383.140898,
            7235.653187999998,
            3745.640687,
            17558.81555,
            18051.52254,
            22013.64486,
            7404.923685,
            26824.89511,
            3431.593647,
            1341.9217210000004,
            3726.063507,
            12104.27872,
            34932.91959,
            6890.806854,
            977.4862725,
            636.6229191000001,
            9640.138501,
            1040.67619,
            563.2000145,
            7277.912802,
            739.014375,
            1361.369784,
            6058.253846000001,
            9472.384295,
            1785.402016,
            7003.339037000002,
            2948.047252,
            410.8968239,
            347,
            3804.537999,
            897.7403604,
            26790.94961,
            18363.32494,
            2170.151724,
            581.182725,
            1619.848217,
            33965.66115,
            18616.70691,
            1971.829464,
            6618.74305,
            4196.411078,
            4446.380924,
            2279.324017000001,
            7738.881247,
            16207.266630000002,
            14641.58711,
            6101.255823,
            6598.409903,
            737.0685949,
            1428.777814,
            24841.61777,
            1367.899369,
            9325.068238,
            1068.696278,
            24769.8912,
            9498.467723,
            14214.71681,
            926.9602964,
            7225.069257999998,
            18603.06452,
            2153.739222,
            1492.197043,
            3553.0224,
            23880.01683,
            31871.5303,
            3340.542768,
            15215.6579,
            825.682454,
            4616.896545000001,
            1034.298904,
            7370.990932,
            4332.720164,
            5678.348271,
            644.1707968999998,
            22705.09254,
            32003.93224,
            8137.004775,
            10733.92631,
            989.0231487,
            6017.654756,
            1879.496673,
            1210.884633,
            693.4207856
           ],
           "xaxis": "x",
           "y": [
            41.674,
            71.581,
            67.744,
            40.647,
            71.868,
            77.56,
            76.04,
            72.601,
            56.018,
            76.46,
            53.919,
            59.957,
            72.178,
            62.745,
            67.057,
            71.19,
            50.26,
            44.736,
            55.803,
            54.31399999999999,
            77.95,
            49.396,
            51.724,
            74.126,
            68.69,
            68.421,
            57.93899999999999,
            45.548,
            56.433,
            75.71300000000002,
            52.044,
            72.527,
            74.414,
            72.4,
            75.33,
            51.604,
            68.457,
            69.613,
            63.674,
            66.798,
            47.545,
            49.99100000000001,
            48.091,
            75.7,
            77.46,
            61.36600000000001,
            52.644,
            76.07,
            57.50100000000001,
            77.03,
            63.37300000000001,
            48.576,
            43.26600000000001,
            55.089,
            66.399,
            77.601,
            69.17,
            78.77,
            60.223,
            62.681,
            65.742,
            59.46100000000001,
            75.467,
            76.93,
            77.44,
            71.766,
            79.36,
            68.015,
            59.285,
            69.97800000000001,
            72.244,
            75.19,
            69.292,
            59.685,
            40.802,
            68.755,
            52.214,
            49.42,
            70.693,
            48.38800000000001,
            58.333,
            69.745,
            71.455,
            61.271,
            75.435,
            65.393,
            44.284,
            59.32,
            61.999,
            55.727,
            77.42,
            76.33,
            65.843,
            47.39100000000001,
            47.472,
            77.32,
            71.197,
            60.838,
            72.462,
            68.225,
            66.458,
            66.458,
            70.99,
            74.86,
            73.911,
            73.615,
            69.36,
            23.599,
            62.742,
            68.768,
            58.19600000000001,
            71.65899999999998,
            38.333,
            75.788,
            71.38,
            73.64,
            39.658,
            61.88800000000001,
            77.57,
            70.37899999999998,
            53.556,
            58.474,
            78.16,
            78.03,
            69.249,
            74.26,
            50.44,
            67.298,
            58.06100000000001,
            69.862,
            70.001,
            66.146,
            48.825,
            76.42,
            76.09,
            72.752,
            71.15,
            67.66199999999999,
            69.718,
            55.599,
            46.1,
            60.377
           ],
           "yaxis": "y"
          }
         ],
         "name": "1992"
        },
        {
         "data": [
          {
           "hovertemplate": "year=1997<br>gdpPercap=%{x}<br>lifeExp=%{y}<extra></extra>",
           "ids": [
            "Afghanistan",
            "Albania",
            "Algeria",
            "Angola",
            "Argentina",
            "Australia",
            "Austria",
            "Bahrain",
            "Bangladesh",
            "Belgium",
            "Benin",
            "Bolivia",
            "Bosnia and Herzegovina",
            "Botswana",
            "Brazil",
            "Bulgaria",
            "Burkina Faso",
            "Burundi",
            "Cambodia",
            "Cameroon",
            "Canada",
            "Central African Republic",
            "Chad",
            "Chile",
            "China",
            "Colombia",
            "Comoros",
            "Congo, Dem. Rep.",
            "Congo, Rep.",
            "Costa Rica",
            "Cote d'Ivoire",
            "Croatia",
            "Cuba",
            "Czech Republic",
            "Denmark",
            "Djibouti",
            "Dominican Republic",
            "Ecuador",
            "Egypt",
            "El Salvador",
            "Equatorial Guinea",
            "Eritrea",
            "Ethiopia",
            "Finland",
            "France",
            "Gabon",
            "Gambia",
            "Germany",
            "Ghana",
            "Greece",
            "Guatemala",
            "Guinea",
            "Guinea-Bissau",
            "Haiti",
            "Honduras",
            "Hong Kong, China",
            "Hungary",
            "Iceland",
            "India",
            "Indonesia",
            "Iran",
            "Iraq",
            "Ireland",
            "Israel",
            "Italy",
            "Jamaica",
            "Japan",
            "Jordan",
            "Kenya",
            "Korea, Dem. Rep.",
            "Korea, Rep.",
            "Kuwait",
            "Lebanon",
            "Lesotho",
            "Liberia",
            "Libya",
            "Madagascar",
            "Malawi",
            "Malaysia",
            "Mali",
            "Mauritania",
            "Mauritius",
            "Mexico",
            "Mongolia",
            "Montenegro",
            "Morocco",
            "Mozambique",
            "Myanmar",
            "Namibia",
            "Nepal",
            "Netherlands",
            "New Zealand",
            "Nicaragua",
            "Niger",
            "Nigeria",
            "Norway",
            "Oman",
            "Pakistan",
            "Panama",
            "Paraguay",
            "Peru",
            "Philippines",
            "Poland",
            "Portugal",
            "Puerto Rico",
            "Reunion",
            "Romania",
            "Rwanda",
            "Sao Tome and Principe",
            "Saudi Arabia",
            "Senegal",
            "Serbia",
            "Sierra Leone",
            "Singapore",
            "Slovak Republic",
            "Slovenia",
            "Somalia",
            "South Africa",
            "Spain",
            "Sri Lanka",
            "Sudan",
            "Swaziland",
            "Sweden",
            "Switzerland",
            "Syria",
            "Taiwan",
            "Tanzania",
            "Thailand",
            "Togo",
            "Trinidad and Tobago",
            "Tunisia",
            "Turkey",
            "Uganda",
            "United Kingdom",
            "United States",
            "Uruguay",
            "Venezuela",
            "Vietnam",
            "West Bank and Gaza",
            "Yemen, Rep.",
            "Zambia",
            "Zimbabwe"
           ],
           "legendgroup": "",
           "marker": {
            "color": "#636efa",
            "symbol": "circle"
           },
           "mode": "markers",
           "name": "",
           "orientation": "v",
           "showlegend": false,
           "type": "scatter",
           "x": [
            635.341351,
            3193.054604,
            4797.295051,
            2277.140884,
            10967.28195,
            26997.93657,
            29095.920660000003,
            20292.01679,
            972.7700352,
            27561.19663,
            1232.975292,
            3326.143191,
            4766.355904,
            8647.142313,
            7957.980823999998,
            5970.38876,
            946.2949618,
            463.1151478,
            734.28517,
            1694.337469,
            28954.92589,
            740.5063317,
            1004.961353,
            10118.05318,
            2289.234136,
            6117.361746000001,
            1173.618235,
            312.188423,
            3484.164376,
            6677.045314,
            1786.265407,
            9875.604515,
            5431.990415,
            16048.51424,
            29804.34567,
            1895.016984,
            3614.101285,
            7429.4558769999985,
            4173.181797,
            5154.825496,
            2814.480755,
            913.47079,
            515.8894013,
            23723.9502,
            25889.78487,
            14722.841880000002,
            653.7301704,
            27788.88416,
            1005.245812,
            18747.69814,
            4684.313807,
            869.4497667999998,
            796.6644681,
            1341.726931,
            3160.454906,
            28377.63219,
            11712.7768,
            28061.099660000003,
            1458.817442,
            3119.335603,
            8263.590301,
            3076.239795,
            24521.94713,
            20896.60924,
            24675.02446,
            7121.924704000001,
            28816.58499,
            3645.379572,
            1360.4850210000004,
            1690.756814,
            15993.52796,
            40300.61996,
            8754.96385,
            1186.147994,
            609.1739508,
            9467.446056,
            986.2958956,
            692.2758102999999,
            10132.90964,
            790.2579846,
            1483.136136,
            7425.705295000002,
            9767.29753,
            1902.2521,
            6465.613349,
            2982.101858,
            472.34607710000006,
            415,
            3899.52426,
            1010.892138,
            30246.13063,
            21050.41377,
            2253.023004,
            580.3052092,
            1624.941275,
            41283.16433,
            19702.05581,
            2049.3505210000008,
            7113.692252,
            4247.400261,
            5838.347657,
            2536.534925,
            10159.58368,
            17641.03156,
            16999.4333,
            6071.941411,
            7346.547556999999,
            589.9445051,
            1339.076036,
            20586.69019,
            1392.368347,
            7914.320304000002,
            574.6481576,
            33519.4766,
            12126.23065,
            17161.10735,
            930.5964284,
            7479.188244,
            20445.29896,
            2664.477257,
            1632.2107640000004,
            3876.76846,
            25266.59499,
            32135.323010000004,
            4014.238972,
            20206.82098,
            789.1862231,
            5852.625497,
            982.2869243,
            8792.573126000001,
            4876.798614,
            6601.429915,
            816.559081,
            26074.53136,
            35767.43303,
            9230.240708,
            10165.49518,
            1385.896769,
            7110.667619,
            2117.484526,
            1071.353818,
            792.4499602999998
           ],
           "xaxis": "x",
           "y": [
            41.76300000000001,
            72.95,
            69.152,
            40.963,
            73.275,
            78.83,
            77.51,
            73.925,
            59.412,
            77.53,
            54.777,
            62.05,
            73.244,
            52.556,
            69.388,
            70.32,
            50.324,
            45.326,
            56.534,
            52.199,
            78.61,
            46.066,
            51.573,
            75.816,
            70.426,
            70.313,
            60.66,
            42.587,
            52.962,
            77.26,
            47.99100000000001,
            73.68,
            76.15100000000002,
            74.01,
            76.11,
            53.157,
            69.957,
            72.312,
            67.217,
            69.535,
            48.245,
            53.378,
            49.402,
            77.13,
            78.64,
            60.46100000000001,
            55.861,
            77.34,
            58.556,
            77.869,
            66.322,
            51.455,
            44.87300000000001,
            56.67100000000001,
            67.65899999999999,
            80,
            71.04,
            78.95,
            61.765,
            66.041,
            68.042,
            58.81100000000001,
            76.122,
            78.26899999999998,
            78.82,
            72.262,
            80.69,
            69.77199999999999,
            54.407,
            67.727,
            74.64699999999998,
            76.156,
            70.265,
            55.558,
            42.221,
            71.555,
            54.978,
            47.495,
            71.938,
            49.903,
            60.43,
            70.736,
            73.67,
            63.625,
            75.445,
            67.66,
            46.344,
            60.328,
            58.909,
            59.426,
            78.03,
            77.55,
            68.426,
            51.313,
            47.464,
            78.32,
            72.499,
            61.81800000000001,
            73.738,
            69.4,
            68.38600000000001,
            68.564,
            72.75,
            75.97,
            74.917,
            74.77199999999998,
            69.72,
            36.087,
            63.306,
            70.533,
            60.187,
            72.232,
            39.897,
            77.158,
            72.71,
            75.13,
            43.795,
            60.236,
            78.77,
            70.457,
            55.37300000000001,
            54.289,
            79.39,
            79.37,
            71.527,
            75.25,
            48.466,
            67.521,
            58.39,
            69.465,
            71.973,
            68.835,
            44.578,
            77.218,
            76.81,
            74.223,
            72.146,
            70.672,
            71.096,
            58.02,
            40.238,
            46.809
           ],
           "yaxis": "y"
          }
         ],
         "name": "1997"
        },
        {
         "data": [
          {
           "hovertemplate": "year=2002<br>gdpPercap=%{x}<br>lifeExp=%{y}<extra></extra>",
           "ids": [
            "Afghanistan",
            "Albania",
            "Algeria",
            "Angola",
            "Argentina",
            "Australia",
            "Austria",
            "Bahrain",
            "Bangladesh",
            "Belgium",
            "Benin",
            "Bolivia",
            "Bosnia and Herzegovina",
            "Botswana",
            "Brazil",
            "Bulgaria",
            "Burkina Faso",
            "Burundi",
            "Cambodia",
            "Cameroon",
            "Canada",
            "Central African Republic",
            "Chad",
            "Chile",
            "China",
            "Colombia",
            "Comoros",
            "Congo, Dem. Rep.",
            "Congo, Rep.",
            "Costa Rica",
            "Cote d'Ivoire",
            "Croatia",
            "Cuba",
            "Czech Republic",
            "Denmark",
            "Djibouti",
            "Dominican Republic",
            "Ecuador",
            "Egypt",
            "El Salvador",
            "Equatorial Guinea",
            "Eritrea",
            "Ethiopia",
            "Finland",
            "France",
            "Gabon",
            "Gambia",
            "Germany",
            "Ghana",
            "Greece",
            "Guatemala",
            "Guinea",
            "Guinea-Bissau",
            "Haiti",
            "Honduras",
            "Hong Kong, China",
            "Hungary",
            "Iceland",
            "India",
            "Indonesia",
            "Iran",
            "Iraq",
            "Ireland",
            "Israel",
            "Italy",
            "Jamaica",
            "Japan",
            "Jordan",
            "Kenya",
            "Korea, Dem. Rep.",
            "Korea, Rep.",
            "Kuwait",
            "Lebanon",
            "Lesotho",
            "Liberia",
            "Libya",
            "Madagascar",
            "Malawi",
            "Malaysia",
            "Mali",
            "Mauritania",
            "Mauritius",
            "Mexico",
            "Mongolia",
            "Montenegro",
            "Morocco",
            "Mozambique",
            "Myanmar",
            "Namibia",
            "Nepal",
            "Netherlands",
            "New Zealand",
            "Nicaragua",
            "Niger",
            "Nigeria",
            "Norway",
            "Oman",
            "Pakistan",
            "Panama",
            "Paraguay",
            "Peru",
            "Philippines",
            "Poland",
            "Portugal",
            "Puerto Rico",
            "Reunion",
            "Romania",
            "Rwanda",
            "Sao Tome and Principe",
            "Saudi Arabia",
            "Senegal",
            "Serbia",
            "Sierra Leone",
            "Singapore",
            "Slovak Republic",
            "Slovenia",
            "Somalia",
            "South Africa",
            "Spain",
            "Sri Lanka",
            "Sudan",
            "Swaziland",
            "Sweden",
            "Switzerland",
            "Syria",
            "Taiwan",
            "Tanzania",
            "Thailand",
            "Togo",
            "Trinidad and Tobago",
            "Tunisia",
            "Turkey",
            "Uganda",
            "United Kingdom",
            "United States",
            "Uruguay",
            "Venezuela",
            "Vietnam",
            "West Bank and Gaza",
            "Yemen, Rep.",
            "Zambia",
            "Zimbabwe"
           ],
           "legendgroup": "",
           "marker": {
            "color": "#636efa",
            "symbol": "circle"
           },
           "mode": "markers",
           "name": "",
           "orientation": "v",
           "showlegend": false,
           "type": "scatter",
           "x": [
            726.7340548,
            4604.211737,
            5288.040382,
            2773.287312,
            8797.640716,
            30687.75473,
            32417.60769,
            23403.55927,
            1136.3904300000004,
            30485.88375,
            1372.877931,
            3413.26269,
            6018.975239,
            11003.60508,
            8131.212843000001,
            7696.777725,
            1037.645221,
            446.4035126,
            896.2260152999999,
            1934.011449,
            33328.96507,
            738.6906068,
            1156.18186,
            10778.78385,
            3119.280896,
            5755.259962,
            1075.811558,
            241.1658765,
            3484.06197,
            7723.447195000002,
            1648.800823,
            11628.38895,
            6340.646683,
            17596.210219999994,
            32166.50006,
            1908.260867,
            4563.808154,
            5773.044512,
            4754.604414,
            5351.568665999999,
            7703.4959,
            765.3500015,
            530.0535319,
            28204.59057,
            28926.03234,
            12521.71392,
            660.5855997,
            30035.80198,
            1111.9845779999996,
            22514.2548,
            4858.347495,
            945.5835837,
            575.7047176,
            1270.364932,
            3099.72866,
            30209.015160000006,
            14843.93556,
            31163.20196,
            1746.769454,
            2873.91287,
            9240.761975,
            4390.717312,
            34077.04939,
            21905.59514,
            27968.09817,
            6994.774861,
            28604.5919,
            3844.917194,
            1287.514732,
            1646.758151,
            19233.98818,
            35110.10566,
            9313.93883,
            1275.184575,
            531.4823679,
            9534.677467,
            894.6370822,
            665.4231186000002,
            10206.97794,
            951.4097518,
            1579.019543,
            9021.815894,
            10742.44053,
            2140.739323,
            6557.194282,
            3258.495584,
            633.6179466,
            611,
            4072.324751,
            1057.206311,
            33724.75778,
            23189.80135,
            2474.548819,
            601.0745012,
            1615.286395,
            44683.97525,
            19774.83687,
            2092.712441,
            7356.0319340000015,
            3783.674243,
            5909.020073,
            2650.921068,
            12002.23908,
            19970.90787,
            18855.60618,
            6316.1652,
            7885.360081,
            785.6537647999999,
            1353.09239,
            19014.54118,
            1519.635262,
            7236.075251,
            699.4897129999998,
            36023.1054,
            13638.778369999998,
            20660.01936,
            882.0818218000002,
            7710.946444,
            24835.47166,
            3015.378833,
            1993.398314,
            4128.116943,
            29341.630930000007,
            34480.95771,
            4090.925331,
            23235.42329,
            899.0742111,
            5913.187529,
            886.2205765000001,
            11460.60023,
            5722.895654999998,
            6508.085718,
            927.7210018,
            29478.99919,
            39097.09955,
            7727.002004000001,
            8605.047831,
            1764.456677,
            4515.487575,
            2234.820827,
            1071.6139380000004,
            672.0386227000001
           ],
           "xaxis": "x",
           "y": [
            42.129,
            75.65100000000002,
            70.994,
            41.003,
            74.34,
            80.37,
            78.98,
            74.795,
            62.01300000000001,
            78.32,
            54.40600000000001,
            63.883,
            74.09,
            46.63399999999999,
            71.006,
            72.14,
            50.65,
            47.36,
            56.752,
            49.856,
            79.77,
            43.308,
            50.525,
            77.86,
            72.028,
            71.682,
            62.974,
            44.966,
            52.97,
            78.123,
            46.832,
            74.876,
            77.158,
            75.51,
            77.18,
            53.37300000000001,
            70.847,
            74.173,
            69.806,
            70.734,
            49.348,
            55.24,
            50.725,
            78.37,
            79.59,
            56.761,
            58.041,
            78.67,
            58.453,
            78.256,
            68.97800000000001,
            53.676,
            45.504,
            58.137,
            68.565,
            81.495,
            72.59,
            80.5,
            62.879,
            68.58800000000001,
            69.45100000000001,
            57.04600000000001,
            77.783,
            79.696,
            80.24,
            72.047,
            82,
            71.263,
            50.992,
            66.66199999999999,
            77.045,
            76.904,
            71.028,
            44.593,
            43.753,
            72.737,
            57.286,
            45.00899999999999,
            73.044,
            51.81800000000001,
            62.247,
            71.954,
            74.902,
            65.033,
            73.98100000000002,
            69.615,
            44.026,
            59.908,
            51.479,
            61.34,
            78.53,
            79.11,
            70.836,
            54.496,
            46.608,
            79.05,
            74.193,
            63.61,
            74.712,
            70.755,
            69.906,
            70.303,
            74.67,
            77.29,
            77.778,
            75.744,
            71.322,
            43.413,
            64.337,
            71.626,
            61.6,
            73.21300000000002,
            41.012,
            78.77,
            73.8,
            76.66,
            45.93600000000001,
            53.365,
            79.78,
            70.815,
            56.369,
            43.869,
            80.04,
            80.62,
            73.053,
            76.99,
            49.651,
            68.564,
            57.56100000000001,
            68.976,
            73.042,
            70.845,
            47.813,
            78.471,
            77.31,
            75.307,
            72.766,
            73.017,
            72.37,
            60.308,
            39.19300000000001,
            39.989
           ],
           "yaxis": "y"
          }
         ],
         "name": "2002"
        },
        {
         "data": [
          {
           "hovertemplate": "year=2007<br>gdpPercap=%{x}<br>lifeExp=%{y}<extra></extra>",
           "ids": [
            "Afghanistan",
            "Albania",
            "Algeria",
            "Angola",
            "Argentina",
            "Australia",
            "Austria",
            "Bahrain",
            "Bangladesh",
            "Belgium",
            "Benin",
            "Bolivia",
            "Bosnia and Herzegovina",
            "Botswana",
            "Brazil",
            "Bulgaria",
            "Burkina Faso",
            "Burundi",
            "Cambodia",
            "Cameroon",
            "Canada",
            "Central African Republic",
            "Chad",
            "Chile",
            "China",
            "Colombia",
            "Comoros",
            "Congo, Dem. Rep.",
            "Congo, Rep.",
            "Costa Rica",
            "Cote d'Ivoire",
            "Croatia",
            "Cuba",
            "Czech Republic",
            "Denmark",
            "Djibouti",
            "Dominican Republic",
            "Ecuador",
            "Egypt",
            "El Salvador",
            "Equatorial Guinea",
            "Eritrea",
            "Ethiopia",
            "Finland",
            "France",
            "Gabon",
            "Gambia",
            "Germany",
            "Ghana",
            "Greece",
            "Guatemala",
            "Guinea",
            "Guinea-Bissau",
            "Haiti",
            "Honduras",
            "Hong Kong, China",
            "Hungary",
            "Iceland",
            "India",
            "Indonesia",
            "Iran",
            "Iraq",
            "Ireland",
            "Israel",
            "Italy",
            "Jamaica",
            "Japan",
            "Jordan",
            "Kenya",
            "Korea, Dem. Rep.",
            "Korea, Rep.",
            "Kuwait",
            "Lebanon",
            "Lesotho",
            "Liberia",
            "Libya",
            "Madagascar",
            "Malawi",
            "Malaysia",
            "Mali",
            "Mauritania",
            "Mauritius",
            "Mexico",
            "Mongolia",
            "Montenegro",
            "Morocco",
            "Mozambique",
            "Myanmar",
            "Namibia",
            "Nepal",
            "Netherlands",
            "New Zealand",
            "Nicaragua",
            "Niger",
            "Nigeria",
            "Norway",
            "Oman",
            "Pakistan",
            "Panama",
            "Paraguay",
            "Peru",
            "Philippines",
            "Poland",
            "Portugal",
            "Puerto Rico",
            "Reunion",
            "Romania",
            "Rwanda",
            "Sao Tome and Principe",
            "Saudi Arabia",
            "Senegal",
            "Serbia",
            "Sierra Leone",
            "Singapore",
            "Slovak Republic",
            "Slovenia",
            "Somalia",
            "South Africa",
            "Spain",
            "Sri Lanka",
            "Sudan",
            "Swaziland",
            "Sweden",
            "Switzerland",
            "Syria",
            "Taiwan",
            "Tanzania",
            "Thailand",
            "Togo",
            "Trinidad and Tobago",
            "Tunisia",
            "Turkey",
            "Uganda",
            "United Kingdom",
            "United States",
            "Uruguay",
            "Venezuela",
            "Vietnam",
            "West Bank and Gaza",
            "Yemen, Rep.",
            "Zambia",
            "Zimbabwe"
           ],
           "legendgroup": "",
           "marker": {
            "color": "#636efa",
            "symbol": "circle"
           },
           "mode": "markers",
           "name": "",
           "orientation": "v",
           "showlegend": false,
           "type": "scatter",
           "x": [
            974.5803384,
            5937.029525999998,
            6223.367465,
            4797.231267,
            12779.37964,
            34435.367439999995,
            36126.4927,
            29796.04834,
            1391.253792,
            33692.60508,
            1441.284873,
            3822.137084,
            7446.298803,
            12569.85177,
            9065.800825,
            10680.79282,
            1217.032994,
            430.0706916,
            1713.778686,
            2042.09524,
            36319.23501,
            706.016537,
            1704.063724,
            13171.63885,
            4959.114854,
            7006.580419,
            986.1478792,
            277.5518587,
            3632.557798,
            9645.06142,
            1544.750112,
            14619.222719999998,
            8948.102923,
            22833.30851,
            35278.41874,
            2082.4815670000007,
            6025.3747520000015,
            6873.262326000001,
            5581.180998,
            5728.353514,
            12154.08975,
            641.3695236000002,
            690.8055759,
            33207.0844,
            30470.0167,
            13206.48452,
            752.7497265,
            32170.37442,
            1327.60891,
            27538.41188,
            5186.050003,
            942.6542111,
            579.2317429999998,
            1201.637154,
            3548.3308460000007,
            39724.97867,
            18008.94444,
            36180.78919,
            2452.210407,
            3540.651564,
            11605.71449,
            4471.061906,
            40675.99635,
            25523.2771,
            28569.7197,
            7320.8802620000015,
            31656.06806,
            4519.461171,
            1463.249282,
            1593.06548,
            23348.139730000006,
            47306.98978,
            10461.05868,
            1569.331442,
            414.5073415,
            12057.49928,
            1044.770126,
            759.3499101,
            12451.6558,
            1042.581557,
            1803.151496,
            10956.99112,
            11977.57496,
            3095.7722710000007,
            9253.896111,
            3820.17523,
            823.6856205,
            944,
            4811.060429,
            1091.359778,
            36797.93332,
            25185.00911,
            2749.320965,
            619.6768923999998,
            2013.977305,
            49357.19017,
            22316.19287,
            2605.94758,
            9809.185636,
            4172.838464,
            7408.905561,
            3190.481016,
            15389.924680000002,
            20509.64777,
            19328.70901,
            7670.122558,
            10808.47561,
            863.0884639000002,
            1598.435089,
            21654.83194,
            1712.472136,
            9786.534714,
            862.5407561000002,
            47143.17964,
            18678.31435,
            25768.25759,
            926.1410683,
            9269.657808,
            28821.0637,
            3970.095407,
            2602.394995,
            4513.480643,
            33859.74835,
            37506.41907,
            4184.548089,
            28718.27684,
            1107.482182,
            7458.396326999998,
            882.9699437999999,
            18008.50924,
            7092.923025,
            8458.276384,
            1056.380121,
            33203.26128,
            42951.65309,
            10611.46299,
            11415.80569,
            2441.576404,
            3025.349798,
            2280.769906,
            1271.211593,
            469.70929810000007
           ],
           "xaxis": "x",
           "y": [
            43.828,
            76.423,
            72.301,
            42.731,
            75.32,
            81.235,
            79.829,
            75.635,
            64.062,
            79.441,
            56.728,
            65.554,
            74.852,
            50.728,
            72.39,
            73.005,
            52.295,
            49.58,
            59.723,
            50.43,
            80.653,
            44.74100000000001,
            50.651,
            78.553,
            72.961,
            72.889,
            65.152,
            46.462,
            55.322,
            78.782,
            48.328,
            75.748,
            78.273,
            76.486,
            78.332,
            54.791,
            72.235,
            74.994,
            71.33800000000002,
            71.878,
            51.57899999999999,
            58.04,
            52.947,
            79.313,
            80.657,
            56.735,
            59.448,
            79.406,
            60.022,
            79.483,
            70.259,
            56.007,
            46.38800000000001,
            60.916,
            70.19800000000001,
            82.208,
            73.33800000000002,
            81.757,
            64.69800000000001,
            70.65,
            70.964,
            59.545,
            78.885,
            80.745,
            80.546,
            72.567,
            82.603,
            72.535,
            54.11,
            67.297,
            78.623,
            77.58800000000002,
            71.993,
            42.592,
            45.678,
            73.952,
            59.44300000000001,
            48.303,
            74.241,
            54.467,
            64.164,
            72.801,
            76.195,
            66.803,
            74.543,
            71.164,
            42.082,
            62.069,
            52.90600000000001,
            63.785,
            79.762,
            80.204,
            72.899,
            56.867,
            46.859,
            80.196,
            75.64,
            65.483,
            75.53699999999998,
            71.752,
            71.421,
            71.688,
            75.563,
            78.098,
            78.74600000000002,
            76.442,
            72.476,
            46.242,
            65.528,
            72.777,
            63.062,
            74.002,
            42.56800000000001,
            79.972,
            74.663,
            77.926,
            48.159,
            49.339,
            80.941,
            72.396,
            58.556,
            39.613,
            80.884,
            81.70100000000002,
            74.143,
            78.4,
            52.517,
            70.616,
            58.42,
            69.819,
            73.923,
            71.777,
            51.542,
            79.425,
            78.242,
            76.384,
            73.747,
            74.249,
            73.422,
            62.698,
            42.38399999999999,
            43.487
           ],
           "yaxis": "y"
          }
         ],
         "name": "2007"
        }
       ],
       "layout": {
        "legend": {
         "tracegroupgap": 0
        },
        "margin": {
         "t": 60
        },
        "sliders": [
         {
          "active": 0,
          "currentvalue": {
           "prefix": "year="
          },
          "len": 0.9,
          "pad": {
           "b": 10,
           "t": 60
          },
          "steps": [
           {
            "args": [
             [
              "1952"
             ],
             {
              "frame": {
               "duration": 0,
               "redraw": false
              },
              "fromcurrent": true,
              "mode": "immediate",
              "transition": {
               "duration": 0,
               "easing": "linear"
              }
             }
            ],
            "label": "1952",
            "method": "animate"
           },
           {
            "args": [
             [
              "1957"
             ],
             {
              "frame": {
               "duration": 0,
               "redraw": false
              },
              "fromcurrent": true,
              "mode": "immediate",
              "transition": {
               "duration": 0,
               "easing": "linear"
              }
             }
            ],
            "label": "1957",
            "method": "animate"
           },
           {
            "args": [
             [
              "1962"
             ],
             {
              "frame": {
               "duration": 0,
               "redraw": false
              },
              "fromcurrent": true,
              "mode": "immediate",
              "transition": {
               "duration": 0,
               "easing": "linear"
              }
             }
            ],
            "label": "1962",
            "method": "animate"
           },
           {
            "args": [
             [
              "1967"
             ],
             {
              "frame": {
               "duration": 0,
               "redraw": false
              },
              "fromcurrent": true,
              "mode": "immediate",
              "transition": {
               "duration": 0,
               "easing": "linear"
              }
             }
            ],
            "label": "1967",
            "method": "animate"
           },
           {
            "args": [
             [
              "1972"
             ],
             {
              "frame": {
               "duration": 0,
               "redraw": false
              },
              "fromcurrent": true,
              "mode": "immediate",
              "transition": {
               "duration": 0,
               "easing": "linear"
              }
             }
            ],
            "label": "1972",
            "method": "animate"
           },
           {
            "args": [
             [
              "1977"
             ],
             {
              "frame": {
               "duration": 0,
               "redraw": false
              },
              "fromcurrent": true,
              "mode": "immediate",
              "transition": {
               "duration": 0,
               "easing": "linear"
              }
             }
            ],
            "label": "1977",
            "method": "animate"
           },
           {
            "args": [
             [
              "1982"
             ],
             {
              "frame": {
               "duration": 0,
               "redraw": false
              },
              "fromcurrent": true,
              "mode": "immediate",
              "transition": {
               "duration": 0,
               "easing": "linear"
              }
             }
            ],
            "label": "1982",
            "method": "animate"
           },
           {
            "args": [
             [
              "1987"
             ],
             {
              "frame": {
               "duration": 0,
               "redraw": false
              },
              "fromcurrent": true,
              "mode": "immediate",
              "transition": {
               "duration": 0,
               "easing": "linear"
              }
             }
            ],
            "label": "1987",
            "method": "animate"
           },
           {
            "args": [
             [
              "1992"
             ],
             {
              "frame": {
               "duration": 0,
               "redraw": false
              },
              "fromcurrent": true,
              "mode": "immediate",
              "transition": {
               "duration": 0,
               "easing": "linear"
              }
             }
            ],
            "label": "1992",
            "method": "animate"
           },
           {
            "args": [
             [
              "1997"
             ],
             {
              "frame": {
               "duration": 0,
               "redraw": false
              },
              "fromcurrent": true,
              "mode": "immediate",
              "transition": {
               "duration": 0,
               "easing": "linear"
              }
             }
            ],
            "label": "1997",
            "method": "animate"
           },
           {
            "args": [
             [
              "2002"
             ],
             {
              "frame": {
               "duration": 0,
               "redraw": false
              },
              "fromcurrent": true,
              "mode": "immediate",
              "transition": {
               "duration": 0,
               "easing": "linear"
              }
             }
            ],
            "label": "2002",
            "method": "animate"
           },
           {
            "args": [
             [
              "2007"
             ],
             {
              "frame": {
               "duration": 0,
               "redraw": false
              },
              "fromcurrent": true,
              "mode": "immediate",
              "transition": {
               "duration": 0,
               "easing": "linear"
              }
             }
            ],
            "label": "2007",
            "method": "animate"
           }
          ],
          "x": 0.1,
          "xanchor": "left",
          "y": 0,
          "yanchor": "top"
         }
        ],
        "template": {
         "data": {
          "bar": [
           {
            "error_x": {
             "color": "#2a3f5f"
            },
            "error_y": {
             "color": "#2a3f5f"
            },
            "marker": {
             "line": {
              "color": "#E5ECF6",
              "width": 0.5
             },
             "pattern": {
              "fillmode": "overlay",
              "size": 10,
              "solidity": 0.2
             }
            },
            "type": "bar"
           }
          ],
          "barpolar": [
           {
            "marker": {
             "line": {
              "color": "#E5ECF6",
              "width": 0.5
             },
             "pattern": {
              "fillmode": "overlay",
              "size": 10,
              "solidity": 0.2
             }
            },
            "type": "barpolar"
           }
          ],
          "carpet": [
           {
            "aaxis": {
             "endlinecolor": "#2a3f5f",
             "gridcolor": "white",
             "linecolor": "white",
             "minorgridcolor": "white",
             "startlinecolor": "#2a3f5f"
            },
            "baxis": {
             "endlinecolor": "#2a3f5f",
             "gridcolor": "white",
             "linecolor": "white",
             "minorgridcolor": "white",
             "startlinecolor": "#2a3f5f"
            },
            "type": "carpet"
           }
          ],
          "choropleth": [
           {
            "colorbar": {
             "outlinewidth": 0,
             "ticks": ""
            },
            "type": "choropleth"
           }
          ],
          "contour": [
           {
            "colorbar": {
             "outlinewidth": 0,
             "ticks": ""
            },
            "colorscale": [
             [
              0,
              "#0d0887"
             ],
             [
              0.1111111111111111,
              "#46039f"
             ],
             [
              0.2222222222222222,
              "#7201a8"
             ],
             [
              0.3333333333333333,
              "#9c179e"
             ],
             [
              0.4444444444444444,
              "#bd3786"
             ],
             [
              0.5555555555555556,
              "#d8576b"
             ],
             [
              0.6666666666666666,
              "#ed7953"
             ],
             [
              0.7777777777777778,
              "#fb9f3a"
             ],
             [
              0.8888888888888888,
              "#fdca26"
             ],
             [
              1,
              "#f0f921"
             ]
            ],
            "type": "contour"
           }
          ],
          "contourcarpet": [
           {
            "colorbar": {
             "outlinewidth": 0,
             "ticks": ""
            },
            "type": "contourcarpet"
           }
          ],
          "heatmap": [
           {
            "colorbar": {
             "outlinewidth": 0,
             "ticks": ""
            },
            "colorscale": [
             [
              0,
              "#0d0887"
             ],
             [
              0.1111111111111111,
              "#46039f"
             ],
             [
              0.2222222222222222,
              "#7201a8"
             ],
             [
              0.3333333333333333,
              "#9c179e"
             ],
             [
              0.4444444444444444,
              "#bd3786"
             ],
             [
              0.5555555555555556,
              "#d8576b"
             ],
             [
              0.6666666666666666,
              "#ed7953"
             ],
             [
              0.7777777777777778,
              "#fb9f3a"
             ],
             [
              0.8888888888888888,
              "#fdca26"
             ],
             [
              1,
              "#f0f921"
             ]
            ],
            "type": "heatmap"
           }
          ],
          "heatmapgl": [
           {
            "colorbar": {
             "outlinewidth": 0,
             "ticks": ""
            },
            "colorscale": [
             [
              0,
              "#0d0887"
             ],
             [
              0.1111111111111111,
              "#46039f"
             ],
             [
              0.2222222222222222,
              "#7201a8"
             ],
             [
              0.3333333333333333,
              "#9c179e"
             ],
             [
              0.4444444444444444,
              "#bd3786"
             ],
             [
              0.5555555555555556,
              "#d8576b"
             ],
             [
              0.6666666666666666,
              "#ed7953"
             ],
             [
              0.7777777777777778,
              "#fb9f3a"
             ],
             [
              0.8888888888888888,
              "#fdca26"
             ],
             [
              1,
              "#f0f921"
             ]
            ],
            "type": "heatmapgl"
           }
          ],
          "histogram": [
           {
            "marker": {
             "pattern": {
              "fillmode": "overlay",
              "size": 10,
              "solidity": 0.2
             }
            },
            "type": "histogram"
           }
          ],
          "histogram2d": [
           {
            "colorbar": {
             "outlinewidth": 0,
             "ticks": ""
            },
            "colorscale": [
             [
              0,
              "#0d0887"
             ],
             [
              0.1111111111111111,
              "#46039f"
             ],
             [
              0.2222222222222222,
              "#7201a8"
             ],
             [
              0.3333333333333333,
              "#9c179e"
             ],
             [
              0.4444444444444444,
              "#bd3786"
             ],
             [
              0.5555555555555556,
              "#d8576b"
             ],
             [
              0.6666666666666666,
              "#ed7953"
             ],
             [
              0.7777777777777778,
              "#fb9f3a"
             ],
             [
              0.8888888888888888,
              "#fdca26"
             ],
             [
              1,
              "#f0f921"
             ]
            ],
            "type": "histogram2d"
           }
          ],
          "histogram2dcontour": [
           {
            "colorbar": {
             "outlinewidth": 0,
             "ticks": ""
            },
            "colorscale": [
             [
              0,
              "#0d0887"
             ],
             [
              0.1111111111111111,
              "#46039f"
             ],
             [
              0.2222222222222222,
              "#7201a8"
             ],
             [
              0.3333333333333333,
              "#9c179e"
             ],
             [
              0.4444444444444444,
              "#bd3786"
             ],
             [
              0.5555555555555556,
              "#d8576b"
             ],
             [
              0.6666666666666666,
              "#ed7953"
             ],
             [
              0.7777777777777778,
              "#fb9f3a"
             ],
             [
              0.8888888888888888,
              "#fdca26"
             ],
             [
              1,
              "#f0f921"
             ]
            ],
            "type": "histogram2dcontour"
           }
          ],
          "mesh3d": [
           {
            "colorbar": {
             "outlinewidth": 0,
             "ticks": ""
            },
            "type": "mesh3d"
           }
          ],
          "parcoords": [
           {
            "line": {
             "colorbar": {
              "outlinewidth": 0,
              "ticks": ""
             }
            },
            "type": "parcoords"
           }
          ],
          "pie": [
           {
            "automargin": true,
            "type": "pie"
           }
          ],
          "scatter": [
           {
            "marker": {
             "colorbar": {
              "outlinewidth": 0,
              "ticks": ""
             }
            },
            "type": "scatter"
           }
          ],
          "scatter3d": [
           {
            "line": {
             "colorbar": {
              "outlinewidth": 0,
              "ticks": ""
             }
            },
            "marker": {
             "colorbar": {
              "outlinewidth": 0,
              "ticks": ""
             }
            },
            "type": "scatter3d"
           }
          ],
          "scattercarpet": [
           {
            "marker": {
             "colorbar": {
              "outlinewidth": 0,
              "ticks": ""
             }
            },
            "type": "scattercarpet"
           }
          ],
          "scattergeo": [
           {
            "marker": {
             "colorbar": {
              "outlinewidth": 0,
              "ticks": ""
             }
            },
            "type": "scattergeo"
           }
          ],
          "scattergl": [
           {
            "marker": {
             "colorbar": {
              "outlinewidth": 0,
              "ticks": ""
             }
            },
            "type": "scattergl"
           }
          ],
          "scattermapbox": [
           {
            "marker": {
             "colorbar": {
              "outlinewidth": 0,
              "ticks": ""
             }
            },
            "type": "scattermapbox"
           }
          ],
          "scatterpolar": [
           {
            "marker": {
             "colorbar": {
              "outlinewidth": 0,
              "ticks": ""
             }
            },
            "type": "scatterpolar"
           }
          ],
          "scatterpolargl": [
           {
            "marker": {
             "colorbar": {
              "outlinewidth": 0,
              "ticks": ""
             }
            },
            "type": "scatterpolargl"
           }
          ],
          "scatterternary": [
           {
            "marker": {
             "colorbar": {
              "outlinewidth": 0,
              "ticks": ""
             }
            },
            "type": "scatterternary"
           }
          ],
          "surface": [
           {
            "colorbar": {
             "outlinewidth": 0,
             "ticks": ""
            },
            "colorscale": [
             [
              0,
              "#0d0887"
             ],
             [
              0.1111111111111111,
              "#46039f"
             ],
             [
              0.2222222222222222,
              "#7201a8"
             ],
             [
              0.3333333333333333,
              "#9c179e"
             ],
             [
              0.4444444444444444,
              "#bd3786"
             ],
             [
              0.5555555555555556,
              "#d8576b"
             ],
             [
              0.6666666666666666,
              "#ed7953"
             ],
             [
              0.7777777777777778,
              "#fb9f3a"
             ],
             [
              0.8888888888888888,
              "#fdca26"
             ],
             [
              1,
              "#f0f921"
             ]
            ],
            "type": "surface"
           }
          ],
          "table": [
           {
            "cells": {
             "fill": {
              "color": "#EBF0F8"
             },
             "line": {
              "color": "white"
             }
            },
            "header": {
             "fill": {
              "color": "#C8D4E3"
             },
             "line": {
              "color": "white"
             }
            },
            "type": "table"
           }
          ]
         },
         "layout": {
          "annotationdefaults": {
           "arrowcolor": "#2a3f5f",
           "arrowhead": 0,
           "arrowwidth": 1
          },
          "autotypenumbers": "strict",
          "coloraxis": {
           "colorbar": {
            "outlinewidth": 0,
            "ticks": ""
           }
          },
          "colorscale": {
           "diverging": [
            [
             0,
             "#8e0152"
            ],
            [
             0.1,
             "#c51b7d"
            ],
            [
             0.2,
             "#de77ae"
            ],
            [
             0.3,
             "#f1b6da"
            ],
            [
             0.4,
             "#fde0ef"
            ],
            [
             0.5,
             "#f7f7f7"
            ],
            [
             0.6,
             "#e6f5d0"
            ],
            [
             0.7,
             "#b8e186"
            ],
            [
             0.8,
             "#7fbc41"
            ],
            [
             0.9,
             "#4d9221"
            ],
            [
             1,
             "#276419"
            ]
           ],
           "sequential": [
            [
             0,
             "#0d0887"
            ],
            [
             0.1111111111111111,
             "#46039f"
            ],
            [
             0.2222222222222222,
             "#7201a8"
            ],
            [
             0.3333333333333333,
             "#9c179e"
            ],
            [
             0.4444444444444444,
             "#bd3786"
            ],
            [
             0.5555555555555556,
             "#d8576b"
            ],
            [
             0.6666666666666666,
             "#ed7953"
            ],
            [
             0.7777777777777778,
             "#fb9f3a"
            ],
            [
             0.8888888888888888,
             "#fdca26"
            ],
            [
             1,
             "#f0f921"
            ]
           ],
           "sequentialminus": [
            [
             0,
             "#0d0887"
            ],
            [
             0.1111111111111111,
             "#46039f"
            ],
            [
             0.2222222222222222,
             "#7201a8"
            ],
            [
             0.3333333333333333,
             "#9c179e"
            ],
            [
             0.4444444444444444,
             "#bd3786"
            ],
            [
             0.5555555555555556,
             "#d8576b"
            ],
            [
             0.6666666666666666,
             "#ed7953"
            ],
            [
             0.7777777777777778,
             "#fb9f3a"
            ],
            [
             0.8888888888888888,
             "#fdca26"
            ],
            [
             1,
             "#f0f921"
            ]
           ]
          },
          "colorway": [
           "#636efa",
           "#EF553B",
           "#00cc96",
           "#ab63fa",
           "#FFA15A",
           "#19d3f3",
           "#FF6692",
           "#B6E880",
           "#FF97FF",
           "#FECB52"
          ],
          "font": {
           "color": "#2a3f5f"
          },
          "geo": {
           "bgcolor": "white",
           "lakecolor": "white",
           "landcolor": "#E5ECF6",
           "showlakes": true,
           "showland": true,
           "subunitcolor": "white"
          },
          "hoverlabel": {
           "align": "left"
          },
          "hovermode": "closest",
          "mapbox": {
           "style": "light"
          },
          "paper_bgcolor": "white",
          "plot_bgcolor": "#E5ECF6",
          "polar": {
           "angularaxis": {
            "gridcolor": "white",
            "linecolor": "white",
            "ticks": ""
           },
           "bgcolor": "#E5ECF6",
           "radialaxis": {
            "gridcolor": "white",
            "linecolor": "white",
            "ticks": ""
           }
          },
          "scene": {
           "xaxis": {
            "backgroundcolor": "#E5ECF6",
            "gridcolor": "white",
            "gridwidth": 2,
            "linecolor": "white",
            "showbackground": true,
            "ticks": "",
            "zerolinecolor": "white"
           },
           "yaxis": {
            "backgroundcolor": "#E5ECF6",
            "gridcolor": "white",
            "gridwidth": 2,
            "linecolor": "white",
            "showbackground": true,
            "ticks": "",
            "zerolinecolor": "white"
           },
           "zaxis": {
            "backgroundcolor": "#E5ECF6",
            "gridcolor": "white",
            "gridwidth": 2,
            "linecolor": "white",
            "showbackground": true,
            "ticks": "",
            "zerolinecolor": "white"
           }
          },
          "shapedefaults": {
           "line": {
            "color": "#2a3f5f"
           }
          },
          "ternary": {
           "aaxis": {
            "gridcolor": "white",
            "linecolor": "white",
            "ticks": ""
           },
           "baxis": {
            "gridcolor": "white",
            "linecolor": "white",
            "ticks": ""
           },
           "bgcolor": "#E5ECF6",
           "caxis": {
            "gridcolor": "white",
            "linecolor": "white",
            "ticks": ""
           }
          },
          "title": {
           "x": 0.05
          },
          "xaxis": {
           "automargin": true,
           "gridcolor": "white",
           "linecolor": "white",
           "ticks": "",
           "title": {
            "standoff": 15
           },
           "zerolinecolor": "white",
           "zerolinewidth": 2
          },
          "yaxis": {
           "automargin": true,
           "gridcolor": "white",
           "linecolor": "white",
           "ticks": "",
           "title": {
            "standoff": 15
           },
           "zerolinecolor": "white",
           "zerolinewidth": 2
          }
         }
        },
        "updatemenus": [
         {
          "buttons": [
           {
            "args": [
             null,
             {
              "frame": {
               "duration": 500,
               "redraw": false
              },
              "fromcurrent": true,
              "mode": "immediate",
              "transition": {
               "duration": 500,
               "easing": "linear"
              }
             }
            ],
            "label": "&#9654;",
            "method": "animate"
           },
           {
            "args": [
             [
              null
             ],
             {
              "frame": {
               "duration": 0,
               "redraw": false
              },
              "fromcurrent": true,
              "mode": "immediate",
              "transition": {
               "duration": 0,
               "easing": "linear"
              }
             }
            ],
            "label": "&#9724;",
            "method": "animate"
           }
          ],
          "direction": "left",
          "pad": {
           "r": 10,
           "t": 70
          },
          "showactive": false,
          "type": "buttons",
          "x": 0.1,
          "xanchor": "right",
          "y": 0,
          "yanchor": "top"
         }
        ],
        "xaxis": {
         "anchor": "y",
         "domain": [
          0,
          1
         ],
         "title": {
          "text": "gdpPercap"
         }
        },
        "yaxis": {
         "anchor": "x",
         "domain": [
          0,
          1
         ],
         "title": {
          "text": "lifeExp"
         }
        }
       }
      }
     },
     "metadata": {},
     "output_type": "display_data"
    }
   ],
   "source": [
    "px.scatter(df, x='gdpPercap',y='lifeExp',animation_frame='year',animation_group='country')"
   ]
  },
  {
   "cell_type": "code",
   "execution_count": 14,
   "metadata": {},
   "outputs": [],
   "source": [
    "fig = px.scatter(df, x='gdpPercap',y='lifeExp',\n",
    "                animation_frame='year',size='pop',color='continent',\n",
    "                range_y=[0,100],log_x=True,animation_group='country',\n",
    "                hover_name='country',size_max=50)\n",
    "fig.write_html('anim.html',auto_open=True)"
   ]
  },
  {
   "cell_type": "code",
   "execution_count": null,
   "metadata": {},
   "outputs": [],
   "source": []
  }
 ],
 "metadata": {
  "interpreter": {
   "hash": "26d6d95e799f68a0680bea77b17a4e3218da601be7d02863e2950dbe63a5be85"
  },
  "kernelspec": {
   "display_name": "Python 3.9.5 ('base')",
   "language": "python",
   "name": "python3"
  },
  "language_info": {
   "codemirror_mode": {
    "name": "ipython",
    "version": 3
   },
   "file_extension": ".py",
   "mimetype": "text/x-python",
   "name": "python",
   "nbconvert_exporter": "python",
   "pygments_lexer": "ipython3",
   "version": "3.9.5"
  },
  "orig_nbformat": 4
 },
 "nbformat": 4,
 "nbformat_minor": 2
}
