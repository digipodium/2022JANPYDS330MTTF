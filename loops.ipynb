{
 "cells": [
  {
   "cell_type": "code",
   "execution_count": 1,
   "metadata": {},
   "outputs": [
    {
     "name": "stdout",
     "output_type": "stream",
     "text": [
      "o\n",
      "n\n",
      "e\n",
      " \n",
      "p\n",
      "u\n",
      "n\n",
      "c\n",
      "h\n",
      " \n",
      "m\n",
      "a\n",
      "n\n"
     ]
    }
   ],
   "source": [
    "x = 'one punch man'\n",
    "for i in x:\n",
    "    print(i)"
   ]
  },
  {
   "cell_type": "code",
   "execution_count": 2,
   "metadata": {},
   "outputs": [
    {
     "data": {
      "text/plain": [
       "13"
      ]
     },
     "execution_count": 2,
     "metadata": {},
     "output_type": "execute_result"
    }
   ],
   "source": [
    "len(x)"
   ]
  },
  {
   "cell_type": "code",
   "execution_count": 3,
   "metadata": {},
   "outputs": [
    {
     "name": "stdout",
     "output_type": "stream",
     "text": [
      "0\n",
      "1\n",
      "2\n",
      "3\n",
      "4\n",
      "5\n",
      "6\n",
      "7\n",
      "8\n",
      "9\n"
     ]
    }
   ],
   "source": [
    "for i in range(10):\n",
    "    print(i)"
   ]
  },
  {
   "cell_type": "code",
   "execution_count": 4,
   "metadata": {},
   "outputs": [],
   "source": [
    "i=15"
   ]
  },
  {
   "cell_type": "code",
   "execution_count": 5,
   "metadata": {},
   "outputs": [
    {
     "name": "stdout",
     "output_type": "stream",
     "text": [
      "15 16 17 18 19 20 21 22 23 24 25 "
     ]
    }
   ],
   "source": [
    "for i in range(15,26):\n",
    "    print(i,end=' ')"
   ]
  },
  {
   "cell_type": "code",
   "execution_count": 6,
   "metadata": {},
   "outputs": [
    {
     "name": "stdout",
     "output_type": "stream",
     "text": [
      "hello\n"
     ]
    }
   ],
   "source": [
    "print('hello')"
   ]
  },
  {
   "cell_type": "code",
   "execution_count": 7,
   "metadata": {},
   "outputs": [
    {
     "name": "stdout",
     "output_type": "stream",
     "text": [
      "hello\n"
     ]
    }
   ],
   "source": [
    "x = 'hello'\n",
    "print(x)"
   ]
  },
  {
   "cell_type": "code",
   "execution_count": 8,
   "metadata": {},
   "outputs": [
    {
     "name": "stdout",
     "output_type": "stream",
     "text": [
      "0 1 2 3 4 5 6 7 8 9 10 11 12 13 14 15 16 17 18 19 "
     ]
    }
   ],
   "source": [
    "limit = 20\n",
    "for i in range(limit): \n",
    "    print(i, end=' ')"
   ]
  },
  {
   "cell_type": "code",
   "execution_count": 9,
   "metadata": {},
   "outputs": [
    {
     "name": "stdout",
     "output_type": "stream",
     "text": [
      "ERROR\n",
      "ERROR\n",
      "ERROR\n",
      "ERROR\n",
      "ERROR\n",
      "ERROR\n",
      "ERROR\n",
      "ERROR\n",
      "ERROR\n",
      "ERROR\n"
     ]
    }
   ],
   "source": [
    "for i in range(10):\n",
    "    print(\"ERROR\")\n"
   ]
  },
  {
   "cell_type": "code",
   "execution_count": 10,
   "metadata": {},
   "outputs": [
    {
     "name": "stdout",
     "output_type": "stream",
     "text": [
      "1 3 5 7 9 11 13 15 17 19 21 23 25 27 29 31 33 35 37 39 41 43 45 47 49 51 53 55 57 59 61 63 65 67 69 71 73 75 77 79 81 83 85 87 89 91 93 95 97 99 "
     ]
    }
   ],
   "source": [
    "for i in range(1,100,2):\n",
    "    print(i, end=' ')"
   ]
  },
  {
   "cell_type": "code",
   "execution_count": 11,
   "metadata": {},
   "outputs": [
    {
     "name": "stdout",
     "output_type": "stream",
     "text": [
      "Hello, how are you,\n",
      "Have a nice day\n",
      "Hello, how are you,\n",
      "Have a nice day\n",
      "Hello, how are you,\n",
      "Have a nice day\n",
      "Hello, how are you,\n",
      "Have a nice day\n"
     ]
    }
   ],
   "source": [
    "while input(\"do you want to quit>>\") != 'yes':\n",
    "    print(\"Hello, how are you,\")\n",
    "    print(\"Have a nice day\")"
   ]
  },
  {
   "cell_type": "code",
   "execution_count": 12,
   "metadata": {},
   "outputs": [
    {
     "name": "stdout",
     "output_type": "stream",
     "text": [
      "total is 202\n",
      "total is 14699\n"
     ]
    }
   ],
   "source": [
    "while input(\"add values:\") == 'y':\n",
    "    x = int(input(\"Enter first Value:\"))\n",
    "    y = int(input(\"Enter Second Value:\"))\n",
    "    print(f\"total is {x+y}\")"
   ]
  },
  {
   "cell_type": "code",
   "execution_count": 13,
   "metadata": {},
   "outputs": [
    {
     "name": "stdout",
     "output_type": "stream",
     "text": [
      "Shubham Singh\n",
      "Priya Jaiswal\n",
      "Neha Singh\n",
      "Tanushi Tayal\n",
      "\n",
      "Alex Mason\n",
      "Sam\n",
      "Zaid kamil\n"
     ]
    }
   ],
   "source": [
    "names = [\n",
    "    'Shubham Singh','Priya Jaiswal','Neha Singh','Tanushi Tayal','','Alex Mason','Sam','Zaid kamil'\n",
    "]\n",
    "\n",
    "for name in names:\n",
    "    print(name)"
   ]
  },
  {
   "cell_type": "code",
   "execution_count": 14,
   "metadata": {},
   "outputs": [
    {
     "name": "stdout",
     "output_type": "stream",
     "text": [
      "Shubham Singh\n",
      "Priya Jaiswal\n",
      "Neha Singh\n",
      "Tanushi Tayal\n",
      "Program Complete\n"
     ]
    }
   ],
   "source": [
    "for name in names:\n",
    "    if len(name) == 0:\n",
    "        break # stop the loop and get out of its block\n",
    "    print(name)\n",
    "print(\"Program Complete\")"
   ]
  },
  {
   "cell_type": "code",
   "execution_count": 15,
   "metadata": {},
   "outputs": [
    {
     "name": "stdout",
     "output_type": "stream",
     "text": [
      "What would you like to order today\n",
      "Here is your order of riceballs\n",
      "Anything more\n",
      "What would you like to order today\n",
      "Here is your order of chips\n",
      "Anything more\n",
      "What would you like to order today\n",
      "Okay, have a nice day\n"
     ]
    }
   ],
   "source": [
    "while True: # infinte loop\n",
    "    print(\"What would you like to order today\")\n",
    "    order = input('Riceball,Chips,Icecream,Nothing,select one:')\n",
    "    if order == 'nothing':\n",
    "        print(\"Okay, have a nice day\")\n",
    "        break\n",
    "    else:\n",
    "        print(f\"Here is your order of {order}\")\n",
    "        print(\"Anything more\")"
   ]
  },
  {
   "cell_type": "code",
   "execution_count": 16,
   "metadata": {},
   "outputs": [
    {
     "name": "stdout",
     "output_type": "stream",
     "text": [
      "TRY AGAIN!!!\n",
      "TRY AGAIN!!!\n",
      "TRY AGAIN!!!\n",
      "TRY AGAIN!!!\n",
      "Welcome Master\n"
     ]
    }
   ],
   "source": [
    "while True:\n",
    "    pwd = input(\"enter the secret password\")\n",
    "    if pwd == 'opensesame':\n",
    "        print(\"Welcome Master\")\n",
    "        break\n",
    "    else:\n",
    "        print(\"TRY AGAIN!!!\")"
   ]
  },
  {
   "cell_type": "code",
   "execution_count": 31,
   "metadata": {},
   "outputs": [],
   "source": [
    "expense = [299,129,239,'N/A',1200,'N/A',56093,'N/A',8922,'N/A',1829,'N/A']"
   ]
  },
  {
   "cell_type": "code",
   "execution_count": null,
   "metadata": {},
   "outputs": [],
   "source": [
    "total = 0\n",
    "for value in expense:\n",
    "    if isinstance(value,str):\n",
    "        print('skipping',value)\n",
    "        continue\n",
    "    else:\n",
    "        print('+', value)\n",
    "        total += value\n",
    "print(f\"Total is {total}\")"
   ]
  },
  {
   "cell_type": "code",
   "execution_count": 29,
   "metadata": {},
   "outputs": [
    {
     "name": "stdout",
     "output_type": "stream",
     "text": [
      "Total is 68711\n"
     ]
    }
   ],
   "source": [
    "total = 0\n",
    "for value in expense:\n",
    "    if isinstance(value, (int,float)):\n",
    "        total += value\n",
    "print(f\"Total is {total}\")"
   ]
  },
  {
   "cell_type": "code",
   "execution_count": 30,
   "metadata": {},
   "outputs": [
    {
     "data": {
      "text/plain": [
       "23162"
      ]
     },
     "execution_count": 30,
     "metadata": {},
     "output_type": "execute_result"
    }
   ],
   "source": [
    "x = [1,2,2,3,31,23,123]\n",
    "sum(x)"
   ]
  },
  {
   "cell_type": "code",
   "execution_count": 41,
   "metadata": {},
   "outputs": [
    {
     "name": "stdout",
     "output_type": "stream",
     "text": [
      "79 34 57 36 73 32 10 11 84 43 33 31 20 57 62 89 65 58 13 6 54 52 56 96 36 46 63 86 46 53 13 51 89 67 23 20 86 72 4 78 96 41 86 86 49 28 57 4 100 38 36 55 92 16 86 12 30 58 76 42 75 29 37 67 45 41 53 2 72 84 27 60 15 100 23 8 35 94 69 43 97 33 61 81 63 99 77 13 56 7 25 57 82 17 93 83 87 8 10 6 "
     ]
    }
   ],
   "source": [
    "from random import randint\n",
    "\n",
    "for i in range(100):\n",
    "    r = randint(0,100)\n",
    "    if r == 0:\n",
    "        break\n",
    "    print(r, end=' ')"
   ]
  },
  {
   "cell_type": "code",
   "execution_count": null,
   "metadata": {},
   "outputs": [],
   "source": []
  }
 ],
 "metadata": {
  "interpreter": {
   "hash": "ac59ebe37160ed0dfa835113d9b8498d9f09ceb179beaac4002f036b9467c963"
  },
  "kernelspec": {
   "display_name": "Python 3.9.7 64-bit",
   "language": "python",
   "name": "python3"
  },
  "language_info": {
   "codemirror_mode": {
    "name": "ipython",
    "version": 3
   },
   "file_extension": ".py",
   "mimetype": "text/x-python",
   "name": "python",
   "nbconvert_exporter": "python",
   "pygments_lexer": "ipython3",
   "version": "3.9.7"
  },
  "orig_nbformat": 4
 },
 "nbformat": 4,
 "nbformat_minor": 2
}
