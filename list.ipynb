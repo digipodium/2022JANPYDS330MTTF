{
 "cells": [
  {
   "cell_type": "markdown",
   "metadata": {},
   "source": [
    "# List\n",
    "- creation\n",
    "- indexing & slicing\n",
    "- operations\n",
    "- functions\n",
    "    - addition of data\n",
    "    - deletion of data\n",
    "    - helpful utilities\n",
    "- comprehension"
   ]
  },
  {
   "cell_type": "code",
   "execution_count": null,
   "metadata": {},
   "outputs": [],
   "source": [
    "a = [1,2,3,4]\n",
    "b = ['Apple','Banana','Cherry']\n",
    "c = ['Apple',20,'cherry',30,True,False]\n",
    "\n",
    "x = [a,b,c]\n",
    "print(a)\n",
    "print(b)\n",
    "print(c)\n",
    "print(x)"
   ]
  },
  {
   "cell_type": "code",
   "execution_count": null,
   "metadata": {},
   "outputs": [],
   "source": [
    "bl = [] # empty lisst\n",
    "sl = [1] * 5 # same value in the lisst\n",
    "print(bl)\n",
    "print(sl)"
   ]
  },
  {
   "cell_type": "code",
   "execution_count": null,
   "metadata": {},
   "outputs": [],
   "source": [
    "print(b[0]) # first index\n",
    "print(b[1])\n",
    "print(b[2])\n",
    "print(b[-1]) # last index\n",
    "print(x[1])"
   ]
  },
  {
   "cell_type": "code",
   "execution_count": null,
   "metadata": {},
   "outputs": [],
   "source": [
    "print(a[10]) #error"
   ]
  },
  {
   "cell_type": "code",
   "execution_count": null,
   "metadata": {},
   "outputs": [],
   "source": [
    "x = [1,2,3,4,5,6,7,8,10,11,12,123,12,12]"
   ]
  },
  {
   "cell_type": "code",
   "execution_count": null,
   "metadata": {},
   "outputs": [],
   "source": [
    "x[:5] # first five"
   ]
  },
  {
   "cell_type": "code",
   "execution_count": null,
   "metadata": {},
   "outputs": [],
   "source": [
    "x[-5 :] # last five"
   ]
  },
  {
   "cell_type": "code",
   "execution_count": null,
   "metadata": {},
   "outputs": [],
   "source": [
    "x[::-1] # reverse tje sequene"
   ]
  },
  {
   "cell_type": "code",
   "execution_count": null,
   "metadata": {},
   "outputs": [],
   "source": [
    "x[3:8]"
   ]
  },
  {
   "cell_type": "code",
   "execution_count": null,
   "metadata": {},
   "outputs": [],
   "source": [
    "# operation\n",
    "# join two or more\n",
    "a = [1,2,3]\n",
    "b= [4,5,6]\n",
    "c = [5,6,7]\n",
    "a + b"
   ]
  },
  {
   "cell_type": "code",
   "execution_count": null,
   "metadata": {},
   "outputs": [],
   "source": [
    "d = a + b + c # element wise concatenation\n",
    "e = [a,b,c]   # nested list creation"
   ]
  },
  {
   "cell_type": "code",
   "execution_count": null,
   "metadata": {},
   "outputs": [],
   "source": [
    "print(d)\n",
    "print(e)"
   ]
  },
  {
   "cell_type": "code",
   "execution_count": null,
   "metadata": {},
   "outputs": [],
   "source": [
    "# multiplication\n",
    "a * 5"
   ]
  },
  {
   "cell_type": "code",
   "execution_count": 76,
   "metadata": {},
   "outputs": [],
   "source": [
    "books = []"
   ]
  },
  {
   "cell_type": "code",
   "execution_count": 77,
   "metadata": {},
   "outputs": [
    {
     "name": "stdout",
     "output_type": "stream",
     "text": [
      "['The Final Empire']\n"
     ]
    }
   ],
   "source": [
    "books.append(\"The Final Empire\") # append -> adds item to the list at the end\n",
    "print(books)"
   ]
  },
  {
   "cell_type": "code",
   "execution_count": 78,
   "metadata": {},
   "outputs": [
    {
     "name": "stdout",
     "output_type": "stream",
     "text": [
      "['The Final Empire', 'The Well of Ascension']\n"
     ]
    }
   ],
   "source": [
    "books.append(\"The Well of Ascension\") # append -> adds item to the list at the end\n",
    "print(books)"
   ]
  },
  {
   "cell_type": "code",
   "execution_count": 79,
   "metadata": {},
   "outputs": [
    {
     "name": "stdout",
     "output_type": "stream",
     "text": [
      "['The Final Empire', 'The Well of Ascension', 'The Twilight Saga: New Moon', 'The Legend of Arthur']\n"
     ]
    }
   ],
   "source": [
    "books.append('The Twilight Saga: New Moon')\n",
    "books.append('The Legend of Arthur')\n",
    "print(books)"
   ]
  },
  {
   "cell_type": "code",
   "execution_count": 80,
   "metadata": {},
   "outputs": [],
   "source": [
    "a.append(4)\n",
    "a.append(b)"
   ]
  },
  {
   "cell_type": "code",
   "execution_count": 81,
   "metadata": {},
   "outputs": [
    {
     "name": "stdout",
     "output_type": "stream",
     "text": [
      "[1, 2, 3, 4, [4, 5, 6], 4, [4, 5, 6]]\n"
     ]
    }
   ],
   "source": [
    "print(a)"
   ]
  },
  {
   "cell_type": "code",
   "execution_count": 82,
   "metadata": {},
   "outputs": [
    {
     "data": {
      "text/plain": [
       "['The Final Empire',\n",
       " 'The Well of Ascension',\n",
       " 'The Twilight Saga: New Moon',\n",
       " 'The Legend of Arthur']"
      ]
     },
     "execution_count": 82,
     "metadata": {},
     "output_type": "execute_result"
    }
   ],
   "source": [
    "books"
   ]
  },
  {
   "cell_type": "code",
   "execution_count": 83,
   "metadata": {},
   "outputs": [],
   "source": [
    "old_books = ['Lord of the Ring','Jungle Book','Othello']"
   ]
  },
  {
   "cell_type": "code",
   "execution_count": 84,
   "metadata": {},
   "outputs": [],
   "source": [
    "books.extend(old_books) # extend -> take items from existing list into current list"
   ]
  },
  {
   "cell_type": "code",
   "execution_count": 85,
   "metadata": {},
   "outputs": [
    {
     "name": "stdout",
     "output_type": "stream",
     "text": [
      "['The Final Empire', 'The Well of Ascension', 'The Twilight Saga: New Moon', 'The Legend of Arthur', 'Lord of the Ring', 'Jungle Book', 'Othello']\n"
     ]
    }
   ],
   "source": [
    "print(books)"
   ]
  },
  {
   "cell_type": "code",
   "execution_count": 86,
   "metadata": {},
   "outputs": [
    {
     "data": {
      "text/plain": [
       "['The Final Empire',\n",
       " 'The Well of Ascension',\n",
       " 'The Twilight Saga: New Moon',\n",
       " 'The Legend of Arthur',\n",
       " 'Lord of the Ring',\n",
       " 'Jungle Book',\n",
       " 'Othello']"
      ]
     },
     "execution_count": 86,
     "metadata": {},
     "output_type": "execute_result"
    }
   ],
   "source": [
    "books"
   ]
  },
  {
   "cell_type": "code",
   "execution_count": 87,
   "metadata": {},
   "outputs": [
    {
     "name": "stdout",
     "output_type": "stream",
     "text": [
      "['The Final Empire', 'The Well of Ascension', 'The Hero of Ages', 'The Twilight Saga: New Moon', 'The Legend of Arthur', 'Lord of the Ring', 'Jungle Book', 'Othello']\n"
     ]
    }
   ],
   "source": [
    "books.insert(2,'The Hero of Ages')\n",
    "print(books)"
   ]
  },
  {
   "cell_type": "code",
   "execution_count": 88,
   "metadata": {},
   "outputs": [],
   "source": [
    "books.insert(-1, \"Julius Ceasar\")"
   ]
  },
  {
   "cell_type": "code",
   "execution_count": 89,
   "metadata": {},
   "outputs": [
    {
     "data": {
      "text/plain": [
       "['The Final Empire',\n",
       " 'The Well of Ascension',\n",
       " 'The Hero of Ages',\n",
       " 'The Twilight Saga: New Moon',\n",
       " 'The Legend of Arthur',\n",
       " 'Lord of the Ring',\n",
       " 'Jungle Book',\n",
       " 'Julius Ceasar',\n",
       " 'Othello']"
      ]
     },
     "execution_count": 89,
     "metadata": {},
     "output_type": "execute_result"
    }
   ],
   "source": [
    "books"
   ]
  },
  {
   "cell_type": "code",
   "execution_count": 90,
   "metadata": {},
   "outputs": [
    {
     "name": "stdout",
     "output_type": "stream",
     "text": [
      "['The Final Empire', 'The Well of Ascension', 'The Hero of Ages', 'The Twilight Saga: New Moon', 'The Legend of Arthur', 'Lord of the Ring', 'Jungle Book', 'Othello']\n"
     ]
    }
   ],
   "source": [
    "# remove\n",
    "books.remove('Julius Ceasar')\n",
    "print(books)"
   ]
  },
  {
   "cell_type": "code",
   "execution_count": 91,
   "metadata": {},
   "outputs": [
    {
     "name": "stdout",
     "output_type": "stream",
     "text": [
      "['The Final Empire', 'The Well of Ascension', 'The Hero of Ages', 'The Twilight Saga: New Moon', 'The Legend of Arthur', 'Lord of the Ring', 'Jungle Book']\n"
     ]
    }
   ],
   "source": [
    "books.pop() # last item removal\n",
    "print(books)"
   ]
  },
  {
   "cell_type": "code",
   "execution_count": 92,
   "metadata": {},
   "outputs": [
    {
     "name": "stdout",
     "output_type": "stream",
     "text": [
      "['The Final Empire', 'The Well of Ascension', 'The Hero of Ages', 'The Twilight Saga: New Moon', 'The Legend of Arthur', 'Lord of the Ring']\n"
     ]
    }
   ],
   "source": [
    "books.pop()\n",
    "print(books)"
   ]
  },
  {
   "cell_type": "code",
   "execution_count": 93,
   "metadata": {},
   "outputs": [
    {
     "name": "stdout",
     "output_type": "stream",
     "text": [
      "['The Final Empire', 'The Well of Ascension', 'The Hero of Ages', 'kahdkj asdad', 'The Twilight Saga: New Moon', 'The Legend of Arthur', 'Lord of the Ring']\n"
     ]
    }
   ],
   "source": [
    "books.insert(3,'kahdkj asdad')\n",
    "print(books)"
   ]
  },
  {
   "cell_type": "code",
   "execution_count": 95,
   "metadata": {},
   "outputs": [
    {
     "name": "stdout",
     "output_type": "stream",
     "text": [
      "['The Final Empire', 'The Well of Ascension', 'The Hero of Ages', 'The Legend of Arthur', 'Lord of the Ring']\n"
     ]
    }
   ],
   "source": [
    "books.pop(3)\n",
    "print(books)"
   ]
  },
  {
   "cell_type": "code",
   "execution_count": 96,
   "metadata": {},
   "outputs": [],
   "source": [
    "books.clear() # remove all the content making list empty"
   ]
  },
  {
   "cell_type": "code",
   "execution_count": 98,
   "metadata": {},
   "outputs": [
    {
     "data": {
      "text/plain": [
       "[]"
      ]
     },
     "execution_count": 98,
     "metadata": {},
     "output_type": "execute_result"
    }
   ],
   "source": [
    "books"
   ]
  },
  {
   "cell_type": "code",
   "execution_count": 109,
   "metadata": {},
   "outputs": [
    {
     "name": "stdout",
     "output_type": "stream",
     "text": [
      "found 1:  6 times\n",
      "found 3:  4 times\n"
     ]
    }
   ],
   "source": [
    "# utility\n",
    "x= [1,2,3,1,1,1,2,3,4,4,5,1,1,2,3,4,.100,34,56,5,'apple',2,3,31]\n",
    "# count occurance of 1\n",
    "print(\"found 1: \",x.count(1),\"times\")\n",
    "# count 3's occurance\n",
    "print(\"found 3: \",x.count(3),\"times\")\n"
   ]
  },
  {
   "cell_type": "code",
   "execution_count": 110,
   "metadata": {},
   "outputs": [
    {
     "data": {
      "text/plain": [
       "16"
      ]
     },
     "execution_count": 110,
     "metadata": {},
     "output_type": "execute_result"
    }
   ],
   "source": [
    "x.index(.100)"
   ]
  },
  {
   "cell_type": "code",
   "execution_count": 111,
   "metadata": {},
   "outputs": [
    {
     "data": {
      "text/plain": [
       "20"
      ]
     },
     "execution_count": 111,
     "metadata": {},
     "output_type": "execute_result"
    }
   ],
   "source": [
    "x.index('apple')"
   ]
  },
  {
   "cell_type": "code",
   "execution_count": 112,
   "metadata": {},
   "outputs": [
    {
     "name": "stdout",
     "output_type": "stream",
     "text": [
      "[31, 3, 2, 'apple', 5, 56, 34, 0.1, 4, 3, 2, 1, 1, 5, 4, 4, 3, 2, 1, 1, 1, 3, 2, 1]\n"
     ]
    }
   ],
   "source": [
    "x.reverse() # reverses the list\n",
    "print(x)"
   ]
  },
  {
   "cell_type": "code",
   "execution_count": 113,
   "metadata": {},
   "outputs": [
    {
     "name": "stdout",
     "output_type": "stream",
     "text": [
      "[0.1, 1, 1, 1, 1, 1, 1, 2, 2, 2, 2, 3, 3, 3, 3, 4, 4, 4, 5, 5, 31, 34, 56]\n"
     ]
    }
   ],
   "source": [
    "x.remove('apple')\n",
    "x.sort()\n",
    "print(x)"
   ]
  },
  {
   "cell_type": "code",
   "execution_count": 114,
   "metadata": {},
   "outputs": [
    {
     "name": "stdout",
     "output_type": "stream",
     "text": [
      "[56, 34, 31, 5, 5, 4, 4, 4, 3, 3, 3, 3, 2, 2, 2, 2, 1, 1, 1, 1, 1, 1, 0.1]\n"
     ]
    }
   ],
   "source": [
    "x.sort(reverse=True) # reverse=True means descending sort for the list\n",
    "print(x)"
   ]
  },
  {
   "cell_type": "code",
   "execution_count": 116,
   "metadata": {},
   "outputs": [
    {
     "name": "stdout",
     "output_type": "stream",
     "text": [
      "[56, 34, 31, 5, 5, 4, 4, 4, 3, 3, 3, 3, 2, 2, 2, 2, 1, 1, 1, 1, 1, 1, 0.1] [56, 34, 31, 5, 5, 4, 4, 4, 3, 3, 3, 3, 2, 2, 2, 2, 1, 1, 1, 1, 1, 1, 0.1] [56, 34, 31, 5, 5, 4, 4, 4, 3, 3, 3, 3, 2, 2, 2, 2, 1, 1, 1, 1, 1, 1, 0.1]\n"
     ]
    }
   ],
   "source": [
    "y =  x.copy() # create a copy of x as y, so that we can work on them seperately\n",
    "backup_list = y.copy()\n",
    "print(backup_list,y ,x)"
   ]
  },
  {
   "cell_type": "code",
   "execution_count": 119,
   "metadata": {},
   "outputs": [
    {
     "name": "stdout",
     "output_type": "stream",
     "text": [
      "[3] [1, 2, 3, 10]\n"
     ]
    }
   ],
   "source": [
    "a = [1,2,3]\n",
    "b = a.copy()\n",
    "a.remove(1)\n",
    "a.remove(2)\n",
    "b.append(10)\n",
    "print(a, b)"
   ]
  },
  {
   "cell_type": "markdown",
   "metadata": {},
   "source": [
    "# Common Questions related to list"
   ]
  },
  {
   "cell_type": "markdown",
   "metadata": {},
   "source": [
    "1. wap to filter a list of numbers and return only even numbers\n",
    "\n",
    "`x = [1,2,3,4,5,6,7,8,9,10]`"
   ]
  },
  {
   "cell_type": "code",
   "execution_count": 8,
   "metadata": {},
   "outputs": [
    {
     "name": "stdout",
     "output_type": "stream",
     "text": [
      "2 4 6 8 10 "
     ]
    }
   ],
   "source": [
    "x = [1,2,3,4,5,6,7,8,9,10]\n",
    "for val in x:\n",
    "    if val % 2 == 0:\n",
    "        print(val, end=' ')"
   ]
  },
  {
   "cell_type": "markdown",
   "metadata": {},
   "source": [
    "2. wap to return a list of only even numbers from a given list of numbers"
   ]
  },
  {
   "cell_type": "code",
   "execution_count": 9,
   "metadata": {},
   "outputs": [
    {
     "name": "stdout",
     "output_type": "stream",
     "text": [
      "[1, 2, 3, 4, 5, 6, 7, 8, 9, 10]\n",
      "[2, 4, 6, 8, 10]\n"
     ]
    }
   ],
   "source": [
    "# very basic code - none pythonic\n",
    "x = [1,2,3,4,5,6,7,8,9,10]\n",
    "x2 = []\n",
    "for i in x:\n",
    "    if i % 2 == 0:\n",
    "        x2.append(i)\n",
    "print(x)\n",
    "print(x2)"
   ]
  },
  {
   "cell_type": "code",
   "execution_count": 19,
   "metadata": {},
   "outputs": [
    {
     "name": "stdout",
     "output_type": "stream",
     "text": [
      "[1, 2, 3, 4, 5, 6, 7, 8, 9, 10]\n",
      "[1, 3, 5, 7, 9]\n"
     ]
    }
   ],
   "source": [
    "# pythonic code - list comprehension\n",
    "x = [1,2,3,4,5,6,7,8,9,10]\n",
    "xodd = [i for i in x if i % 2 ==1]\n",
    "print(x)\n",
    "print(xodd)"
   ]
  },
  {
   "cell_type": "markdown",
   "metadata": {},
   "source": [
    "3. create a list of squares of from a existing list of 10 numbers"
   ]
  },
  {
   "cell_type": "code",
   "execution_count": 20,
   "metadata": {},
   "outputs": [
    {
     "name": "stdout",
     "output_type": "stream",
     "text": [
      "[1, 2, 3, 4, 5, 6, 7, 8, 9, 10]\n",
      "[1, 4, 9, 16, 25, 36, 49, 64, 81, 100]\n"
     ]
    }
   ],
   "source": [
    "# non-pythonic code\n",
    "x = [1,2,3,4,5,6,7,8,9,10]\n",
    "xsqr = []\n",
    "for i in x:\n",
    "    xsqr.append(i**2)\n",
    "print(x)\n",
    "print(xsqr)"
   ]
  },
  {
   "cell_type": "markdown",
   "metadata": {},
   "source": [
    "#### list comprehension syntax\n",
    "`newlist = [expression loop (condition)]`"
   ]
  },
  {
   "cell_type": "code",
   "execution_count": 21,
   "metadata": {},
   "outputs": [
    {
     "name": "stdout",
     "output_type": "stream",
     "text": [
      "[1, 2, 3, 4, 5, 6, 7, 8, 9, 10]\n",
      "[1, 4, 9, 16, 25, 36, 49, 64, 81, 100]\n"
     ]
    }
   ],
   "source": [
    "# pythonic code\n",
    "x = [1,2,3,4,5,6,7,8,9,10]\n",
    "xsqr = [i**2 for i in x]\n",
    "print(x)\n",
    "print(xsqr)"
   ]
  },
  {
   "cell_type": "markdown",
   "metadata": {},
   "source": [
    "3. wap to print colors containing letter 'r' from a list of colors"
   ]
  },
  {
   "cell_type": "code",
   "execution_count": 24,
   "metadata": {},
   "outputs": [
    {
     "name": "stdout",
     "output_type": "stream",
     "text": [
      "red, green, blue, yellow, orange, pink, purple, black, white, "
     ]
    }
   ],
   "source": [
    "colorlist = ['red','green','blue','yellow','orange','pink','purple','black','white']\n",
    "for color in colorlist:\n",
    "    print(color, end=', ')"
   ]
  },
  {
   "cell_type": "code",
   "execution_count": 25,
   "metadata": {},
   "outputs": [
    {
     "name": "stdout",
     "output_type": "stream",
     "text": [
      "red, green, orange, purple, "
     ]
    }
   ],
   "source": [
    "# non pythonic\n",
    "colorlist = ['red','green','blue','yellow','orange','pink','purple','black','white']\n",
    "for color in colorlist:\n",
    "    if 'r' in color:\n",
    "        print(color, end=', ')"
   ]
  },
  {
   "cell_type": "code",
   "execution_count": 26,
   "metadata": {},
   "outputs": [
    {
     "name": "stdout",
     "output_type": "stream",
     "text": [
      "['red', 'green', 'orange', 'purple']\n"
     ]
    }
   ],
   "source": [
    "# pythonic\n",
    "colorlist = ['red','green','blue','yellow','orange','pink','purple','black','white']\n",
    "colors_wr = [color for color in colorlist if 'r' in color]\n",
    "print(colors_wr)"
   ]
  },
  {
   "cell_type": "markdown",
   "metadata": {},
   "source": [
    "4. find out the average from a list of numbers"
   ]
  },
  {
   "cell_type": "code",
   "execution_count": 27,
   "metadata": {},
   "outputs": [
    {
     "name": "stdout",
     "output_type": "stream",
     "text": [
      "5.5\n"
     ]
    }
   ],
   "source": [
    "x = [1,2,3,4,5,6,7,8,9,10]\n",
    "average = sum(x)/len(x)\n",
    "print(average)"
   ]
  },
  {
   "cell_type": "markdown",
   "metadata": {},
   "source": [
    "5. remove all string impurities from a list of numbers"
   ]
  },
  {
   "cell_type": "code",
   "execution_count": 28,
   "metadata": {},
   "outputs": [
    {
     "data": {
      "text/plain": [
       "[1, 2, 3, 'b', 4, 5, 'x', 6, 7, 8, 'z', 9, 10, 'a']"
      ]
     },
     "execution_count": 28,
     "metadata": {},
     "output_type": "execute_result"
    }
   ],
   "source": [
    "ilist = [1,2,3,'b',4,5,'x',6,7,8,'z',9,10,'a']\n",
    "ilist"
   ]
  },
  {
   "cell_type": "code",
   "execution_count": 30,
   "metadata": {},
   "outputs": [
    {
     "name": "stdout",
     "output_type": "stream",
     "text": [
      "[1, 2, 3, 'b', 4, 5, 'x', 6, 7, 8, 'z', 9, 10, 'a']\n",
      "[1, 2, 3, 4, 5, 6, 7, 8, 9, 10]\n"
     ]
    }
   ],
   "source": [
    "ilist = [1,2,3,'b',4,5,'x',6,7,8,'z',9,10,'a']\n",
    "num_list = []\n",
    "for i in ilist:\n",
    "    if isinstance(i,(int,float)): # or type(i) == int\n",
    "        num_list.append(i)\n",
    "print(ilist)\n",
    "print(num_list)"
   ]
  },
  {
   "cell_type": "code",
   "execution_count": 32,
   "metadata": {},
   "outputs": [
    {
     "name": "stdout",
     "output_type": "stream",
     "text": [
      "[1, 2, 3, 'b', 4, 5, 'x', 6, 7, 8, 'z', 9, 10, 'a']\n",
      "[1, 2, 3, 4, 5, 6, 7, 8, 9, 10]\n"
     ]
    }
   ],
   "source": [
    "ilist = [1,2,3,'b',4,5,'x',6,7,8,'z',9,10,'a']\n",
    "num_list = [i for i in ilist if isinstance(i,(int,float))]\n",
    "print(ilist)\n",
    "print(num_list)"
   ]
  },
  {
   "cell_type": "markdown",
   "metadata": {},
   "source": [
    "6. wap to add only every third value from a list of numbers and display the sum"
   ]
  },
  {
   "cell_type": "code",
   "execution_count": 2,
   "metadata": {},
   "outputs": [
    {
     "name": "stdout",
     "output_type": "stream",
     "text": [
      "70\n"
     ]
    }
   ],
   "source": [
    "# non pythonic\n",
    "numbers = [1,2,3,4,5,6,7,8,9,10,11,12,13,14,15,16,17,18,19,20]\n",
    "total = 0\n",
    "for idx,val in enumerate(numbers):\n",
    "    if idx % 3 == 0:\n",
    "        total += val\n",
    "print(total)"
   ]
  },
  {
   "cell_type": "code",
   "execution_count": 3,
   "metadata": {},
   "outputs": [
    {
     "name": "stdout",
     "output_type": "stream",
     "text": [
      "[1, 4, 7, 10, 13, 16, 19]\n",
      "70\n"
     ]
    }
   ],
   "source": [
    "# ptyhonic\n",
    "# print(numbers[::3])\n",
    "total = sum(numbers[::3])\n",
    "print(total)"
   ]
  },
  {
   "cell_type": "code",
   "execution_count": null,
   "metadata": {},
   "outputs": [],
   "source": []
  }
 ],
 "metadata": {
  "interpreter": {
   "hash": "a97921bd90c3d55a32a886721a37b372c256037231aec0c43f2c56267f01744c"
  },
  "kernelspec": {
   "display_name": "Python 3.9.7 64-bit ('study': conda)",
   "language": "python",
   "name": "python3"
  },
  "language_info": {
   "codemirror_mode": {
    "name": "ipython",
    "version": 3
   },
   "file_extension": ".py",
   "mimetype": "text/x-python",
   "name": "python",
   "nbconvert_exporter": "python",
   "pygments_lexer": "ipython3",
   "version": "3.9.5"
  },
  "orig_nbformat": 4
 },
 "nbformat": 4,
 "nbformat_minor": 2
}
